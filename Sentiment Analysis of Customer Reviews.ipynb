{
 "cells": [
  {
   "cell_type": "markdown",
   "id": "9821f0fb",
   "metadata": {},
   "source": [
    "### Import packages and data along with a brief look at the data"
   ]
  },
  {
   "cell_type": "code",
   "execution_count": 1,
   "id": "2137da60",
   "metadata": {},
   "outputs": [],
   "source": [
    "import numpy as np\n",
    "import pandas as pd\n",
    "import matplotlib.pyplot as plt\n",
    "%matplotlib inline\n",
    "import seaborn as sns\n",
    "sns.set()"
   ]
  },
  {
   "cell_type": "code",
   "execution_count": 2,
   "id": "aa7cf505",
   "metadata": {},
   "outputs": [],
   "source": [
    "app_reviews = pd.read_csv(\"selected_app_reviews.csv\", index_col=None)\n",
    "app_info = pd.read_csv(\"selected_app_info.csv\", index_col=None)\n",
    "all_prod_apps = pd.read_csv(\"all_productivity_app.csv\", index_col=None)"
   ]
  },
  {
   "cell_type": "code",
   "execution_count": 3,
   "id": "313d7ef4",
   "metadata": {},
   "outputs": [
    {
     "data": {
      "text/html": [
       "<div>\n",
       "<style scoped>\n",
       "    .dataframe tbody tr th:only-of-type {\n",
       "        vertical-align: middle;\n",
       "    }\n",
       "\n",
       "    .dataframe tbody tr th {\n",
       "        vertical-align: top;\n",
       "    }\n",
       "\n",
       "    .dataframe thead th {\n",
       "        text-align: right;\n",
       "    }\n",
       "</style>\n",
       "<table border=\"1\" class=\"dataframe\">\n",
       "  <thead>\n",
       "    <tr style=\"text-align: right;\">\n",
       "      <th></th>\n",
       "      <th>reviewId</th>\n",
       "      <th>userName</th>\n",
       "      <th>userImage</th>\n",
       "      <th>content</th>\n",
       "      <th>score</th>\n",
       "      <th>thumbsUpCount</th>\n",
       "      <th>reviewCreatedVersion</th>\n",
       "      <th>at</th>\n",
       "      <th>replyContent</th>\n",
       "      <th>repliedAt</th>\n",
       "      <th>sortOrder</th>\n",
       "      <th>appId</th>\n",
       "    </tr>\n",
       "  </thead>\n",
       "  <tbody>\n",
       "    <tr>\n",
       "      <th>0</th>\n",
       "      <td>gp:AOqpTOEcWS_b8b4P2gClKovxXAPg3il0AD0ZnGw9RxY...</td>\n",
       "      <td>H G</td>\n",
       "      <td>https://play-lh.googleusercontent.com/-2Zyc1Oz...</td>\n",
       "      <td>Unable to use it as it won't work with my Goog...</td>\n",
       "      <td>1</td>\n",
       "      <td>13</td>\n",
       "      <td>5.7.0.20</td>\n",
       "      <td>2021-01-11 01:12:58</td>\n",
       "      <td>As our team explained profusely, we sync data ...</td>\n",
       "      <td>2021-01-10 12:58:09</td>\n",
       "      <td>most_relevant</td>\n",
       "      <td>com.anydo</td>\n",
       "    </tr>\n",
       "    <tr>\n",
       "      <th>1</th>\n",
       "      <td>gp:AOqpTOEidRmDaHGYPZW21SVfBkeqTruAzg7LAmCPL2_...</td>\n",
       "      <td>Michelle Armstrong</td>\n",
       "      <td>https://play-lh.googleusercontent.com/a-/AOh14...</td>\n",
       "      <td>I downloaded this because of the cross platfor...</td>\n",
       "      <td>1</td>\n",
       "      <td>81</td>\n",
       "      <td>5.7.0.20</td>\n",
       "      <td>2020-12-22 18:31:11</td>\n",
       "      <td>The Premium ad only shows up when first openin...</td>\n",
       "      <td>2020-12-23 19:58:46</td>\n",
       "      <td>most_relevant</td>\n",
       "      <td>com.anydo</td>\n",
       "    </tr>\n",
       "  </tbody>\n",
       "</table>\n",
       "</div>"
      ],
      "text/plain": [
       "                                            reviewId            userName  \\\n",
       "0  gp:AOqpTOEcWS_b8b4P2gClKovxXAPg3il0AD0ZnGw9RxY...                 H G   \n",
       "1  gp:AOqpTOEidRmDaHGYPZW21SVfBkeqTruAzg7LAmCPL2_...  Michelle Armstrong   \n",
       "\n",
       "                                           userImage  \\\n",
       "0  https://play-lh.googleusercontent.com/-2Zyc1Oz...   \n",
       "1  https://play-lh.googleusercontent.com/a-/AOh14...   \n",
       "\n",
       "                                             content  score  thumbsUpCount  \\\n",
       "0  Unable to use it as it won't work with my Goog...      1             13   \n",
       "1  I downloaded this because of the cross platfor...      1             81   \n",
       "\n",
       "  reviewCreatedVersion                   at  \\\n",
       "0             5.7.0.20  2021-01-11 01:12:58   \n",
       "1             5.7.0.20  2020-12-22 18:31:11   \n",
       "\n",
       "                                        replyContent            repliedAt  \\\n",
       "0  As our team explained profusely, we sync data ...  2021-01-10 12:58:09   \n",
       "1  The Premium ad only shows up when first openin...  2020-12-23 19:58:46   \n",
       "\n",
       "       sortOrder      appId  \n",
       "0  most_relevant  com.anydo  \n",
       "1  most_relevant  com.anydo  "
      ]
     },
     "execution_count": 3,
     "metadata": {},
     "output_type": "execute_result"
    }
   ],
   "source": [
    "app_reviews.head(2)"
   ]
  },
  {
   "cell_type": "code",
   "execution_count": 18,
   "id": "da08661e",
   "metadata": {
    "scrolled": true
   },
   "outputs": [
    {
     "data": {
      "text/html": [
       "<div>\n",
       "<style scoped>\n",
       "    .dataframe tbody tr th:only-of-type {\n",
       "        vertical-align: middle;\n",
       "    }\n",
       "\n",
       "    .dataframe tbody tr th {\n",
       "        vertical-align: top;\n",
       "    }\n",
       "\n",
       "    .dataframe thead th {\n",
       "        text-align: right;\n",
       "    }\n",
       "</style>\n",
       "<table border=\"1\" class=\"dataframe\">\n",
       "  <thead>\n",
       "    <tr style=\"text-align: right;\">\n",
       "      <th></th>\n",
       "      <th>Unnamed: 0</th>\n",
       "      <th>title</th>\n",
       "      <th>description</th>\n",
       "      <th>descriptionHTML</th>\n",
       "      <th>summary</th>\n",
       "      <th>summaryHTML</th>\n",
       "      <th>installs</th>\n",
       "      <th>minInstalls</th>\n",
       "      <th>score</th>\n",
       "      <th>ratings</th>\n",
       "      <th>...</th>\n",
       "      <th>contentRating</th>\n",
       "      <th>containsAds</th>\n",
       "      <th>released</th>\n",
       "      <th>updated</th>\n",
       "      <th>version</th>\n",
       "      <th>recentChanges</th>\n",
       "      <th>recentChangesHTML</th>\n",
       "      <th>editorsChoice</th>\n",
       "      <th>appId</th>\n",
       "      <th>url</th>\n",
       "    </tr>\n",
       "  </thead>\n",
       "  <tbody>\n",
       "    <tr>\n",
       "      <th>0</th>\n",
       "      <td>0</td>\n",
       "      <td>Any.do: To do list, Reminders, Planner &amp; Calendar</td>\n",
       "      <td>&lt;b&gt;🏆 Editor's Choice by Google&lt;/b&gt;\\r\\n\\r\\nIt's...</td>\n",
       "      <td>&lt;b&gt;🏆 Editor&amp;#39;s Choice by Google&lt;/b&gt;&lt;br&gt;&lt;br&gt;...</td>\n",
       "      <td>To-do list ✅ Task Manager 📅ֿ Agenda 📝 Reminder...</td>\n",
       "      <td>To-do list ✅ Task Manager 📅ֿ Agenda 📝 Reminder...</td>\n",
       "      <td>10,000,000+</td>\n",
       "      <td>10000000</td>\n",
       "      <td>4.352324</td>\n",
       "      <td>360178</td>\n",
       "      <td>...</td>\n",
       "      <td>Everyone</td>\n",
       "      <td>False</td>\n",
       "      <td>Nov 10, 2011</td>\n",
       "      <td>1610024325</td>\n",
       "      <td>Varies with device</td>\n",
       "      <td>- Dark mode is finally here, hooray! \\r\\n- Rec...</td>\n",
       "      <td>- Dark mode is finally here, hooray! &lt;br&gt;- Rec...</td>\n",
       "      <td>False</td>\n",
       "      <td>com.anydo</td>\n",
       "      <td>https://play.google.com/store/apps/details?id=...</td>\n",
       "    </tr>\n",
       "    <tr>\n",
       "      <th>1</th>\n",
       "      <td>1</td>\n",
       "      <td>Todoist: To-Do List, Tasks &amp; Reminders</td>\n",
       "      <td>🏆 &lt;b&gt;2020 Editor's Choice&lt;/b&gt; by Google\\r\\n🥇 \"...</td>\n",
       "      <td>🏆 &lt;b&gt;2020 Editor&amp;#39;s Choice&lt;/b&gt; by Google&lt;br...</td>\n",
       "      <td>\"The best to-do list\" — The Verge. Tasks ✅ Rem...</td>\n",
       "      <td>&amp;quot;The best to-do list&amp;quot; — The Verge. T...</td>\n",
       "      <td>10,000,000+</td>\n",
       "      <td>10000000</td>\n",
       "      <td>4.553276</td>\n",
       "      <td>216055</td>\n",
       "      <td>...</td>\n",
       "      <td>Everyone</td>\n",
       "      <td>False</td>\n",
       "      <td>Nov 18, 2012</td>\n",
       "      <td>1609960066</td>\n",
       "      <td>Varies with device</td>\n",
       "      <td>⭐ Save time by duplicating projects you use ti...</td>\n",
       "      <td>⭐ Save time by duplicating projects you use ti...</td>\n",
       "      <td>True</td>\n",
       "      <td>com.todoist</td>\n",
       "      <td>https://play.google.com/store/apps/details?id=...</td>\n",
       "    </tr>\n",
       "  </tbody>\n",
       "</table>\n",
       "<p>2 rows × 43 columns</p>\n",
       "</div>"
      ],
      "text/plain": [
       "   Unnamed: 0                                              title  \\\n",
       "0           0  Any.do: To do list, Reminders, Planner & Calendar   \n",
       "1           1             Todoist: To-Do List, Tasks & Reminders   \n",
       "\n",
       "                                         description  \\\n",
       "0  <b>🏆 Editor's Choice by Google</b>\\r\\n\\r\\nIt's...   \n",
       "1  🏆 <b>2020 Editor's Choice</b> by Google\\r\\n🥇 \"...   \n",
       "\n",
       "                                     descriptionHTML  \\\n",
       "0  <b>🏆 Editor&#39;s Choice by Google</b><br><br>...   \n",
       "1  🏆 <b>2020 Editor&#39;s Choice</b> by Google<br...   \n",
       "\n",
       "                                             summary  \\\n",
       "0  To-do list ✅ Task Manager 📅ֿ Agenda 📝 Reminder...   \n",
       "1  \"The best to-do list\" — The Verge. Tasks ✅ Rem...   \n",
       "\n",
       "                                         summaryHTML     installs  \\\n",
       "0  To-do list ✅ Task Manager 📅ֿ Agenda 📝 Reminder...  10,000,000+   \n",
       "1  &quot;The best to-do list&quot; — The Verge. T...  10,000,000+   \n",
       "\n",
       "   minInstalls     score  ratings  ...  contentRating containsAds  \\\n",
       "0     10000000  4.352324   360178  ...       Everyone       False   \n",
       "1     10000000  4.553276   216055  ...       Everyone       False   \n",
       "\n",
       "       released     updated             version  \\\n",
       "0  Nov 10, 2011  1610024325  Varies with device   \n",
       "1  Nov 18, 2012  1609960066  Varies with device   \n",
       "\n",
       "                                       recentChanges  \\\n",
       "0  - Dark mode is finally here, hooray! \\r\\n- Rec...   \n",
       "1  ⭐ Save time by duplicating projects you use ti...   \n",
       "\n",
       "                                   recentChangesHTML editorsChoice  \\\n",
       "0  - Dark mode is finally here, hooray! <br>- Rec...         False   \n",
       "1  ⭐ Save time by duplicating projects you use ti...          True   \n",
       "\n",
       "         appId                                                url  \n",
       "0    com.anydo  https://play.google.com/store/apps/details?id=...  \n",
       "1  com.todoist  https://play.google.com/store/apps/details?id=...  \n",
       "\n",
       "[2 rows x 43 columns]"
      ]
     },
     "execution_count": 18,
     "metadata": {},
     "output_type": "execute_result"
    }
   ],
   "source": [
    "app_info.head(2)"
   ]
  },
  {
   "cell_type": "code",
   "execution_count": 15,
   "id": "09330cc7",
   "metadata": {},
   "outputs": [
    {
     "data": {
      "text/html": [
       "<div>\n",
       "<style scoped>\n",
       "    .dataframe tbody tr th:only-of-type {\n",
       "        vertical-align: middle;\n",
       "    }\n",
       "\n",
       "    .dataframe tbody tr th {\n",
       "        vertical-align: top;\n",
       "    }\n",
       "\n",
       "    .dataframe thead th {\n",
       "        text-align: right;\n",
       "    }\n",
       "</style>\n",
       "<table border=\"1\" class=\"dataframe\">\n",
       "  <thead>\n",
       "    <tr style=\"text-align: right;\">\n",
       "      <th></th>\n",
       "      <th>Unnamed: 0</th>\n",
       "      <th>App Name</th>\n",
       "      <th>App Id</th>\n",
       "      <th>Category</th>\n",
       "      <th>Rating</th>\n",
       "      <th>Rating Count</th>\n",
       "      <th>Installs</th>\n",
       "      <th>Minimum Installs</th>\n",
       "      <th>Maximum Installs</th>\n",
       "      <th>Free</th>\n",
       "      <th>...</th>\n",
       "      <th>Developer Id</th>\n",
       "      <th>Developer Website</th>\n",
       "      <th>Developer Email</th>\n",
       "      <th>Released</th>\n",
       "      <th>Last Updated</th>\n",
       "      <th>Content Rating</th>\n",
       "      <th>Privacy Policy</th>\n",
       "      <th>Ad Supported</th>\n",
       "      <th>In App Purchases</th>\n",
       "      <th>Editors Choice</th>\n",
       "    </tr>\n",
       "  </thead>\n",
       "  <tbody>\n",
       "    <tr>\n",
       "      <th>0</th>\n",
       "      <td>221618</td>\n",
       "      <td>Google Drive</td>\n",
       "      <td>com.google.android.apps.docs</td>\n",
       "      <td>Productivity</td>\n",
       "      <td>4.3</td>\n",
       "      <td>6809671.0</td>\n",
       "      <td>5,000,000,000+</td>\n",
       "      <td>5.000000e+09</td>\n",
       "      <td>6268278970</td>\n",
       "      <td>True</td>\n",
       "      <td>...</td>\n",
       "      <td>Google LLC</td>\n",
       "      <td>https://support.google.com/drive/?p=android_dr...</td>\n",
       "      <td>apps-help@google.com</td>\n",
       "      <td>Apr 27, 2011</td>\n",
       "      <td>Nov 18, 2020</td>\n",
       "      <td>Everyone</td>\n",
       "      <td>http://www.google.com/policies/privacy</td>\n",
       "      <td>False</td>\n",
       "      <td>True</td>\n",
       "      <td>False</td>\n",
       "    </tr>\n",
       "    <tr>\n",
       "      <th>1</th>\n",
       "      <td>220802</td>\n",
       "      <td>Google Calendar</td>\n",
       "      <td>com.google.android.calendar</td>\n",
       "      <td>Productivity</td>\n",
       "      <td>4.3</td>\n",
       "      <td>1478444.0</td>\n",
       "      <td>1,000,000,000+</td>\n",
       "      <td>1.000000e+09</td>\n",
       "      <td>2087520275</td>\n",
       "      <td>True</td>\n",
       "      <td>...</td>\n",
       "      <td>Google LLC</td>\n",
       "      <td>http://support.google.com/calendar?p=mobilesync</td>\n",
       "      <td>apps-help@google.com</td>\n",
       "      <td>Oct 17, 2012</td>\n",
       "      <td>Nov 23, 2020</td>\n",
       "      <td>Everyone</td>\n",
       "      <td>http://www.google.com/policies/privacy</td>\n",
       "      <td>False</td>\n",
       "      <td>False</td>\n",
       "      <td>False</td>\n",
       "    </tr>\n",
       "    <tr>\n",
       "      <th>2</th>\n",
       "      <td>222192</td>\n",
       "      <td>Microsoft OneDrive</td>\n",
       "      <td>com.microsoft.skydrive</td>\n",
       "      <td>Productivity</td>\n",
       "      <td>4.5</td>\n",
       "      <td>1962639.0</td>\n",
       "      <td>1,000,000,000+</td>\n",
       "      <td>1.000000e+09</td>\n",
       "      <td>1682112730</td>\n",
       "      <td>True</td>\n",
       "      <td>...</td>\n",
       "      <td>Microsoft Corporation</td>\n",
       "      <td>https://aka.ms/OneDriveOnAndroid</td>\n",
       "      <td>odrvhelp@microsoft.com</td>\n",
       "      <td>Aug 28, 2012</td>\n",
       "      <td>Nov 25, 2020</td>\n",
       "      <td>Everyone</td>\n",
       "      <td>http://go.microsoft.com/fwlink/p/?LinkId=253457</td>\n",
       "      <td>False</td>\n",
       "      <td>True</td>\n",
       "      <td>False</td>\n",
       "    </tr>\n",
       "    <tr>\n",
       "      <th>3</th>\n",
       "      <td>222187</td>\n",
       "      <td>Microsoft Word: Write, Edit &amp; Share Docs on th...</td>\n",
       "      <td>com.microsoft.office.word</td>\n",
       "      <td>Productivity</td>\n",
       "      <td>4.4</td>\n",
       "      <td>5487830.0</td>\n",
       "      <td>1,000,000,000+</td>\n",
       "      <td>1.000000e+09</td>\n",
       "      <td>1471903257</td>\n",
       "      <td>True</td>\n",
       "      <td>...</td>\n",
       "      <td>Microsoft Corporation</td>\n",
       "      <td>https://products.office.com</td>\n",
       "      <td>officean@microsoft.com</td>\n",
       "      <td>Jan 6, 2015</td>\n",
       "      <td>Nov 21, 2020</td>\n",
       "      <td>Everyone</td>\n",
       "      <td>http://go.microsoft.com/fwlink/?LinkID=507380</td>\n",
       "      <td>False</td>\n",
       "      <td>True</td>\n",
       "      <td>False</td>\n",
       "    </tr>\n",
       "    <tr>\n",
       "      <th>4</th>\n",
       "      <td>220237</td>\n",
       "      <td>Samsung Email</td>\n",
       "      <td>com.samsung.android.email.provider</td>\n",
       "      <td>Productivity</td>\n",
       "      <td>4.5</td>\n",
       "      <td>1636239.0</td>\n",
       "      <td>1,000,000,000+</td>\n",
       "      <td>1.000000e+09</td>\n",
       "      <td>1424683688</td>\n",
       "      <td>True</td>\n",
       "      <td>...</td>\n",
       "      <td>Samsung Electronics Co.,  Ltd.</td>\n",
       "      <td>NaN</td>\n",
       "      <td>b2b.sec@samsung.com</td>\n",
       "      <td>Jan 15, 2017</td>\n",
       "      <td>Oct 30, 2020</td>\n",
       "      <td>Everyone</td>\n",
       "      <td>https://account.samsung.com/membership/pp</td>\n",
       "      <td>False</td>\n",
       "      <td>False</td>\n",
       "      <td>False</td>\n",
       "    </tr>\n",
       "  </tbody>\n",
       "</table>\n",
       "<p>5 rows × 24 columns</p>\n",
       "</div>"
      ],
      "text/plain": [
       "   Unnamed: 0                                           App Name  \\\n",
       "0      221618                                       Google Drive   \n",
       "1      220802                                    Google Calendar   \n",
       "2      222192                                 Microsoft OneDrive   \n",
       "3      222187  Microsoft Word: Write, Edit & Share Docs on th...   \n",
       "4      220237                                      Samsung Email   \n",
       "\n",
       "                               App Id      Category  Rating  Rating Count  \\\n",
       "0        com.google.android.apps.docs  Productivity     4.3     6809671.0   \n",
       "1         com.google.android.calendar  Productivity     4.3     1478444.0   \n",
       "2              com.microsoft.skydrive  Productivity     4.5     1962639.0   \n",
       "3           com.microsoft.office.word  Productivity     4.4     5487830.0   \n",
       "4  com.samsung.android.email.provider  Productivity     4.5     1636239.0   \n",
       "\n",
       "         Installs  Minimum Installs  Maximum Installs  Free  ...  \\\n",
       "0  5,000,000,000+      5.000000e+09        6268278970  True  ...   \n",
       "1  1,000,000,000+      1.000000e+09        2087520275  True  ...   \n",
       "2  1,000,000,000+      1.000000e+09        1682112730  True  ...   \n",
       "3  1,000,000,000+      1.000000e+09        1471903257  True  ...   \n",
       "4  1,000,000,000+      1.000000e+09        1424683688  True  ...   \n",
       "\n",
       "                     Developer Id  \\\n",
       "0                      Google LLC   \n",
       "1                      Google LLC   \n",
       "2           Microsoft Corporation   \n",
       "3           Microsoft Corporation   \n",
       "4  Samsung Electronics Co.,  Ltd.   \n",
       "\n",
       "                                   Developer Website         Developer Email  \\\n",
       "0  https://support.google.com/drive/?p=android_dr...    apps-help@google.com   \n",
       "1    http://support.google.com/calendar?p=mobilesync    apps-help@google.com   \n",
       "2                   https://aka.ms/OneDriveOnAndroid  odrvhelp@microsoft.com   \n",
       "3                        https://products.office.com  officean@microsoft.com   \n",
       "4                                                NaN     b2b.sec@samsung.com   \n",
       "\n",
       "       Released  Last Updated Content Rating  \\\n",
       "0  Apr 27, 2011  Nov 18, 2020       Everyone   \n",
       "1  Oct 17, 2012  Nov 23, 2020       Everyone   \n",
       "2  Aug 28, 2012  Nov 25, 2020       Everyone   \n",
       "3   Jan 6, 2015  Nov 21, 2020       Everyone   \n",
       "4  Jan 15, 2017  Oct 30, 2020       Everyone   \n",
       "\n",
       "                                    Privacy Policy Ad Supported  \\\n",
       "0           http://www.google.com/policies/privacy        False   \n",
       "1           http://www.google.com/policies/privacy        False   \n",
       "2  http://go.microsoft.com/fwlink/p/?LinkId=253457        False   \n",
       "3    http://go.microsoft.com/fwlink/?LinkID=507380        False   \n",
       "4        https://account.samsung.com/membership/pp        False   \n",
       "\n",
       "  In App Purchases Editors Choice  \n",
       "0             True          False  \n",
       "1            False          False  \n",
       "2             True          False  \n",
       "3             True          False  \n",
       "4            False          False  \n",
       "\n",
       "[5 rows x 24 columns]"
      ]
     },
     "execution_count": 15,
     "metadata": {},
     "output_type": "execute_result"
    }
   ],
   "source": [
    "all_prod_apps.head()"
   ]
  },
  {
   "cell_type": "code",
   "execution_count": 6,
   "id": "83f9573b",
   "metadata": {},
   "outputs": [
    {
     "data": {
      "text/plain": [
       "Index(['reviewId', 'userName', 'userImage', 'content', 'score',\n",
       "       'thumbsUpCount', 'reviewCreatedVersion', 'at', 'replyContent',\n",
       "       'repliedAt', 'sortOrder', 'appId'],\n",
       "      dtype='object')"
      ]
     },
     "execution_count": 6,
     "metadata": {},
     "output_type": "execute_result"
    }
   ],
   "source": [
    "app_reviews.columns"
   ]
  },
  {
   "cell_type": "code",
   "execution_count": 7,
   "id": "a3390249",
   "metadata": {},
   "outputs": [
    {
     "data": {
      "text/plain": [
       "Index(['Unnamed: 0', 'App Name', 'App Id', 'Category', 'Rating',\n",
       "       'Rating Count', 'Installs', 'Minimum Installs', 'Maximum Installs',\n",
       "       'Free', 'Price', 'Currency', 'Size', 'Minimum Android', 'Developer Id',\n",
       "       'Developer Website', 'Developer Email', 'Released', 'Last Updated',\n",
       "       'Content Rating', 'Privacy Policy', 'Ad Supported', 'In App Purchases',\n",
       "       'Editors Choice'],\n",
       "      dtype='object')"
      ]
     },
     "execution_count": 7,
     "metadata": {},
     "output_type": "execute_result"
    }
   ],
   "source": [
    "all_prod_apps.columns"
   ]
  },
  {
   "cell_type": "markdown",
   "id": "86b482ab",
   "metadata": {},
   "source": [
    "### App with Highest Installs"
   ]
  },
  {
   "cell_type": "code",
   "execution_count": 111,
   "id": "d2530821",
   "metadata": {},
   "outputs": [],
   "source": [
    "df_2 = all_prod_apps[['App Name', 'Rating', 'Maximum Installs']].sort_values('Maximum Installs', ascending=False)[:15]"
   ]
  },
  {
   "cell_type": "code",
   "execution_count": 104,
   "id": "69e1726c",
   "metadata": {},
   "outputs": [
    {
     "data": {
      "text/html": [
       "<div>\n",
       "<style scoped>\n",
       "    .dataframe tbody tr th:only-of-type {\n",
       "        vertical-align: middle;\n",
       "    }\n",
       "\n",
       "    .dataframe tbody tr th {\n",
       "        vertical-align: top;\n",
       "    }\n",
       "\n",
       "    .dataframe thead th {\n",
       "        text-align: right;\n",
       "    }\n",
       "</style>\n",
       "<table border=\"1\" class=\"dataframe\">\n",
       "  <thead>\n",
       "    <tr style=\"text-align: right;\">\n",
       "      <th></th>\n",
       "      <th>App Name</th>\n",
       "      <th>Rating</th>\n",
       "      <th>Maximum Installs</th>\n",
       "    </tr>\n",
       "  </thead>\n",
       "  <tbody>\n",
       "    <tr>\n",
       "      <th>0</th>\n",
       "      <td>Google Drive</td>\n",
       "      <td>4.3</td>\n",
       "      <td>6268278970</td>\n",
       "    </tr>\n",
       "    <tr>\n",
       "      <th>1</th>\n",
       "      <td>Google Calendar</td>\n",
       "      <td>4.3</td>\n",
       "      <td>2087520275</td>\n",
       "    </tr>\n",
       "    <tr>\n",
       "      <th>2</th>\n",
       "      <td>Microsoft OneDrive</td>\n",
       "      <td>4.5</td>\n",
       "      <td>1682112730</td>\n",
       "    </tr>\n",
       "    <tr>\n",
       "      <th>3</th>\n",
       "      <td>Microsoft Word: Write, Edit &amp; Share Docs on th...</td>\n",
       "      <td>4.4</td>\n",
       "      <td>1471903257</td>\n",
       "    </tr>\n",
       "    <tr>\n",
       "      <th>4</th>\n",
       "      <td>Samsung Email</td>\n",
       "      <td>4.5</td>\n",
       "      <td>1424683688</td>\n",
       "    </tr>\n",
       "    <tr>\n",
       "      <th>5</th>\n",
       "      <td>Cloud Print</td>\n",
       "      <td>4.0</td>\n",
       "      <td>1391532063</td>\n",
       "    </tr>\n",
       "    <tr>\n",
       "      <th>6</th>\n",
       "      <td>Samsung Print Service Plugin</td>\n",
       "      <td>4.1</td>\n",
       "      <td>1363321324</td>\n",
       "    </tr>\n",
       "    <tr>\n",
       "      <th>7</th>\n",
       "      <td>Microsoft Excel: View, Edit, &amp; Create Spreadsh...</td>\n",
       "      <td>4.4</td>\n",
       "      <td>1358878122</td>\n",
       "    </tr>\n",
       "    <tr>\n",
       "      <th>8</th>\n",
       "      <td>Microsoft PowerPoint: Slideshows and Presentat...</td>\n",
       "      <td>4.3</td>\n",
       "      <td>1345419882</td>\n",
       "    </tr>\n",
       "    <tr>\n",
       "      <th>9</th>\n",
       "      <td>Dropbox: Cloud Storage to Backup, Sync, File S...</td>\n",
       "      <td>4.2</td>\n",
       "      <td>1023802506</td>\n",
       "    </tr>\n",
       "    <tr>\n",
       "      <th>10</th>\n",
       "      <td>Google Docs</td>\n",
       "      <td>4.3</td>\n",
       "      <td>1021928707</td>\n",
       "    </tr>\n",
       "    <tr>\n",
       "      <th>11</th>\n",
       "      <td>Google Keep - Notes and Lists</td>\n",
       "      <td>4.4</td>\n",
       "      <td>984132629</td>\n",
       "    </tr>\n",
       "  </tbody>\n",
       "</table>\n",
       "</div>"
      ],
      "text/plain": [
       "                                             App Name  Rating  \\\n",
       "0                                        Google Drive     4.3   \n",
       "1                                     Google Calendar     4.3   \n",
       "2                                  Microsoft OneDrive     4.5   \n",
       "3   Microsoft Word: Write, Edit & Share Docs on th...     4.4   \n",
       "4                                       Samsung Email     4.5   \n",
       "5                                         Cloud Print     4.0   \n",
       "6                        Samsung Print Service Plugin     4.1   \n",
       "7   Microsoft Excel: View, Edit, & Create Spreadsh...     4.4   \n",
       "8   Microsoft PowerPoint: Slideshows and Presentat...     4.3   \n",
       "9   Dropbox: Cloud Storage to Backup, Sync, File S...     4.2   \n",
       "10                                        Google Docs     4.3   \n",
       "11                      Google Keep - Notes and Lists     4.4   \n",
       "\n",
       "    Maximum Installs  \n",
       "0         6268278970  \n",
       "1         2087520275  \n",
       "2         1682112730  \n",
       "3         1471903257  \n",
       "4         1424683688  \n",
       "5         1391532063  \n",
       "6         1363321324  \n",
       "7         1358878122  \n",
       "8         1345419882  \n",
       "9         1023802506  \n",
       "10        1021928707  \n",
       "11         984132629  "
      ]
     },
     "execution_count": 104,
     "metadata": {},
     "output_type": "execute_result"
    }
   ],
   "source": [
    "all_prod_apps[['App Name', 'Rating', 'Maximum Installs']].sort_values('Maximum Installs', ascending=False)[:12]"
   ]
  },
  {
   "cell_type": "code",
   "execution_count": 112,
   "id": "c7b357e2",
   "metadata": {},
   "outputs": [
    {
     "data": {
      "application/vnd.plotly.v1+json": {
       "config": {
        "plotlyServerURL": "https://plot.ly"
       },
       "data": [
        {
         "alignmentgroup": "True",
         "hovertemplate": "App Name=%{x}<br>Maximum Installs=%{y}<br>Rating=%{marker.color}<extra></extra>",
         "legendgroup": "",
         "marker": {
          "color": [
           4.3,
           4.3,
           4.5,
           4.4,
           4.5,
           4,
           4.1,
           4.4,
           4.3,
           4.2,
           4.3,
           4.4,
           4.3,
           4.2,
           4
          ],
          "coloraxis": "coloraxis",
          "pattern": {
           "shape": ""
          }
         },
         "name": "",
         "offsetgroup": "",
         "orientation": "v",
         "showlegend": false,
         "textposition": "auto",
         "type": "bar",
         "x": [
          "Google Drive",
          "Google Calendar",
          "Microsoft OneDrive",
          "Microsoft Word: Write, Edit & Share Docs on the Go",
          "Samsung Email",
          "Cloud Print",
          "Samsung Print Service Plugin",
          "Microsoft Excel: View, Edit, & Create Spreadsheets",
          "Microsoft PowerPoint: Slideshows and Presentations",
          "Dropbox: Cloud Storage to Backup, Sync, File Share",
          "Google Docs",
          "Google Keep - Notes and Lists",
          "Google Sheets",
          "Samsung Security Policy Update",
          "Samsung Notes"
         ],
         "xaxis": "x",
         "y": [
          6268278970,
          2087520275,
          1682112730,
          1471903257,
          1424683688,
          1391532063,
          1363321324,
          1358878122,
          1345419882,
          1023802506,
          1021928707,
          984132629,
          876104862,
          866869558,
          854653567
         ],
         "yaxis": "y"
        }
       ],
       "layout": {
        "barmode": "relative",
        "coloraxis": {
         "colorbar": {
          "title": {
           "text": "Rating"
          }
         },
         "colorscale": [
          [
           0,
           "#440154"
          ],
          [
           0.1111111111111111,
           "#482878"
          ],
          [
           0.2222222222222222,
           "#3e4989"
          ],
          [
           0.3333333333333333,
           "#31688e"
          ],
          [
           0.4444444444444444,
           "#26828e"
          ],
          [
           0.5555555555555556,
           "#1f9e89"
          ],
          [
           0.6666666666666666,
           "#35b779"
          ],
          [
           0.7777777777777778,
           "#6ece58"
          ],
          [
           0.8888888888888888,
           "#b5de2b"
          ],
          [
           1,
           "#fde725"
          ]
         ]
        },
        "legend": {
         "tracegroupgap": 0
        },
        "margin": {
         "t": 60
        },
        "template": {
         "data": {
          "bar": [
           {
            "error_x": {
             "color": "#2a3f5f"
            },
            "error_y": {
             "color": "#2a3f5f"
            },
            "marker": {
             "line": {
              "color": "#E5ECF6",
              "width": 0.5
             },
             "pattern": {
              "fillmode": "overlay",
              "size": 10,
              "solidity": 0.2
             }
            },
            "type": "bar"
           }
          ],
          "barpolar": [
           {
            "marker": {
             "line": {
              "color": "#E5ECF6",
              "width": 0.5
             },
             "pattern": {
              "fillmode": "overlay",
              "size": 10,
              "solidity": 0.2
             }
            },
            "type": "barpolar"
           }
          ],
          "carpet": [
           {
            "aaxis": {
             "endlinecolor": "#2a3f5f",
             "gridcolor": "white",
             "linecolor": "white",
             "minorgridcolor": "white",
             "startlinecolor": "#2a3f5f"
            },
            "baxis": {
             "endlinecolor": "#2a3f5f",
             "gridcolor": "white",
             "linecolor": "white",
             "minorgridcolor": "white",
             "startlinecolor": "#2a3f5f"
            },
            "type": "carpet"
           }
          ],
          "choropleth": [
           {
            "colorbar": {
             "outlinewidth": 0,
             "ticks": ""
            },
            "type": "choropleth"
           }
          ],
          "contour": [
           {
            "colorbar": {
             "outlinewidth": 0,
             "ticks": ""
            },
            "colorscale": [
             [
              0,
              "#0d0887"
             ],
             [
              0.1111111111111111,
              "#46039f"
             ],
             [
              0.2222222222222222,
              "#7201a8"
             ],
             [
              0.3333333333333333,
              "#9c179e"
             ],
             [
              0.4444444444444444,
              "#bd3786"
             ],
             [
              0.5555555555555556,
              "#d8576b"
             ],
             [
              0.6666666666666666,
              "#ed7953"
             ],
             [
              0.7777777777777778,
              "#fb9f3a"
             ],
             [
              0.8888888888888888,
              "#fdca26"
             ],
             [
              1,
              "#f0f921"
             ]
            ],
            "type": "contour"
           }
          ],
          "contourcarpet": [
           {
            "colorbar": {
             "outlinewidth": 0,
             "ticks": ""
            },
            "type": "contourcarpet"
           }
          ],
          "heatmap": [
           {
            "colorbar": {
             "outlinewidth": 0,
             "ticks": ""
            },
            "colorscale": [
             [
              0,
              "#0d0887"
             ],
             [
              0.1111111111111111,
              "#46039f"
             ],
             [
              0.2222222222222222,
              "#7201a8"
             ],
             [
              0.3333333333333333,
              "#9c179e"
             ],
             [
              0.4444444444444444,
              "#bd3786"
             ],
             [
              0.5555555555555556,
              "#d8576b"
             ],
             [
              0.6666666666666666,
              "#ed7953"
             ],
             [
              0.7777777777777778,
              "#fb9f3a"
             ],
             [
              0.8888888888888888,
              "#fdca26"
             ],
             [
              1,
              "#f0f921"
             ]
            ],
            "type": "heatmap"
           }
          ],
          "heatmapgl": [
           {
            "colorbar": {
             "outlinewidth": 0,
             "ticks": ""
            },
            "colorscale": [
             [
              0,
              "#0d0887"
             ],
             [
              0.1111111111111111,
              "#46039f"
             ],
             [
              0.2222222222222222,
              "#7201a8"
             ],
             [
              0.3333333333333333,
              "#9c179e"
             ],
             [
              0.4444444444444444,
              "#bd3786"
             ],
             [
              0.5555555555555556,
              "#d8576b"
             ],
             [
              0.6666666666666666,
              "#ed7953"
             ],
             [
              0.7777777777777778,
              "#fb9f3a"
             ],
             [
              0.8888888888888888,
              "#fdca26"
             ],
             [
              1,
              "#f0f921"
             ]
            ],
            "type": "heatmapgl"
           }
          ],
          "histogram": [
           {
            "marker": {
             "pattern": {
              "fillmode": "overlay",
              "size": 10,
              "solidity": 0.2
             }
            },
            "type": "histogram"
           }
          ],
          "histogram2d": [
           {
            "colorbar": {
             "outlinewidth": 0,
             "ticks": ""
            },
            "colorscale": [
             [
              0,
              "#0d0887"
             ],
             [
              0.1111111111111111,
              "#46039f"
             ],
             [
              0.2222222222222222,
              "#7201a8"
             ],
             [
              0.3333333333333333,
              "#9c179e"
             ],
             [
              0.4444444444444444,
              "#bd3786"
             ],
             [
              0.5555555555555556,
              "#d8576b"
             ],
             [
              0.6666666666666666,
              "#ed7953"
             ],
             [
              0.7777777777777778,
              "#fb9f3a"
             ],
             [
              0.8888888888888888,
              "#fdca26"
             ],
             [
              1,
              "#f0f921"
             ]
            ],
            "type": "histogram2d"
           }
          ],
          "histogram2dcontour": [
           {
            "colorbar": {
             "outlinewidth": 0,
             "ticks": ""
            },
            "colorscale": [
             [
              0,
              "#0d0887"
             ],
             [
              0.1111111111111111,
              "#46039f"
             ],
             [
              0.2222222222222222,
              "#7201a8"
             ],
             [
              0.3333333333333333,
              "#9c179e"
             ],
             [
              0.4444444444444444,
              "#bd3786"
             ],
             [
              0.5555555555555556,
              "#d8576b"
             ],
             [
              0.6666666666666666,
              "#ed7953"
             ],
             [
              0.7777777777777778,
              "#fb9f3a"
             ],
             [
              0.8888888888888888,
              "#fdca26"
             ],
             [
              1,
              "#f0f921"
             ]
            ],
            "type": "histogram2dcontour"
           }
          ],
          "mesh3d": [
           {
            "colorbar": {
             "outlinewidth": 0,
             "ticks": ""
            },
            "type": "mesh3d"
           }
          ],
          "parcoords": [
           {
            "line": {
             "colorbar": {
              "outlinewidth": 0,
              "ticks": ""
             }
            },
            "type": "parcoords"
           }
          ],
          "pie": [
           {
            "automargin": true,
            "type": "pie"
           }
          ],
          "scatter": [
           {
            "marker": {
             "colorbar": {
              "outlinewidth": 0,
              "ticks": ""
             }
            },
            "type": "scatter"
           }
          ],
          "scatter3d": [
           {
            "line": {
             "colorbar": {
              "outlinewidth": 0,
              "ticks": ""
             }
            },
            "marker": {
             "colorbar": {
              "outlinewidth": 0,
              "ticks": ""
             }
            },
            "type": "scatter3d"
           }
          ],
          "scattercarpet": [
           {
            "marker": {
             "colorbar": {
              "outlinewidth": 0,
              "ticks": ""
             }
            },
            "type": "scattercarpet"
           }
          ],
          "scattergeo": [
           {
            "marker": {
             "colorbar": {
              "outlinewidth": 0,
              "ticks": ""
             }
            },
            "type": "scattergeo"
           }
          ],
          "scattergl": [
           {
            "marker": {
             "colorbar": {
              "outlinewidth": 0,
              "ticks": ""
             }
            },
            "type": "scattergl"
           }
          ],
          "scattermapbox": [
           {
            "marker": {
             "colorbar": {
              "outlinewidth": 0,
              "ticks": ""
             }
            },
            "type": "scattermapbox"
           }
          ],
          "scatterpolar": [
           {
            "marker": {
             "colorbar": {
              "outlinewidth": 0,
              "ticks": ""
             }
            },
            "type": "scatterpolar"
           }
          ],
          "scatterpolargl": [
           {
            "marker": {
             "colorbar": {
              "outlinewidth": 0,
              "ticks": ""
             }
            },
            "type": "scatterpolargl"
           }
          ],
          "scatterternary": [
           {
            "marker": {
             "colorbar": {
              "outlinewidth": 0,
              "ticks": ""
             }
            },
            "type": "scatterternary"
           }
          ],
          "surface": [
           {
            "colorbar": {
             "outlinewidth": 0,
             "ticks": ""
            },
            "colorscale": [
             [
              0,
              "#0d0887"
             ],
             [
              0.1111111111111111,
              "#46039f"
             ],
             [
              0.2222222222222222,
              "#7201a8"
             ],
             [
              0.3333333333333333,
              "#9c179e"
             ],
             [
              0.4444444444444444,
              "#bd3786"
             ],
             [
              0.5555555555555556,
              "#d8576b"
             ],
             [
              0.6666666666666666,
              "#ed7953"
             ],
             [
              0.7777777777777778,
              "#fb9f3a"
             ],
             [
              0.8888888888888888,
              "#fdca26"
             ],
             [
              1,
              "#f0f921"
             ]
            ],
            "type": "surface"
           }
          ],
          "table": [
           {
            "cells": {
             "fill": {
              "color": "#EBF0F8"
             },
             "line": {
              "color": "white"
             }
            },
            "header": {
             "fill": {
              "color": "#C8D4E3"
             },
             "line": {
              "color": "white"
             }
            },
            "type": "table"
           }
          ]
         },
         "layout": {
          "annotationdefaults": {
           "arrowcolor": "#2a3f5f",
           "arrowhead": 0,
           "arrowwidth": 1
          },
          "autotypenumbers": "strict",
          "coloraxis": {
           "colorbar": {
            "outlinewidth": 0,
            "ticks": ""
           }
          },
          "colorscale": {
           "diverging": [
            [
             0,
             "#8e0152"
            ],
            [
             0.1,
             "#c51b7d"
            ],
            [
             0.2,
             "#de77ae"
            ],
            [
             0.3,
             "#f1b6da"
            ],
            [
             0.4,
             "#fde0ef"
            ],
            [
             0.5,
             "#f7f7f7"
            ],
            [
             0.6,
             "#e6f5d0"
            ],
            [
             0.7,
             "#b8e186"
            ],
            [
             0.8,
             "#7fbc41"
            ],
            [
             0.9,
             "#4d9221"
            ],
            [
             1,
             "#276419"
            ]
           ],
           "sequential": [
            [
             0,
             "#0d0887"
            ],
            [
             0.1111111111111111,
             "#46039f"
            ],
            [
             0.2222222222222222,
             "#7201a8"
            ],
            [
             0.3333333333333333,
             "#9c179e"
            ],
            [
             0.4444444444444444,
             "#bd3786"
            ],
            [
             0.5555555555555556,
             "#d8576b"
            ],
            [
             0.6666666666666666,
             "#ed7953"
            ],
            [
             0.7777777777777778,
             "#fb9f3a"
            ],
            [
             0.8888888888888888,
             "#fdca26"
            ],
            [
             1,
             "#f0f921"
            ]
           ],
           "sequentialminus": [
            [
             0,
             "#0d0887"
            ],
            [
             0.1111111111111111,
             "#46039f"
            ],
            [
             0.2222222222222222,
             "#7201a8"
            ],
            [
             0.3333333333333333,
             "#9c179e"
            ],
            [
             0.4444444444444444,
             "#bd3786"
            ],
            [
             0.5555555555555556,
             "#d8576b"
            ],
            [
             0.6666666666666666,
             "#ed7953"
            ],
            [
             0.7777777777777778,
             "#fb9f3a"
            ],
            [
             0.8888888888888888,
             "#fdca26"
            ],
            [
             1,
             "#f0f921"
            ]
           ]
          },
          "colorway": [
           "#636efa",
           "#EF553B",
           "#00cc96",
           "#ab63fa",
           "#FFA15A",
           "#19d3f3",
           "#FF6692",
           "#B6E880",
           "#FF97FF",
           "#FECB52"
          ],
          "font": {
           "color": "#2a3f5f"
          },
          "geo": {
           "bgcolor": "white",
           "lakecolor": "white",
           "landcolor": "#E5ECF6",
           "showlakes": true,
           "showland": true,
           "subunitcolor": "white"
          },
          "hoverlabel": {
           "align": "left"
          },
          "hovermode": "closest",
          "mapbox": {
           "style": "light"
          },
          "paper_bgcolor": "white",
          "plot_bgcolor": "#E5ECF6",
          "polar": {
           "angularaxis": {
            "gridcolor": "white",
            "linecolor": "white",
            "ticks": ""
           },
           "bgcolor": "#E5ECF6",
           "radialaxis": {
            "gridcolor": "white",
            "linecolor": "white",
            "ticks": ""
           }
          },
          "scene": {
           "xaxis": {
            "backgroundcolor": "#E5ECF6",
            "gridcolor": "white",
            "gridwidth": 2,
            "linecolor": "white",
            "showbackground": true,
            "ticks": "",
            "zerolinecolor": "white"
           },
           "yaxis": {
            "backgroundcolor": "#E5ECF6",
            "gridcolor": "white",
            "gridwidth": 2,
            "linecolor": "white",
            "showbackground": true,
            "ticks": "",
            "zerolinecolor": "white"
           },
           "zaxis": {
            "backgroundcolor": "#E5ECF6",
            "gridcolor": "white",
            "gridwidth": 2,
            "linecolor": "white",
            "showbackground": true,
            "ticks": "",
            "zerolinecolor": "white"
           }
          },
          "shapedefaults": {
           "line": {
            "color": "#2a3f5f"
           }
          },
          "ternary": {
           "aaxis": {
            "gridcolor": "white",
            "linecolor": "white",
            "ticks": ""
           },
           "baxis": {
            "gridcolor": "white",
            "linecolor": "white",
            "ticks": ""
           },
           "bgcolor": "#E5ECF6",
           "caxis": {
            "gridcolor": "white",
            "linecolor": "white",
            "ticks": ""
           }
          },
          "title": {
           "x": 0.05
          },
          "xaxis": {
           "automargin": true,
           "gridcolor": "white",
           "linecolor": "white",
           "ticks": "",
           "title": {
            "standoff": 15
           },
           "zerolinecolor": "white",
           "zerolinewidth": 2
          },
          "yaxis": {
           "automargin": true,
           "gridcolor": "white",
           "linecolor": "white",
           "ticks": "",
           "title": {
            "standoff": 15
           },
           "zerolinecolor": "white",
           "zerolinewidth": 2
          }
         }
        },
        "xaxis": {
         "anchor": "y",
         "domain": [
          0,
          1
         ],
         "title": {
          "text": "App Name"
         }
        },
        "yaxis": {
         "anchor": "x",
         "domain": [
          0,
          1
         ],
         "title": {
          "text": "Maximum Installs"
         }
        }
       }
      },
      "text/html": [
       "<div>                            <div id=\"978e2711-e40e-4bd9-9cbf-7b635b97635a\" class=\"plotly-graph-div\" style=\"height:525px; width:100%;\"></div>            <script type=\"text/javascript\">                require([\"plotly\"], function(Plotly) {                    window.PLOTLYENV=window.PLOTLYENV || {};                                    if (document.getElementById(\"978e2711-e40e-4bd9-9cbf-7b635b97635a\")) {                    Plotly.newPlot(                        \"978e2711-e40e-4bd9-9cbf-7b635b97635a\",                        [{\"alignmentgroup\":\"True\",\"hovertemplate\":\"App Name=%{x}<br>Maximum Installs=%{y}<br>Rating=%{marker.color}<extra></extra>\",\"legendgroup\":\"\",\"marker\":{\"color\":[4.3,4.3,4.5,4.4,4.5,4.0,4.1,4.4,4.3,4.2,4.3,4.4,4.3,4.2,4.0],\"coloraxis\":\"coloraxis\",\"pattern\":{\"shape\":\"\"}},\"name\":\"\",\"offsetgroup\":\"\",\"orientation\":\"v\",\"showlegend\":false,\"textposition\":\"auto\",\"type\":\"bar\",\"x\":[\"Google Drive\",\"Google Calendar\",\"Microsoft OneDrive\",\"Microsoft Word: Write, Edit & Share Docs on the Go\",\"Samsung Email\",\"Cloud Print\",\"Samsung Print Service Plugin\",\"Microsoft Excel: View, Edit, & Create Spreadsheets\",\"Microsoft PowerPoint: Slideshows and Presentations\",\"Dropbox: Cloud Storage to Backup, Sync, File Share\",\"Google Docs\",\"Google Keep - Notes and Lists\",\"Google Sheets\",\"Samsung Security Policy Update\",\"Samsung Notes\"],\"xaxis\":\"x\",\"y\":[6268278970,2087520275,1682112730,1471903257,1424683688,1391532063,1363321324,1358878122,1345419882,1023802506,1021928707,984132629,876104862,866869558,854653567],\"yaxis\":\"y\"}],                        {\"barmode\":\"relative\",\"coloraxis\":{\"colorbar\":{\"title\":{\"text\":\"Rating\"}},\"colorscale\":[[0.0,\"#440154\"],[0.1111111111111111,\"#482878\"],[0.2222222222222222,\"#3e4989\"],[0.3333333333333333,\"#31688e\"],[0.4444444444444444,\"#26828e\"],[0.5555555555555556,\"#1f9e89\"],[0.6666666666666666,\"#35b779\"],[0.7777777777777778,\"#6ece58\"],[0.8888888888888888,\"#b5de2b\"],[1.0,\"#fde725\"]]},\"legend\":{\"tracegroupgap\":0},\"margin\":{\"t\":60},\"template\":{\"data\":{\"bar\":[{\"error_x\":{\"color\":\"#2a3f5f\"},\"error_y\":{\"color\":\"#2a3f5f\"},\"marker\":{\"line\":{\"color\":\"#E5ECF6\",\"width\":0.5},\"pattern\":{\"fillmode\":\"overlay\",\"size\":10,\"solidity\":0.2}},\"type\":\"bar\"}],\"barpolar\":[{\"marker\":{\"line\":{\"color\":\"#E5ECF6\",\"width\":0.5},\"pattern\":{\"fillmode\":\"overlay\",\"size\":10,\"solidity\":0.2}},\"type\":\"barpolar\"}],\"carpet\":[{\"aaxis\":{\"endlinecolor\":\"#2a3f5f\",\"gridcolor\":\"white\",\"linecolor\":\"white\",\"minorgridcolor\":\"white\",\"startlinecolor\":\"#2a3f5f\"},\"baxis\":{\"endlinecolor\":\"#2a3f5f\",\"gridcolor\":\"white\",\"linecolor\":\"white\",\"minorgridcolor\":\"white\",\"startlinecolor\":\"#2a3f5f\"},\"type\":\"carpet\"}],\"choropleth\":[{\"colorbar\":{\"outlinewidth\":0,\"ticks\":\"\"},\"type\":\"choropleth\"}],\"contour\":[{\"colorbar\":{\"outlinewidth\":0,\"ticks\":\"\"},\"colorscale\":[[0.0,\"#0d0887\"],[0.1111111111111111,\"#46039f\"],[0.2222222222222222,\"#7201a8\"],[0.3333333333333333,\"#9c179e\"],[0.4444444444444444,\"#bd3786\"],[0.5555555555555556,\"#d8576b\"],[0.6666666666666666,\"#ed7953\"],[0.7777777777777778,\"#fb9f3a\"],[0.8888888888888888,\"#fdca26\"],[1.0,\"#f0f921\"]],\"type\":\"contour\"}],\"contourcarpet\":[{\"colorbar\":{\"outlinewidth\":0,\"ticks\":\"\"},\"type\":\"contourcarpet\"}],\"heatmap\":[{\"colorbar\":{\"outlinewidth\":0,\"ticks\":\"\"},\"colorscale\":[[0.0,\"#0d0887\"],[0.1111111111111111,\"#46039f\"],[0.2222222222222222,\"#7201a8\"],[0.3333333333333333,\"#9c179e\"],[0.4444444444444444,\"#bd3786\"],[0.5555555555555556,\"#d8576b\"],[0.6666666666666666,\"#ed7953\"],[0.7777777777777778,\"#fb9f3a\"],[0.8888888888888888,\"#fdca26\"],[1.0,\"#f0f921\"]],\"type\":\"heatmap\"}],\"heatmapgl\":[{\"colorbar\":{\"outlinewidth\":0,\"ticks\":\"\"},\"colorscale\":[[0.0,\"#0d0887\"],[0.1111111111111111,\"#46039f\"],[0.2222222222222222,\"#7201a8\"],[0.3333333333333333,\"#9c179e\"],[0.4444444444444444,\"#bd3786\"],[0.5555555555555556,\"#d8576b\"],[0.6666666666666666,\"#ed7953\"],[0.7777777777777778,\"#fb9f3a\"],[0.8888888888888888,\"#fdca26\"],[1.0,\"#f0f921\"]],\"type\":\"heatmapgl\"}],\"histogram\":[{\"marker\":{\"pattern\":{\"fillmode\":\"overlay\",\"size\":10,\"solidity\":0.2}},\"type\":\"histogram\"}],\"histogram2d\":[{\"colorbar\":{\"outlinewidth\":0,\"ticks\":\"\"},\"colorscale\":[[0.0,\"#0d0887\"],[0.1111111111111111,\"#46039f\"],[0.2222222222222222,\"#7201a8\"],[0.3333333333333333,\"#9c179e\"],[0.4444444444444444,\"#bd3786\"],[0.5555555555555556,\"#d8576b\"],[0.6666666666666666,\"#ed7953\"],[0.7777777777777778,\"#fb9f3a\"],[0.8888888888888888,\"#fdca26\"],[1.0,\"#f0f921\"]],\"type\":\"histogram2d\"}],\"histogram2dcontour\":[{\"colorbar\":{\"outlinewidth\":0,\"ticks\":\"\"},\"colorscale\":[[0.0,\"#0d0887\"],[0.1111111111111111,\"#46039f\"],[0.2222222222222222,\"#7201a8\"],[0.3333333333333333,\"#9c179e\"],[0.4444444444444444,\"#bd3786\"],[0.5555555555555556,\"#d8576b\"],[0.6666666666666666,\"#ed7953\"],[0.7777777777777778,\"#fb9f3a\"],[0.8888888888888888,\"#fdca26\"],[1.0,\"#f0f921\"]],\"type\":\"histogram2dcontour\"}],\"mesh3d\":[{\"colorbar\":{\"outlinewidth\":0,\"ticks\":\"\"},\"type\":\"mesh3d\"}],\"parcoords\":[{\"line\":{\"colorbar\":{\"outlinewidth\":0,\"ticks\":\"\"}},\"type\":\"parcoords\"}],\"pie\":[{\"automargin\":true,\"type\":\"pie\"}],\"scatter\":[{\"marker\":{\"colorbar\":{\"outlinewidth\":0,\"ticks\":\"\"}},\"type\":\"scatter\"}],\"scatter3d\":[{\"line\":{\"colorbar\":{\"outlinewidth\":0,\"ticks\":\"\"}},\"marker\":{\"colorbar\":{\"outlinewidth\":0,\"ticks\":\"\"}},\"type\":\"scatter3d\"}],\"scattercarpet\":[{\"marker\":{\"colorbar\":{\"outlinewidth\":0,\"ticks\":\"\"}},\"type\":\"scattercarpet\"}],\"scattergeo\":[{\"marker\":{\"colorbar\":{\"outlinewidth\":0,\"ticks\":\"\"}},\"type\":\"scattergeo\"}],\"scattergl\":[{\"marker\":{\"colorbar\":{\"outlinewidth\":0,\"ticks\":\"\"}},\"type\":\"scattergl\"}],\"scattermapbox\":[{\"marker\":{\"colorbar\":{\"outlinewidth\":0,\"ticks\":\"\"}},\"type\":\"scattermapbox\"}],\"scatterpolar\":[{\"marker\":{\"colorbar\":{\"outlinewidth\":0,\"ticks\":\"\"}},\"type\":\"scatterpolar\"}],\"scatterpolargl\":[{\"marker\":{\"colorbar\":{\"outlinewidth\":0,\"ticks\":\"\"}},\"type\":\"scatterpolargl\"}],\"scatterternary\":[{\"marker\":{\"colorbar\":{\"outlinewidth\":0,\"ticks\":\"\"}},\"type\":\"scatterternary\"}],\"surface\":[{\"colorbar\":{\"outlinewidth\":0,\"ticks\":\"\"},\"colorscale\":[[0.0,\"#0d0887\"],[0.1111111111111111,\"#46039f\"],[0.2222222222222222,\"#7201a8\"],[0.3333333333333333,\"#9c179e\"],[0.4444444444444444,\"#bd3786\"],[0.5555555555555556,\"#d8576b\"],[0.6666666666666666,\"#ed7953\"],[0.7777777777777778,\"#fb9f3a\"],[0.8888888888888888,\"#fdca26\"],[1.0,\"#f0f921\"]],\"type\":\"surface\"}],\"table\":[{\"cells\":{\"fill\":{\"color\":\"#EBF0F8\"},\"line\":{\"color\":\"white\"}},\"header\":{\"fill\":{\"color\":\"#C8D4E3\"},\"line\":{\"color\":\"white\"}},\"type\":\"table\"}]},\"layout\":{\"annotationdefaults\":{\"arrowcolor\":\"#2a3f5f\",\"arrowhead\":0,\"arrowwidth\":1},\"autotypenumbers\":\"strict\",\"coloraxis\":{\"colorbar\":{\"outlinewidth\":0,\"ticks\":\"\"}},\"colorscale\":{\"diverging\":[[0,\"#8e0152\"],[0.1,\"#c51b7d\"],[0.2,\"#de77ae\"],[0.3,\"#f1b6da\"],[0.4,\"#fde0ef\"],[0.5,\"#f7f7f7\"],[0.6,\"#e6f5d0\"],[0.7,\"#b8e186\"],[0.8,\"#7fbc41\"],[0.9,\"#4d9221\"],[1,\"#276419\"]],\"sequential\":[[0.0,\"#0d0887\"],[0.1111111111111111,\"#46039f\"],[0.2222222222222222,\"#7201a8\"],[0.3333333333333333,\"#9c179e\"],[0.4444444444444444,\"#bd3786\"],[0.5555555555555556,\"#d8576b\"],[0.6666666666666666,\"#ed7953\"],[0.7777777777777778,\"#fb9f3a\"],[0.8888888888888888,\"#fdca26\"],[1.0,\"#f0f921\"]],\"sequentialminus\":[[0.0,\"#0d0887\"],[0.1111111111111111,\"#46039f\"],[0.2222222222222222,\"#7201a8\"],[0.3333333333333333,\"#9c179e\"],[0.4444444444444444,\"#bd3786\"],[0.5555555555555556,\"#d8576b\"],[0.6666666666666666,\"#ed7953\"],[0.7777777777777778,\"#fb9f3a\"],[0.8888888888888888,\"#fdca26\"],[1.0,\"#f0f921\"]]},\"colorway\":[\"#636efa\",\"#EF553B\",\"#00cc96\",\"#ab63fa\",\"#FFA15A\",\"#19d3f3\",\"#FF6692\",\"#B6E880\",\"#FF97FF\",\"#FECB52\"],\"font\":{\"color\":\"#2a3f5f\"},\"geo\":{\"bgcolor\":\"white\",\"lakecolor\":\"white\",\"landcolor\":\"#E5ECF6\",\"showlakes\":true,\"showland\":true,\"subunitcolor\":\"white\"},\"hoverlabel\":{\"align\":\"left\"},\"hovermode\":\"closest\",\"mapbox\":{\"style\":\"light\"},\"paper_bgcolor\":\"white\",\"plot_bgcolor\":\"#E5ECF6\",\"polar\":{\"angularaxis\":{\"gridcolor\":\"white\",\"linecolor\":\"white\",\"ticks\":\"\"},\"bgcolor\":\"#E5ECF6\",\"radialaxis\":{\"gridcolor\":\"white\",\"linecolor\":\"white\",\"ticks\":\"\"}},\"scene\":{\"xaxis\":{\"backgroundcolor\":\"#E5ECF6\",\"gridcolor\":\"white\",\"gridwidth\":2,\"linecolor\":\"white\",\"showbackground\":true,\"ticks\":\"\",\"zerolinecolor\":\"white\"},\"yaxis\":{\"backgroundcolor\":\"#E5ECF6\",\"gridcolor\":\"white\",\"gridwidth\":2,\"linecolor\":\"white\",\"showbackground\":true,\"ticks\":\"\",\"zerolinecolor\":\"white\"},\"zaxis\":{\"backgroundcolor\":\"#E5ECF6\",\"gridcolor\":\"white\",\"gridwidth\":2,\"linecolor\":\"white\",\"showbackground\":true,\"ticks\":\"\",\"zerolinecolor\":\"white\"}},\"shapedefaults\":{\"line\":{\"color\":\"#2a3f5f\"}},\"ternary\":{\"aaxis\":{\"gridcolor\":\"white\",\"linecolor\":\"white\",\"ticks\":\"\"},\"baxis\":{\"gridcolor\":\"white\",\"linecolor\":\"white\",\"ticks\":\"\"},\"bgcolor\":\"#E5ECF6\",\"caxis\":{\"gridcolor\":\"white\",\"linecolor\":\"white\",\"ticks\":\"\"}},\"title\":{\"x\":0.05},\"xaxis\":{\"automargin\":true,\"gridcolor\":\"white\",\"linecolor\":\"white\",\"ticks\":\"\",\"title\":{\"standoff\":15},\"zerolinecolor\":\"white\",\"zerolinewidth\":2},\"yaxis\":{\"automargin\":true,\"gridcolor\":\"white\",\"linecolor\":\"white\",\"ticks\":\"\",\"title\":{\"standoff\":15},\"zerolinecolor\":\"white\",\"zerolinewidth\":2}}},\"xaxis\":{\"anchor\":\"y\",\"domain\":[0.0,1.0],\"title\":{\"text\":\"App Name\"}},\"yaxis\":{\"anchor\":\"x\",\"domain\":[0.0,1.0],\"title\":{\"text\":\"Maximum Installs\"}}},                        {\"responsive\": true}                    ).then(function(){\n",
       "                            \n",
       "var gd = document.getElementById('978e2711-e40e-4bd9-9cbf-7b635b97635a');\n",
       "var x = new MutationObserver(function (mutations, observer) {{\n",
       "        var display = window.getComputedStyle(gd).display;\n",
       "        if (!display || display === 'none') {{\n",
       "            console.log([gd, 'removed!']);\n",
       "            Plotly.purge(gd);\n",
       "            observer.disconnect();\n",
       "        }}\n",
       "}});\n",
       "\n",
       "// Listen for the removal of the full notebook cells\n",
       "var notebookContainer = gd.closest('#notebook-container');\n",
       "if (notebookContainer) {{\n",
       "    x.observe(notebookContainer, {childList: true});\n",
       "}}\n",
       "\n",
       "// Listen for the clearing of the current output cell\n",
       "var outputEl = gd.closest('.output');\n",
       "if (outputEl) {{\n",
       "    x.observe(outputEl, {childList: true});\n",
       "}}\n",
       "\n",
       "                        })                };                });            </script>        </div>"
      ]
     },
     "metadata": {},
     "output_type": "display_data"
    }
   ],
   "source": [
    "import plotly.express as px\n",
    "fig = px.bar(data_frame=df_2, x='App Name', y='Maximum Installs', color='Rating', color_continuous_scale='viridis')\n",
    "fig.show()"
   ]
  },
  {
   "cell_type": "code",
   "execution_count": 139,
   "id": "6c0910b5",
   "metadata": {},
   "outputs": [
    {
     "data": {
      "text/plain": [
       "1    com.google.android.calendar\n",
       "Name: App Id, dtype: object"
      ]
     },
     "execution_count": 139,
     "metadata": {},
     "output_type": "execute_result"
    }
   ],
   "source": [
    "all_prod_apps[all_prod_apps['App Name'] == 'Google Calendar']['App Id']"
   ]
  },
  {
   "cell_type": "code",
   "execution_count": 8,
   "id": "e7ccb248",
   "metadata": {},
   "outputs": [
    {
     "data": {
      "text/plain": [
       "Index(['Unnamed: 0', 'title', 'description', 'descriptionHTML', 'summary',\n",
       "       'summaryHTML', 'installs', 'minInstalls', 'score', 'ratings', 'reviews',\n",
       "       'histogram', 'price', 'free', 'currency', 'sale', 'offersIAP',\n",
       "       'inAppProductPrice', 'size', 'androidVersion', 'androidVersionText',\n",
       "       'developer', 'developerId', 'developerEmail', 'developerWebsite',\n",
       "       'developerAddress', 'privacyPolicy', 'developerInternalID', 'genre',\n",
       "       'genreId', 'icon', 'headerImage', 'screenshots', 'contentRating',\n",
       "       'containsAds', 'released', 'updated', 'version', 'recentChanges',\n",
       "       'recentChangesHTML', 'editorsChoice', 'appId', 'url'],\n",
       "      dtype='object')"
      ]
     },
     "execution_count": 8,
     "metadata": {},
     "output_type": "execute_result"
    }
   ],
   "source": [
    "app_info.columns"
   ]
  },
  {
   "cell_type": "code",
   "execution_count": 7,
   "id": "d22d4075",
   "metadata": {},
   "outputs": [
    {
     "data": {
      "text/html": [
       "<div>\n",
       "<style scoped>\n",
       "    .dataframe tbody tr th:only-of-type {\n",
       "        vertical-align: middle;\n",
       "    }\n",
       "\n",
       "    .dataframe tbody tr th {\n",
       "        vertical-align: top;\n",
       "    }\n",
       "\n",
       "    .dataframe thead th {\n",
       "        text-align: right;\n",
       "    }\n",
       "</style>\n",
       "<table border=\"1\" class=\"dataframe\">\n",
       "  <thead>\n",
       "    <tr style=\"text-align: right;\">\n",
       "      <th></th>\n",
       "      <th>count</th>\n",
       "      <th>mean</th>\n",
       "      <th>std</th>\n",
       "      <th>min</th>\n",
       "      <th>25%</th>\n",
       "      <th>50%</th>\n",
       "      <th>75%</th>\n",
       "      <th>max</th>\n",
       "    </tr>\n",
       "  </thead>\n",
       "  <tbody>\n",
       "    <tr>\n",
       "      <th>score</th>\n",
       "      <td>16388.0</td>\n",
       "      <td>3.051379</td>\n",
       "      <td>1.313373</td>\n",
       "      <td>1.0</td>\n",
       "      <td>2.0</td>\n",
       "      <td>3.0</td>\n",
       "      <td>4.0</td>\n",
       "      <td>5.0</td>\n",
       "    </tr>\n",
       "    <tr>\n",
       "      <th>thumbsUpCount</th>\n",
       "      <td>16388.0</td>\n",
       "      <td>4.976934</td>\n",
       "      <td>19.327842</td>\n",
       "      <td>0.0</td>\n",
       "      <td>0.0</td>\n",
       "      <td>0.0</td>\n",
       "      <td>2.0</td>\n",
       "      <td>515.0</td>\n",
       "    </tr>\n",
       "  </tbody>\n",
       "</table>\n",
       "</div>"
      ],
      "text/plain": [
       "                 count      mean        std  min  25%  50%  75%    max\n",
       "score          16388.0  3.051379   1.313373  1.0  2.0  3.0  4.0    5.0\n",
       "thumbsUpCount  16388.0  4.976934  19.327842  0.0  0.0  0.0  2.0  515.0"
      ]
     },
     "execution_count": 7,
     "metadata": {},
     "output_type": "execute_result"
    }
   ],
   "source": [
    "app_reviews.describe().transpose()"
   ]
  },
  {
   "cell_type": "code",
   "execution_count": 11,
   "id": "50bafe02",
   "metadata": {},
   "outputs": [
    {
     "data": {
      "text/plain": [
       "com.anydo                        1200\n",
       "com.todoist                      1200\n",
       "com.ticktick.task                1200\n",
       "com.habitrpg.android.habitica    1200\n",
       "cc.forestapp                     1200\n",
       "com.oristats.habitbull           1200\n",
       "com.microsoft.todos              1200\n",
       "prox.lab.calclock                1200\n",
       "com.gmail.jmartindev.timetune    1200\n",
       "com.tasks.android                1200\n",
       "com.appgenix.bizcal              1200\n",
       "com.appxy.planner                1200\n",
       "com.levor.liferpgtasks            890\n",
       "com.habitnow                      672\n",
       "com.artfulagenda.app              426\n",
       "Name: appId, dtype: int64"
      ]
     },
     "execution_count": 11,
     "metadata": {},
     "output_type": "execute_result"
    }
   ],
   "source": [
    "app_reviews['appId'].value_counts()"
   ]
  },
  {
   "cell_type": "code",
   "execution_count": 12,
   "id": "ad430b3c",
   "metadata": {},
   "outputs": [
    {
     "data": {
      "text/plain": [
       "com.google.android.apps.docs                         1\n",
       "com.litmusworld.litmuskiosk2                         1\n",
       "com.las.app.locker                                   1\n",
       "com.fluffydelusions.app.numbers                      1\n",
       "com.smoothpay.smoothterminal                         1\n",
       "                                                    ..\n",
       "com.yodzle.keepnotes                                 1\n",
       "com.jameschloro156156.gmail.simplepyramidschedule    1\n",
       "pz.mn.com.mynotes                                    1\n",
       "com.keyboardlite.uzbek.free                          1\n",
       "com.tohabru.timetable                                1\n",
       "Name: App Id, Length: 30450, dtype: int64"
      ]
     },
     "execution_count": 12,
     "metadata": {},
     "output_type": "execute_result"
    }
   ],
   "source": [
    "all_prod_apps['App Id'].value_counts()"
   ]
  },
  {
   "cell_type": "code",
   "execution_count": 14,
   "id": "40dec5a3",
   "metadata": {},
   "outputs": [
    {
     "data": {
      "text/plain": [
       "com.anydo                        1\n",
       "com.todoist                      1\n",
       "com.ticktick.task                1\n",
       "com.habitrpg.android.habitica    1\n",
       "cc.forestapp                     1\n",
       "com.oristats.habitbull           1\n",
       "com.levor.liferpgtasks           1\n",
       "com.habitnow                     1\n",
       "com.microsoft.todos              1\n",
       "prox.lab.calclock                1\n",
       "com.gmail.jmartindev.timetune    1\n",
       "com.artfulagenda.app             1\n",
       "com.tasks.android                1\n",
       "com.appgenix.bizcal              1\n",
       "com.appxy.planner                1\n",
       "Name: appId, dtype: int64"
      ]
     },
     "execution_count": 14,
     "metadata": {},
     "output_type": "execute_result"
    }
   ],
   "source": [
    "app_info['appId'].value_counts()"
   ]
  },
  {
   "cell_type": "markdown",
   "id": "8a717f23",
   "metadata": {},
   "source": [
    "## Sentiment Analysis"
   ]
  },
  {
   "cell_type": "markdown",
   "id": "4fd25f95",
   "metadata": {},
   "source": [
    "#### Find top positive and negative reviews"
   ]
  },
  {
   "cell_type": "code",
   "execution_count": 70,
   "id": "fd928059",
   "metadata": {},
   "outputs": [],
   "source": [
    "import nltk\n",
    "from textblob import TextBlob"
   ]
  },
  {
   "cell_type": "code",
   "execution_count": 194,
   "id": "f62a9baf",
   "metadata": {},
   "outputs": [
    {
     "data": {
      "text/html": [
       "<div>\n",
       "<style scoped>\n",
       "    .dataframe tbody tr th:only-of-type {\n",
       "        vertical-align: middle;\n",
       "    }\n",
       "\n",
       "    .dataframe tbody tr th {\n",
       "        vertical-align: top;\n",
       "    }\n",
       "\n",
       "    .dataframe thead th {\n",
       "        text-align: right;\n",
       "    }\n",
       "</style>\n",
       "<table border=\"1\" class=\"dataframe\">\n",
       "  <thead>\n",
       "    <tr style=\"text-align: right;\">\n",
       "      <th></th>\n",
       "      <th>reviewId</th>\n",
       "      <th>userName</th>\n",
       "      <th>userImage</th>\n",
       "      <th>content</th>\n",
       "      <th>score</th>\n",
       "      <th>thumbsUpCount</th>\n",
       "      <th>reviewCreatedVersion</th>\n",
       "      <th>at</th>\n",
       "      <th>replyContent</th>\n",
       "      <th>repliedAt</th>\n",
       "      <th>sortOrder</th>\n",
       "      <th>appId</th>\n",
       "      <th>Polarity</th>\n",
       "      <th>Subjectivity</th>\n",
       "      <th>Analysis</th>\n",
       "    </tr>\n",
       "  </thead>\n",
       "  <tbody>\n",
       "    <tr>\n",
       "      <th>9662</th>\n",
       "      <td>gp:AOqpTOHEscPeg1C03IkUeM_eP07x6OQJAsp-rJ1tOWq...</td>\n",
       "      <td>Philip Ladds</td>\n",
       "      <td>https://play-lh.googleusercontent.com/a-/AOh14...</td>\n",
       "      <td>I find this very useful across all devices. So...</td>\n",
       "      <td>4</td>\n",
       "      <td>0</td>\n",
       "      <td>2.10.147</td>\n",
       "      <td>2021-01-15 12:18:33</td>\n",
       "      <td>NaN</td>\n",
       "      <td>NaN</td>\n",
       "      <td>newest</td>\n",
       "      <td>com.microsoft.todos</td>\n",
       "      <td>0.195000</td>\n",
       "      <td>0.500</td>\n",
       "      <td>Positive</td>\n",
       "    </tr>\n",
       "    <tr>\n",
       "      <th>5900</th>\n",
       "      <td>gp:AOqpTOE6hoOUY2j6chml_0brNjQMmFhrP09znpIgssv...</td>\n",
       "      <td>Marie Diaz</td>\n",
       "      <td>https://play-lh.googleusercontent.com/-WxgJ1O3...</td>\n",
       "      <td>It's a great app</td>\n",
       "      <td>5</td>\n",
       "      <td>0</td>\n",
       "      <td>4.30.1</td>\n",
       "      <td>2021-01-15 12:07:01</td>\n",
       "      <td>NaN</td>\n",
       "      <td>NaN</td>\n",
       "      <td>newest</td>\n",
       "      <td>cc.forestapp</td>\n",
       "      <td>0.800000</td>\n",
       "      <td>0.750</td>\n",
       "      <td>Positive</td>\n",
       "    </tr>\n",
       "    <tr>\n",
       "      <th>9862</th>\n",
       "      <td>gp:AOqpTOHmY8FVGXHFzUaOjWgo1JEyvcBrZCWTuKWRcdj...</td>\n",
       "      <td>Mohamed Nafeez Mohamed Ahashan</td>\n",
       "      <td>https://play-lh.googleusercontent.com/a-/AOh14...</td>\n",
       "      <td>Very useful</td>\n",
       "      <td>5</td>\n",
       "      <td>0</td>\n",
       "      <td>2.33.174</td>\n",
       "      <td>2021-01-15 11:49:49</td>\n",
       "      <td>NaN</td>\n",
       "      <td>NaN</td>\n",
       "      <td>newest</td>\n",
       "      <td>com.microsoft.todos</td>\n",
       "      <td>0.390000</td>\n",
       "      <td>0.000</td>\n",
       "      <td>Positive</td>\n",
       "    </tr>\n",
       "    <tr>\n",
       "      <th>1100</th>\n",
       "      <td>gp:AOqpTOF4RbJKps_bc9ZzlaGgJMBAYRccmp42O_AJAZN...</td>\n",
       "      <td>Amit Dey</td>\n",
       "      <td>https://play-lh.googleusercontent.com/a-/AOh14...</td>\n",
       "      <td>Super easy to use.</td>\n",
       "      <td>5</td>\n",
       "      <td>0</td>\n",
       "      <td>5.7.0.20</td>\n",
       "      <td>2021-01-15 11:35:27</td>\n",
       "      <td>NaN</td>\n",
       "      <td>NaN</td>\n",
       "      <td>newest</td>\n",
       "      <td>com.anydo</td>\n",
       "      <td>0.383333</td>\n",
       "      <td>0.750</td>\n",
       "      <td>Positive</td>\n",
       "    </tr>\n",
       "    <tr>\n",
       "      <th>3300</th>\n",
       "      <td>gp:AOqpTOGf6qZ7fsWPA1CvApp4xQFnl0wgBb5hj3q-wII...</td>\n",
       "      <td>Amar Singh</td>\n",
       "      <td>https://play-lh.googleusercontent.com/-WezUrGX...</td>\n",
       "      <td>This is a really amazing app... I like it.. Bu...</td>\n",
       "      <td>4</td>\n",
       "      <td>0</td>\n",
       "      <td>5.8.8.2</td>\n",
       "      <td>2021-01-15 11:21:34</td>\n",
       "      <td>NaN</td>\n",
       "      <td>NaN</td>\n",
       "      <td>newest</td>\n",
       "      <td>com.ticktick.task</td>\n",
       "      <td>0.300000</td>\n",
       "      <td>0.725</td>\n",
       "      <td>Positive</td>\n",
       "    </tr>\n",
       "  </tbody>\n",
       "</table>\n",
       "</div>"
      ],
      "text/plain": [
       "                                               reviewId  \\\n",
       "9662  gp:AOqpTOHEscPeg1C03IkUeM_eP07x6OQJAsp-rJ1tOWq...   \n",
       "5900  gp:AOqpTOE6hoOUY2j6chml_0brNjQMmFhrP09znpIgssv...   \n",
       "9862  gp:AOqpTOHmY8FVGXHFzUaOjWgo1JEyvcBrZCWTuKWRcdj...   \n",
       "1100  gp:AOqpTOF4RbJKps_bc9ZzlaGgJMBAYRccmp42O_AJAZN...   \n",
       "3300  gp:AOqpTOGf6qZ7fsWPA1CvApp4xQFnl0wgBb5hj3q-wII...   \n",
       "\n",
       "                            userName  \\\n",
       "9662                    Philip Ladds   \n",
       "5900                      Marie Diaz   \n",
       "9862  Mohamed Nafeez Mohamed Ahashan   \n",
       "1100                        Amit Dey   \n",
       "3300                      Amar Singh   \n",
       "\n",
       "                                              userImage  \\\n",
       "9662  https://play-lh.googleusercontent.com/a-/AOh14...   \n",
       "5900  https://play-lh.googleusercontent.com/-WxgJ1O3...   \n",
       "9862  https://play-lh.googleusercontent.com/a-/AOh14...   \n",
       "1100  https://play-lh.googleusercontent.com/a-/AOh14...   \n",
       "3300  https://play-lh.googleusercontent.com/-WezUrGX...   \n",
       "\n",
       "                                                content  score  thumbsUpCount  \\\n",
       "9662  I find this very useful across all devices. So...      4              0   \n",
       "5900                                   It's a great app      5              0   \n",
       "9862                                        Very useful      5              0   \n",
       "1100                                 Super easy to use.      5              0   \n",
       "3300  This is a really amazing app... I like it.. Bu...      4              0   \n",
       "\n",
       "     reviewCreatedVersion                  at replyContent repliedAt  \\\n",
       "9662             2.10.147 2021-01-15 12:18:33          NaN       NaN   \n",
       "5900               4.30.1 2021-01-15 12:07:01          NaN       NaN   \n",
       "9862             2.33.174 2021-01-15 11:49:49          NaN       NaN   \n",
       "1100             5.7.0.20 2021-01-15 11:35:27          NaN       NaN   \n",
       "3300              5.8.8.2 2021-01-15 11:21:34          NaN       NaN   \n",
       "\n",
       "     sortOrder                appId  Polarity  Subjectivity  Analysis  \n",
       "9662    newest  com.microsoft.todos  0.195000         0.500  Positive  \n",
       "5900    newest         cc.forestapp  0.800000         0.750  Positive  \n",
       "9862    newest  com.microsoft.todos  0.390000         0.000  Positive  \n",
       "1100    newest            com.anydo  0.383333         0.750  Positive  \n",
       "3300    newest    com.ticktick.task  0.300000         0.725  Positive  "
      ]
     },
     "execution_count": 194,
     "metadata": {},
     "output_type": "execute_result"
    }
   ],
   "source": [
    "app_reviews[:1000].head()"
   ]
  },
  {
   "cell_type": "code",
   "execution_count": 181,
   "id": "1fc57b77",
   "metadata": {},
   "outputs": [],
   "source": [
    "app_reviews['at'] = pd.to_datetime(app_reviews['at'])"
   ]
  },
  {
   "cell_type": "markdown",
   "id": "bda83aae",
   "metadata": {},
   "source": [
    "#### 1000 most recent reviews"
   ]
  },
  {
   "cell_type": "code",
   "execution_count": 195,
   "id": "252f3b4f",
   "metadata": {},
   "outputs": [],
   "source": [
    "app_reviews = app_reviews.sort_values(by='at', ascending=False)[:1000]"
   ]
  },
  {
   "cell_type": "code",
   "execution_count": 196,
   "id": "add90b4b",
   "metadata": {},
   "outputs": [],
   "source": [
    "# drop data with missing values in the 'Review' column\n",
    "app_reviews = app_reviews.dropna(axis=0, subset=['content'])\n",
    "# calculate polarity and subjectivity\n",
    "app_reviews['Polarity'] = app_reviews['content'].apply(lambda review: TextBlob(str(review)).sentiment.polarity)\n",
    "app_reviews['Subjectivity'] = app_reviews['content'].apply(lambda review: TextBlob(str(review)).sentiment.subjectivity)"
   ]
  },
  {
   "cell_type": "code",
   "execution_count": 197,
   "id": "a8d66a5b",
   "metadata": {},
   "outputs": [],
   "source": [
    "# sort by polarity (low to high)\n",
    "sorted_df = app_reviews.sort_values(by=['Polarity'])"
   ]
  },
  {
   "cell_type": "code",
   "execution_count": 198,
   "id": "3a70a502",
   "metadata": {},
   "outputs": [],
   "source": [
    "most_pos = sorted_df[['content','Polarity', 'Subjectivity']].tail(5)\n",
    "most_neg = sorted_df[['content','Polarity', 'Subjectivity']].head(5)"
   ]
  },
  {
   "cell_type": "code",
   "execution_count": 199,
   "id": "b39c71ff",
   "metadata": {},
   "outputs": [
    {
     "data": {
      "text/html": [
       "<div>\n",
       "<style scoped>\n",
       "    .dataframe tbody tr th:only-of-type {\n",
       "        vertical-align: middle;\n",
       "    }\n",
       "\n",
       "    .dataframe tbody tr th {\n",
       "        vertical-align: top;\n",
       "    }\n",
       "\n",
       "    .dataframe thead th {\n",
       "        text-align: right;\n",
       "    }\n",
       "</style>\n",
       "<table border=\"1\" class=\"dataframe\">\n",
       "  <thead>\n",
       "    <tr style=\"text-align: right;\">\n",
       "      <th></th>\n",
       "      <th>content</th>\n",
       "      <th>Polarity</th>\n",
       "      <th>Subjectivity</th>\n",
       "    </tr>\n",
       "  </thead>\n",
       "  <tbody>\n",
       "    <tr>\n",
       "      <th>5935</th>\n",
       "      <td>Excellent application 👍</td>\n",
       "      <td>1.0</td>\n",
       "      <td>1.000</td>\n",
       "    </tr>\n",
       "    <tr>\n",
       "      <th>3530</th>\n",
       "      <td>Great app!</td>\n",
       "      <td>1.0</td>\n",
       "      <td>0.750</td>\n",
       "    </tr>\n",
       "    <tr>\n",
       "      <th>8668</th>\n",
       "      <td>Awesome</td>\n",
       "      <td>1.0</td>\n",
       "      <td>1.000</td>\n",
       "    </tr>\n",
       "    <tr>\n",
       "      <th>16289</th>\n",
       "      <td>Great app! Perfect to organize my schedule and...</td>\n",
       "      <td>1.0</td>\n",
       "      <td>0.875</td>\n",
       "    </tr>\n",
       "    <tr>\n",
       "      <th>3306</th>\n",
       "      <td>It's the best</td>\n",
       "      <td>1.0</td>\n",
       "      <td>0.300</td>\n",
       "    </tr>\n",
       "  </tbody>\n",
       "</table>\n",
       "</div>"
      ],
      "text/plain": [
       "                                                 content  Polarity  \\\n",
       "5935                             Excellent application 👍       1.0   \n",
       "3530                                          Great app!       1.0   \n",
       "8668                                             Awesome       1.0   \n",
       "16289  Great app! Perfect to organize my schedule and...       1.0   \n",
       "3306                                       It's the best       1.0   \n",
       "\n",
       "       Subjectivity  \n",
       "5935          1.000  \n",
       "3530          0.750  \n",
       "8668          1.000  \n",
       "16289         0.875  \n",
       "3306          0.300  "
      ]
     },
     "execution_count": 199,
     "metadata": {},
     "output_type": "execute_result"
    }
   ],
   "source": [
    "most_pos"
   ]
  },
  {
   "cell_type": "code",
   "execution_count": 200,
   "id": "4fdcb739",
   "metadata": {},
   "outputs": [
    {
     "data": {
      "text/html": [
       "<style type=\"text/css\">\n",
       "#T_74dcb_ caption {\n",
       "  color: blue;\n",
       "  font-size: 18px;\n",
       "}\n",
       "</style>\n",
       "<table id=\"T_74dcb_\">\n",
       "  <caption>Most positive and recent reviews</caption>\n",
       "  <thead>\n",
       "    <tr>\n",
       "      <th class=\"blank level0\" >&nbsp;</th>\n",
       "      <th class=\"col_heading level0 col0\" >content</th>\n",
       "      <th class=\"col_heading level0 col1\" >Polarity</th>\n",
       "      <th class=\"col_heading level0 col2\" >Subjectivity</th>\n",
       "    </tr>\n",
       "  </thead>\n",
       "  <tbody>\n",
       "    <tr>\n",
       "      <th id=\"T_74dcb_level0_row0\" class=\"row_heading level0 row0\" >5935</th>\n",
       "      <td id=\"T_74dcb_row0_col0\" class=\"data row0 col0\" >Excellent application 👍</td>\n",
       "      <td id=\"T_74dcb_row0_col1\" class=\"data row0 col1\" >1.000000</td>\n",
       "      <td id=\"T_74dcb_row0_col2\" class=\"data row0 col2\" >1.000000</td>\n",
       "    </tr>\n",
       "    <tr>\n",
       "      <th id=\"T_74dcb_level0_row1\" class=\"row_heading level0 row1\" >3530</th>\n",
       "      <td id=\"T_74dcb_row1_col0\" class=\"data row1 col0\" >Great app!</td>\n",
       "      <td id=\"T_74dcb_row1_col1\" class=\"data row1 col1\" >1.000000</td>\n",
       "      <td id=\"T_74dcb_row1_col2\" class=\"data row1 col2\" >0.750000</td>\n",
       "    </tr>\n",
       "    <tr>\n",
       "      <th id=\"T_74dcb_level0_row2\" class=\"row_heading level0 row2\" >8668</th>\n",
       "      <td id=\"T_74dcb_row2_col0\" class=\"data row2 col0\" >Awesome</td>\n",
       "      <td id=\"T_74dcb_row2_col1\" class=\"data row2 col1\" >1.000000</td>\n",
       "      <td id=\"T_74dcb_row2_col2\" class=\"data row2 col2\" >1.000000</td>\n",
       "    </tr>\n",
       "    <tr>\n",
       "      <th id=\"T_74dcb_level0_row3\" class=\"row_heading level0 row3\" >16289</th>\n",
       "      <td id=\"T_74dcb_row3_col0\" class=\"data row3 col0\" >Great app! Perfect to organize my schedule and to do list, and keeping up on my goals too</td>\n",
       "      <td id=\"T_74dcb_row3_col1\" class=\"data row3 col1\" >1.000000</td>\n",
       "      <td id=\"T_74dcb_row3_col2\" class=\"data row3 col2\" >0.875000</td>\n",
       "    </tr>\n",
       "    <tr>\n",
       "      <th id=\"T_74dcb_level0_row4\" class=\"row_heading level0 row4\" >3306</th>\n",
       "      <td id=\"T_74dcb_row4_col0\" class=\"data row4 col0\" >It's the best</td>\n",
       "      <td id=\"T_74dcb_row4_col1\" class=\"data row4 col1\" >1.000000</td>\n",
       "      <td id=\"T_74dcb_row4_col2\" class=\"data row4 col2\" >0.300000</td>\n",
       "    </tr>\n",
       "  </tbody>\n",
       "</table>\n"
      ],
      "text/plain": [
       "<pandas.io.formats.style.Styler at 0x13ebb19c220>"
      ]
     },
     "execution_count": 200,
     "metadata": {},
     "output_type": "execute_result"
    }
   ],
   "source": [
    "most_pos.style.set_caption(\"Most positive and recent reviews\").set_table_styles([{\n",
    "    'selector': 'caption',\n",
    "    'props': [\n",
    "        ('color', 'blue'),\n",
    "        ('font-size', '18px')\n",
    "    ]\n",
    "}])"
   ]
  },
  {
   "cell_type": "code",
   "execution_count": 201,
   "id": "c3ea6660",
   "metadata": {},
   "outputs": [
    {
     "data": {
      "text/html": [
       "<style type=\"text/css\">\n",
       "#T_0fb3d_ caption {\n",
       "  color: red;\n",
       "  font-size: 18px;\n",
       "}\n",
       "</style>\n",
       "<table id=\"T_0fb3d_\">\n",
       "  <caption>Most negative and recent reviews</caption>\n",
       "  <thead>\n",
       "    <tr>\n",
       "      <th class=\"blank level0\" >&nbsp;</th>\n",
       "      <th class=\"col_heading level0 col0\" >content</th>\n",
       "      <th class=\"col_heading level0 col1\" >Polarity</th>\n",
       "      <th class=\"col_heading level0 col2\" >Subjectivity</th>\n",
       "    </tr>\n",
       "  </thead>\n",
       "  <tbody>\n",
       "    <tr>\n",
       "      <th id=\"T_0fb3d_level0_row0\" class=\"row_heading level0 row0\" >8874</th>\n",
       "      <td id=\"T_0fb3d_row0_col0\" class=\"data row0 col0\" >There is an silly Notification every Day, reminding me to do somthing!! with MS-ToDo.!!</td>\n",
       "      <td id=\"T_0fb3d_row0_col1\" class=\"data row0 col1\" >-1.000000</td>\n",
       "      <td id=\"T_0fb3d_row0_col2\" class=\"data row0 col2\" >0.875000</td>\n",
       "    </tr>\n",
       "    <tr>\n",
       "      <th id=\"T_0fb3d_level0_row1\" class=\"row_heading level0 row1\" >8879</th>\n",
       "      <td id=\"T_0fb3d_row1_col0\" class=\"data row1 col0\" >It crashes a lot. Worst app ever.</td>\n",
       "      <td id=\"T_0fb3d_row1_col1\" class=\"data row1 col1\" >-1.000000</td>\n",
       "      <td id=\"T_0fb3d_row1_col2\" class=\"data row1 col2\" >1.000000</td>\n",
       "    </tr>\n",
       "    <tr>\n",
       "      <th id=\"T_0fb3d_level0_row2\" class=\"row_heading level0 row2\" >8873</th>\n",
       "      <td id=\"T_0fb3d_row2_col0\" class=\"data row2 col0\" >Stop sending me these annoying push notifications every day or I will find another to do app!</td>\n",
       "      <td id=\"T_0fb3d_row2_col1\" class=\"data row2 col1\" >-1.000000</td>\n",
       "      <td id=\"T_0fb3d_row2_col2\" class=\"data row2 col2\" >0.900000</td>\n",
       "    </tr>\n",
       "    <tr>\n",
       "      <th id=\"T_0fb3d_level0_row3\" class=\"row_heading level0 row3\" >11262</th>\n",
       "      <td id=\"T_0fb3d_row3_col0\" class=\"data row3 col0\" >Very very bad</td>\n",
       "      <td id=\"T_0fb3d_row3_col1\" class=\"data row3 col1\" >-0.910000</td>\n",
       "      <td id=\"T_0fb3d_row3_col2\" class=\"data row3 col2\" >0.866667</td>\n",
       "    </tr>\n",
       "    <tr>\n",
       "      <th id=\"T_0fb3d_level0_row4\" class=\"row_heading level0 row4\" >5651</th>\n",
       "      <td id=\"T_0fb3d_row4_col0\" class=\"data row4 col0\" >Can u add a done button sometimes I just finish before the time is up and it's annoying to press give up</td>\n",
       "      <td id=\"T_0fb3d_row4_col1\" class=\"data row4 col1\" >-0.800000</td>\n",
       "      <td id=\"T_0fb3d_row4_col2\" class=\"data row4 col2\" >0.900000</td>\n",
       "    </tr>\n",
       "  </tbody>\n",
       "</table>\n"
      ],
      "text/plain": [
       "<pandas.io.formats.style.Styler at 0x13ebb19c2e0>"
      ]
     },
     "execution_count": 201,
     "metadata": {},
     "output_type": "execute_result"
    }
   ],
   "source": [
    "most_neg.style.set_caption(\"Most negative and recent reviews\").set_table_styles([{\n",
    "    'selector': 'caption',\n",
    "    'props': [\n",
    "        ('color', 'red'),\n",
    "        ('font-size', '18px')\n",
    "    ]\n",
    "}])"
   ]
  },
  {
   "cell_type": "code",
   "execution_count": 202,
   "id": "4adc8018",
   "metadata": {},
   "outputs": [],
   "source": [
    "app_reviews['Analysis'] = np.where(app_reviews['Polarity'] < 0, 'Negative',\n",
    "                                   np.where(app_reviews['Polarity'] > 0, 'Positive', 'Neutral'))"
   ]
  },
  {
   "cell_type": "code",
   "execution_count": 203,
   "id": "e86d01fc",
   "metadata": {},
   "outputs": [],
   "source": [
    "import seaborn as sns\n",
    "sns.set()"
   ]
  },
  {
   "cell_type": "markdown",
   "id": "4c8ae13f",
   "metadata": {},
   "source": [
    "####  For the 1000 most recent reviews as above"
   ]
  },
  {
   "cell_type": "code",
   "execution_count": 204,
   "id": "e459a64b",
   "metadata": {},
   "outputs": [],
   "source": [
    "#cc.forestapp   \n",
    "for_app = app_reviews[app_reviews['appId'] == 'cc.forestapp']"
   ]
  },
  {
   "cell_type": "code",
   "execution_count": 205,
   "id": "01a34930",
   "metadata": {},
   "outputs": [],
   "source": [
    "microsoft = app_reviews[app_reviews['appId'] == 'com.microsoft.todos']"
   ]
  },
  {
   "cell_type": "code",
   "execution_count": 206,
   "id": "c4c44398",
   "metadata": {},
   "outputs": [],
   "source": [
    "Android = app_reviews[app_reviews['appId'] == 'com.tasks.android']"
   ]
  },
  {
   "cell_type": "code",
   "execution_count": 207,
   "id": "1928f912",
   "metadata": {},
   "outputs": [],
   "source": [
    "anydo = app_reviews[app_reviews['appId'] == 'com.anydo']"
   ]
  },
  {
   "cell_type": "code",
   "execution_count": 208,
   "id": "6810236e",
   "metadata": {},
   "outputs": [
    {
     "name": "stdout",
     "output_type": "stream",
     "text": [
      "<class 'pandas.core.frame.DataFrame'>\n",
      "Int64Index: 186 entries, 5900 to 5731\n",
      "Data columns (total 15 columns):\n",
      " #   Column                Non-Null Count  Dtype         \n",
      "---  ------                --------------  -----         \n",
      " 0   reviewId              186 non-null    object        \n",
      " 1   userName              186 non-null    object        \n",
      " 2   userImage             186 non-null    object        \n",
      " 3   content               186 non-null    object        \n",
      " 4   score                 186 non-null    int64         \n",
      " 5   thumbsUpCount         186 non-null    int64         \n",
      " 6   reviewCreatedVersion  162 non-null    object        \n",
      " 7   at                    186 non-null    datetime64[ns]\n",
      " 8   replyContent          15 non-null     object        \n",
      " 9   repliedAt             15 non-null     object        \n",
      " 10  sortOrder             186 non-null    object        \n",
      " 11  appId                 186 non-null    object        \n",
      " 12  Polarity              186 non-null    float64       \n",
      " 13  Subjectivity          186 non-null    float64       \n",
      " 14  Analysis              186 non-null    object        \n",
      "dtypes: datetime64[ns](1), float64(2), int64(2), object(10)\n",
      "memory usage: 23.2+ KB\n"
     ]
    }
   ],
   "source": [
    "for_app.info()"
   ]
  },
  {
   "cell_type": "code",
   "execution_count": 246,
   "id": "53af283b",
   "metadata": {},
   "outputs": [
    {
     "data": {
      "application/vnd.plotly.v1+json": {
       "config": {
        "plotlyServerURL": "https://plot.ly"
       },
       "data": [
        {
         "hovertemplate": "Analysis=Positive<br>Polarity=%{x}<br>Subjectivity=%{y}<br>thumbsUpCount=%{marker.size}<extra></extra>",
         "legendgroup": "Positive",
         "marker": {
          "color": "#636EFA",
          "size": [
           0,
           0,
           0,
           0,
           0,
           0,
           0,
           0,
           0,
           0,
           0,
           0,
           0,
           0,
           0,
           0,
           0,
           0,
           0,
           0,
           0,
           0,
           0,
           0,
           0,
           0,
           0,
           0,
           0,
           0,
           0,
           0,
           0,
           0,
           0,
           0,
           0,
           0,
           0,
           0,
           0,
           0,
           0,
           0,
           0,
           0,
           0,
           0,
           0,
           0,
           0,
           0,
           0,
           0,
           0,
           0,
           0,
           0,
           0,
           0,
           0,
           0,
           0,
           2,
           0,
           0,
           0,
           0,
           0,
           0,
           0,
           0,
           0,
           0,
           0,
           0,
           0,
           0,
           0,
           0,
           0,
           0,
           0,
           0,
           0,
           0,
           0,
           0,
           0,
           0,
           0,
           0,
           0,
           0,
           0,
           0,
           0,
           0,
           0,
           1,
           0,
           0,
           0,
           0,
           0,
           0,
           0,
           0,
           0,
           0,
           0,
           0,
           0,
           0,
           0,
           0,
           0,
           0,
           0,
           0,
           0,
           0,
           0,
           0,
           0,
           0,
           0,
           0,
           0,
           0,
           0,
           0,
           0,
           0,
           0,
           0,
           0,
           0,
           0,
           0,
           0,
           0,
           0,
           0,
           0,
           0,
           0,
           0,
           0,
           0,
           0,
           0,
           0,
           0,
           0,
           0,
           0,
           0,
           0,
           0,
           0,
           0,
           0,
           3,
           0,
           0,
           0,
           0,
           0,
           0,
           0,
           0,
           0,
           0,
           1,
           0,
           0,
           0,
           0,
           0,
           0,
           0,
           0,
           0,
           0,
           0,
           0,
           0,
           0,
           0,
           0,
           0,
           0,
           0,
           0,
           0,
           0,
           0,
           0,
           0,
           0,
           0,
           0,
           0,
           0,
           0,
           0,
           0,
           0,
           0,
           1,
           0,
           0,
           0,
           0,
           0,
           0,
           0,
           0,
           0,
           0,
           0,
           0,
           0,
           0,
           0,
           0,
           0,
           0,
           0,
           0,
           0,
           0,
           0,
           0,
           0,
           0,
           0,
           0,
           0,
           0,
           0,
           0,
           0,
           0,
           0,
           0,
           0,
           0,
           0,
           0,
           55,
           55,
           0,
           0,
           0,
           0,
           0,
           1,
           1,
           0,
           0,
           0,
           0,
           0,
           0,
           0,
           0,
           3,
           3,
           0,
           0,
           0,
           0,
           0,
           0,
           0,
           0,
           0,
           0,
           0,
           0,
           0,
           1,
           1,
           0,
           0,
           0,
           0,
           0,
           0,
           0,
           0,
           1,
           0,
           0,
           0,
           0,
           0,
           0,
           0,
           0,
           0,
           0,
           0,
           0,
           0,
           0,
           0,
           0,
           0,
           0,
           2,
           2,
           0,
           0,
           0,
           0,
           0,
           0,
           0,
           0,
           0,
           0,
           0,
           0,
           0,
           0,
           0,
           0,
           0,
           0,
           0,
           0,
           0,
           0,
           0,
           0,
           0,
           0,
           0,
           0,
           0,
           0,
           1,
           1,
           1,
           1,
           0,
           0,
           0,
           0,
           0,
           0,
           0,
           0,
           0,
           0,
           0,
           0,
           0,
           0,
           0,
           0,
           0,
           0,
           0,
           0,
           0,
           0,
           0,
           0,
           0,
           0,
           0,
           0,
           0,
           0,
           0,
           6,
           6,
           0,
           0,
           0,
           0,
           0,
           0,
           0,
           0,
           0,
           0,
           0,
           0,
           0,
           0,
           0,
           0,
           0,
           1,
           0,
           0,
           0,
           0,
           0,
           0,
           0,
           0,
           0,
           0,
           0,
           0,
           0,
           0,
           0,
           0,
           0,
           0,
           0,
           0,
           0,
           0,
           0,
           0,
           0,
           0,
           0,
           0,
           0,
           0,
           0,
           0,
           0,
           0,
           0,
           0,
           0,
           0,
           0,
           0,
           0,
           2,
           2,
           0,
           0,
           0,
           0,
           1,
           1,
           0,
           0,
           0,
           0,
           4,
           4,
           0,
           0,
           0,
           0,
           0,
           0,
           0,
           0,
           0,
           0,
           0,
           0,
           0,
           0,
           0,
           0,
           0,
           0,
           0,
           0,
           0,
           0,
           0,
           0,
           0,
           0,
           0,
           0,
           0,
           0,
           0,
           0,
           0,
           0,
           0,
           0,
           0,
           0,
           0,
           0,
           0,
           0,
           0,
           0,
           0,
           0,
           0,
           0,
           0,
           12,
           12,
           0,
           0,
           0,
           0,
           0,
           0,
           0,
           0,
           0,
           0,
           0,
           14,
           14,
           0,
           0,
           0,
           0,
           0,
           0,
           0,
           0,
           0,
           0,
           0,
           0,
           0,
           0,
           0,
           0,
           0,
           0,
           0,
           0,
           0,
           0,
           0,
           0,
           0,
           0,
           0,
           0,
           0,
           0,
           0,
           0,
           0,
           0,
           0,
           1,
           1,
           0,
           0,
           0,
           0,
           0,
           0,
           0,
           0,
           0,
           0,
           0,
           0,
           0,
           0,
           1,
           1,
           0,
           0,
           0,
           20,
           20,
           0,
           0,
           0,
           0,
           0,
           0,
           0,
           0,
           0,
           0,
           0,
           0,
           0,
           0,
           1,
           1,
           0,
           0,
           0,
           0,
           0,
           69,
           69,
           0,
           0,
           1,
           1,
           0,
           0,
           0,
           0,
           0,
           0,
           0,
           0,
           0,
           0,
           0,
           0,
           0,
           1,
           1,
           0,
           1,
           1,
           0,
           0,
           4,
           4,
           0,
           0,
           0,
           0,
           0,
           0,
           0,
           0,
           0,
           0,
           0,
           0,
           0,
           0,
           0,
           0,
           0,
           0,
           0,
           0,
           0,
           0,
           0,
           0,
           0,
           0,
           0,
           0,
           0,
           0,
           0,
           0,
           0,
           0,
           0,
           0,
           0,
           0,
           0,
           0,
           0,
           0,
           0,
           0,
           0,
           0,
           0,
           0,
           0,
           0,
           0,
           0,
           1,
           1,
           0,
           0,
           0,
           0,
           0,
           0,
           0,
           0,
           0,
           0,
           0,
           0,
           1,
           1,
           1,
           1,
           0,
           0,
           0,
           0,
           2,
           2,
           18,
           18,
           0,
           0,
           0,
           0,
           0,
           0,
           13,
           13,
           0,
           0,
           0,
           1,
           1,
           0,
           0,
           0,
           0,
           0,
           0,
           0,
           0,
           0,
           0,
           0,
           12,
           12,
           0,
           0,
           0,
           0,
           0,
           0,
           0,
           0,
           0,
           0,
           1,
           1,
           0,
           0,
           0,
           0,
           0,
           3,
           3,
           0,
           0,
           0,
           0,
           0,
           0,
           0,
           0,
           0,
           0,
           0,
           0,
           0,
           1,
           1,
           0,
           0,
           0,
           0
          ],
          "sizemode": "area",
          "sizeref": 0.07666666666666666,
          "symbol": "circle"
         },
         "mode": "markers",
         "name": "Positive",
         "orientation": "v",
         "showlegend": true,
         "type": "scatter",
         "x": [
          0.195,
          0.8,
          0.39,
          0.3833333333333333,
          0.30000000000000004,
          0.12291666666666667,
          0.4116666666666667,
          0.39,
          0.39999999999999997,
          0.35,
          0.7,
          1,
          0.5,
          0.7666666666666666,
          0.19375,
          0.3,
          0.35625,
          1,
          0.39999999999999997,
          0.4,
          0.7,
          0.5733333333333334,
          0.8,
          0.012499999999999997,
          0.15625,
          0.8125,
          0.3333333333333333,
          0.01000000000000002,
          0.39999999999999997,
          0.39999999999999997,
          1,
          0.1,
          0.26666666666666666,
          0.25,
          0.31666666666666665,
          0.4291666666666667,
          0.5249999999999999,
          0.25,
          0.5,
          0.8,
          1,
          0.4083333333333334,
          0.25,
          0.2520833333333333,
          0.25,
          0.08418803418803421,
          0.33948717948717955,
          0.5375,
          0.87,
          0.5,
          0.35,
          0.2,
          0.356,
          0.78,
          0.64,
          1,
          0.3666666666666667,
          0.3666666666666667,
          0.2953125,
          0.5,
          0.525,
          1,
          0.8,
          0.3138888888888889,
          0.8,
          0.4708333333333333,
          0.43333333333333335,
          0.1875,
          0.7,
          0.30077922077922076,
          0.476,
          1,
          0.13125,
          0.09004329004329005,
          0.09004329004329005,
          0.12000000000000002,
          0.5,
          0.65,
          0.39999999999999997,
          0.5,
          0.35000000000000003,
          0.6,
          0.5,
          0.7,
          0.6,
          0.1830357142857143,
          0.4,
          0.3773809523809524,
          0.875,
          0.11249999999999999,
          0.275,
          0.625,
          0.275,
          0.26666666666666666,
          0.6541666666666667,
          1,
          0.8,
          0.7,
          0.6,
          0.65,
          0.6366666666666666,
          0.625,
          0.6,
          0.5,
          0.5,
          1,
          0.5,
          0.5,
          0.3333333333333333,
          0.41111111111111104,
          0.2333333333333333,
          0.7,
          0.23749999999999996,
          0.7,
          0.32,
          0.5,
          0.375,
          0.6,
          0.8,
          0.5633333333333334,
          0.7,
          0.23083333333333333,
          0.20694444444444446,
          0.3333333333333333,
          1,
          0.6000000000000001,
          0.15333333333333338,
          0.475,
          0.302,
          0.3,
          0.6,
          0.375,
          0.47727272727272724,
          0.9099999999999999,
          1,
          0.575,
          1,
          0.3833333333333333,
          1,
          1,
          1,
          0.85,
          0.5,
          0.225,
          0.33,
          0.5,
          0.5,
          0.3799242424242424,
          0.4,
          0.1,
          0.8,
          0.35833333333333334,
          0.55,
          0.7,
          0.6000000000000001,
          0.7500000000000001,
          0.27604166666666663,
          0.6,
          0.1574074074074074,
          1,
          0.7,
          0.20000000000000004,
          0.20000000000000004,
          0.40261904761904765,
          0.2571428571428572,
          0.375,
          0.4,
          0.7,
          0.14322916666666663,
          0.6000000000000001,
          0.2,
          0.6000000000000001,
          0.5,
          0.3,
          0.13636363636363635,
          0.8,
          0.5,
          0.21666666666666667,
          0.2571428571428571,
          0.8,
          1,
          0.36875,
          0.4875,
          0.65,
          0.39,
          0.19393939393939397,
          0.3,
          0.23619047619047615,
          0.06166666666666667,
          0.9099999999999999,
          0.6,
          1,
          0.625,
          0.25,
          1,
          0.2285714285714286,
          0.4375,
          0.0625,
          0.2,
          0.5,
          0.4125,
          0.325,
          0.240530303030303,
          0.625,
          0.34027777777777785,
          0.8,
          1,
          0.5,
          0.3057142857142857,
          0.01875,
          0.5,
          0.33142857142857146,
          0.9099999999999999,
          0.675,
          0.5833333333333334,
          0.7,
          0.2,
          0.6,
          0.35,
          0.25,
          0.8,
          0.21666666666666667,
          0.13333333333333336,
          1,
          1,
          0.7,
          0.3541666666666667,
          0.6000000000000001,
          0.6,
          0.284375,
          0.11666666666666668,
          0.6,
          0.5033333333333333,
          0.6000000000000001,
          0.4720000000000001,
          0.44,
          0.5,
          0.2333333333333333,
          0.625,
          0.625,
          1,
          0.30625,
          0.65,
          0.375,
          0.4625,
          0.7,
          0.19999999999999998,
          0.19999999999999998,
          1,
          0.78,
          0.5,
          0.15,
          0.15,
          0.19,
          0.5666666666666668,
          0.5666666666666668,
          0.7200000000000001,
          0.5,
          0.12380952380952381,
          0.12380952380952381,
          0.25,
          0.25,
          0.6000000000000001,
          0.6428571428571428,
          0.5,
          0.5,
          0.7,
          0.5,
          0.02777777777777779,
          0.02777777777777779,
          0.31666666666666665,
          0.6875,
          0.6875,
          0.7,
          0.10476190476190478,
          0.10476190476190478,
          0.75,
          0.2,
          0.5,
          0.565,
          0.32619047619047625,
          0.53125,
          0.53125,
          0.5875,
          0.5875,
          0.27777777777777773,
          0.27777777777777773,
          1,
          1,
          0.2,
          0.1,
          0.1,
          0.23703703703703705,
          1,
          0.2,
          0.6000000000000001,
          0.6000000000000001,
          0.8,
          0.22,
          0.22,
          0.43333333333333335,
          0.43333333333333335,
          0.5333333333333333,
          0.5333333333333333,
          0.05,
          0.05,
          0.284375,
          0.5499999999999999,
          0.5499999999999999,
          0.6000000000000001,
          0.26534090909090907,
          0.26534090909090907,
          0.3897435897435898,
          0.3897435897435898,
          0.8,
          0.8,
          0.8,
          0.8,
          0.31666666666666665,
          0.31666666666666665,
          0.55,
          0.4375,
          0.4375,
          0.39125,
          0.39125,
          0.3944444444444444,
          0.3944444444444444,
          0.39999999999999997,
          0.3591666666666667,
          0.3591666666666667,
          0.4611111111111111,
          0.66875,
          0.66875,
          0.2708333333333333,
          0.2708333333333333,
          0.7500000000000001,
          0.55,
          0.7,
          0.23274582560296844,
          0.23274582560296844,
          0.45555555555555555,
          0.45555555555555555,
          0.85,
          0.85,
          0.07427156177156177,
          0.07427156177156177,
          0.34875,
          0.34875,
          0.8,
          0.8,
          0.44166666666666665,
          0.44166666666666665,
          0.5,
          0.43333333333333335,
          1,
          0.8,
          0.8,
          0.375,
          0.375,
          0.4464285714285714,
          0.39444444444444443,
          0.39444444444444443,
          0.3444444444444444,
          0.3444444444444444,
          0.06666666666666667,
          0.06666666666666667,
          1,
          0.225,
          0.225,
          0.7,
          0.2,
          0.7,
          0.45,
          0.4375,
          0.4375,
          1,
          0.38,
          0.4000000000000001,
          0.4000000000000001,
          0.76,
          0.76,
          0.4340909090909091,
          0.4340909090909091,
          1,
          0.8,
          1,
          0.41666666666666663,
          0.41666666666666663,
          0.509090909090909,
          0.5,
          0.4,
          0.07988095238095239,
          0.07988095238095239,
          0.20085714285714285,
          0.5,
          0.8,
          0.6,
          0.39,
          0.4777777777777778,
          0.5,
          0.5,
          0.7,
          0.17222222222222222,
          0.17222222222222222,
          0.605,
          0.5,
          0.8,
          0.15000000000000002,
          0.15000000000000002,
          0.39,
          0.7,
          0.2,
          0.15000000000000002,
          0.15000000000000002,
          0.39999999999999997,
          0.3333333333333333,
          0.3333333333333333,
          0.25,
          0.625,
          0.1775,
          0.1775,
          0.25,
          0.25,
          0.4166666666666667,
          0.9099999999999999,
          0.9099999999999999,
          0.7083333333333334,
          0.7083333333333334,
          0.44000000000000006,
          0.4625,
          0.4625,
          0.16,
          1,
          0.39999999999999997,
          0.39999999999999997,
          0.6,
          0.6000000000000001,
          0.6000000000000001,
          0.09999999999999998,
          0.09999999999999998,
          0.29545454545454547,
          0.29545454545454547,
          0.32,
          0.41111111111111115,
          0.2833333333333334,
          0.45,
          0.35,
          0.35,
          0.3375,
          0.3375,
          0.37777777777777777,
          0.37777777777777777,
          0.5357142857142857,
          0.5357142857142857,
          0.4666666666666666,
          0.4666666666666666,
          0.5,
          0.5,
          0.5833333333333333,
          0.5833333333333333,
          0.4,
          0.4,
          1,
          0.8,
          1,
          0.43333333333333335,
          0.43333333333333335,
          0.7000000000000001,
          0.7000000000000001,
          0.5041666666666667,
          0.5041666666666667,
          0.2,
          1,
          0.4,
          0.05625,
          0.05625,
          0.4125,
          0.4125,
          0.4,
          0.37,
          0.37,
          0.4116666666666667,
          0.8,
          0.8,
          0.35,
          1,
          1,
          0.2,
          0.2,
          0.3,
          0.35,
          0.35,
          1,
          0.31666666666666665,
          0.31666666666666665,
          1,
          0.36,
          0.55,
          0.7166666666666667,
          0.7166666666666667,
          0.48277777777777775,
          0.325,
          0.325,
          0.05885714285714285,
          0.05885714285714285,
          0.54,
          0.54,
          0.40138888888888885,
          0.40138888888888885,
          0.5125,
          0.5125,
          0.8,
          0.8,
          0.19722222222222224,
          0.19722222222222224,
          0.3,
          0.075,
          0.075,
          0.2833333333333333,
          0.2833333333333333,
          0.39444444444444443,
          0.39444444444444443,
          0.4,
          0.4,
          0.625,
          0.625,
          0.4375,
          0.8,
          0.4666666666666667,
          0.5,
          0.5,
          0.09375,
          0.09375,
          0.4375,
          0.4375,
          0.3333333333333333,
          0.3333333333333333,
          1,
          0.5633333333333334,
          0.5633333333333334,
          0.44999999999999996,
          0.29375,
          0.29375,
          0.5,
          0.2125,
          0.2125,
          1,
          0.6,
          0.125,
          0.24999999999999997,
          0.8,
          0.5933333333333334,
          0.7,
          0.125,
          0.125,
          0.25,
          0.25,
          0.3642857142857143,
          0.3642857142857143,
          1,
          1,
          0.8,
          0.4666666666666667,
          0.15,
          1,
          0.335,
          0.335,
          0.6,
          0.5,
          0.1,
          0.1,
          0.05,
          0.4121212121212121,
          0.4121212121212121,
          0.31559343434343434,
          0.31559343434343434,
          0.39,
          0.4666666666666666,
          0.4666666666666666,
          0.5454545454545454,
          0.5454545454545454,
          0.25,
          0.25,
          0.275,
          0.24999999999999997,
          1,
          0.09999999999999999,
          0.09999999999999999,
          0.39999999999999997,
          0.39999999999999997,
          0.2,
          0.2,
          0.06818181818181818,
          0.8,
          0.8,
          0.7166666666666667,
          1,
          0.22592592592592592,
          0.22592592592592592,
          0.43333333333333335,
          0.43333333333333335,
          0.13571428571428573,
          0.13571428571428573,
          0.5,
          0.3375,
          0.3375,
          0.6166666666666667,
          0.6166666666666667,
          0.75,
          0.25,
          0.4,
          1,
          0.3666666666666667,
          0.3666666666666667,
          0.04999999999999999,
          0.04999999999999999,
          0.3111111111111111,
          0.3111111111111111,
          0.3,
          0.35,
          0.35,
          0.4066666666666666,
          0.4066666666666666,
          0.43047619047619046,
          0.43047619047619046,
          0.4,
          0.39999999999999997,
          0.3833333333333333,
          0.3833333333333333,
          0.5,
          0.2,
          0.6777777777777777,
          0.6777777777777777,
          0.35,
          0.35,
          0.10714285714285714,
          0.10714285714285714,
          0.8,
          0.8,
          0.6,
          0.6,
          0.17500000000000002,
          0.17500000000000002,
          0.5,
          1,
          0.3333333333333333,
          0.7625,
          0.13333333333333333,
          0.13333333333333333,
          0.3,
          0.3,
          0.17045454545454544,
          0.17045454545454544,
          1,
          0.23214285714285715,
          0.23214285714285715,
          0.5,
          1,
          1,
          0.17539682539682536,
          0.17539682539682536,
          0.5166666666666667,
          0.875,
          0.4083333333333333,
          0.4083333333333333,
          0.06613476485635576,
          0.06613476485635576,
          0.8,
          0.4375,
          0.4375,
          0.35,
          0.5833333333333334,
          0.7,
          0.175,
          0.175,
          0.465,
          0.465,
          0.14444444444444446,
          0.14444444444444446,
          0.25,
          0.25,
          0.39999999999999997,
          0.75,
          0.13999999999999999,
          0.13999999999999999,
          0.4,
          0.8,
          0.2,
          1,
          0.3,
          0.6,
          0.575,
          0.575,
          0.06818181818181818,
          0.06818181818181818,
          0.6194444444444445,
          0.08333333333333333,
          0.55,
          0.5,
          0.4202380952380952,
          0.4202380952380952,
          0.38333333333333336,
          0.38333333333333336,
          0.5666666666666667,
          0.5666666666666667,
          0.45499999999999996,
          0.45499999999999996,
          0.28583333333333333,
          0.28583333333333333,
          0.16904761904761909,
          0.16904761904761909,
          0.6000000000000001,
          0.6000000000000001,
          0.43333333333333335,
          0.02361111111111112,
          0.02361111111111112,
          0.75,
          0.75,
          0.2833333333333333,
          0.4,
          0.4,
          0.5633333333333334,
          0.17777777777777778,
          0.17777777777777778,
          0.6229166666666667,
          0.6229166666666667,
          0.75,
          0.32888888888888895,
          0.32888888888888895,
          0.2,
          0.2875,
          0.2875,
          1,
          0.3666666666666667,
          0.3666666666666667,
          0.8,
          0.6,
          0.22777777777777777,
          0.22777777777777777,
          0.12499999999999999,
          0.12499999999999999,
          0.6,
          0.5,
          0.9099999999999999,
          0.9099999999999999,
          0.5,
          0.26666666666666666,
          0.26666666666666666,
          0.13333333333333333,
          0.16,
          0.13333333333333333,
          0.08333333333333331,
          0.08333333333333331,
          0.21428571428571427,
          0.26875,
          0.3900432900432901,
          0.3900432900432901,
          0.35555555555555557,
          0.35555555555555557,
          0.6,
          0.6,
          0.0722222222222222,
          0.0722222222222222,
          0.2,
          0.2,
          0.0625,
          0.78
         ],
         "xaxis": "x",
         "y": [
          0.5,
          0.75,
          0,
          0.75,
          0.725,
          0.6666666666666667,
          0.4166666666666667,
          0,
          0.5,
          0.45,
          0.6000000000000001,
          1,
          0.5,
          0.6666666666666666,
          0.36875,
          0,
          0.525,
          1,
          0.4000000000000001,
          0.375,
          0.6000000000000001,
          0.6608333333333334,
          0.75,
          0.3375,
          0.3125,
          0.8,
          0.47222222222222215,
          0.46416666666666667,
          0.43333333333333335,
          0.8,
          1,
          0.225,
          0.9166666666666667,
          0.15000000000000002,
          0.5666666666666667,
          0.5895833333333333,
          0.6333333333333333,
          0.3,
          0.6,
          0.75,
          1,
          0.6666666666666666,
          0.6458333333333333,
          0.5476190476190477,
          0.55,
          0.6017094017094017,
          0.566025641025641,
          0.4,
          0.7933333333333334,
          0.5,
          0.36250000000000004,
          0.2,
          0.48600000000000004,
          1,
          0.75,
          0.3,
          0.45,
          0.45,
          0.553125,
          0.5,
          0.5166666666666666,
          1,
          0.75,
          0.5555555555555556,
          0.75,
          0.525,
          0.5666666666666668,
          0.7,
          0.6000000000000001,
          0.5535064935064935,
          0.82,
          1,
          0.35,
          0.4518398268398268,
          0.4518398268398268,
          0.4,
          0.7380952380952381,
          1,
          0.8,
          0.6,
          0.65,
          0.55,
          0.6785714285714286,
          0.6000000000000001,
          1,
          0.4616071428571428,
          0.9,
          0.4825892857142857,
          0.6000000000000001,
          0.29375,
          0.5,
          0.6,
          0.65,
          0.5833333333333334,
          0.7166666666666668,
          1,
          0.75,
          0.6000000000000001,
          0.55,
          0.625,
          0.6266666666666667,
          0.6,
          0.6000000000000001,
          0.5,
          0.6,
          0.3,
          0.775,
          0.775,
          0.3,
          0.7111111111111111,
          0.3523809523809524,
          0.6000000000000001,
          0.725,
          0.6000000000000001,
          0.6000000000000001,
          0.4,
          0.35,
          1,
          0.75,
          1,
          0.6000000000000001,
          0.30833333333333335,
          0.6777777777777777,
          0.6666666666666666,
          1,
          0.9,
          0.645,
          0.4666666666666667,
          0.336,
          0,
          0.775,
          0,
          0.5609090909090909,
          0.7800000000000001,
          1,
          0.625,
          0.3,
          0.6,
          0.3,
          1,
          1,
          0.8,
          0.6,
          0.545,
          0.57,
          0.5,
          0.6,
          0.4428030303030303,
          0.9,
          1,
          0.75,
          0.45833333333333337,
          0.75,
          0.6000000000000001,
          0.9,
          0.9,
          0.6358333333333334,
          1,
          0.3314814814814815,
          0.3,
          0.6000000000000001,
          0.8000000000000002,
          0.8000000000000002,
          0.5428571428571428,
          0.5428571428571429,
          0.5,
          0.25,
          0.6000000000000001,
          0.5633928571428571,
          0.9,
          0.2,
          0.9,
          0.5,
          0.7333333333333334,
          0.5,
          0.75,
          0.6,
          0.6488095238095238,
          0.5029761904761906,
          0.75,
          0.3,
          0.7,
          0.8,
          0.675,
          0,
          0.5090909090909091,
          0.2,
          0.49428571428571433,
          0.33333333333333337,
          0.7800000000000001,
          0.5833333333333334,
          1,
          1,
          0.2833333333333333,
          1,
          0.5416666666666666,
          0.44999999999999996,
          0.4148809523809524,
          0.3,
          0.32857142857142857,
          0.35,
          0.4125,
          0.4202861952861953,
          0.6,
          0.5513888888888889,
          0.825,
          1,
          0.5,
          0.4742857142857143,
          0.35833333333333334,
          0.38125,
          0.5238095238095238,
          0.7800000000000001,
          0.53125,
          0.91,
          0.6000000000000001,
          0.2,
          1,
          0.65,
          0.5,
          0.75,
          0.55,
          0.6933333333333334,
          0.3,
          0.75,
          0.6000000000000001,
          0.44722222222222224,
          0.9,
          1,
          0.446875,
          0.5833333333333334,
          1,
          0.5766666666666668,
          0.9,
          0.312,
          0.55,
          0.5,
          0.5888888888888889,
          0.6,
          0.6,
          1,
          0.625,
          0.75,
          0.5785714285714286,
          0.5,
          0.6000000000000001,
          0.47500000000000003,
          0.47500000000000003,
          1,
          1,
          0.6,
          0.44000000000000006,
          0.44000000000000006,
          0.7,
          0.7666666666666666,
          0.7666666666666666,
          0.6133333333333333,
          0.54,
          0.5023809523809524,
          0.5023809523809524,
          0.7583333333333333,
          0.7583333333333333,
          0.9,
          0.7678571428571428,
          0.5549999999999999,
          0.5549999999999999,
          0.6000000000000001,
          0.6,
          0.3972222222222222,
          0.3972222222222222,
          0.5666666666666667,
          0.7,
          0.7,
          0.6000000000000001,
          0.5452380952380952,
          0.5452380952380952,
          0.6900000000000001,
          0.3,
          0.6,
          0.8333333333333333,
          0.45619047619047615,
          0.45,
          0.45,
          0.3666666666666667,
          0.3666666666666667,
          0.6444444444444445,
          0.6444444444444445,
          0.65,
          0.65,
          0.3,
          0.37857142857142856,
          0.37857142857142856,
          0.6518518518518519,
          0.3,
          0.2,
          0.9,
          0.9,
          0.75,
          0.37999999999999995,
          0.37999999999999995,
          0.8333333333333334,
          0.8333333333333334,
          0.6500000000000001,
          0.6500000000000001,
          0.1,
          0.1,
          0.6546428571428572,
          0.8333333333333334,
          0.8333333333333334,
          0.9,
          0.5198863636363636,
          0.5198863636363636,
          0.5492673992673992,
          0.5492673992673992,
          0.75,
          0.75,
          0.75,
          0.75,
          0.5666666666666667,
          0.5666666666666667,
          0.8,
          0.8,
          0.8,
          0.43125,
          0.43125,
          0.7444444444444445,
          0.7444444444444445,
          0.39999999999999997,
          0.5458333333333333,
          0.5458333333333333,
          0.5,
          0.5875,
          0.5875,
          0.5555555555555556,
          0.5555555555555556,
          0.9,
          0.8,
          0.6000000000000001,
          0.5394248608534323,
          0.5394248608534323,
          0.7555555555555555,
          0.7555555555555555,
          1,
          1,
          0.46075398960014347,
          0.46075398960014347,
          0.5349999999999999,
          0.5349999999999999,
          0.95,
          0.95,
          0.47500000000000003,
          0.47500000000000003,
          0.5,
          0.7857142857142857,
          0.3,
          0.75,
          0.75,
          0.5135416666666667,
          0.5135416666666667,
          0.5357142857142857,
          0.5722222222222223,
          0.5722222222222223,
          0.7301587301587302,
          0.7301587301587302,
          0.5,
          0.5,
          1,
          0.5416666666666666,
          0.5416666666666666,
          0.6000000000000001,
          0.2,
          0.6000000000000001,
          0.95,
          0.5642857142857143,
          0.5642857142857143,
          0.3,
          0.43,
          0.3,
          0.3,
          0.75,
          0.75,
          0.48863636363636365,
          0.48863636363636365,
          1,
          0.75,
          0.3,
          0.55,
          0.55,
          0.6386363636363637,
          0.5,
          0.55,
          0.5535714285714285,
          0.5535714285714285,
          0.19428571428571426,
          0.5,
          0.75,
          1,
          0,
          0.6111111111111112,
          0.6,
          0.6,
          0.6000000000000001,
          0.4444444444444444,
          0.4444444444444444,
          0.39000000000000007,
          0.6,
          0.75,
          0.875,
          0.875,
          0,
          0.6000000000000001,
          0.25,
          0.475,
          0.475,
          0.8,
          0.5,
          0.5,
          0.47857142857142854,
          0.6,
          0.5974999999999999,
          0.5974999999999999,
          0.44999999999999996,
          0.44999999999999996,
          0.5,
          0.7800000000000001,
          0.7800000000000001,
          0.7999999999999999,
          0.7999999999999999,
          0.5800000000000001,
          0.6972222222222222,
          0.6972222222222222,
          0.5399999999999999,
          0.3,
          0.5,
          0.5,
          1,
          0.9,
          0.9,
          0.5,
          0.5,
          0.4348484848484848,
          0.4348484848484848,
          0.15,
          0.5333333333333333,
          0.2833333333333333,
          0.525,
          0.35,
          0.35,
          0.35,
          0.35,
          0.6777777777777779,
          0.6777777777777779,
          0.40317460317460313,
          0.40317460317460313,
          0.39333333333333337,
          0.39333333333333337,
          0.6,
          0.6,
          0.7708333333333334,
          0.7708333333333334,
          0.375,
          0.375,
          0.3,
          0.75,
          0.3,
          0.7833333333333333,
          0.7833333333333333,
          0.825,
          0.825,
          0.4666666666666666,
          0.4666666666666666,
          0.2,
          0.3,
          0.625,
          0.48125,
          0.48125,
          0.4,
          0.4,
          0.6,
          0.45999999999999996,
          0.45999999999999996,
          0.4166666666666667,
          0.75,
          0.75,
          0.4,
          0.875,
          0.875,
          0.3,
          0.3,
          0.6785714285714286,
          0.62,
          0.62,
          0.6,
          0.5666666666666667,
          0.5666666666666667,
          0.3,
          0.55,
          0.95,
          0.9166666666666667,
          0.9166666666666667,
          0.4777777777777778,
          0.5583333333333333,
          0.5583333333333333,
          0.5482857142857143,
          0.5482857142857143,
          0.465,
          0.465,
          0.5555555555555557,
          0.5555555555555557,
          0.625,
          0.625,
          0.75,
          0.75,
          0.35833333333333334,
          0.35833333333333334,
          0,
          0.27499999999999997,
          0.27499999999999997,
          0.6416666666666667,
          0.6416666666666667,
          0.6388888888888888,
          0.6388888888888888,
          0.75,
          0.75,
          0.6,
          0.6,
          0.65,
          0.75,
          0.6666666666666667,
          0.8,
          0.8,
          0.45208333333333334,
          0.45208333333333334,
          0.3375,
          0.3375,
          0.4916666666666667,
          0.4916666666666667,
          1,
          0.5333333333333333,
          0.5333333333333333,
          0.6000000000000001,
          0.16875,
          0.16875,
          0.75,
          0.43749999999999994,
          0.43749999999999994,
          0.75,
          1,
          1,
          0.6000000000000001,
          0.75,
          0.6666666666666666,
          0.95,
          0.125,
          0.125,
          0.5625,
          0.5625,
          0.5867346938775511,
          0.5867346938775511,
          0.75,
          1,
          0.75,
          0.8333333333333333,
          0.5,
          1,
          0.525,
          0.525,
          1,
          0.4750000000000001,
          0.12,
          0.12,
          0.625,
          0.5515151515151515,
          0.5515151515151515,
          0.5247474747474747,
          0.5247474747474747,
          0,
          0.43333333333333335,
          0.43333333333333335,
          0.6515151515151515,
          0.6515151515151515,
          0.3,
          0.3,
          0.65,
          0.5,
          1,
          0.19999999999999998,
          0.19999999999999998,
          0.43333333333333335,
          0.43333333333333335,
          0.2,
          0.2,
          0.22727272727272727,
          0.75,
          0.75,
          0.5666666666666667,
          1,
          0.4824074074074074,
          0.4824074074074074,
          0.8333333333333334,
          0.8333333333333334,
          0.5523809523809524,
          0.5523809523809524,
          0.6,
          0.475,
          0.475,
          0.7916666666666667,
          0.7916666666666667,
          0.675,
          0.3,
          0.9,
          0.3,
          0.5972222222222222,
          0.5972222222222222,
          0.75,
          0.75,
          0.4511904761904762,
          0.4511904761904762,
          0,
          0.6,
          0.6,
          0.4533333333333333,
          0.4533333333333333,
          0.5285714285714286,
          0.5285714285714286,
          0.7,
          0.3666666666666667,
          0.7583333333333333,
          0.7583333333333333,
          0.5,
          0.2,
          0.7111111111111111,
          0.7111111111111111,
          0.7,
          0.7,
          0.32142857142857145,
          0.32142857142857145,
          0.75,
          0.75,
          1,
          1,
          0.5083333333333333,
          0.5083333333333333,
          0.5,
          1,
          0.6666666666666666,
          0.75,
          0.5333333333333333,
          0.5333333333333333,
          0,
          0,
          0.4431818181818182,
          0.4431818181818182,
          1,
          0.5464285714285715,
          0.5464285714285715,
          0.6,
          1,
          1,
          0.6587301587301587,
          0.6587301587301587,
          0.8666666666666667,
          0.975,
          0.775,
          0.775,
          0.46736029122392764,
          0.46736029122392764,
          0.75,
          0.47857142857142865,
          0.47857142857142865,
          0.65,
          0.7166666666666667,
          0.6000000000000001,
          0.44999999999999996,
          0.44999999999999996,
          0.5177777777777778,
          0.5177777777777778,
          0.4222222222222222,
          0.4222222222222222,
          0.3625,
          0.3625,
          0.8,
          0.4,
          0.5,
          0.5,
          0.9,
          0.75,
          0.3,
          0.3,
          0,
          1,
          0.78125,
          0.78125,
          0.22727272727272727,
          0.22727272727272727,
          0.7277777777777779,
          0.43333333333333335,
          0.65,
          0.5,
          0.5047619047619049,
          0.5047619047619049,
          0.8083333333333333,
          0.8083333333333333,
          0.5166666666666667,
          0.5166666666666667,
          0.39000000000000007,
          0.39000000000000007,
          0.4058333333333333,
          0.4058333333333333,
          0.5190476190476191,
          0.5190476190476191,
          0.75,
          0.75,
          0.8333333333333334,
          0.24285714285714288,
          0.24285714285714288,
          0.75,
          0.75,
          0.36282051282051286,
          0.425,
          0.425,
          1,
          0.9444444444444445,
          0.9444444444444445,
          0.7541666666666668,
          0.7541666666666668,
          0.8,
          0.5155555555555555,
          0.5155555555555555,
          0.3,
          0.4,
          0.4,
          0.75,
          0.5833333333333334,
          0.5833333333333334,
          0.75,
          1,
          0.36111111111111116,
          0.36111111111111116,
          0.22500000000000003,
          0.22500000000000003,
          1,
          0.6,
          0.7800000000000001,
          0.7800000000000001,
          0.775,
          0.3333333333333333,
          0.3333333333333333,
          0.7000000000000001,
          0.5399999999999999,
          0.7000000000000001,
          0.5166666666666666,
          0.5166666666666666,
          0.5714285714285714,
          0.5869791666666667,
          0.7996753246753247,
          0.7996753246753247,
          0.7234126984126985,
          0.7234126984126985,
          1,
          1,
          0.5618055555555554,
          0.5618055555555554,
          0.2,
          0.2,
          0.34375,
          1
         ],
         "yaxis": "y"
        },
        {
         "hovertemplate": "Analysis=Neutral<br>Polarity=%{x}<br>Subjectivity=%{y}<br>thumbsUpCount=%{marker.size}<extra></extra>",
         "legendgroup": "Neutral",
         "marker": {
          "color": "#00CC96",
          "size": [
           0,
           0,
           0,
           0,
           0,
           0,
           0,
           0,
           0,
           0,
           0,
           0,
           2,
           0,
           0,
           0,
           0,
           0,
           0,
           5,
           0,
           0,
           0,
           0,
           0,
           0,
           0,
           0,
           0,
           1,
           0,
           0,
           0,
           0,
           0,
           0,
           0,
           0,
           0,
           0,
           0,
           0,
           0,
           0,
           0,
           0,
           1,
           1,
           1,
           0,
           0,
           0,
           0,
           0,
           0,
           0,
           0,
           0,
           0,
           0,
           0,
           0,
           0,
           0,
           0,
           0,
           0,
           0,
           0,
           0,
           0,
           0,
           0,
           7,
           0,
           0,
           0,
           0,
           0,
           0,
           0,
           0,
           1,
           1,
           0,
           0,
           0,
           0,
           0,
           0,
           0,
           0,
           0,
           0,
           0,
           0,
           0,
           0,
           0,
           0,
           0,
           0,
           0,
           0,
           0,
           0,
           0,
           0,
           0,
           0,
           0,
           0,
           0,
           0,
           0,
           0,
           0,
           0,
           1,
           1,
           0,
           0,
           0,
           0,
           0,
           0,
           0
          ],
          "sizemode": "area",
          "sizeref": 0.07666666666666666,
          "symbol": "circle"
         },
         "mode": "markers",
         "name": "Neutral",
         "orientation": "v",
         "showlegend": true,
         "type": "scatter",
         "x": [
          0,
          0,
          0,
          0,
          0,
          0,
          0,
          0,
          0,
          0,
          0,
          0,
          0,
          0,
          0,
          0,
          0,
          0,
          0,
          0,
          0,
          0,
          0,
          0,
          0,
          0,
          0,
          0,
          0,
          0,
          0,
          0,
          0,
          0,
          0,
          0,
          0,
          0,
          0,
          0,
          0,
          0,
          0,
          0,
          0,
          0,
          0,
          0,
          0,
          0,
          0,
          0,
          0,
          0,
          0,
          0,
          0,
          0,
          0,
          0,
          0,
          0,
          0,
          0,
          0,
          0,
          0,
          0,
          0,
          0,
          0,
          0,
          0,
          0,
          0,
          0,
          0,
          0,
          0,
          0,
          0,
          0,
          0,
          0,
          0,
          0,
          0,
          0,
          0,
          0,
          0,
          0,
          0,
          0,
          0,
          0,
          0,
          0,
          0,
          0,
          0,
          0,
          0,
          0,
          0,
          0,
          0,
          0,
          0,
          0,
          0,
          0,
          0,
          0,
          0,
          0,
          0,
          0,
          0,
          0,
          0,
          0,
          0,
          0,
          0,
          0,
          0
         ],
         "xaxis": "x",
         "y": [
          0.3333333333333333,
          0,
          0,
          0.3,
          0,
          0,
          0,
          0,
          0,
          0,
          0,
          0,
          0,
          0,
          0,
          0,
          0,
          0.3333333333333333,
          0,
          0,
          0,
          0,
          0,
          0,
          0,
          0,
          0,
          0,
          0,
          0,
          0,
          0,
          0,
          0,
          0,
          0,
          0.6666666666666666,
          0.35714285714285715,
          0.5,
          0,
          0,
          0,
          0,
          0,
          0,
          0,
          0.25,
          0.18333333333333335,
          0.18333333333333335,
          0,
          0,
          0,
          0,
          0,
          0,
          0,
          0,
          0,
          0,
          0,
          0,
          0,
          0,
          0,
          0,
          0,
          0,
          0.75,
          0.75,
          0.39999999999999997,
          0.39999999999999997,
          0,
          0,
          0,
          0,
          0,
          0,
          0,
          0,
          0,
          0,
          0,
          1,
          1,
          0,
          0.1,
          0,
          0,
          0,
          0,
          0,
          0,
          0,
          0,
          0,
          0,
          0,
          0,
          0,
          0,
          0,
          0,
          0,
          0,
          0,
          0,
          0,
          0.4,
          0,
          0,
          0,
          0,
          0.4,
          0.4,
          0,
          0,
          0,
          0,
          0.8,
          0.8,
          1,
          0,
          0.5,
          0.5,
          0,
          0,
          0
         ],
         "yaxis": "y"
        },
        {
         "hovertemplate": "Analysis=Negative<br>Polarity=%{x}<br>Subjectivity=%{y}<br>thumbsUpCount=%{marker.size}<extra></extra>",
         "legendgroup": "Negative",
         "marker": {
          "color": "#EF553B",
          "size": [
           0,
           0,
           0,
           2,
           0,
           0,
           0,
           0,
           0,
           0,
           0,
           0,
           0,
           0,
           0,
           0,
           0,
           0,
           1,
           1,
           0,
           0,
           0,
           0,
           0,
           0,
           0,
           0,
           0,
           0,
           1,
           0,
           0,
           1,
           0,
           0,
           1,
           1,
           0,
           0,
           0,
           0,
           2,
           2,
           0,
           0,
           1,
           1,
           0,
           0,
           0,
           0,
           0,
           0,
           0,
           0,
           0,
           0,
           0,
           0,
           0,
           0,
           0,
           0,
           0,
           0,
           0,
           0,
           0,
           0,
           0,
           0,
           0,
           0,
           0,
           0,
           0,
           0,
           0,
           0,
           0,
           0,
           0,
           0,
           0,
           2,
           2,
           0,
           0,
           5,
           5,
           0,
           0,
           4,
           4,
           0,
           0,
           0,
           13,
           13,
           1,
           1,
           0,
           0,
           0,
           0
          ],
          "sizemode": "area",
          "sizeref": 0.07666666666666666,
          "symbol": "circle"
         },
         "mode": "markers",
         "name": "Negative",
         "orientation": "v",
         "showlegend": true,
         "type": "scatter",
         "x": [
          -0.25555555555555554,
          -0.25,
          -0.029166666666666674,
          -0.005612244897959188,
          -0.45,
          -0.2,
          -0.17333333333333334,
          -0.18828125,
          -0.6999999999999998,
          -0.8,
          -0.6666666666666666,
          -0.75,
          -0.25,
          -0.020454545454545458,
          -0.05000000000000001,
          -0.625,
          -1,
          -1,
          -0.07857142857142857,
          -0.07857142857142857,
          -0.375,
          -1,
          -0.11833333333333335,
          -0.13111111111111112,
          -0.8,
          -0.25,
          -1.586032892321652e-17,
          -0.3249999999999999,
          -0.2,
          -0.06666666666666667,
          -0.8,
          -0.32666666666666666,
          -0.32666666666666666,
          -0.4166666666666667,
          -0.2,
          -0.5,
          -0.1,
          -0.1,
          -0.07142857142857142,
          -0.07142857142857142,
          -0.05892857142857143,
          -0.05892857142857143,
          -0.05750000000000001,
          -0.05750000000000001,
          -0.4,
          -0.4,
          -0.2,
          -0.2,
          -0.35625,
          -0.35625,
          -0.11333333333333336,
          -0.11333333333333336,
          -0.8,
          -0.8,
          -0.5,
          -0.5,
          -0.028571428571428574,
          -0.028571428571428574,
          -0.2499999999999999,
          -0.2499999999999999,
          -0.8,
          -0.8,
          -0.03333333333333333,
          -0.03333333333333333,
          -0.11000000000000001,
          -0.11000000000000001,
          -0.1,
          -0.1,
          -0.2,
          -0.06000000000000001,
          -0.9099999999999998,
          -0.43333333333333335,
          -0.0625,
          -0.0625,
          -0.5,
          -0.5,
          -0.0625,
          -0.0625,
          -0.1,
          -0.10714285714285714,
          -0.10714285714285714,
          -0.16111111111111112,
          -0.16111111111111112,
          -0.024285714285714275,
          -0.024285714285714275,
          -0.07500000000000001,
          -0.07500000000000001,
          -0.012500000000000011,
          -0.21666666666666667,
          -0.08958333333333333,
          -0.08958333333333333,
          -0.4,
          -0.4,
          -0.07091836734693877,
          -0.07091836734693877,
          -0.4,
          -0.2714285714285714,
          -0.5,
          -0.1392857142857143,
          -0.1392857142857143,
          -0.06666666666666667,
          -0.06666666666666667,
          -0.025,
          -0.025,
          -0.1,
          -0.1
         ],
         "xaxis": "x",
         "y": [
          0.3722222222222223,
          0.3,
          0.2333333333333333,
          0.401530612244898,
          0.65,
          0,
          0.5,
          0.6,
          0.6666666666666666,
          0.9,
          0.6,
          0.9,
          0.1,
          0.508080808080808,
          0.42083333333333334,
          0.5,
          0.9,
          0.875,
          0.6339285714285714,
          0.6339285714285714,
          0.6,
          1,
          0.95,
          0.39777777777777773,
          0.9,
          0.3,
          0.6571428571428571,
          0.31666666666666665,
          0.4,
          0.03333333333333333,
          0.9,
          0.6533333333333333,
          0.6533333333333333,
          0.6666666666666666,
          0.25,
          0.5,
          0.22999999999999998,
          0.22999999999999998,
          0.5714285714285714,
          0.5714285714285714,
          0.4107142857142857,
          0.4107142857142857,
          0.40750000000000003,
          0.40750000000000003,
          0.45,
          0.45,
          0.5,
          0.5,
          0.575,
          0.575,
          0.4933333333333333,
          0.4933333333333333,
          0.9,
          0.9,
          0.45,
          0.45,
          0.3238095238095238,
          0.3238095238095238,
          0.43333333333333335,
          0.43333333333333335,
          0.9,
          0.9,
          0.26666666666666666,
          0.26666666666666666,
          0.47333333333333333,
          0.47333333333333333,
          0.4,
          0.4,
          0.4,
          0.42000000000000004,
          0.8666666666666667,
          0.3666666666666667,
          0.7083333333333334,
          0.7083333333333334,
          0.9,
          0.9,
          0.1875,
          0.1875,
          0.5875,
          0.4412698412698413,
          0.4412698412698413,
          0.6,
          0.6,
          0.3,
          0.3,
          0.6142857142857143,
          0.6142857142857143,
          0.55,
          0.8333333333333334,
          0.525,
          0.525,
          0.6285714285714286,
          0.6285714285714286,
          0.5407312925170068,
          0.5407312925170068,
          0.45,
          0.42142857142857143,
          0.5,
          0.48214285714285715,
          0.48214285714285715,
          0.03333333333333333,
          0.03333333333333333,
          0.2,
          0.2,
          0.5,
          0.5
         ],
         "yaxis": "y"
        }
       ],
       "layout": {
        "annotations": [
         {}
        ],
        "legend": {
         "itemsizing": "constant",
         "title": {
          "text": "Analysis"
         },
         "tracegroupgap": 0
        },
        "shapes": [
         {
          "line": {
           "color": "black",
           "dash": "dash",
           "width": 1
          },
          "type": "line",
          "x0": 0,
          "x1": 0,
          "xref": "x",
          "y0": 0,
          "y1": 1,
          "yref": "y domain"
         }
        ],
        "template": {
         "data": {
          "bar": [
           {
            "error_x": {
             "color": "#2a3f5f"
            },
            "error_y": {
             "color": "#2a3f5f"
            },
            "marker": {
             "line": {
              "color": "#E5ECF6",
              "width": 0.5
             },
             "pattern": {
              "fillmode": "overlay",
              "size": 10,
              "solidity": 0.2
             }
            },
            "type": "bar"
           }
          ],
          "barpolar": [
           {
            "marker": {
             "line": {
              "color": "#E5ECF6",
              "width": 0.5
             },
             "pattern": {
              "fillmode": "overlay",
              "size": 10,
              "solidity": 0.2
             }
            },
            "type": "barpolar"
           }
          ],
          "carpet": [
           {
            "aaxis": {
             "endlinecolor": "#2a3f5f",
             "gridcolor": "white",
             "linecolor": "white",
             "minorgridcolor": "white",
             "startlinecolor": "#2a3f5f"
            },
            "baxis": {
             "endlinecolor": "#2a3f5f",
             "gridcolor": "white",
             "linecolor": "white",
             "minorgridcolor": "white",
             "startlinecolor": "#2a3f5f"
            },
            "type": "carpet"
           }
          ],
          "choropleth": [
           {
            "colorbar": {
             "outlinewidth": 0,
             "ticks": ""
            },
            "type": "choropleth"
           }
          ],
          "contour": [
           {
            "colorbar": {
             "outlinewidth": 0,
             "ticks": ""
            },
            "colorscale": [
             [
              0,
              "#0d0887"
             ],
             [
              0.1111111111111111,
              "#46039f"
             ],
             [
              0.2222222222222222,
              "#7201a8"
             ],
             [
              0.3333333333333333,
              "#9c179e"
             ],
             [
              0.4444444444444444,
              "#bd3786"
             ],
             [
              0.5555555555555556,
              "#d8576b"
             ],
             [
              0.6666666666666666,
              "#ed7953"
             ],
             [
              0.7777777777777778,
              "#fb9f3a"
             ],
             [
              0.8888888888888888,
              "#fdca26"
             ],
             [
              1,
              "#f0f921"
             ]
            ],
            "type": "contour"
           }
          ],
          "contourcarpet": [
           {
            "colorbar": {
             "outlinewidth": 0,
             "ticks": ""
            },
            "type": "contourcarpet"
           }
          ],
          "heatmap": [
           {
            "colorbar": {
             "outlinewidth": 0,
             "ticks": ""
            },
            "colorscale": [
             [
              0,
              "#0d0887"
             ],
             [
              0.1111111111111111,
              "#46039f"
             ],
             [
              0.2222222222222222,
              "#7201a8"
             ],
             [
              0.3333333333333333,
              "#9c179e"
             ],
             [
              0.4444444444444444,
              "#bd3786"
             ],
             [
              0.5555555555555556,
              "#d8576b"
             ],
             [
              0.6666666666666666,
              "#ed7953"
             ],
             [
              0.7777777777777778,
              "#fb9f3a"
             ],
             [
              0.8888888888888888,
              "#fdca26"
             ],
             [
              1,
              "#f0f921"
             ]
            ],
            "type": "heatmap"
           }
          ],
          "heatmapgl": [
           {
            "colorbar": {
             "outlinewidth": 0,
             "ticks": ""
            },
            "colorscale": [
             [
              0,
              "#0d0887"
             ],
             [
              0.1111111111111111,
              "#46039f"
             ],
             [
              0.2222222222222222,
              "#7201a8"
             ],
             [
              0.3333333333333333,
              "#9c179e"
             ],
             [
              0.4444444444444444,
              "#bd3786"
             ],
             [
              0.5555555555555556,
              "#d8576b"
             ],
             [
              0.6666666666666666,
              "#ed7953"
             ],
             [
              0.7777777777777778,
              "#fb9f3a"
             ],
             [
              0.8888888888888888,
              "#fdca26"
             ],
             [
              1,
              "#f0f921"
             ]
            ],
            "type": "heatmapgl"
           }
          ],
          "histogram": [
           {
            "marker": {
             "pattern": {
              "fillmode": "overlay",
              "size": 10,
              "solidity": 0.2
             }
            },
            "type": "histogram"
           }
          ],
          "histogram2d": [
           {
            "colorbar": {
             "outlinewidth": 0,
             "ticks": ""
            },
            "colorscale": [
             [
              0,
              "#0d0887"
             ],
             [
              0.1111111111111111,
              "#46039f"
             ],
             [
              0.2222222222222222,
              "#7201a8"
             ],
             [
              0.3333333333333333,
              "#9c179e"
             ],
             [
              0.4444444444444444,
              "#bd3786"
             ],
             [
              0.5555555555555556,
              "#d8576b"
             ],
             [
              0.6666666666666666,
              "#ed7953"
             ],
             [
              0.7777777777777778,
              "#fb9f3a"
             ],
             [
              0.8888888888888888,
              "#fdca26"
             ],
             [
              1,
              "#f0f921"
             ]
            ],
            "type": "histogram2d"
           }
          ],
          "histogram2dcontour": [
           {
            "colorbar": {
             "outlinewidth": 0,
             "ticks": ""
            },
            "colorscale": [
             [
              0,
              "#0d0887"
             ],
             [
              0.1111111111111111,
              "#46039f"
             ],
             [
              0.2222222222222222,
              "#7201a8"
             ],
             [
              0.3333333333333333,
              "#9c179e"
             ],
             [
              0.4444444444444444,
              "#bd3786"
             ],
             [
              0.5555555555555556,
              "#d8576b"
             ],
             [
              0.6666666666666666,
              "#ed7953"
             ],
             [
              0.7777777777777778,
              "#fb9f3a"
             ],
             [
              0.8888888888888888,
              "#fdca26"
             ],
             [
              1,
              "#f0f921"
             ]
            ],
            "type": "histogram2dcontour"
           }
          ],
          "mesh3d": [
           {
            "colorbar": {
             "outlinewidth": 0,
             "ticks": ""
            },
            "type": "mesh3d"
           }
          ],
          "parcoords": [
           {
            "line": {
             "colorbar": {
              "outlinewidth": 0,
              "ticks": ""
             }
            },
            "type": "parcoords"
           }
          ],
          "pie": [
           {
            "automargin": true,
            "type": "pie"
           }
          ],
          "scatter": [
           {
            "marker": {
             "colorbar": {
              "outlinewidth": 0,
              "ticks": ""
             }
            },
            "type": "scatter"
           }
          ],
          "scatter3d": [
           {
            "line": {
             "colorbar": {
              "outlinewidth": 0,
              "ticks": ""
             }
            },
            "marker": {
             "colorbar": {
              "outlinewidth": 0,
              "ticks": ""
             }
            },
            "type": "scatter3d"
           }
          ],
          "scattercarpet": [
           {
            "marker": {
             "colorbar": {
              "outlinewidth": 0,
              "ticks": ""
             }
            },
            "type": "scattercarpet"
           }
          ],
          "scattergeo": [
           {
            "marker": {
             "colorbar": {
              "outlinewidth": 0,
              "ticks": ""
             }
            },
            "type": "scattergeo"
           }
          ],
          "scattergl": [
           {
            "marker": {
             "colorbar": {
              "outlinewidth": 0,
              "ticks": ""
             }
            },
            "type": "scattergl"
           }
          ],
          "scattermapbox": [
           {
            "marker": {
             "colorbar": {
              "outlinewidth": 0,
              "ticks": ""
             }
            },
            "type": "scattermapbox"
           }
          ],
          "scatterpolar": [
           {
            "marker": {
             "colorbar": {
              "outlinewidth": 0,
              "ticks": ""
             }
            },
            "type": "scatterpolar"
           }
          ],
          "scatterpolargl": [
           {
            "marker": {
             "colorbar": {
              "outlinewidth": 0,
              "ticks": ""
             }
            },
            "type": "scatterpolargl"
           }
          ],
          "scatterternary": [
           {
            "marker": {
             "colorbar": {
              "outlinewidth": 0,
              "ticks": ""
             }
            },
            "type": "scatterternary"
           }
          ],
          "surface": [
           {
            "colorbar": {
             "outlinewidth": 0,
             "ticks": ""
            },
            "colorscale": [
             [
              0,
              "#0d0887"
             ],
             [
              0.1111111111111111,
              "#46039f"
             ],
             [
              0.2222222222222222,
              "#7201a8"
             ],
             [
              0.3333333333333333,
              "#9c179e"
             ],
             [
              0.4444444444444444,
              "#bd3786"
             ],
             [
              0.5555555555555556,
              "#d8576b"
             ],
             [
              0.6666666666666666,
              "#ed7953"
             ],
             [
              0.7777777777777778,
              "#fb9f3a"
             ],
             [
              0.8888888888888888,
              "#fdca26"
             ],
             [
              1,
              "#f0f921"
             ]
            ],
            "type": "surface"
           }
          ],
          "table": [
           {
            "cells": {
             "fill": {
              "color": "#EBF0F8"
             },
             "line": {
              "color": "white"
             }
            },
            "header": {
             "fill": {
              "color": "#C8D4E3"
             },
             "line": {
              "color": "white"
             }
            },
            "type": "table"
           }
          ]
         },
         "layout": {
          "annotationdefaults": {
           "arrowcolor": "#2a3f5f",
           "arrowhead": 0,
           "arrowwidth": 1
          },
          "autotypenumbers": "strict",
          "coloraxis": {
           "colorbar": {
            "outlinewidth": 0,
            "ticks": ""
           }
          },
          "colorscale": {
           "diverging": [
            [
             0,
             "#8e0152"
            ],
            [
             0.1,
             "#c51b7d"
            ],
            [
             0.2,
             "#de77ae"
            ],
            [
             0.3,
             "#f1b6da"
            ],
            [
             0.4,
             "#fde0ef"
            ],
            [
             0.5,
             "#f7f7f7"
            ],
            [
             0.6,
             "#e6f5d0"
            ],
            [
             0.7,
             "#b8e186"
            ],
            [
             0.8,
             "#7fbc41"
            ],
            [
             0.9,
             "#4d9221"
            ],
            [
             1,
             "#276419"
            ]
           ],
           "sequential": [
            [
             0,
             "#0d0887"
            ],
            [
             0.1111111111111111,
             "#46039f"
            ],
            [
             0.2222222222222222,
             "#7201a8"
            ],
            [
             0.3333333333333333,
             "#9c179e"
            ],
            [
             0.4444444444444444,
             "#bd3786"
            ],
            [
             0.5555555555555556,
             "#d8576b"
            ],
            [
             0.6666666666666666,
             "#ed7953"
            ],
            [
             0.7777777777777778,
             "#fb9f3a"
            ],
            [
             0.8888888888888888,
             "#fdca26"
            ],
            [
             1,
             "#f0f921"
            ]
           ],
           "sequentialminus": [
            [
             0,
             "#0d0887"
            ],
            [
             0.1111111111111111,
             "#46039f"
            ],
            [
             0.2222222222222222,
             "#7201a8"
            ],
            [
             0.3333333333333333,
             "#9c179e"
            ],
            [
             0.4444444444444444,
             "#bd3786"
            ],
            [
             0.5555555555555556,
             "#d8576b"
            ],
            [
             0.6666666666666666,
             "#ed7953"
            ],
            [
             0.7777777777777778,
             "#fb9f3a"
            ],
            [
             0.8888888888888888,
             "#fdca26"
            ],
            [
             1,
             "#f0f921"
            ]
           ]
          },
          "colorway": [
           "#636efa",
           "#EF553B",
           "#00cc96",
           "#ab63fa",
           "#FFA15A",
           "#19d3f3",
           "#FF6692",
           "#B6E880",
           "#FF97FF",
           "#FECB52"
          ],
          "font": {
           "color": "#2a3f5f"
          },
          "geo": {
           "bgcolor": "white",
           "lakecolor": "white",
           "landcolor": "#E5ECF6",
           "showlakes": true,
           "showland": true,
           "subunitcolor": "white"
          },
          "hoverlabel": {
           "align": "left"
          },
          "hovermode": "closest",
          "mapbox": {
           "style": "light"
          },
          "paper_bgcolor": "white",
          "plot_bgcolor": "#E5ECF6",
          "polar": {
           "angularaxis": {
            "gridcolor": "white",
            "linecolor": "white",
            "ticks": ""
           },
           "bgcolor": "#E5ECF6",
           "radialaxis": {
            "gridcolor": "white",
            "linecolor": "white",
            "ticks": ""
           }
          },
          "scene": {
           "xaxis": {
            "backgroundcolor": "#E5ECF6",
            "gridcolor": "white",
            "gridwidth": 2,
            "linecolor": "white",
            "showbackground": true,
            "ticks": "",
            "zerolinecolor": "white"
           },
           "yaxis": {
            "backgroundcolor": "#E5ECF6",
            "gridcolor": "white",
            "gridwidth": 2,
            "linecolor": "white",
            "showbackground": true,
            "ticks": "",
            "zerolinecolor": "white"
           },
           "zaxis": {
            "backgroundcolor": "#E5ECF6",
            "gridcolor": "white",
            "gridwidth": 2,
            "linecolor": "white",
            "showbackground": true,
            "ticks": "",
            "zerolinecolor": "white"
           }
          },
          "shapedefaults": {
           "line": {
            "color": "#2a3f5f"
           }
          },
          "ternary": {
           "aaxis": {
            "gridcolor": "white",
            "linecolor": "white",
            "ticks": ""
           },
           "baxis": {
            "gridcolor": "white",
            "linecolor": "white",
            "ticks": ""
           },
           "bgcolor": "#E5ECF6",
           "caxis": {
            "gridcolor": "white",
            "linecolor": "white",
            "ticks": ""
           }
          },
          "title": {
           "x": 0.05
          },
          "xaxis": {
           "automargin": true,
           "gridcolor": "white",
           "linecolor": "white",
           "ticks": "",
           "title": {
            "standoff": 15
           },
           "zerolinecolor": "white",
           "zerolinewidth": 2
          },
          "yaxis": {
           "automargin": true,
           "gridcolor": "white",
           "linecolor": "white",
           "ticks": "",
           "title": {
            "standoff": 15
           },
           "zerolinecolor": "white",
           "zerolinewidth": 2
          }
         }
        },
        "title": {
         "text": "Total App Reviews Sentiment Analysis with #Thumbs Up"
        },
        "xaxis": {
         "anchor": "y",
         "domain": [
          0,
          1
         ],
         "title": {
          "text": "Polarity"
         }
        },
        "yaxis": {
         "anchor": "x",
         "domain": [
          0,
          1
         ],
         "title": {
          "text": "Subjectivity"
         }
        }
       }
      },
      "text/html": [
       "<div>                            <div id=\"1331f6aa-3b40-4c67-bf34-b96b7860f148\" class=\"plotly-graph-div\" style=\"height:525px; width:100%;\"></div>            <script type=\"text/javascript\">                require([\"plotly\"], function(Plotly) {                    window.PLOTLYENV=window.PLOTLYENV || {};                                    if (document.getElementById(\"1331f6aa-3b40-4c67-bf34-b96b7860f148\")) {                    Plotly.newPlot(                        \"1331f6aa-3b40-4c67-bf34-b96b7860f148\",                        [{\"hovertemplate\":\"Analysis=Positive<br>Polarity=%{x}<br>Subjectivity=%{y}<br>thumbsUpCount=%{marker.size}<extra></extra>\",\"legendgroup\":\"Positive\",\"marker\":{\"color\":\"#636EFA\",\"size\":[0,0,0,0,0,0,0,0,0,0,0,0,0,0,0,0,0,0,0,0,0,0,0,0,0,0,0,0,0,0,0,0,0,0,0,0,0,0,0,0,0,0,0,0,0,0,0,0,0,0,0,0,0,0,0,0,0,0,0,0,0,0,0,2,0,0,0,0,0,0,0,0,0,0,0,0,0,0,0,0,0,0,0,0,0,0,0,0,0,0,0,0,0,0,0,0,0,0,0,1,0,0,0,0,0,0,0,0,0,0,0,0,0,0,0,0,0,0,0,0,0,0,0,0,0,0,0,0,0,0,0,0,0,0,0,0,0,0,0,0,0,0,0,0,0,0,0,0,0,0,0,0,0,0,0,0,0,0,0,0,0,0,0,3,0,0,0,0,0,0,0,0,0,0,1,0,0,0,0,0,0,0,0,0,0,0,0,0,0,0,0,0,0,0,0,0,0,0,0,0,0,0,0,0,0,0,0,0,0,0,1,0,0,0,0,0,0,0,0,0,0,0,0,0,0,0,0,0,0,0,0,0,0,0,0,0,0,0,0,0,0,0,0,0,0,0,0,0,0,0,0,55,55,0,0,0,0,0,1,1,0,0,0,0,0,0,0,0,3,3,0,0,0,0,0,0,0,0,0,0,0,0,0,1,1,0,0,0,0,0,0,0,0,1,0,0,0,0,0,0,0,0,0,0,0,0,0,0,0,0,0,0,2,2,0,0,0,0,0,0,0,0,0,0,0,0,0,0,0,0,0,0,0,0,0,0,0,0,0,0,0,0,0,0,1,1,1,1,0,0,0,0,0,0,0,0,0,0,0,0,0,0,0,0,0,0,0,0,0,0,0,0,0,0,0,0,0,0,0,6,6,0,0,0,0,0,0,0,0,0,0,0,0,0,0,0,0,0,1,0,0,0,0,0,0,0,0,0,0,0,0,0,0,0,0,0,0,0,0,0,0,0,0,0,0,0,0,0,0,0,0,0,0,0,0,0,0,0,0,0,2,2,0,0,0,0,1,1,0,0,0,0,4,4,0,0,0,0,0,0,0,0,0,0,0,0,0,0,0,0,0,0,0,0,0,0,0,0,0,0,0,0,0,0,0,0,0,0,0,0,0,0,0,0,0,0,0,0,0,0,0,0,0,12,12,0,0,0,0,0,0,0,0,0,0,0,14,14,0,0,0,0,0,0,0,0,0,0,0,0,0,0,0,0,0,0,0,0,0,0,0,0,0,0,0,0,0,0,0,0,0,0,0,1,1,0,0,0,0,0,0,0,0,0,0,0,0,0,0,1,1,0,0,0,20,20,0,0,0,0,0,0,0,0,0,0,0,0,0,0,1,1,0,0,0,0,0,69,69,0,0,1,1,0,0,0,0,0,0,0,0,0,0,0,0,0,1,1,0,1,1,0,0,4,4,0,0,0,0,0,0,0,0,0,0,0,0,0,0,0,0,0,0,0,0,0,0,0,0,0,0,0,0,0,0,0,0,0,0,0,0,0,0,0,0,0,0,0,0,0,0,0,0,0,0,0,0,1,1,0,0,0,0,0,0,0,0,0,0,0,0,1,1,1,1,0,0,0,0,2,2,18,18,0,0,0,0,0,0,13,13,0,0,0,1,1,0,0,0,0,0,0,0,0,0,0,0,12,12,0,0,0,0,0,0,0,0,0,0,1,1,0,0,0,0,0,3,3,0,0,0,0,0,0,0,0,0,0,0,0,0,1,1,0,0,0,0],\"sizemode\":\"area\",\"sizeref\":0.07666666666666666,\"symbol\":\"circle\"},\"mode\":\"markers\",\"name\":\"Positive\",\"orientation\":\"v\",\"showlegend\":true,\"type\":\"scatter\",\"x\":[0.195,0.8,0.39,0.3833333333333333,0.30000000000000004,0.12291666666666667,0.4116666666666667,0.39,0.39999999999999997,0.35,0.7,1.0,0.5,0.7666666666666666,0.19375,0.3,0.35625,1.0,0.39999999999999997,0.4,0.7,0.5733333333333334,0.8,0.012499999999999997,0.15625,0.8125,0.3333333333333333,0.01000000000000002,0.39999999999999997,0.39999999999999997,1.0,0.1,0.26666666666666666,0.25,0.31666666666666665,0.4291666666666667,0.5249999999999999,0.25,0.5,0.8,1.0,0.4083333333333334,0.25,0.2520833333333333,0.25,0.08418803418803421,0.33948717948717955,0.5375,0.87,0.5,0.35,0.2,0.356,0.78,0.64,1.0,0.3666666666666667,0.3666666666666667,0.2953125,0.5,0.525,1.0,0.8,0.3138888888888889,0.8,0.4708333333333333,0.43333333333333335,0.1875,0.7,0.30077922077922076,0.476,1.0,0.13125,0.09004329004329005,0.09004329004329005,0.12000000000000002,0.5,0.65,0.39999999999999997,0.5,0.35000000000000003,0.6,0.5,0.7,0.6,0.1830357142857143,0.4,0.3773809523809524,0.875,0.11249999999999999,0.275,0.625,0.275,0.26666666666666666,0.6541666666666667,1.0,0.8,0.7,0.6,0.65,0.6366666666666666,0.625,0.6,0.5,0.5,1.0,0.5,0.5,0.3333333333333333,0.41111111111111104,0.2333333333333333,0.7,0.23749999999999996,0.7,0.32,0.5,0.375,0.6,0.8,0.5633333333333334,0.7,0.23083333333333333,0.20694444444444446,0.3333333333333333,1.0,0.6000000000000001,0.15333333333333338,0.475,0.302,0.3,0.6,0.375,0.47727272727272724,0.9099999999999999,1.0,0.575,1.0,0.3833333333333333,1.0,1.0,1.0,0.85,0.5,0.225,0.33,0.5,0.5,0.3799242424242424,0.4,0.1,0.8,0.35833333333333334,0.55,0.7,0.6000000000000001,0.7500000000000001,0.27604166666666663,0.6,0.1574074074074074,1.0,0.7,0.20000000000000004,0.20000000000000004,0.40261904761904765,0.2571428571428572,0.375,0.4,0.7,0.14322916666666663,0.6000000000000001,0.2,0.6000000000000001,0.5,0.3,0.13636363636363635,0.8,0.5,0.21666666666666667,0.2571428571428571,0.8,1.0,0.36875,0.4875,0.65,0.39,0.19393939393939397,0.3,0.23619047619047615,0.06166666666666667,0.9099999999999999,0.6,1.0,0.625,0.25,1.0,0.2285714285714286,0.4375,0.0625,0.2,0.5,0.4125,0.325,0.240530303030303,0.625,0.34027777777777785,0.8,1.0,0.5,0.3057142857142857,0.01875,0.5,0.33142857142857146,0.9099999999999999,0.675,0.5833333333333334,0.7,0.2,0.6,0.35,0.25,0.8,0.21666666666666667,0.13333333333333336,1.0,1.0,0.7,0.3541666666666667,0.6000000000000001,0.6,0.284375,0.11666666666666668,0.6,0.5033333333333333,0.6000000000000001,0.4720000000000001,0.44,0.5,0.2333333333333333,0.625,0.625,1.0,0.30625,0.65,0.375,0.4625,0.7,0.19999999999999998,0.19999999999999998,1.0,0.78,0.5,0.15,0.15,0.19,0.5666666666666668,0.5666666666666668,0.7200000000000001,0.5,0.12380952380952381,0.12380952380952381,0.25,0.25,0.6000000000000001,0.6428571428571428,0.5,0.5,0.7,0.5,0.02777777777777779,0.02777777777777779,0.31666666666666665,0.6875,0.6875,0.7,0.10476190476190478,0.10476190476190478,0.75,0.2,0.5,0.565,0.32619047619047625,0.53125,0.53125,0.5875,0.5875,0.27777777777777773,0.27777777777777773,1.0,1.0,0.2,0.1,0.1,0.23703703703703705,1.0,0.2,0.6000000000000001,0.6000000000000001,0.8,0.22,0.22,0.43333333333333335,0.43333333333333335,0.5333333333333333,0.5333333333333333,0.05,0.05,0.284375,0.5499999999999999,0.5499999999999999,0.6000000000000001,0.26534090909090907,0.26534090909090907,0.3897435897435898,0.3897435897435898,0.8,0.8,0.8,0.8,0.31666666666666665,0.31666666666666665,0.55,0.4375,0.4375,0.39125,0.39125,0.3944444444444444,0.3944444444444444,0.39999999999999997,0.3591666666666667,0.3591666666666667,0.4611111111111111,0.66875,0.66875,0.2708333333333333,0.2708333333333333,0.7500000000000001,0.55,0.7,0.23274582560296844,0.23274582560296844,0.45555555555555555,0.45555555555555555,0.85,0.85,0.07427156177156177,0.07427156177156177,0.34875,0.34875,0.8,0.8,0.44166666666666665,0.44166666666666665,0.5,0.43333333333333335,1.0,0.8,0.8,0.375,0.375,0.4464285714285714,0.39444444444444443,0.39444444444444443,0.3444444444444444,0.3444444444444444,0.06666666666666667,0.06666666666666667,1.0,0.225,0.225,0.7,0.2,0.7,0.45,0.4375,0.4375,1.0,0.38,0.4000000000000001,0.4000000000000001,0.76,0.76,0.4340909090909091,0.4340909090909091,1.0,0.8,1.0,0.41666666666666663,0.41666666666666663,0.509090909090909,0.5,0.4,0.07988095238095239,0.07988095238095239,0.20085714285714285,0.5,0.8,0.6,0.39,0.4777777777777778,0.5,0.5,0.7,0.17222222222222222,0.17222222222222222,0.605,0.5,0.8,0.15000000000000002,0.15000000000000002,0.39,0.7,0.2,0.15000000000000002,0.15000000000000002,0.39999999999999997,0.3333333333333333,0.3333333333333333,0.25,0.625,0.1775,0.1775,0.25,0.25,0.4166666666666667,0.9099999999999999,0.9099999999999999,0.7083333333333334,0.7083333333333334,0.44000000000000006,0.4625,0.4625,0.16,1.0,0.39999999999999997,0.39999999999999997,0.6,0.6000000000000001,0.6000000000000001,0.09999999999999998,0.09999999999999998,0.29545454545454547,0.29545454545454547,0.32,0.41111111111111115,0.2833333333333334,0.45,0.35,0.35,0.3375,0.3375,0.37777777777777777,0.37777777777777777,0.5357142857142857,0.5357142857142857,0.4666666666666666,0.4666666666666666,0.5,0.5,0.5833333333333333,0.5833333333333333,0.4,0.4,1.0,0.8,1.0,0.43333333333333335,0.43333333333333335,0.7000000000000001,0.7000000000000001,0.5041666666666667,0.5041666666666667,0.2,1.0,0.4,0.05625,0.05625,0.4125,0.4125,0.4,0.37,0.37,0.4116666666666667,0.8,0.8,0.35,1.0,1.0,0.2,0.2,0.3,0.35,0.35,1.0,0.31666666666666665,0.31666666666666665,1.0,0.36,0.55,0.7166666666666667,0.7166666666666667,0.48277777777777775,0.325,0.325,0.05885714285714285,0.05885714285714285,0.54,0.54,0.40138888888888885,0.40138888888888885,0.5125,0.5125,0.8,0.8,0.19722222222222224,0.19722222222222224,0.3,0.075,0.075,0.2833333333333333,0.2833333333333333,0.39444444444444443,0.39444444444444443,0.4,0.4,0.625,0.625,0.4375,0.8,0.4666666666666667,0.5,0.5,0.09375,0.09375,0.4375,0.4375,0.3333333333333333,0.3333333333333333,1.0,0.5633333333333334,0.5633333333333334,0.44999999999999996,0.29375,0.29375,0.5,0.2125,0.2125,1.0,0.6,0.125,0.24999999999999997,0.8,0.5933333333333334,0.7,0.125,0.125,0.25,0.25,0.3642857142857143,0.3642857142857143,1.0,1.0,0.8,0.4666666666666667,0.15,1.0,0.335,0.335,0.6,0.5,0.1,0.1,0.05,0.4121212121212121,0.4121212121212121,0.31559343434343434,0.31559343434343434,0.39,0.4666666666666666,0.4666666666666666,0.5454545454545454,0.5454545454545454,0.25,0.25,0.275,0.24999999999999997,1.0,0.09999999999999999,0.09999999999999999,0.39999999999999997,0.39999999999999997,0.2,0.2,0.06818181818181818,0.8,0.8,0.7166666666666667,1.0,0.22592592592592592,0.22592592592592592,0.43333333333333335,0.43333333333333335,0.13571428571428573,0.13571428571428573,0.5,0.3375,0.3375,0.6166666666666667,0.6166666666666667,0.75,0.25,0.4,1.0,0.3666666666666667,0.3666666666666667,0.04999999999999999,0.04999999999999999,0.3111111111111111,0.3111111111111111,0.3,0.35,0.35,0.4066666666666666,0.4066666666666666,0.43047619047619046,0.43047619047619046,0.4,0.39999999999999997,0.3833333333333333,0.3833333333333333,0.5,0.2,0.6777777777777777,0.6777777777777777,0.35,0.35,0.10714285714285714,0.10714285714285714,0.8,0.8,0.6,0.6,0.17500000000000002,0.17500000000000002,0.5,1.0,0.3333333333333333,0.7625,0.13333333333333333,0.13333333333333333,0.3,0.3,0.17045454545454544,0.17045454545454544,1.0,0.23214285714285715,0.23214285714285715,0.5,1.0,1.0,0.17539682539682536,0.17539682539682536,0.5166666666666667,0.875,0.4083333333333333,0.4083333333333333,0.06613476485635576,0.06613476485635576,0.8,0.4375,0.4375,0.35,0.5833333333333334,0.7,0.175,0.175,0.465,0.465,0.14444444444444446,0.14444444444444446,0.25,0.25,0.39999999999999997,0.75,0.13999999999999999,0.13999999999999999,0.4,0.8,0.2,1.0,0.3,0.6,0.575,0.575,0.06818181818181818,0.06818181818181818,0.6194444444444445,0.08333333333333333,0.55,0.5,0.4202380952380952,0.4202380952380952,0.38333333333333336,0.38333333333333336,0.5666666666666667,0.5666666666666667,0.45499999999999996,0.45499999999999996,0.28583333333333333,0.28583333333333333,0.16904761904761909,0.16904761904761909,0.6000000000000001,0.6000000000000001,0.43333333333333335,0.02361111111111112,0.02361111111111112,0.75,0.75,0.2833333333333333,0.4,0.4,0.5633333333333334,0.17777777777777778,0.17777777777777778,0.6229166666666667,0.6229166666666667,0.75,0.32888888888888895,0.32888888888888895,0.2,0.2875,0.2875,1.0,0.3666666666666667,0.3666666666666667,0.8,0.6,0.22777777777777777,0.22777777777777777,0.12499999999999999,0.12499999999999999,0.6,0.5,0.9099999999999999,0.9099999999999999,0.5,0.26666666666666666,0.26666666666666666,0.13333333333333333,0.16,0.13333333333333333,0.08333333333333331,0.08333333333333331,0.21428571428571427,0.26875,0.3900432900432901,0.3900432900432901,0.35555555555555557,0.35555555555555557,0.6,0.6,0.0722222222222222,0.0722222222222222,0.2,0.2,0.0625,0.78],\"xaxis\":\"x\",\"y\":[0.5,0.75,0.0,0.75,0.725,0.6666666666666667,0.4166666666666667,0.0,0.5,0.45,0.6000000000000001,1.0,0.5,0.6666666666666666,0.36875,0.0,0.525,1.0,0.4000000000000001,0.375,0.6000000000000001,0.6608333333333334,0.75,0.3375,0.3125,0.8,0.47222222222222215,0.46416666666666667,0.43333333333333335,0.8,1.0,0.225,0.9166666666666667,0.15000000000000002,0.5666666666666667,0.5895833333333333,0.6333333333333333,0.3,0.6,0.75,1.0,0.6666666666666666,0.6458333333333333,0.5476190476190477,0.55,0.6017094017094017,0.566025641025641,0.4,0.7933333333333334,0.5,0.36250000000000004,0.2,0.48600000000000004,1.0,0.75,0.3,0.45,0.45,0.553125,0.5,0.5166666666666666,1.0,0.75,0.5555555555555556,0.75,0.525,0.5666666666666668,0.7,0.6000000000000001,0.5535064935064935,0.82,1.0,0.35,0.4518398268398268,0.4518398268398268,0.4,0.7380952380952381,1.0,0.8,0.6,0.65,0.55,0.6785714285714286,0.6000000000000001,1.0,0.4616071428571428,0.9,0.4825892857142857,0.6000000000000001,0.29375,0.5,0.6,0.65,0.5833333333333334,0.7166666666666668,1.0,0.75,0.6000000000000001,0.55,0.625,0.6266666666666667,0.6,0.6000000000000001,0.5,0.6,0.3,0.775,0.775,0.3,0.7111111111111111,0.3523809523809524,0.6000000000000001,0.725,0.6000000000000001,0.6000000000000001,0.4,0.35,1.0,0.75,1.0,0.6000000000000001,0.30833333333333335,0.6777777777777777,0.6666666666666666,1.0,0.9,0.645,0.4666666666666667,0.336,0.0,0.775,0.0,0.5609090909090909,0.7800000000000001,1.0,0.625,0.3,0.6,0.3,1.0,1.0,0.8,0.6,0.545,0.57,0.5,0.6,0.4428030303030303,0.9,1.0,0.75,0.45833333333333337,0.75,0.6000000000000001,0.9,0.9,0.6358333333333334,1.0,0.3314814814814815,0.3,0.6000000000000001,0.8000000000000002,0.8000000000000002,0.5428571428571428,0.5428571428571429,0.5,0.25,0.6000000000000001,0.5633928571428571,0.9,0.2,0.9,0.5,0.7333333333333334,0.5,0.75,0.6,0.6488095238095238,0.5029761904761906,0.75,0.3,0.7,0.8,0.675,0.0,0.5090909090909091,0.2,0.49428571428571433,0.33333333333333337,0.7800000000000001,0.5833333333333334,1.0,1.0,0.2833333333333333,1.0,0.5416666666666666,0.44999999999999996,0.4148809523809524,0.3,0.32857142857142857,0.35,0.4125,0.4202861952861953,0.6,0.5513888888888889,0.825,1.0,0.5,0.4742857142857143,0.35833333333333334,0.38125,0.5238095238095238,0.7800000000000001,0.53125,0.91,0.6000000000000001,0.2,1.0,0.65,0.5,0.75,0.55,0.6933333333333334,0.3,0.75,0.6000000000000001,0.44722222222222224,0.9,1.0,0.446875,0.5833333333333334,1.0,0.5766666666666668,0.9,0.312,0.55,0.5,0.5888888888888889,0.6,0.6,1.0,0.625,0.75,0.5785714285714286,0.5,0.6000000000000001,0.47500000000000003,0.47500000000000003,1.0,1.0,0.6,0.44000000000000006,0.44000000000000006,0.7,0.7666666666666666,0.7666666666666666,0.6133333333333333,0.54,0.5023809523809524,0.5023809523809524,0.7583333333333333,0.7583333333333333,0.9,0.7678571428571428,0.5549999999999999,0.5549999999999999,0.6000000000000001,0.6,0.3972222222222222,0.3972222222222222,0.5666666666666667,0.7,0.7,0.6000000000000001,0.5452380952380952,0.5452380952380952,0.6900000000000001,0.3,0.6,0.8333333333333333,0.45619047619047615,0.45,0.45,0.3666666666666667,0.3666666666666667,0.6444444444444445,0.6444444444444445,0.65,0.65,0.3,0.37857142857142856,0.37857142857142856,0.6518518518518519,0.3,0.2,0.9,0.9,0.75,0.37999999999999995,0.37999999999999995,0.8333333333333334,0.8333333333333334,0.6500000000000001,0.6500000000000001,0.1,0.1,0.6546428571428572,0.8333333333333334,0.8333333333333334,0.9,0.5198863636363636,0.5198863636363636,0.5492673992673992,0.5492673992673992,0.75,0.75,0.75,0.75,0.5666666666666667,0.5666666666666667,0.8,0.8,0.8,0.43125,0.43125,0.7444444444444445,0.7444444444444445,0.39999999999999997,0.5458333333333333,0.5458333333333333,0.5,0.5875,0.5875,0.5555555555555556,0.5555555555555556,0.9,0.8,0.6000000000000001,0.5394248608534323,0.5394248608534323,0.7555555555555555,0.7555555555555555,1.0,1.0,0.46075398960014347,0.46075398960014347,0.5349999999999999,0.5349999999999999,0.95,0.95,0.47500000000000003,0.47500000000000003,0.5,0.7857142857142857,0.3,0.75,0.75,0.5135416666666667,0.5135416666666667,0.5357142857142857,0.5722222222222223,0.5722222222222223,0.7301587301587302,0.7301587301587302,0.5,0.5,1.0,0.5416666666666666,0.5416666666666666,0.6000000000000001,0.2,0.6000000000000001,0.95,0.5642857142857143,0.5642857142857143,0.3,0.43,0.3,0.3,0.75,0.75,0.48863636363636365,0.48863636363636365,1.0,0.75,0.3,0.55,0.55,0.6386363636363637,0.5,0.55,0.5535714285714285,0.5535714285714285,0.19428571428571426,0.5,0.75,1.0,0.0,0.6111111111111112,0.6,0.6,0.6000000000000001,0.4444444444444444,0.4444444444444444,0.39000000000000007,0.6,0.75,0.875,0.875,0.0,0.6000000000000001,0.25,0.475,0.475,0.8,0.5,0.5,0.47857142857142854,0.6,0.5974999999999999,0.5974999999999999,0.44999999999999996,0.44999999999999996,0.5,0.7800000000000001,0.7800000000000001,0.7999999999999999,0.7999999999999999,0.5800000000000001,0.6972222222222222,0.6972222222222222,0.5399999999999999,0.3,0.5,0.5,1.0,0.9,0.9,0.5,0.5,0.4348484848484848,0.4348484848484848,0.15,0.5333333333333333,0.2833333333333333,0.525,0.35,0.35,0.35,0.35,0.6777777777777779,0.6777777777777779,0.40317460317460313,0.40317460317460313,0.39333333333333337,0.39333333333333337,0.6,0.6,0.7708333333333334,0.7708333333333334,0.375,0.375,0.3,0.75,0.3,0.7833333333333333,0.7833333333333333,0.825,0.825,0.4666666666666666,0.4666666666666666,0.2,0.3,0.625,0.48125,0.48125,0.4,0.4,0.6,0.45999999999999996,0.45999999999999996,0.4166666666666667,0.75,0.75,0.4,0.875,0.875,0.3,0.3,0.6785714285714286,0.62,0.62,0.6,0.5666666666666667,0.5666666666666667,0.3,0.55,0.95,0.9166666666666667,0.9166666666666667,0.4777777777777778,0.5583333333333333,0.5583333333333333,0.5482857142857143,0.5482857142857143,0.465,0.465,0.5555555555555557,0.5555555555555557,0.625,0.625,0.75,0.75,0.35833333333333334,0.35833333333333334,0.0,0.27499999999999997,0.27499999999999997,0.6416666666666667,0.6416666666666667,0.6388888888888888,0.6388888888888888,0.75,0.75,0.6,0.6,0.65,0.75,0.6666666666666667,0.8,0.8,0.45208333333333334,0.45208333333333334,0.3375,0.3375,0.4916666666666667,0.4916666666666667,1.0,0.5333333333333333,0.5333333333333333,0.6000000000000001,0.16875,0.16875,0.75,0.43749999999999994,0.43749999999999994,0.75,1.0,1.0,0.6000000000000001,0.75,0.6666666666666666,0.95,0.125,0.125,0.5625,0.5625,0.5867346938775511,0.5867346938775511,0.75,1.0,0.75,0.8333333333333333,0.5,1.0,0.525,0.525,1.0,0.4750000000000001,0.12,0.12,0.625,0.5515151515151515,0.5515151515151515,0.5247474747474747,0.5247474747474747,0.0,0.43333333333333335,0.43333333333333335,0.6515151515151515,0.6515151515151515,0.3,0.3,0.65,0.5,1.0,0.19999999999999998,0.19999999999999998,0.43333333333333335,0.43333333333333335,0.2,0.2,0.22727272727272727,0.75,0.75,0.5666666666666667,1.0,0.4824074074074074,0.4824074074074074,0.8333333333333334,0.8333333333333334,0.5523809523809524,0.5523809523809524,0.6,0.475,0.475,0.7916666666666667,0.7916666666666667,0.675,0.3,0.9,0.3,0.5972222222222222,0.5972222222222222,0.75,0.75,0.4511904761904762,0.4511904761904762,0.0,0.6,0.6,0.4533333333333333,0.4533333333333333,0.5285714285714286,0.5285714285714286,0.7,0.3666666666666667,0.7583333333333333,0.7583333333333333,0.5,0.2,0.7111111111111111,0.7111111111111111,0.7,0.7,0.32142857142857145,0.32142857142857145,0.75,0.75,1.0,1.0,0.5083333333333333,0.5083333333333333,0.5,1.0,0.6666666666666666,0.75,0.5333333333333333,0.5333333333333333,0.0,0.0,0.4431818181818182,0.4431818181818182,1.0,0.5464285714285715,0.5464285714285715,0.6,1.0,1.0,0.6587301587301587,0.6587301587301587,0.8666666666666667,0.975,0.775,0.775,0.46736029122392764,0.46736029122392764,0.75,0.47857142857142865,0.47857142857142865,0.65,0.7166666666666667,0.6000000000000001,0.44999999999999996,0.44999999999999996,0.5177777777777778,0.5177777777777778,0.4222222222222222,0.4222222222222222,0.3625,0.3625,0.8,0.4,0.5,0.5,0.9,0.75,0.3,0.3,0.0,1.0,0.78125,0.78125,0.22727272727272727,0.22727272727272727,0.7277777777777779,0.43333333333333335,0.65,0.5,0.5047619047619049,0.5047619047619049,0.8083333333333333,0.8083333333333333,0.5166666666666667,0.5166666666666667,0.39000000000000007,0.39000000000000007,0.4058333333333333,0.4058333333333333,0.5190476190476191,0.5190476190476191,0.75,0.75,0.8333333333333334,0.24285714285714288,0.24285714285714288,0.75,0.75,0.36282051282051286,0.425,0.425,1.0,0.9444444444444445,0.9444444444444445,0.7541666666666668,0.7541666666666668,0.8,0.5155555555555555,0.5155555555555555,0.3,0.4,0.4,0.75,0.5833333333333334,0.5833333333333334,0.75,1.0,0.36111111111111116,0.36111111111111116,0.22500000000000003,0.22500000000000003,1.0,0.6,0.7800000000000001,0.7800000000000001,0.775,0.3333333333333333,0.3333333333333333,0.7000000000000001,0.5399999999999999,0.7000000000000001,0.5166666666666666,0.5166666666666666,0.5714285714285714,0.5869791666666667,0.7996753246753247,0.7996753246753247,0.7234126984126985,0.7234126984126985,1.0,1.0,0.5618055555555554,0.5618055555555554,0.2,0.2,0.34375,1.0],\"yaxis\":\"y\"},{\"hovertemplate\":\"Analysis=Neutral<br>Polarity=%{x}<br>Subjectivity=%{y}<br>thumbsUpCount=%{marker.size}<extra></extra>\",\"legendgroup\":\"Neutral\",\"marker\":{\"color\":\"#00CC96\",\"size\":[0,0,0,0,0,0,0,0,0,0,0,0,2,0,0,0,0,0,0,5,0,0,0,0,0,0,0,0,0,1,0,0,0,0,0,0,0,0,0,0,0,0,0,0,0,0,1,1,1,0,0,0,0,0,0,0,0,0,0,0,0,0,0,0,0,0,0,0,0,0,0,0,0,7,0,0,0,0,0,0,0,0,1,1,0,0,0,0,0,0,0,0,0,0,0,0,0,0,0,0,0,0,0,0,0,0,0,0,0,0,0,0,0,0,0,0,0,0,1,1,0,0,0,0,0,0,0],\"sizemode\":\"area\",\"sizeref\":0.07666666666666666,\"symbol\":\"circle\"},\"mode\":\"markers\",\"name\":\"Neutral\",\"orientation\":\"v\",\"showlegend\":true,\"type\":\"scatter\",\"x\":[0.0,0.0,0.0,0.0,0.0,0.0,0.0,0.0,0.0,0.0,0.0,0.0,0.0,0.0,0.0,0.0,0.0,0.0,0.0,0.0,0.0,0.0,0.0,0.0,0.0,0.0,0.0,0.0,0.0,0.0,0.0,0.0,0.0,0.0,0.0,0.0,0.0,0.0,0.0,0.0,0.0,0.0,0.0,0.0,0.0,0.0,0.0,0.0,0.0,0.0,0.0,0.0,0.0,0.0,0.0,0.0,0.0,0.0,0.0,0.0,0.0,0.0,0.0,0.0,0.0,0.0,0.0,0.0,0.0,0.0,0.0,0.0,0.0,0.0,0.0,0.0,0.0,0.0,0.0,0.0,0.0,0.0,0.0,0.0,0.0,0.0,0.0,0.0,0.0,0.0,0.0,0.0,0.0,0.0,0.0,0.0,0.0,0.0,0.0,0.0,0.0,0.0,0.0,0.0,0.0,0.0,0.0,0.0,0.0,0.0,0.0,0.0,0.0,0.0,0.0,0.0,0.0,0.0,0.0,0.0,0.0,0.0,0.0,0.0,0.0,0.0,0.0],\"xaxis\":\"x\",\"y\":[0.3333333333333333,0.0,0.0,0.3,0.0,0.0,0.0,0.0,0.0,0.0,0.0,0.0,0.0,0.0,0.0,0.0,0.0,0.3333333333333333,0.0,0.0,0.0,0.0,0.0,0.0,0.0,0.0,0.0,0.0,0.0,0.0,0.0,0.0,0.0,0.0,0.0,0.0,0.6666666666666666,0.35714285714285715,0.5,0.0,0.0,0.0,0.0,0.0,0.0,0.0,0.25,0.18333333333333335,0.18333333333333335,0.0,0.0,0.0,0.0,0.0,0.0,0.0,0.0,0.0,0.0,0.0,0.0,0.0,0.0,0.0,0.0,0.0,0.0,0.75,0.75,0.39999999999999997,0.39999999999999997,0.0,0.0,0.0,0.0,0.0,0.0,0.0,0.0,0.0,0.0,0.0,1.0,1.0,0.0,0.1,0.0,0.0,0.0,0.0,0.0,0.0,0.0,0.0,0.0,0.0,0.0,0.0,0.0,0.0,0.0,0.0,0.0,0.0,0.0,0.0,0.0,0.4,0.0,0.0,0.0,0.0,0.4,0.4,0.0,0.0,0.0,0.0,0.8,0.8,1.0,0.0,0.5,0.5,0.0,0.0,0.0],\"yaxis\":\"y\"},{\"hovertemplate\":\"Analysis=Negative<br>Polarity=%{x}<br>Subjectivity=%{y}<br>thumbsUpCount=%{marker.size}<extra></extra>\",\"legendgroup\":\"Negative\",\"marker\":{\"color\":\"#EF553B\",\"size\":[0,0,0,2,0,0,0,0,0,0,0,0,0,0,0,0,0,0,1,1,0,0,0,0,0,0,0,0,0,0,1,0,0,1,0,0,1,1,0,0,0,0,2,2,0,0,1,1,0,0,0,0,0,0,0,0,0,0,0,0,0,0,0,0,0,0,0,0,0,0,0,0,0,0,0,0,0,0,0,0,0,0,0,0,0,2,2,0,0,5,5,0,0,4,4,0,0,0,13,13,1,1,0,0,0,0],\"sizemode\":\"area\",\"sizeref\":0.07666666666666666,\"symbol\":\"circle\"},\"mode\":\"markers\",\"name\":\"Negative\",\"orientation\":\"v\",\"showlegend\":true,\"type\":\"scatter\",\"x\":[-0.25555555555555554,-0.25,-0.029166666666666674,-0.005612244897959188,-0.45,-0.2,-0.17333333333333334,-0.18828125,-0.6999999999999998,-0.8,-0.6666666666666666,-0.75,-0.25,-0.020454545454545458,-0.05000000000000001,-0.625,-1.0,-1.0,-0.07857142857142857,-0.07857142857142857,-0.375,-1.0,-0.11833333333333335,-0.13111111111111112,-0.8,-0.25,-1.586032892321652e-17,-0.3249999999999999,-0.2,-0.06666666666666667,-0.8,-0.32666666666666666,-0.32666666666666666,-0.4166666666666667,-0.2,-0.5,-0.1,-0.1,-0.07142857142857142,-0.07142857142857142,-0.05892857142857143,-0.05892857142857143,-0.05750000000000001,-0.05750000000000001,-0.4,-0.4,-0.2,-0.2,-0.35625,-0.35625,-0.11333333333333336,-0.11333333333333336,-0.8,-0.8,-0.5,-0.5,-0.028571428571428574,-0.028571428571428574,-0.2499999999999999,-0.2499999999999999,-0.8,-0.8,-0.03333333333333333,-0.03333333333333333,-0.11000000000000001,-0.11000000000000001,-0.1,-0.1,-0.2,-0.06000000000000001,-0.9099999999999998,-0.43333333333333335,-0.0625,-0.0625,-0.5,-0.5,-0.0625,-0.0625,-0.1,-0.10714285714285714,-0.10714285714285714,-0.16111111111111112,-0.16111111111111112,-0.024285714285714275,-0.024285714285714275,-0.07500000000000001,-0.07500000000000001,-0.012500000000000011,-0.21666666666666667,-0.08958333333333333,-0.08958333333333333,-0.4,-0.4,-0.07091836734693877,-0.07091836734693877,-0.4,-0.2714285714285714,-0.5,-0.1392857142857143,-0.1392857142857143,-0.06666666666666667,-0.06666666666666667,-0.025,-0.025,-0.1,-0.1],\"xaxis\":\"x\",\"y\":[0.3722222222222223,0.3,0.2333333333333333,0.401530612244898,0.65,0.0,0.5,0.6,0.6666666666666666,0.9,0.6,0.9,0.1,0.508080808080808,0.42083333333333334,0.5,0.9,0.875,0.6339285714285714,0.6339285714285714,0.6,1.0,0.95,0.39777777777777773,0.9,0.3,0.6571428571428571,0.31666666666666665,0.4,0.03333333333333333,0.9,0.6533333333333333,0.6533333333333333,0.6666666666666666,0.25,0.5,0.22999999999999998,0.22999999999999998,0.5714285714285714,0.5714285714285714,0.4107142857142857,0.4107142857142857,0.40750000000000003,0.40750000000000003,0.45,0.45,0.5,0.5,0.575,0.575,0.4933333333333333,0.4933333333333333,0.9,0.9,0.45,0.45,0.3238095238095238,0.3238095238095238,0.43333333333333335,0.43333333333333335,0.9,0.9,0.26666666666666666,0.26666666666666666,0.47333333333333333,0.47333333333333333,0.4,0.4,0.4,0.42000000000000004,0.8666666666666667,0.3666666666666667,0.7083333333333334,0.7083333333333334,0.9,0.9,0.1875,0.1875,0.5875,0.4412698412698413,0.4412698412698413,0.6,0.6,0.3,0.3,0.6142857142857143,0.6142857142857143,0.55,0.8333333333333334,0.525,0.525,0.6285714285714286,0.6285714285714286,0.5407312925170068,0.5407312925170068,0.45,0.42142857142857143,0.5,0.48214285714285715,0.48214285714285715,0.03333333333333333,0.03333333333333333,0.2,0.2,0.5,0.5],\"yaxis\":\"y\"}],                        {\"annotations\":[{}],\"legend\":{\"itemsizing\":\"constant\",\"title\":{\"text\":\"Analysis\"},\"tracegroupgap\":0},\"shapes\":[{\"line\":{\"color\":\"black\",\"dash\":\"dash\",\"width\":1},\"type\":\"line\",\"x0\":0,\"x1\":0,\"xref\":\"x\",\"y0\":0,\"y1\":1,\"yref\":\"y domain\"}],\"template\":{\"data\":{\"bar\":[{\"error_x\":{\"color\":\"#2a3f5f\"},\"error_y\":{\"color\":\"#2a3f5f\"},\"marker\":{\"line\":{\"color\":\"#E5ECF6\",\"width\":0.5},\"pattern\":{\"fillmode\":\"overlay\",\"size\":10,\"solidity\":0.2}},\"type\":\"bar\"}],\"barpolar\":[{\"marker\":{\"line\":{\"color\":\"#E5ECF6\",\"width\":0.5},\"pattern\":{\"fillmode\":\"overlay\",\"size\":10,\"solidity\":0.2}},\"type\":\"barpolar\"}],\"carpet\":[{\"aaxis\":{\"endlinecolor\":\"#2a3f5f\",\"gridcolor\":\"white\",\"linecolor\":\"white\",\"minorgridcolor\":\"white\",\"startlinecolor\":\"#2a3f5f\"},\"baxis\":{\"endlinecolor\":\"#2a3f5f\",\"gridcolor\":\"white\",\"linecolor\":\"white\",\"minorgridcolor\":\"white\",\"startlinecolor\":\"#2a3f5f\"},\"type\":\"carpet\"}],\"choropleth\":[{\"colorbar\":{\"outlinewidth\":0,\"ticks\":\"\"},\"type\":\"choropleth\"}],\"contour\":[{\"colorbar\":{\"outlinewidth\":0,\"ticks\":\"\"},\"colorscale\":[[0.0,\"#0d0887\"],[0.1111111111111111,\"#46039f\"],[0.2222222222222222,\"#7201a8\"],[0.3333333333333333,\"#9c179e\"],[0.4444444444444444,\"#bd3786\"],[0.5555555555555556,\"#d8576b\"],[0.6666666666666666,\"#ed7953\"],[0.7777777777777778,\"#fb9f3a\"],[0.8888888888888888,\"#fdca26\"],[1.0,\"#f0f921\"]],\"type\":\"contour\"}],\"contourcarpet\":[{\"colorbar\":{\"outlinewidth\":0,\"ticks\":\"\"},\"type\":\"contourcarpet\"}],\"heatmap\":[{\"colorbar\":{\"outlinewidth\":0,\"ticks\":\"\"},\"colorscale\":[[0.0,\"#0d0887\"],[0.1111111111111111,\"#46039f\"],[0.2222222222222222,\"#7201a8\"],[0.3333333333333333,\"#9c179e\"],[0.4444444444444444,\"#bd3786\"],[0.5555555555555556,\"#d8576b\"],[0.6666666666666666,\"#ed7953\"],[0.7777777777777778,\"#fb9f3a\"],[0.8888888888888888,\"#fdca26\"],[1.0,\"#f0f921\"]],\"type\":\"heatmap\"}],\"heatmapgl\":[{\"colorbar\":{\"outlinewidth\":0,\"ticks\":\"\"},\"colorscale\":[[0.0,\"#0d0887\"],[0.1111111111111111,\"#46039f\"],[0.2222222222222222,\"#7201a8\"],[0.3333333333333333,\"#9c179e\"],[0.4444444444444444,\"#bd3786\"],[0.5555555555555556,\"#d8576b\"],[0.6666666666666666,\"#ed7953\"],[0.7777777777777778,\"#fb9f3a\"],[0.8888888888888888,\"#fdca26\"],[1.0,\"#f0f921\"]],\"type\":\"heatmapgl\"}],\"histogram\":[{\"marker\":{\"pattern\":{\"fillmode\":\"overlay\",\"size\":10,\"solidity\":0.2}},\"type\":\"histogram\"}],\"histogram2d\":[{\"colorbar\":{\"outlinewidth\":0,\"ticks\":\"\"},\"colorscale\":[[0.0,\"#0d0887\"],[0.1111111111111111,\"#46039f\"],[0.2222222222222222,\"#7201a8\"],[0.3333333333333333,\"#9c179e\"],[0.4444444444444444,\"#bd3786\"],[0.5555555555555556,\"#d8576b\"],[0.6666666666666666,\"#ed7953\"],[0.7777777777777778,\"#fb9f3a\"],[0.8888888888888888,\"#fdca26\"],[1.0,\"#f0f921\"]],\"type\":\"histogram2d\"}],\"histogram2dcontour\":[{\"colorbar\":{\"outlinewidth\":0,\"ticks\":\"\"},\"colorscale\":[[0.0,\"#0d0887\"],[0.1111111111111111,\"#46039f\"],[0.2222222222222222,\"#7201a8\"],[0.3333333333333333,\"#9c179e\"],[0.4444444444444444,\"#bd3786\"],[0.5555555555555556,\"#d8576b\"],[0.6666666666666666,\"#ed7953\"],[0.7777777777777778,\"#fb9f3a\"],[0.8888888888888888,\"#fdca26\"],[1.0,\"#f0f921\"]],\"type\":\"histogram2dcontour\"}],\"mesh3d\":[{\"colorbar\":{\"outlinewidth\":0,\"ticks\":\"\"},\"type\":\"mesh3d\"}],\"parcoords\":[{\"line\":{\"colorbar\":{\"outlinewidth\":0,\"ticks\":\"\"}},\"type\":\"parcoords\"}],\"pie\":[{\"automargin\":true,\"type\":\"pie\"}],\"scatter\":[{\"marker\":{\"colorbar\":{\"outlinewidth\":0,\"ticks\":\"\"}},\"type\":\"scatter\"}],\"scatter3d\":[{\"line\":{\"colorbar\":{\"outlinewidth\":0,\"ticks\":\"\"}},\"marker\":{\"colorbar\":{\"outlinewidth\":0,\"ticks\":\"\"}},\"type\":\"scatter3d\"}],\"scattercarpet\":[{\"marker\":{\"colorbar\":{\"outlinewidth\":0,\"ticks\":\"\"}},\"type\":\"scattercarpet\"}],\"scattergeo\":[{\"marker\":{\"colorbar\":{\"outlinewidth\":0,\"ticks\":\"\"}},\"type\":\"scattergeo\"}],\"scattergl\":[{\"marker\":{\"colorbar\":{\"outlinewidth\":0,\"ticks\":\"\"}},\"type\":\"scattergl\"}],\"scattermapbox\":[{\"marker\":{\"colorbar\":{\"outlinewidth\":0,\"ticks\":\"\"}},\"type\":\"scattermapbox\"}],\"scatterpolar\":[{\"marker\":{\"colorbar\":{\"outlinewidth\":0,\"ticks\":\"\"}},\"type\":\"scatterpolar\"}],\"scatterpolargl\":[{\"marker\":{\"colorbar\":{\"outlinewidth\":0,\"ticks\":\"\"}},\"type\":\"scatterpolargl\"}],\"scatterternary\":[{\"marker\":{\"colorbar\":{\"outlinewidth\":0,\"ticks\":\"\"}},\"type\":\"scatterternary\"}],\"surface\":[{\"colorbar\":{\"outlinewidth\":0,\"ticks\":\"\"},\"colorscale\":[[0.0,\"#0d0887\"],[0.1111111111111111,\"#46039f\"],[0.2222222222222222,\"#7201a8\"],[0.3333333333333333,\"#9c179e\"],[0.4444444444444444,\"#bd3786\"],[0.5555555555555556,\"#d8576b\"],[0.6666666666666666,\"#ed7953\"],[0.7777777777777778,\"#fb9f3a\"],[0.8888888888888888,\"#fdca26\"],[1.0,\"#f0f921\"]],\"type\":\"surface\"}],\"table\":[{\"cells\":{\"fill\":{\"color\":\"#EBF0F8\"},\"line\":{\"color\":\"white\"}},\"header\":{\"fill\":{\"color\":\"#C8D4E3\"},\"line\":{\"color\":\"white\"}},\"type\":\"table\"}]},\"layout\":{\"annotationdefaults\":{\"arrowcolor\":\"#2a3f5f\",\"arrowhead\":0,\"arrowwidth\":1},\"autotypenumbers\":\"strict\",\"coloraxis\":{\"colorbar\":{\"outlinewidth\":0,\"ticks\":\"\"}},\"colorscale\":{\"diverging\":[[0,\"#8e0152\"],[0.1,\"#c51b7d\"],[0.2,\"#de77ae\"],[0.3,\"#f1b6da\"],[0.4,\"#fde0ef\"],[0.5,\"#f7f7f7\"],[0.6,\"#e6f5d0\"],[0.7,\"#b8e186\"],[0.8,\"#7fbc41\"],[0.9,\"#4d9221\"],[1,\"#276419\"]],\"sequential\":[[0.0,\"#0d0887\"],[0.1111111111111111,\"#46039f\"],[0.2222222222222222,\"#7201a8\"],[0.3333333333333333,\"#9c179e\"],[0.4444444444444444,\"#bd3786\"],[0.5555555555555556,\"#d8576b\"],[0.6666666666666666,\"#ed7953\"],[0.7777777777777778,\"#fb9f3a\"],[0.8888888888888888,\"#fdca26\"],[1.0,\"#f0f921\"]],\"sequentialminus\":[[0.0,\"#0d0887\"],[0.1111111111111111,\"#46039f\"],[0.2222222222222222,\"#7201a8\"],[0.3333333333333333,\"#9c179e\"],[0.4444444444444444,\"#bd3786\"],[0.5555555555555556,\"#d8576b\"],[0.6666666666666666,\"#ed7953\"],[0.7777777777777778,\"#fb9f3a\"],[0.8888888888888888,\"#fdca26\"],[1.0,\"#f0f921\"]]},\"colorway\":[\"#636efa\",\"#EF553B\",\"#00cc96\",\"#ab63fa\",\"#FFA15A\",\"#19d3f3\",\"#FF6692\",\"#B6E880\",\"#FF97FF\",\"#FECB52\"],\"font\":{\"color\":\"#2a3f5f\"},\"geo\":{\"bgcolor\":\"white\",\"lakecolor\":\"white\",\"landcolor\":\"#E5ECF6\",\"showlakes\":true,\"showland\":true,\"subunitcolor\":\"white\"},\"hoverlabel\":{\"align\":\"left\"},\"hovermode\":\"closest\",\"mapbox\":{\"style\":\"light\"},\"paper_bgcolor\":\"white\",\"plot_bgcolor\":\"#E5ECF6\",\"polar\":{\"angularaxis\":{\"gridcolor\":\"white\",\"linecolor\":\"white\",\"ticks\":\"\"},\"bgcolor\":\"#E5ECF6\",\"radialaxis\":{\"gridcolor\":\"white\",\"linecolor\":\"white\",\"ticks\":\"\"}},\"scene\":{\"xaxis\":{\"backgroundcolor\":\"#E5ECF6\",\"gridcolor\":\"white\",\"gridwidth\":2,\"linecolor\":\"white\",\"showbackground\":true,\"ticks\":\"\",\"zerolinecolor\":\"white\"},\"yaxis\":{\"backgroundcolor\":\"#E5ECF6\",\"gridcolor\":\"white\",\"gridwidth\":2,\"linecolor\":\"white\",\"showbackground\":true,\"ticks\":\"\",\"zerolinecolor\":\"white\"},\"zaxis\":{\"backgroundcolor\":\"#E5ECF6\",\"gridcolor\":\"white\",\"gridwidth\":2,\"linecolor\":\"white\",\"showbackground\":true,\"ticks\":\"\",\"zerolinecolor\":\"white\"}},\"shapedefaults\":{\"line\":{\"color\":\"#2a3f5f\"}},\"ternary\":{\"aaxis\":{\"gridcolor\":\"white\",\"linecolor\":\"white\",\"ticks\":\"\"},\"baxis\":{\"gridcolor\":\"white\",\"linecolor\":\"white\",\"ticks\":\"\"},\"bgcolor\":\"#E5ECF6\",\"caxis\":{\"gridcolor\":\"white\",\"linecolor\":\"white\",\"ticks\":\"\"}},\"title\":{\"x\":0.05},\"xaxis\":{\"automargin\":true,\"gridcolor\":\"white\",\"linecolor\":\"white\",\"ticks\":\"\",\"title\":{\"standoff\":15},\"zerolinecolor\":\"white\",\"zerolinewidth\":2},\"yaxis\":{\"automargin\":true,\"gridcolor\":\"white\",\"linecolor\":\"white\",\"ticks\":\"\",\"title\":{\"standoff\":15},\"zerolinecolor\":\"white\",\"zerolinewidth\":2}}},\"title\":{\"text\":\"Total App Reviews Sentiment Analysis with #Thumbs Up\"},\"xaxis\":{\"anchor\":\"y\",\"domain\":[0.0,1.0],\"title\":{\"text\":\"Polarity\"}},\"yaxis\":{\"anchor\":\"x\",\"domain\":[0.0,1.0],\"title\":{\"text\":\"Subjectivity\"}}},                        {\"responsive\": true}                    ).then(function(){\n",
       "                            \n",
       "var gd = document.getElementById('1331f6aa-3b40-4c67-bf34-b96b7860f148');\n",
       "var x = new MutationObserver(function (mutations, observer) {{\n",
       "        var display = window.getComputedStyle(gd).display;\n",
       "        if (!display || display === 'none') {{\n",
       "            console.log([gd, 'removed!']);\n",
       "            Plotly.purge(gd);\n",
       "            observer.disconnect();\n",
       "        }}\n",
       "}});\n",
       "\n",
       "// Listen for the removal of the full notebook cells\n",
       "var notebookContainer = gd.closest('#notebook-container');\n",
       "if (notebookContainer) {{\n",
       "    x.observe(notebookContainer, {childList: true});\n",
       "}}\n",
       "\n",
       "// Listen for the clearing of the current output cell\n",
       "var outputEl = gd.closest('.output');\n",
       "if (outputEl) {{\n",
       "    x.observe(outputEl, {childList: true});\n",
       "}}\n",
       "\n",
       "                        })                };                });            </script>        </div>"
      ]
     },
     "metadata": {},
     "output_type": "display_data"
    }
   ],
   "source": [
    "import plotly.express as px\n",
    "fig = px.scatter(data_frame=app_reviews, x='Polarity', y='Subjectivity', size='thumbsUpCount',color='Analysis', \n",
    "                 title='Total App Reviews Sentiment Analysis with #Thumbs Up', size_max=30,              \n",
    "                 color_discrete_map={\n",
    "                \"Positive\": \"#636EFA\",\n",
    "                \"Neutral\": \"#00CC96\",\n",
    "                \"Negative\": \"#EF553B\"})\n",
    "fig.add_vline(x=0, line_width=1, line_dash=\"dash\", line_color=\"black\")\n",
    "fig.add_annotation()\n",
    "fig.show()"
   ]
  },
  {
   "cell_type": "markdown",
   "id": "c62b0970",
   "metadata": {},
   "source": [
    "Most number of thumbs up are for positive reviews where also there being more highly positive reviews than negative reviews for the 1000 most recent reviews!"
   ]
  },
  {
   "cell_type": "code",
   "execution_count": 247,
   "id": "cffaecad",
   "metadata": {},
   "outputs": [
    {
     "data": {
      "application/vnd.plotly.v1+json": {
       "config": {
        "plotlyServerURL": "https://plot.ly"
       },
       "data": [
        {
         "hovertemplate": "Analysis=Positive<br>Polarity=%{x}<br>Subjectivity=%{y}<br>score=%{marker.size}<extra></extra>",
         "legendgroup": "Positive",
         "marker": {
          "color": "#636EFA",
          "size": [
           4,
           5,
           5,
           5,
           4,
           5,
           5,
           5,
           5,
           5,
           4,
           3,
           4,
           5,
           3,
           5,
           5,
           5,
           3,
           5,
           5,
           5,
           3,
           5,
           5,
           5,
           5,
           5,
           5,
           5,
           5,
           3,
           4,
           5,
           5,
           4,
           3,
           5,
           5,
           5,
           5,
           5,
           1,
           5,
           5,
           4,
           5,
           5,
           5,
           5,
           2,
           5,
           5,
           5,
           5,
           5,
           3,
           3,
           5,
           5,
           4,
           5,
           4,
           5,
           5,
           4,
           4,
           5,
           1,
           2,
           5,
           5,
           5,
           1,
           1,
           1,
           5,
           5,
           5,
           5,
           5,
           5,
           4,
           2,
           5,
           5,
           5,
           5,
           4,
           4,
           4,
           5,
           1,
           5,
           5,
           5,
           5,
           5,
           4,
           5,
           5,
           5,
           5,
           5,
           5,
           5,
           3,
           3,
           5,
           3,
           5,
           5,
           5,
           5,
           5,
           5,
           4,
           5,
           5,
           5,
           5,
           5,
           5,
           5,
           5,
           5,
           4,
           5,
           2,
           5,
           4,
           5,
           4,
           5,
           5,
           5,
           5,
           5,
           5,
           5,
           5,
           5,
           5,
           4,
           5,
           5,
           5,
           5,
           5,
           5,
           5,
           5,
           2,
           4,
           5,
           5,
           5,
           5,
           5,
           5,
           4,
           1,
           1,
           5,
           3,
           4,
           5,
           1,
           5,
           5,
           4,
           5,
           4,
           5,
           5,
           5,
           5,
           5,
           5,
           4,
           5,
           5,
           5,
           5,
           5,
           4,
           5,
           4,
           5,
           5,
           3,
           5,
           5,
           3,
           5,
           4,
           5,
           5,
           5,
           5,
           5,
           5,
           5,
           5,
           5,
           5,
           5,
           1,
           5,
           3,
           5,
           4,
           5,
           5,
           5,
           5,
           5,
           4,
           5,
           5,
           5,
           1,
           2,
           5,
           5,
           5,
           5,
           5,
           5,
           5,
           2,
           4,
           5,
           5,
           5,
           5,
           4,
           5,
           3,
           3,
           5,
           5,
           4,
           5,
           5,
           4,
           3,
           3,
           5,
           5,
           4,
           1,
           1,
           5,
           3,
           3,
           5,
           5,
           2,
           2,
           5,
           5,
           5,
           5,
           4,
           4,
           5,
           5,
           3,
           3,
           4,
           5,
           5,
           5,
           4,
           4,
           5,
           5,
           5,
           5,
           5,
           5,
           5,
           5,
           5,
           4,
           4,
           5,
           5,
           5,
           4,
           4,
           5,
           5,
           5,
           4,
           4,
           4,
           5,
           5,
           5,
           5,
           5,
           5,
           1,
           1,
           5,
           5,
           5,
           5,
           4,
           4,
           5,
           5,
           3,
           3,
           4,
           4,
           5,
           5,
           5,
           5,
           5,
           4,
           4,
           4,
           4,
           5,
           5,
           5,
           5,
           5,
           5,
           5,
           5,
           5,
           5,
           5,
           1,
           1,
           5,
           5,
           2,
           2,
           1,
           1,
           5,
           5,
           4,
           4,
           5,
           5,
           5,
           5,
           5,
           5,
           5,
           4,
           4,
           5,
           5,
           5,
           5,
           5,
           1,
           1,
           5,
           5,
           5,
           5,
           5,
           5,
           5,
           5,
           5,
           5,
           5,
           5,
           5,
           4,
           4,
           5,
           5,
           5,
           5,
           5,
           5,
           5,
           5,
           4,
           5,
           1,
           1,
           5,
           5,
           5,
           5,
           5,
           5,
           5,
           5,
           5,
           5,
           5,
           5,
           5,
           5,
           3,
           3,
           5,
           5,
           5,
           1,
           1,
           5,
           5,
           5,
           5,
           5,
           5,
           5,
           5,
           5,
           3,
           5,
           5,
           5,
           5,
           5,
           5,
           5,
           5,
           4,
           5,
           5,
           5,
           5,
           5,
           3,
           3,
           1,
           1,
           5,
           1,
           5,
           5,
           5,
           5,
           5,
           5,
           5,
           5,
           5,
           5,
           5,
           5,
           5,
           5,
           4,
           4,
           4,
           4,
           5,
           5,
           5,
           5,
           5,
           5,
           5,
           5,
           5,
           5,
           5,
           5,
           3,
           3,
           5,
           5,
           5,
           5,
           5,
           5,
           5,
           5,
           5,
           5,
           5,
           5,
           5,
           5,
           5,
           5,
           5,
           5,
           5,
           5,
           5,
           5,
           5,
           5,
           5,
           5,
           5,
           4,
           4,
           5,
           5,
           5,
           5,
           5,
           5,
           3,
           3,
           5,
           5,
           5,
           3,
           3,
           5,
           5,
           5,
           5,
           4,
           4,
           4,
           4,
           4,
           5,
           5,
           5,
           5,
           1,
           1,
           5,
           5,
           5,
           5,
           5,
           5,
           5,
           5,
           4,
           4,
           5,
           4,
           4,
           5,
           5,
           5,
           5,
           4,
           5,
           5,
           1,
           1,
           2,
           2,
           5,
           5,
           5,
           5,
           5,
           5,
           5,
           5,
           4,
           4,
           4,
           5,
           3,
           3,
           4,
           5,
           5,
           4,
           4,
           5,
           5,
           5,
           5,
           5,
           3,
           3,
           5,
           5,
           5,
           3,
           3,
           4,
           4,
           1,
           1,
           4,
           1,
           1,
           5,
           5,
           2,
           2,
           5,
           5,
           1,
           1,
           5,
           5,
           5,
           5,
           5,
           5,
           5,
           5,
           4,
           5,
           5,
           2,
           2,
           5,
           5,
           5,
           5,
           5,
           5,
           5,
           4,
           4,
           4,
           4,
           3,
           3,
           3,
           5,
           5,
           5,
           3,
           3,
           3,
           3,
           5,
           5,
           1,
           1,
           1,
           1,
           5,
           5,
           5,
           5,
           4,
           4,
           2,
           2,
           1,
           1,
           5,
           4,
           4,
           5,
           5,
           5,
           1,
           1,
           5,
           4,
           5,
           5,
           3,
           3,
           5,
           4,
           4,
           5,
           5,
           5,
           5,
           5,
           5,
           5,
           4,
           4,
           5,
           5,
           4,
           5,
           5,
           5,
           5,
           5,
           4,
           5,
           5,
           5,
           5,
           5,
           1,
           1,
           5,
           2,
           5,
           5,
           5,
           5,
           5,
           5,
           5,
           5,
           5,
           5,
           5,
           5,
           4,
           4,
           5,
           5,
           5,
           1,
           1,
           5,
           5,
           5,
           3,
           3,
           5,
           4,
           4,
           5,
           5,
           5,
           5,
           5,
           5,
           3,
           3,
           5,
           2,
           2,
           5,
           4,
           5,
           5,
           1,
           1,
           5,
           5,
           3,
           3,
           5,
           1,
           1,
           4,
           5,
           4,
           3,
           3,
           3,
           4,
           4,
           4,
           5,
           5,
           3,
           3,
           1,
           1,
           5,
           5,
           4,
           4
          ],
          "sizemode": "area",
          "sizeref": 0.0125,
          "symbol": "circle"
         },
         "mode": "markers",
         "name": "Positive",
         "orientation": "v",
         "showlegend": true,
         "type": "scatter",
         "x": [
          0.195,
          0.8,
          0.39,
          0.3833333333333333,
          0.30000000000000004,
          0.12291666666666667,
          0.4116666666666667,
          0.39,
          0.39999999999999997,
          0.35,
          0.7,
          1,
          0.5,
          0.7666666666666666,
          0.19375,
          0.3,
          0.35625,
          1,
          0.39999999999999997,
          0.4,
          0.7,
          0.5733333333333334,
          0.8,
          0.012499999999999997,
          0.15625,
          0.8125,
          0.3333333333333333,
          0.01000000000000002,
          0.39999999999999997,
          0.39999999999999997,
          1,
          0.1,
          0.26666666666666666,
          0.25,
          0.31666666666666665,
          0.4291666666666667,
          0.5249999999999999,
          0.25,
          0.5,
          0.8,
          1,
          0.4083333333333334,
          0.25,
          0.2520833333333333,
          0.25,
          0.08418803418803421,
          0.33948717948717955,
          0.5375,
          0.87,
          0.5,
          0.35,
          0.2,
          0.356,
          0.78,
          0.64,
          1,
          0.3666666666666667,
          0.3666666666666667,
          0.2953125,
          0.5,
          0.525,
          1,
          0.8,
          0.3138888888888889,
          0.8,
          0.4708333333333333,
          0.43333333333333335,
          0.1875,
          0.7,
          0.30077922077922076,
          0.476,
          1,
          0.13125,
          0.09004329004329005,
          0.09004329004329005,
          0.12000000000000002,
          0.5,
          0.65,
          0.39999999999999997,
          0.5,
          0.35000000000000003,
          0.6,
          0.5,
          0.7,
          0.6,
          0.1830357142857143,
          0.4,
          0.3773809523809524,
          0.875,
          0.11249999999999999,
          0.275,
          0.625,
          0.275,
          0.26666666666666666,
          0.6541666666666667,
          1,
          0.8,
          0.7,
          0.6,
          0.65,
          0.6366666666666666,
          0.625,
          0.6,
          0.5,
          0.5,
          1,
          0.5,
          0.5,
          0.3333333333333333,
          0.41111111111111104,
          0.2333333333333333,
          0.7,
          0.23749999999999996,
          0.7,
          0.32,
          0.5,
          0.375,
          0.6,
          0.8,
          0.5633333333333334,
          0.7,
          0.23083333333333333,
          0.20694444444444446,
          0.3333333333333333,
          1,
          0.6000000000000001,
          0.15333333333333338,
          0.475,
          0.302,
          0.3,
          0.6,
          0.375,
          0.47727272727272724,
          0.9099999999999999,
          1,
          0.575,
          1,
          0.3833333333333333,
          1,
          1,
          1,
          0.85,
          0.5,
          0.225,
          0.33,
          0.5,
          0.5,
          0.3799242424242424,
          0.4,
          0.1,
          0.8,
          0.35833333333333334,
          0.55,
          0.7,
          0.6000000000000001,
          0.7500000000000001,
          0.27604166666666663,
          0.6,
          0.1574074074074074,
          1,
          0.7,
          0.20000000000000004,
          0.20000000000000004,
          0.40261904761904765,
          0.2571428571428572,
          0.375,
          0.4,
          0.7,
          0.14322916666666663,
          0.6000000000000001,
          0.2,
          0.6000000000000001,
          0.5,
          0.3,
          0.13636363636363635,
          0.8,
          0.5,
          0.21666666666666667,
          0.2571428571428571,
          0.8,
          1,
          0.36875,
          0.4875,
          0.65,
          0.39,
          0.19393939393939397,
          0.3,
          0.23619047619047615,
          0.06166666666666667,
          0.9099999999999999,
          0.6,
          1,
          0.625,
          0.25,
          1,
          0.2285714285714286,
          0.4375,
          0.0625,
          0.2,
          0.5,
          0.4125,
          0.325,
          0.240530303030303,
          0.625,
          0.34027777777777785,
          0.8,
          1,
          0.5,
          0.3057142857142857,
          0.01875,
          0.5,
          0.33142857142857146,
          0.9099999999999999,
          0.675,
          0.5833333333333334,
          0.7,
          0.2,
          0.6,
          0.35,
          0.25,
          0.8,
          0.21666666666666667,
          0.13333333333333336,
          1,
          1,
          0.7,
          0.3541666666666667,
          0.6000000000000001,
          0.6,
          0.284375,
          0.11666666666666668,
          0.6,
          0.5033333333333333,
          0.6000000000000001,
          0.4720000000000001,
          0.44,
          0.5,
          0.2333333333333333,
          0.625,
          0.625,
          1,
          0.30625,
          0.65,
          0.375,
          0.4625,
          0.7,
          0.19999999999999998,
          0.19999999999999998,
          1,
          0.78,
          0.5,
          0.15,
          0.15,
          0.19,
          0.5666666666666668,
          0.5666666666666668,
          0.7200000000000001,
          0.5,
          0.12380952380952381,
          0.12380952380952381,
          0.25,
          0.25,
          0.6000000000000001,
          0.6428571428571428,
          0.5,
          0.5,
          0.7,
          0.5,
          0.02777777777777779,
          0.02777777777777779,
          0.31666666666666665,
          0.6875,
          0.6875,
          0.7,
          0.10476190476190478,
          0.10476190476190478,
          0.75,
          0.2,
          0.5,
          0.565,
          0.32619047619047625,
          0.53125,
          0.53125,
          0.5875,
          0.5875,
          0.27777777777777773,
          0.27777777777777773,
          1,
          1,
          0.2,
          0.1,
          0.1,
          0.23703703703703705,
          1,
          0.2,
          0.6000000000000001,
          0.6000000000000001,
          0.8,
          0.22,
          0.22,
          0.43333333333333335,
          0.43333333333333335,
          0.5333333333333333,
          0.5333333333333333,
          0.05,
          0.05,
          0.284375,
          0.5499999999999999,
          0.5499999999999999,
          0.6000000000000001,
          0.26534090909090907,
          0.26534090909090907,
          0.3897435897435898,
          0.3897435897435898,
          0.8,
          0.8,
          0.8,
          0.8,
          0.31666666666666665,
          0.31666666666666665,
          0.55,
          0.4375,
          0.4375,
          0.39125,
          0.39125,
          0.3944444444444444,
          0.3944444444444444,
          0.39999999999999997,
          0.3591666666666667,
          0.3591666666666667,
          0.4611111111111111,
          0.66875,
          0.66875,
          0.2708333333333333,
          0.2708333333333333,
          0.7500000000000001,
          0.55,
          0.7,
          0.23274582560296844,
          0.23274582560296844,
          0.45555555555555555,
          0.45555555555555555,
          0.85,
          0.85,
          0.07427156177156177,
          0.07427156177156177,
          0.34875,
          0.34875,
          0.8,
          0.8,
          0.44166666666666665,
          0.44166666666666665,
          0.5,
          0.43333333333333335,
          1,
          0.8,
          0.8,
          0.375,
          0.375,
          0.4464285714285714,
          0.39444444444444443,
          0.39444444444444443,
          0.3444444444444444,
          0.3444444444444444,
          0.06666666666666667,
          0.06666666666666667,
          1,
          0.225,
          0.225,
          0.7,
          0.2,
          0.7,
          0.45,
          0.4375,
          0.4375,
          1,
          0.38,
          0.4000000000000001,
          0.4000000000000001,
          0.76,
          0.76,
          0.4340909090909091,
          0.4340909090909091,
          1,
          0.8,
          1,
          0.41666666666666663,
          0.41666666666666663,
          0.509090909090909,
          0.5,
          0.4,
          0.07988095238095239,
          0.07988095238095239,
          0.20085714285714285,
          0.5,
          0.8,
          0.6,
          0.39,
          0.4777777777777778,
          0.5,
          0.5,
          0.7,
          0.17222222222222222,
          0.17222222222222222,
          0.605,
          0.5,
          0.8,
          0.15000000000000002,
          0.15000000000000002,
          0.39,
          0.7,
          0.2,
          0.15000000000000002,
          0.15000000000000002,
          0.39999999999999997,
          0.3333333333333333,
          0.3333333333333333,
          0.25,
          0.625,
          0.1775,
          0.1775,
          0.25,
          0.25,
          0.4166666666666667,
          0.9099999999999999,
          0.9099999999999999,
          0.7083333333333334,
          0.7083333333333334,
          0.44000000000000006,
          0.4625,
          0.4625,
          0.16,
          1,
          0.39999999999999997,
          0.39999999999999997,
          0.6,
          0.6000000000000001,
          0.6000000000000001,
          0.09999999999999998,
          0.09999999999999998,
          0.29545454545454547,
          0.29545454545454547,
          0.32,
          0.41111111111111115,
          0.2833333333333334,
          0.45,
          0.35,
          0.35,
          0.3375,
          0.3375,
          0.37777777777777777,
          0.37777777777777777,
          0.5357142857142857,
          0.5357142857142857,
          0.4666666666666666,
          0.4666666666666666,
          0.5,
          0.5,
          0.5833333333333333,
          0.5833333333333333,
          0.4,
          0.4,
          1,
          0.8,
          1,
          0.43333333333333335,
          0.43333333333333335,
          0.7000000000000001,
          0.7000000000000001,
          0.5041666666666667,
          0.5041666666666667,
          0.2,
          1,
          0.4,
          0.05625,
          0.05625,
          0.4125,
          0.4125,
          0.4,
          0.37,
          0.37,
          0.4116666666666667,
          0.8,
          0.8,
          0.35,
          1,
          1,
          0.2,
          0.2,
          0.3,
          0.35,
          0.35,
          1,
          0.31666666666666665,
          0.31666666666666665,
          1,
          0.36,
          0.55,
          0.7166666666666667,
          0.7166666666666667,
          0.48277777777777775,
          0.325,
          0.325,
          0.05885714285714285,
          0.05885714285714285,
          0.54,
          0.54,
          0.40138888888888885,
          0.40138888888888885,
          0.5125,
          0.5125,
          0.8,
          0.8,
          0.19722222222222224,
          0.19722222222222224,
          0.3,
          0.075,
          0.075,
          0.2833333333333333,
          0.2833333333333333,
          0.39444444444444443,
          0.39444444444444443,
          0.4,
          0.4,
          0.625,
          0.625,
          0.4375,
          0.8,
          0.4666666666666667,
          0.5,
          0.5,
          0.09375,
          0.09375,
          0.4375,
          0.4375,
          0.3333333333333333,
          0.3333333333333333,
          1,
          0.5633333333333334,
          0.5633333333333334,
          0.44999999999999996,
          0.29375,
          0.29375,
          0.5,
          0.2125,
          0.2125,
          1,
          0.6,
          0.125,
          0.24999999999999997,
          0.8,
          0.5933333333333334,
          0.7,
          0.125,
          0.125,
          0.25,
          0.25,
          0.3642857142857143,
          0.3642857142857143,
          1,
          1,
          0.8,
          0.4666666666666667,
          0.15,
          1,
          0.335,
          0.335,
          0.6,
          0.5,
          0.1,
          0.1,
          0.05,
          0.4121212121212121,
          0.4121212121212121,
          0.31559343434343434,
          0.31559343434343434,
          0.39,
          0.4666666666666666,
          0.4666666666666666,
          0.5454545454545454,
          0.5454545454545454,
          0.25,
          0.25,
          0.275,
          0.24999999999999997,
          1,
          0.09999999999999999,
          0.09999999999999999,
          0.39999999999999997,
          0.39999999999999997,
          0.2,
          0.2,
          0.06818181818181818,
          0.8,
          0.8,
          0.7166666666666667,
          1,
          0.22592592592592592,
          0.22592592592592592,
          0.43333333333333335,
          0.43333333333333335,
          0.13571428571428573,
          0.13571428571428573,
          0.5,
          0.3375,
          0.3375,
          0.6166666666666667,
          0.6166666666666667,
          0.75,
          0.25,
          0.4,
          1,
          0.3666666666666667,
          0.3666666666666667,
          0.04999999999999999,
          0.04999999999999999,
          0.3111111111111111,
          0.3111111111111111,
          0.3,
          0.35,
          0.35,
          0.4066666666666666,
          0.4066666666666666,
          0.43047619047619046,
          0.43047619047619046,
          0.4,
          0.39999999999999997,
          0.3833333333333333,
          0.3833333333333333,
          0.5,
          0.2,
          0.6777777777777777,
          0.6777777777777777,
          0.35,
          0.35,
          0.10714285714285714,
          0.10714285714285714,
          0.8,
          0.8,
          0.6,
          0.6,
          0.17500000000000002,
          0.17500000000000002,
          0.5,
          1,
          0.3333333333333333,
          0.7625,
          0.13333333333333333,
          0.13333333333333333,
          0.3,
          0.3,
          0.17045454545454544,
          0.17045454545454544,
          1,
          0.23214285714285715,
          0.23214285714285715,
          0.5,
          1,
          1,
          0.17539682539682536,
          0.17539682539682536,
          0.5166666666666667,
          0.875,
          0.4083333333333333,
          0.4083333333333333,
          0.06613476485635576,
          0.06613476485635576,
          0.8,
          0.4375,
          0.4375,
          0.35,
          0.5833333333333334,
          0.7,
          0.175,
          0.175,
          0.465,
          0.465,
          0.14444444444444446,
          0.14444444444444446,
          0.25,
          0.25,
          0.39999999999999997,
          0.75,
          0.13999999999999999,
          0.13999999999999999,
          0.4,
          0.8,
          0.2,
          1,
          0.3,
          0.6,
          0.575,
          0.575,
          0.06818181818181818,
          0.06818181818181818,
          0.6194444444444445,
          0.08333333333333333,
          0.55,
          0.5,
          0.4202380952380952,
          0.4202380952380952,
          0.38333333333333336,
          0.38333333333333336,
          0.5666666666666667,
          0.5666666666666667,
          0.45499999999999996,
          0.45499999999999996,
          0.28583333333333333,
          0.28583333333333333,
          0.16904761904761909,
          0.16904761904761909,
          0.6000000000000001,
          0.6000000000000001,
          0.43333333333333335,
          0.02361111111111112,
          0.02361111111111112,
          0.75,
          0.75,
          0.2833333333333333,
          0.4,
          0.4,
          0.5633333333333334,
          0.17777777777777778,
          0.17777777777777778,
          0.6229166666666667,
          0.6229166666666667,
          0.75,
          0.32888888888888895,
          0.32888888888888895,
          0.2,
          0.2875,
          0.2875,
          1,
          0.3666666666666667,
          0.3666666666666667,
          0.8,
          0.6,
          0.22777777777777777,
          0.22777777777777777,
          0.12499999999999999,
          0.12499999999999999,
          0.6,
          0.5,
          0.9099999999999999,
          0.9099999999999999,
          0.5,
          0.26666666666666666,
          0.26666666666666666,
          0.13333333333333333,
          0.16,
          0.13333333333333333,
          0.08333333333333331,
          0.08333333333333331,
          0.21428571428571427,
          0.26875,
          0.3900432900432901,
          0.3900432900432901,
          0.35555555555555557,
          0.35555555555555557,
          0.6,
          0.6,
          0.0722222222222222,
          0.0722222222222222,
          0.2,
          0.2,
          0.0625,
          0.78
         ],
         "xaxis": "x",
         "y": [
          0.5,
          0.75,
          0,
          0.75,
          0.725,
          0.6666666666666667,
          0.4166666666666667,
          0,
          0.5,
          0.45,
          0.6000000000000001,
          1,
          0.5,
          0.6666666666666666,
          0.36875,
          0,
          0.525,
          1,
          0.4000000000000001,
          0.375,
          0.6000000000000001,
          0.6608333333333334,
          0.75,
          0.3375,
          0.3125,
          0.8,
          0.47222222222222215,
          0.46416666666666667,
          0.43333333333333335,
          0.8,
          1,
          0.225,
          0.9166666666666667,
          0.15000000000000002,
          0.5666666666666667,
          0.5895833333333333,
          0.6333333333333333,
          0.3,
          0.6,
          0.75,
          1,
          0.6666666666666666,
          0.6458333333333333,
          0.5476190476190477,
          0.55,
          0.6017094017094017,
          0.566025641025641,
          0.4,
          0.7933333333333334,
          0.5,
          0.36250000000000004,
          0.2,
          0.48600000000000004,
          1,
          0.75,
          0.3,
          0.45,
          0.45,
          0.553125,
          0.5,
          0.5166666666666666,
          1,
          0.75,
          0.5555555555555556,
          0.75,
          0.525,
          0.5666666666666668,
          0.7,
          0.6000000000000001,
          0.5535064935064935,
          0.82,
          1,
          0.35,
          0.4518398268398268,
          0.4518398268398268,
          0.4,
          0.7380952380952381,
          1,
          0.8,
          0.6,
          0.65,
          0.55,
          0.6785714285714286,
          0.6000000000000001,
          1,
          0.4616071428571428,
          0.9,
          0.4825892857142857,
          0.6000000000000001,
          0.29375,
          0.5,
          0.6,
          0.65,
          0.5833333333333334,
          0.7166666666666668,
          1,
          0.75,
          0.6000000000000001,
          0.55,
          0.625,
          0.6266666666666667,
          0.6,
          0.6000000000000001,
          0.5,
          0.6,
          0.3,
          0.775,
          0.775,
          0.3,
          0.7111111111111111,
          0.3523809523809524,
          0.6000000000000001,
          0.725,
          0.6000000000000001,
          0.6000000000000001,
          0.4,
          0.35,
          1,
          0.75,
          1,
          0.6000000000000001,
          0.30833333333333335,
          0.6777777777777777,
          0.6666666666666666,
          1,
          0.9,
          0.645,
          0.4666666666666667,
          0.336,
          0,
          0.775,
          0,
          0.5609090909090909,
          0.7800000000000001,
          1,
          0.625,
          0.3,
          0.6,
          0.3,
          1,
          1,
          0.8,
          0.6,
          0.545,
          0.57,
          0.5,
          0.6,
          0.4428030303030303,
          0.9,
          1,
          0.75,
          0.45833333333333337,
          0.75,
          0.6000000000000001,
          0.9,
          0.9,
          0.6358333333333334,
          1,
          0.3314814814814815,
          0.3,
          0.6000000000000001,
          0.8000000000000002,
          0.8000000000000002,
          0.5428571428571428,
          0.5428571428571429,
          0.5,
          0.25,
          0.6000000000000001,
          0.5633928571428571,
          0.9,
          0.2,
          0.9,
          0.5,
          0.7333333333333334,
          0.5,
          0.75,
          0.6,
          0.6488095238095238,
          0.5029761904761906,
          0.75,
          0.3,
          0.7,
          0.8,
          0.675,
          0,
          0.5090909090909091,
          0.2,
          0.49428571428571433,
          0.33333333333333337,
          0.7800000000000001,
          0.5833333333333334,
          1,
          1,
          0.2833333333333333,
          1,
          0.5416666666666666,
          0.44999999999999996,
          0.4148809523809524,
          0.3,
          0.32857142857142857,
          0.35,
          0.4125,
          0.4202861952861953,
          0.6,
          0.5513888888888889,
          0.825,
          1,
          0.5,
          0.4742857142857143,
          0.35833333333333334,
          0.38125,
          0.5238095238095238,
          0.7800000000000001,
          0.53125,
          0.91,
          0.6000000000000001,
          0.2,
          1,
          0.65,
          0.5,
          0.75,
          0.55,
          0.6933333333333334,
          0.3,
          0.75,
          0.6000000000000001,
          0.44722222222222224,
          0.9,
          1,
          0.446875,
          0.5833333333333334,
          1,
          0.5766666666666668,
          0.9,
          0.312,
          0.55,
          0.5,
          0.5888888888888889,
          0.6,
          0.6,
          1,
          0.625,
          0.75,
          0.5785714285714286,
          0.5,
          0.6000000000000001,
          0.47500000000000003,
          0.47500000000000003,
          1,
          1,
          0.6,
          0.44000000000000006,
          0.44000000000000006,
          0.7,
          0.7666666666666666,
          0.7666666666666666,
          0.6133333333333333,
          0.54,
          0.5023809523809524,
          0.5023809523809524,
          0.7583333333333333,
          0.7583333333333333,
          0.9,
          0.7678571428571428,
          0.5549999999999999,
          0.5549999999999999,
          0.6000000000000001,
          0.6,
          0.3972222222222222,
          0.3972222222222222,
          0.5666666666666667,
          0.7,
          0.7,
          0.6000000000000001,
          0.5452380952380952,
          0.5452380952380952,
          0.6900000000000001,
          0.3,
          0.6,
          0.8333333333333333,
          0.45619047619047615,
          0.45,
          0.45,
          0.3666666666666667,
          0.3666666666666667,
          0.6444444444444445,
          0.6444444444444445,
          0.65,
          0.65,
          0.3,
          0.37857142857142856,
          0.37857142857142856,
          0.6518518518518519,
          0.3,
          0.2,
          0.9,
          0.9,
          0.75,
          0.37999999999999995,
          0.37999999999999995,
          0.8333333333333334,
          0.8333333333333334,
          0.6500000000000001,
          0.6500000000000001,
          0.1,
          0.1,
          0.6546428571428572,
          0.8333333333333334,
          0.8333333333333334,
          0.9,
          0.5198863636363636,
          0.5198863636363636,
          0.5492673992673992,
          0.5492673992673992,
          0.75,
          0.75,
          0.75,
          0.75,
          0.5666666666666667,
          0.5666666666666667,
          0.8,
          0.8,
          0.8,
          0.43125,
          0.43125,
          0.7444444444444445,
          0.7444444444444445,
          0.39999999999999997,
          0.5458333333333333,
          0.5458333333333333,
          0.5,
          0.5875,
          0.5875,
          0.5555555555555556,
          0.5555555555555556,
          0.9,
          0.8,
          0.6000000000000001,
          0.5394248608534323,
          0.5394248608534323,
          0.7555555555555555,
          0.7555555555555555,
          1,
          1,
          0.46075398960014347,
          0.46075398960014347,
          0.5349999999999999,
          0.5349999999999999,
          0.95,
          0.95,
          0.47500000000000003,
          0.47500000000000003,
          0.5,
          0.7857142857142857,
          0.3,
          0.75,
          0.75,
          0.5135416666666667,
          0.5135416666666667,
          0.5357142857142857,
          0.5722222222222223,
          0.5722222222222223,
          0.7301587301587302,
          0.7301587301587302,
          0.5,
          0.5,
          1,
          0.5416666666666666,
          0.5416666666666666,
          0.6000000000000001,
          0.2,
          0.6000000000000001,
          0.95,
          0.5642857142857143,
          0.5642857142857143,
          0.3,
          0.43,
          0.3,
          0.3,
          0.75,
          0.75,
          0.48863636363636365,
          0.48863636363636365,
          1,
          0.75,
          0.3,
          0.55,
          0.55,
          0.6386363636363637,
          0.5,
          0.55,
          0.5535714285714285,
          0.5535714285714285,
          0.19428571428571426,
          0.5,
          0.75,
          1,
          0,
          0.6111111111111112,
          0.6,
          0.6,
          0.6000000000000001,
          0.4444444444444444,
          0.4444444444444444,
          0.39000000000000007,
          0.6,
          0.75,
          0.875,
          0.875,
          0,
          0.6000000000000001,
          0.25,
          0.475,
          0.475,
          0.8,
          0.5,
          0.5,
          0.47857142857142854,
          0.6,
          0.5974999999999999,
          0.5974999999999999,
          0.44999999999999996,
          0.44999999999999996,
          0.5,
          0.7800000000000001,
          0.7800000000000001,
          0.7999999999999999,
          0.7999999999999999,
          0.5800000000000001,
          0.6972222222222222,
          0.6972222222222222,
          0.5399999999999999,
          0.3,
          0.5,
          0.5,
          1,
          0.9,
          0.9,
          0.5,
          0.5,
          0.4348484848484848,
          0.4348484848484848,
          0.15,
          0.5333333333333333,
          0.2833333333333333,
          0.525,
          0.35,
          0.35,
          0.35,
          0.35,
          0.6777777777777779,
          0.6777777777777779,
          0.40317460317460313,
          0.40317460317460313,
          0.39333333333333337,
          0.39333333333333337,
          0.6,
          0.6,
          0.7708333333333334,
          0.7708333333333334,
          0.375,
          0.375,
          0.3,
          0.75,
          0.3,
          0.7833333333333333,
          0.7833333333333333,
          0.825,
          0.825,
          0.4666666666666666,
          0.4666666666666666,
          0.2,
          0.3,
          0.625,
          0.48125,
          0.48125,
          0.4,
          0.4,
          0.6,
          0.45999999999999996,
          0.45999999999999996,
          0.4166666666666667,
          0.75,
          0.75,
          0.4,
          0.875,
          0.875,
          0.3,
          0.3,
          0.6785714285714286,
          0.62,
          0.62,
          0.6,
          0.5666666666666667,
          0.5666666666666667,
          0.3,
          0.55,
          0.95,
          0.9166666666666667,
          0.9166666666666667,
          0.4777777777777778,
          0.5583333333333333,
          0.5583333333333333,
          0.5482857142857143,
          0.5482857142857143,
          0.465,
          0.465,
          0.5555555555555557,
          0.5555555555555557,
          0.625,
          0.625,
          0.75,
          0.75,
          0.35833333333333334,
          0.35833333333333334,
          0,
          0.27499999999999997,
          0.27499999999999997,
          0.6416666666666667,
          0.6416666666666667,
          0.6388888888888888,
          0.6388888888888888,
          0.75,
          0.75,
          0.6,
          0.6,
          0.65,
          0.75,
          0.6666666666666667,
          0.8,
          0.8,
          0.45208333333333334,
          0.45208333333333334,
          0.3375,
          0.3375,
          0.4916666666666667,
          0.4916666666666667,
          1,
          0.5333333333333333,
          0.5333333333333333,
          0.6000000000000001,
          0.16875,
          0.16875,
          0.75,
          0.43749999999999994,
          0.43749999999999994,
          0.75,
          1,
          1,
          0.6000000000000001,
          0.75,
          0.6666666666666666,
          0.95,
          0.125,
          0.125,
          0.5625,
          0.5625,
          0.5867346938775511,
          0.5867346938775511,
          0.75,
          1,
          0.75,
          0.8333333333333333,
          0.5,
          1,
          0.525,
          0.525,
          1,
          0.4750000000000001,
          0.12,
          0.12,
          0.625,
          0.5515151515151515,
          0.5515151515151515,
          0.5247474747474747,
          0.5247474747474747,
          0,
          0.43333333333333335,
          0.43333333333333335,
          0.6515151515151515,
          0.6515151515151515,
          0.3,
          0.3,
          0.65,
          0.5,
          1,
          0.19999999999999998,
          0.19999999999999998,
          0.43333333333333335,
          0.43333333333333335,
          0.2,
          0.2,
          0.22727272727272727,
          0.75,
          0.75,
          0.5666666666666667,
          1,
          0.4824074074074074,
          0.4824074074074074,
          0.8333333333333334,
          0.8333333333333334,
          0.5523809523809524,
          0.5523809523809524,
          0.6,
          0.475,
          0.475,
          0.7916666666666667,
          0.7916666666666667,
          0.675,
          0.3,
          0.9,
          0.3,
          0.5972222222222222,
          0.5972222222222222,
          0.75,
          0.75,
          0.4511904761904762,
          0.4511904761904762,
          0,
          0.6,
          0.6,
          0.4533333333333333,
          0.4533333333333333,
          0.5285714285714286,
          0.5285714285714286,
          0.7,
          0.3666666666666667,
          0.7583333333333333,
          0.7583333333333333,
          0.5,
          0.2,
          0.7111111111111111,
          0.7111111111111111,
          0.7,
          0.7,
          0.32142857142857145,
          0.32142857142857145,
          0.75,
          0.75,
          1,
          1,
          0.5083333333333333,
          0.5083333333333333,
          0.5,
          1,
          0.6666666666666666,
          0.75,
          0.5333333333333333,
          0.5333333333333333,
          0,
          0,
          0.4431818181818182,
          0.4431818181818182,
          1,
          0.5464285714285715,
          0.5464285714285715,
          0.6,
          1,
          1,
          0.6587301587301587,
          0.6587301587301587,
          0.8666666666666667,
          0.975,
          0.775,
          0.775,
          0.46736029122392764,
          0.46736029122392764,
          0.75,
          0.47857142857142865,
          0.47857142857142865,
          0.65,
          0.7166666666666667,
          0.6000000000000001,
          0.44999999999999996,
          0.44999999999999996,
          0.5177777777777778,
          0.5177777777777778,
          0.4222222222222222,
          0.4222222222222222,
          0.3625,
          0.3625,
          0.8,
          0.4,
          0.5,
          0.5,
          0.9,
          0.75,
          0.3,
          0.3,
          0,
          1,
          0.78125,
          0.78125,
          0.22727272727272727,
          0.22727272727272727,
          0.7277777777777779,
          0.43333333333333335,
          0.65,
          0.5,
          0.5047619047619049,
          0.5047619047619049,
          0.8083333333333333,
          0.8083333333333333,
          0.5166666666666667,
          0.5166666666666667,
          0.39000000000000007,
          0.39000000000000007,
          0.4058333333333333,
          0.4058333333333333,
          0.5190476190476191,
          0.5190476190476191,
          0.75,
          0.75,
          0.8333333333333334,
          0.24285714285714288,
          0.24285714285714288,
          0.75,
          0.75,
          0.36282051282051286,
          0.425,
          0.425,
          1,
          0.9444444444444445,
          0.9444444444444445,
          0.7541666666666668,
          0.7541666666666668,
          0.8,
          0.5155555555555555,
          0.5155555555555555,
          0.3,
          0.4,
          0.4,
          0.75,
          0.5833333333333334,
          0.5833333333333334,
          0.75,
          1,
          0.36111111111111116,
          0.36111111111111116,
          0.22500000000000003,
          0.22500000000000003,
          1,
          0.6,
          0.7800000000000001,
          0.7800000000000001,
          0.775,
          0.3333333333333333,
          0.3333333333333333,
          0.7000000000000001,
          0.5399999999999999,
          0.7000000000000001,
          0.5166666666666666,
          0.5166666666666666,
          0.5714285714285714,
          0.5869791666666667,
          0.7996753246753247,
          0.7996753246753247,
          0.7234126984126985,
          0.7234126984126985,
          1,
          1,
          0.5618055555555554,
          0.5618055555555554,
          0.2,
          0.2,
          0.34375,
          1
         ],
         "yaxis": "y"
        },
        {
         "hovertemplate": "Analysis=Neutral<br>Polarity=%{x}<br>Subjectivity=%{y}<br>score=%{marker.size}<extra></extra>",
         "legendgroup": "Neutral",
         "marker": {
          "color": "#00CC96",
          "size": [
           1,
           5,
           5,
           5,
           5,
           5,
           5,
           5,
           4,
           4,
           1,
           5,
           5,
           4,
           4,
           5,
           1,
           3,
           5,
           4,
           5,
           5,
           3,
           5,
           5,
           1,
           5,
           5,
           4,
           4,
           1,
           5,
           3,
           5,
           1,
           1,
           1,
           4,
           2,
           1,
           4,
           2,
           1,
           1,
           5,
           5,
           1,
           2,
           2,
           5,
           5,
           5,
           5,
           2,
           5,
           1,
           1,
           1,
           5,
           1,
           1,
           1,
           5,
           1,
           1,
           5,
           5,
           4,
           4,
           2,
           2,
           5,
           5,
           1,
           5,
           5,
           5,
           3,
           3,
           4,
           5,
           5,
           1,
           1,
           5,
           5,
           5,
           5,
           5,
           5,
           1,
           1,
           4,
           4,
           3,
           3,
           4,
           5,
           5,
           5,
           4,
           5,
           4,
           5,
           5,
           4,
           1,
           4,
           5,
           1,
           4,
           4,
           3,
           3,
           4,
           4,
           4,
           5,
           1,
           1,
           2,
           5,
           2,
           2,
           1,
           3,
           1
          ],
          "sizemode": "area",
          "sizeref": 0.0125,
          "symbol": "circle"
         },
         "mode": "markers",
         "name": "Neutral",
         "orientation": "v",
         "showlegend": true,
         "type": "scatter",
         "x": [
          0,
          0,
          0,
          0,
          0,
          0,
          0,
          0,
          0,
          0,
          0,
          0,
          0,
          0,
          0,
          0,
          0,
          0,
          0,
          0,
          0,
          0,
          0,
          0,
          0,
          0,
          0,
          0,
          0,
          0,
          0,
          0,
          0,
          0,
          0,
          0,
          0,
          0,
          0,
          0,
          0,
          0,
          0,
          0,
          0,
          0,
          0,
          0,
          0,
          0,
          0,
          0,
          0,
          0,
          0,
          0,
          0,
          0,
          0,
          0,
          0,
          0,
          0,
          0,
          0,
          0,
          0,
          0,
          0,
          0,
          0,
          0,
          0,
          0,
          0,
          0,
          0,
          0,
          0,
          0,
          0,
          0,
          0,
          0,
          0,
          0,
          0,
          0,
          0,
          0,
          0,
          0,
          0,
          0,
          0,
          0,
          0,
          0,
          0,
          0,
          0,
          0,
          0,
          0,
          0,
          0,
          0,
          0,
          0,
          0,
          0,
          0,
          0,
          0,
          0,
          0,
          0,
          0,
          0,
          0,
          0,
          0,
          0,
          0,
          0,
          0,
          0
         ],
         "xaxis": "x",
         "y": [
          0.3333333333333333,
          0,
          0,
          0.3,
          0,
          0,
          0,
          0,
          0,
          0,
          0,
          0,
          0,
          0,
          0,
          0,
          0,
          0.3333333333333333,
          0,
          0,
          0,
          0,
          0,
          0,
          0,
          0,
          0,
          0,
          0,
          0,
          0,
          0,
          0,
          0,
          0,
          0,
          0.6666666666666666,
          0.35714285714285715,
          0.5,
          0,
          0,
          0,
          0,
          0,
          0,
          0,
          0.25,
          0.18333333333333335,
          0.18333333333333335,
          0,
          0,
          0,
          0,
          0,
          0,
          0,
          0,
          0,
          0,
          0,
          0,
          0,
          0,
          0,
          0,
          0,
          0,
          0.75,
          0.75,
          0.39999999999999997,
          0.39999999999999997,
          0,
          0,
          0,
          0,
          0,
          0,
          0,
          0,
          0,
          0,
          0,
          1,
          1,
          0,
          0.1,
          0,
          0,
          0,
          0,
          0,
          0,
          0,
          0,
          0,
          0,
          0,
          0,
          0,
          0,
          0,
          0,
          0,
          0,
          0,
          0,
          0,
          0.4,
          0,
          0,
          0,
          0,
          0.4,
          0.4,
          0,
          0,
          0,
          0,
          0.8,
          0.8,
          1,
          0,
          0.5,
          0.5,
          0,
          0,
          0
         ],
         "yaxis": "y"
        },
        {
         "hovertemplate": "Analysis=Negative<br>Polarity=%{x}<br>Subjectivity=%{y}<br>score=%{marker.size}<extra></extra>",
         "legendgroup": "Negative",
         "marker": {
          "color": "#EF553B",
          "size": [
           1,
           1,
           5,
           1,
           5,
           1,
           2,
           2,
           1,
           1,
           1,
           5,
           1,
           1,
           1,
           1,
           1,
           1,
           1,
           1,
           1,
           1,
           5,
           3,
           1,
           1,
           4,
           2,
           5,
           1,
           1,
           1,
           1,
           2,
           3,
           2,
           1,
           1,
           4,
           4,
           5,
           5,
           4,
           4,
           3,
           3,
           2,
           2,
           1,
           1,
           1,
           1,
           3,
           3,
           3,
           3,
           2,
           2,
           5,
           5,
           4,
           4,
           1,
           1,
           5,
           5,
           2,
           2,
           3,
           4,
           1,
           1,
           2,
           2,
           1,
           1,
           5,
           5,
           1,
           3,
           3,
           2,
           2,
           4,
           4,
           1,
           1,
           1,
           1,
           2,
           2,
           3,
           3,
           1,
           1,
           1,
           1,
           1,
           1,
           1,
           4,
           4,
           5,
           5,
           3,
           3
          ],
          "sizemode": "area",
          "sizeref": 0.0125,
          "symbol": "circle"
         },
         "mode": "markers",
         "name": "Negative",
         "orientation": "v",
         "showlegend": true,
         "type": "scatter",
         "x": [
          -0.25555555555555554,
          -0.25,
          -0.029166666666666674,
          -0.005612244897959188,
          -0.45,
          -0.2,
          -0.17333333333333334,
          -0.18828125,
          -0.6999999999999998,
          -0.8,
          -0.6666666666666666,
          -0.75,
          -0.25,
          -0.020454545454545458,
          -0.05000000000000001,
          -0.625,
          -1,
          -1,
          -0.07857142857142857,
          -0.07857142857142857,
          -0.375,
          -1,
          -0.11833333333333335,
          -0.13111111111111112,
          -0.8,
          -0.25,
          -1.586032892321652e-17,
          -0.3249999999999999,
          -0.2,
          -0.06666666666666667,
          -0.8,
          -0.32666666666666666,
          -0.32666666666666666,
          -0.4166666666666667,
          -0.2,
          -0.5,
          -0.1,
          -0.1,
          -0.07142857142857142,
          -0.07142857142857142,
          -0.05892857142857143,
          -0.05892857142857143,
          -0.05750000000000001,
          -0.05750000000000001,
          -0.4,
          -0.4,
          -0.2,
          -0.2,
          -0.35625,
          -0.35625,
          -0.11333333333333336,
          -0.11333333333333336,
          -0.8,
          -0.8,
          -0.5,
          -0.5,
          -0.028571428571428574,
          -0.028571428571428574,
          -0.2499999999999999,
          -0.2499999999999999,
          -0.8,
          -0.8,
          -0.03333333333333333,
          -0.03333333333333333,
          -0.11000000000000001,
          -0.11000000000000001,
          -0.1,
          -0.1,
          -0.2,
          -0.06000000000000001,
          -0.9099999999999998,
          -0.43333333333333335,
          -0.0625,
          -0.0625,
          -0.5,
          -0.5,
          -0.0625,
          -0.0625,
          -0.1,
          -0.10714285714285714,
          -0.10714285714285714,
          -0.16111111111111112,
          -0.16111111111111112,
          -0.024285714285714275,
          -0.024285714285714275,
          -0.07500000000000001,
          -0.07500000000000001,
          -0.012500000000000011,
          -0.21666666666666667,
          -0.08958333333333333,
          -0.08958333333333333,
          -0.4,
          -0.4,
          -0.07091836734693877,
          -0.07091836734693877,
          -0.4,
          -0.2714285714285714,
          -0.5,
          -0.1392857142857143,
          -0.1392857142857143,
          -0.06666666666666667,
          -0.06666666666666667,
          -0.025,
          -0.025,
          -0.1,
          -0.1
         ],
         "xaxis": "x",
         "y": [
          0.3722222222222223,
          0.3,
          0.2333333333333333,
          0.401530612244898,
          0.65,
          0,
          0.5,
          0.6,
          0.6666666666666666,
          0.9,
          0.6,
          0.9,
          0.1,
          0.508080808080808,
          0.42083333333333334,
          0.5,
          0.9,
          0.875,
          0.6339285714285714,
          0.6339285714285714,
          0.6,
          1,
          0.95,
          0.39777777777777773,
          0.9,
          0.3,
          0.6571428571428571,
          0.31666666666666665,
          0.4,
          0.03333333333333333,
          0.9,
          0.6533333333333333,
          0.6533333333333333,
          0.6666666666666666,
          0.25,
          0.5,
          0.22999999999999998,
          0.22999999999999998,
          0.5714285714285714,
          0.5714285714285714,
          0.4107142857142857,
          0.4107142857142857,
          0.40750000000000003,
          0.40750000000000003,
          0.45,
          0.45,
          0.5,
          0.5,
          0.575,
          0.575,
          0.4933333333333333,
          0.4933333333333333,
          0.9,
          0.9,
          0.45,
          0.45,
          0.3238095238095238,
          0.3238095238095238,
          0.43333333333333335,
          0.43333333333333335,
          0.9,
          0.9,
          0.26666666666666666,
          0.26666666666666666,
          0.47333333333333333,
          0.47333333333333333,
          0.4,
          0.4,
          0.4,
          0.42000000000000004,
          0.8666666666666667,
          0.3666666666666667,
          0.7083333333333334,
          0.7083333333333334,
          0.9,
          0.9,
          0.1875,
          0.1875,
          0.5875,
          0.4412698412698413,
          0.4412698412698413,
          0.6,
          0.6,
          0.3,
          0.3,
          0.6142857142857143,
          0.6142857142857143,
          0.55,
          0.8333333333333334,
          0.525,
          0.525,
          0.6285714285714286,
          0.6285714285714286,
          0.5407312925170068,
          0.5407312925170068,
          0.45,
          0.42142857142857143,
          0.5,
          0.48214285714285715,
          0.48214285714285715,
          0.03333333333333333,
          0.03333333333333333,
          0.2,
          0.2,
          0.5,
          0.5
         ],
         "yaxis": "y"
        }
       ],
       "layout": {
        "annotations": [
         {}
        ],
        "legend": {
         "itemsizing": "constant",
         "title": {
          "text": "Analysis"
         },
         "tracegroupgap": 0
        },
        "shapes": [
         {
          "line": {
           "color": "black",
           "dash": "dash",
           "width": 1
          },
          "type": "line",
          "x0": 0,
          "x1": 0,
          "xref": "x",
          "y0": 0,
          "y1": 1,
          "yref": "y domain"
         }
        ],
        "template": {
         "data": {
          "bar": [
           {
            "error_x": {
             "color": "#2a3f5f"
            },
            "error_y": {
             "color": "#2a3f5f"
            },
            "marker": {
             "line": {
              "color": "#E5ECF6",
              "width": 0.5
             },
             "pattern": {
              "fillmode": "overlay",
              "size": 10,
              "solidity": 0.2
             }
            },
            "type": "bar"
           }
          ],
          "barpolar": [
           {
            "marker": {
             "line": {
              "color": "#E5ECF6",
              "width": 0.5
             },
             "pattern": {
              "fillmode": "overlay",
              "size": 10,
              "solidity": 0.2
             }
            },
            "type": "barpolar"
           }
          ],
          "carpet": [
           {
            "aaxis": {
             "endlinecolor": "#2a3f5f",
             "gridcolor": "white",
             "linecolor": "white",
             "minorgridcolor": "white",
             "startlinecolor": "#2a3f5f"
            },
            "baxis": {
             "endlinecolor": "#2a3f5f",
             "gridcolor": "white",
             "linecolor": "white",
             "minorgridcolor": "white",
             "startlinecolor": "#2a3f5f"
            },
            "type": "carpet"
           }
          ],
          "choropleth": [
           {
            "colorbar": {
             "outlinewidth": 0,
             "ticks": ""
            },
            "type": "choropleth"
           }
          ],
          "contour": [
           {
            "colorbar": {
             "outlinewidth": 0,
             "ticks": ""
            },
            "colorscale": [
             [
              0,
              "#0d0887"
             ],
             [
              0.1111111111111111,
              "#46039f"
             ],
             [
              0.2222222222222222,
              "#7201a8"
             ],
             [
              0.3333333333333333,
              "#9c179e"
             ],
             [
              0.4444444444444444,
              "#bd3786"
             ],
             [
              0.5555555555555556,
              "#d8576b"
             ],
             [
              0.6666666666666666,
              "#ed7953"
             ],
             [
              0.7777777777777778,
              "#fb9f3a"
             ],
             [
              0.8888888888888888,
              "#fdca26"
             ],
             [
              1,
              "#f0f921"
             ]
            ],
            "type": "contour"
           }
          ],
          "contourcarpet": [
           {
            "colorbar": {
             "outlinewidth": 0,
             "ticks": ""
            },
            "type": "contourcarpet"
           }
          ],
          "heatmap": [
           {
            "colorbar": {
             "outlinewidth": 0,
             "ticks": ""
            },
            "colorscale": [
             [
              0,
              "#0d0887"
             ],
             [
              0.1111111111111111,
              "#46039f"
             ],
             [
              0.2222222222222222,
              "#7201a8"
             ],
             [
              0.3333333333333333,
              "#9c179e"
             ],
             [
              0.4444444444444444,
              "#bd3786"
             ],
             [
              0.5555555555555556,
              "#d8576b"
             ],
             [
              0.6666666666666666,
              "#ed7953"
             ],
             [
              0.7777777777777778,
              "#fb9f3a"
             ],
             [
              0.8888888888888888,
              "#fdca26"
             ],
             [
              1,
              "#f0f921"
             ]
            ],
            "type": "heatmap"
           }
          ],
          "heatmapgl": [
           {
            "colorbar": {
             "outlinewidth": 0,
             "ticks": ""
            },
            "colorscale": [
             [
              0,
              "#0d0887"
             ],
             [
              0.1111111111111111,
              "#46039f"
             ],
             [
              0.2222222222222222,
              "#7201a8"
             ],
             [
              0.3333333333333333,
              "#9c179e"
             ],
             [
              0.4444444444444444,
              "#bd3786"
             ],
             [
              0.5555555555555556,
              "#d8576b"
             ],
             [
              0.6666666666666666,
              "#ed7953"
             ],
             [
              0.7777777777777778,
              "#fb9f3a"
             ],
             [
              0.8888888888888888,
              "#fdca26"
             ],
             [
              1,
              "#f0f921"
             ]
            ],
            "type": "heatmapgl"
           }
          ],
          "histogram": [
           {
            "marker": {
             "pattern": {
              "fillmode": "overlay",
              "size": 10,
              "solidity": 0.2
             }
            },
            "type": "histogram"
           }
          ],
          "histogram2d": [
           {
            "colorbar": {
             "outlinewidth": 0,
             "ticks": ""
            },
            "colorscale": [
             [
              0,
              "#0d0887"
             ],
             [
              0.1111111111111111,
              "#46039f"
             ],
             [
              0.2222222222222222,
              "#7201a8"
             ],
             [
              0.3333333333333333,
              "#9c179e"
             ],
             [
              0.4444444444444444,
              "#bd3786"
             ],
             [
              0.5555555555555556,
              "#d8576b"
             ],
             [
              0.6666666666666666,
              "#ed7953"
             ],
             [
              0.7777777777777778,
              "#fb9f3a"
             ],
             [
              0.8888888888888888,
              "#fdca26"
             ],
             [
              1,
              "#f0f921"
             ]
            ],
            "type": "histogram2d"
           }
          ],
          "histogram2dcontour": [
           {
            "colorbar": {
             "outlinewidth": 0,
             "ticks": ""
            },
            "colorscale": [
             [
              0,
              "#0d0887"
             ],
             [
              0.1111111111111111,
              "#46039f"
             ],
             [
              0.2222222222222222,
              "#7201a8"
             ],
             [
              0.3333333333333333,
              "#9c179e"
             ],
             [
              0.4444444444444444,
              "#bd3786"
             ],
             [
              0.5555555555555556,
              "#d8576b"
             ],
             [
              0.6666666666666666,
              "#ed7953"
             ],
             [
              0.7777777777777778,
              "#fb9f3a"
             ],
             [
              0.8888888888888888,
              "#fdca26"
             ],
             [
              1,
              "#f0f921"
             ]
            ],
            "type": "histogram2dcontour"
           }
          ],
          "mesh3d": [
           {
            "colorbar": {
             "outlinewidth": 0,
             "ticks": ""
            },
            "type": "mesh3d"
           }
          ],
          "parcoords": [
           {
            "line": {
             "colorbar": {
              "outlinewidth": 0,
              "ticks": ""
             }
            },
            "type": "parcoords"
           }
          ],
          "pie": [
           {
            "automargin": true,
            "type": "pie"
           }
          ],
          "scatter": [
           {
            "marker": {
             "colorbar": {
              "outlinewidth": 0,
              "ticks": ""
             }
            },
            "type": "scatter"
           }
          ],
          "scatter3d": [
           {
            "line": {
             "colorbar": {
              "outlinewidth": 0,
              "ticks": ""
             }
            },
            "marker": {
             "colorbar": {
              "outlinewidth": 0,
              "ticks": ""
             }
            },
            "type": "scatter3d"
           }
          ],
          "scattercarpet": [
           {
            "marker": {
             "colorbar": {
              "outlinewidth": 0,
              "ticks": ""
             }
            },
            "type": "scattercarpet"
           }
          ],
          "scattergeo": [
           {
            "marker": {
             "colorbar": {
              "outlinewidth": 0,
              "ticks": ""
             }
            },
            "type": "scattergeo"
           }
          ],
          "scattergl": [
           {
            "marker": {
             "colorbar": {
              "outlinewidth": 0,
              "ticks": ""
             }
            },
            "type": "scattergl"
           }
          ],
          "scattermapbox": [
           {
            "marker": {
             "colorbar": {
              "outlinewidth": 0,
              "ticks": ""
             }
            },
            "type": "scattermapbox"
           }
          ],
          "scatterpolar": [
           {
            "marker": {
             "colorbar": {
              "outlinewidth": 0,
              "ticks": ""
             }
            },
            "type": "scatterpolar"
           }
          ],
          "scatterpolargl": [
           {
            "marker": {
             "colorbar": {
              "outlinewidth": 0,
              "ticks": ""
             }
            },
            "type": "scatterpolargl"
           }
          ],
          "scatterternary": [
           {
            "marker": {
             "colorbar": {
              "outlinewidth": 0,
              "ticks": ""
             }
            },
            "type": "scatterternary"
           }
          ],
          "surface": [
           {
            "colorbar": {
             "outlinewidth": 0,
             "ticks": ""
            },
            "colorscale": [
             [
              0,
              "#0d0887"
             ],
             [
              0.1111111111111111,
              "#46039f"
             ],
             [
              0.2222222222222222,
              "#7201a8"
             ],
             [
              0.3333333333333333,
              "#9c179e"
             ],
             [
              0.4444444444444444,
              "#bd3786"
             ],
             [
              0.5555555555555556,
              "#d8576b"
             ],
             [
              0.6666666666666666,
              "#ed7953"
             ],
             [
              0.7777777777777778,
              "#fb9f3a"
             ],
             [
              0.8888888888888888,
              "#fdca26"
             ],
             [
              1,
              "#f0f921"
             ]
            ],
            "type": "surface"
           }
          ],
          "table": [
           {
            "cells": {
             "fill": {
              "color": "#EBF0F8"
             },
             "line": {
              "color": "white"
             }
            },
            "header": {
             "fill": {
              "color": "#C8D4E3"
             },
             "line": {
              "color": "white"
             }
            },
            "type": "table"
           }
          ]
         },
         "layout": {
          "annotationdefaults": {
           "arrowcolor": "#2a3f5f",
           "arrowhead": 0,
           "arrowwidth": 1
          },
          "autotypenumbers": "strict",
          "coloraxis": {
           "colorbar": {
            "outlinewidth": 0,
            "ticks": ""
           }
          },
          "colorscale": {
           "diverging": [
            [
             0,
             "#8e0152"
            ],
            [
             0.1,
             "#c51b7d"
            ],
            [
             0.2,
             "#de77ae"
            ],
            [
             0.3,
             "#f1b6da"
            ],
            [
             0.4,
             "#fde0ef"
            ],
            [
             0.5,
             "#f7f7f7"
            ],
            [
             0.6,
             "#e6f5d0"
            ],
            [
             0.7,
             "#b8e186"
            ],
            [
             0.8,
             "#7fbc41"
            ],
            [
             0.9,
             "#4d9221"
            ],
            [
             1,
             "#276419"
            ]
           ],
           "sequential": [
            [
             0,
             "#0d0887"
            ],
            [
             0.1111111111111111,
             "#46039f"
            ],
            [
             0.2222222222222222,
             "#7201a8"
            ],
            [
             0.3333333333333333,
             "#9c179e"
            ],
            [
             0.4444444444444444,
             "#bd3786"
            ],
            [
             0.5555555555555556,
             "#d8576b"
            ],
            [
             0.6666666666666666,
             "#ed7953"
            ],
            [
             0.7777777777777778,
             "#fb9f3a"
            ],
            [
             0.8888888888888888,
             "#fdca26"
            ],
            [
             1,
             "#f0f921"
            ]
           ],
           "sequentialminus": [
            [
             0,
             "#0d0887"
            ],
            [
             0.1111111111111111,
             "#46039f"
            ],
            [
             0.2222222222222222,
             "#7201a8"
            ],
            [
             0.3333333333333333,
             "#9c179e"
            ],
            [
             0.4444444444444444,
             "#bd3786"
            ],
            [
             0.5555555555555556,
             "#d8576b"
            ],
            [
             0.6666666666666666,
             "#ed7953"
            ],
            [
             0.7777777777777778,
             "#fb9f3a"
            ],
            [
             0.8888888888888888,
             "#fdca26"
            ],
            [
             1,
             "#f0f921"
            ]
           ]
          },
          "colorway": [
           "#636efa",
           "#EF553B",
           "#00cc96",
           "#ab63fa",
           "#FFA15A",
           "#19d3f3",
           "#FF6692",
           "#B6E880",
           "#FF97FF",
           "#FECB52"
          ],
          "font": {
           "color": "#2a3f5f"
          },
          "geo": {
           "bgcolor": "white",
           "lakecolor": "white",
           "landcolor": "#E5ECF6",
           "showlakes": true,
           "showland": true,
           "subunitcolor": "white"
          },
          "hoverlabel": {
           "align": "left"
          },
          "hovermode": "closest",
          "mapbox": {
           "style": "light"
          },
          "paper_bgcolor": "white",
          "plot_bgcolor": "#E5ECF6",
          "polar": {
           "angularaxis": {
            "gridcolor": "white",
            "linecolor": "white",
            "ticks": ""
           },
           "bgcolor": "#E5ECF6",
           "radialaxis": {
            "gridcolor": "white",
            "linecolor": "white",
            "ticks": ""
           }
          },
          "scene": {
           "xaxis": {
            "backgroundcolor": "#E5ECF6",
            "gridcolor": "white",
            "gridwidth": 2,
            "linecolor": "white",
            "showbackground": true,
            "ticks": "",
            "zerolinecolor": "white"
           },
           "yaxis": {
            "backgroundcolor": "#E5ECF6",
            "gridcolor": "white",
            "gridwidth": 2,
            "linecolor": "white",
            "showbackground": true,
            "ticks": "",
            "zerolinecolor": "white"
           },
           "zaxis": {
            "backgroundcolor": "#E5ECF6",
            "gridcolor": "white",
            "gridwidth": 2,
            "linecolor": "white",
            "showbackground": true,
            "ticks": "",
            "zerolinecolor": "white"
           }
          },
          "shapedefaults": {
           "line": {
            "color": "#2a3f5f"
           }
          },
          "ternary": {
           "aaxis": {
            "gridcolor": "white",
            "linecolor": "white",
            "ticks": ""
           },
           "baxis": {
            "gridcolor": "white",
            "linecolor": "white",
            "ticks": ""
           },
           "bgcolor": "#E5ECF6",
           "caxis": {
            "gridcolor": "white",
            "linecolor": "white",
            "ticks": ""
           }
          },
          "title": {
           "x": 0.05
          },
          "xaxis": {
           "automargin": true,
           "gridcolor": "white",
           "linecolor": "white",
           "ticks": "",
           "title": {
            "standoff": 15
           },
           "zerolinecolor": "white",
           "zerolinewidth": 2
          },
          "yaxis": {
           "automargin": true,
           "gridcolor": "white",
           "linecolor": "white",
           "ticks": "",
           "title": {
            "standoff": 15
           },
           "zerolinecolor": "white",
           "zerolinewidth": 2
          }
         }
        },
        "title": {
         "text": "Total App Reviews Sentiment Analysis"
        },
        "xaxis": {
         "anchor": "y",
         "domain": [
          0,
          1
         ],
         "title": {
          "text": "Polarity"
         }
        },
        "yaxis": {
         "anchor": "x",
         "domain": [
          0,
          1
         ],
         "title": {
          "text": "Subjectivity"
         }
        }
       }
      },
      "text/html": [
       "<div>                            <div id=\"7c857998-f941-46a9-8fed-47de199247d5\" class=\"plotly-graph-div\" style=\"height:525px; width:100%;\"></div>            <script type=\"text/javascript\">                require([\"plotly\"], function(Plotly) {                    window.PLOTLYENV=window.PLOTLYENV || {};                                    if (document.getElementById(\"7c857998-f941-46a9-8fed-47de199247d5\")) {                    Plotly.newPlot(                        \"7c857998-f941-46a9-8fed-47de199247d5\",                        [{\"hovertemplate\":\"Analysis=Positive<br>Polarity=%{x}<br>Subjectivity=%{y}<br>score=%{marker.size}<extra></extra>\",\"legendgroup\":\"Positive\",\"marker\":{\"color\":\"#636EFA\",\"size\":[4,5,5,5,4,5,5,5,5,5,4,3,4,5,3,5,5,5,3,5,5,5,3,5,5,5,5,5,5,5,5,3,4,5,5,4,3,5,5,5,5,5,1,5,5,4,5,5,5,5,2,5,5,5,5,5,3,3,5,5,4,5,4,5,5,4,4,5,1,2,5,5,5,1,1,1,5,5,5,5,5,5,4,2,5,5,5,5,4,4,4,5,1,5,5,5,5,5,4,5,5,5,5,5,5,5,3,3,5,3,5,5,5,5,5,5,4,5,5,5,5,5,5,5,5,5,4,5,2,5,4,5,4,5,5,5,5,5,5,5,5,5,5,4,5,5,5,5,5,5,5,5,2,4,5,5,5,5,5,5,4,1,1,5,3,4,5,1,5,5,4,5,4,5,5,5,5,5,5,4,5,5,5,5,5,4,5,4,5,5,3,5,5,3,5,4,5,5,5,5,5,5,5,5,5,5,5,1,5,3,5,4,5,5,5,5,5,4,5,5,5,1,2,5,5,5,5,5,5,5,2,4,5,5,5,5,4,5,3,3,5,5,4,5,5,4,3,3,5,5,4,1,1,5,3,3,5,5,2,2,5,5,5,5,4,4,5,5,3,3,4,5,5,5,4,4,5,5,5,5,5,5,5,5,5,4,4,5,5,5,4,4,5,5,5,4,4,4,5,5,5,5,5,5,1,1,5,5,5,5,4,4,5,5,3,3,4,4,5,5,5,5,5,4,4,4,4,5,5,5,5,5,5,5,5,5,5,5,1,1,5,5,2,2,1,1,5,5,4,4,5,5,5,5,5,5,5,4,4,5,5,5,5,5,1,1,5,5,5,5,5,5,5,5,5,5,5,5,5,4,4,5,5,5,5,5,5,5,5,4,5,1,1,5,5,5,5,5,5,5,5,5,5,5,5,5,5,3,3,5,5,5,1,1,5,5,5,5,5,5,5,5,5,3,5,5,5,5,5,5,5,5,4,5,5,5,5,5,3,3,1,1,5,1,5,5,5,5,5,5,5,5,5,5,5,5,5,5,4,4,4,4,5,5,5,5,5,5,5,5,5,5,5,5,3,3,5,5,5,5,5,5,5,5,5,5,5,5,5,5,5,5,5,5,5,5,5,5,5,5,5,5,5,4,4,5,5,5,5,5,5,3,3,5,5,5,3,3,5,5,5,5,4,4,4,4,4,5,5,5,5,1,1,5,5,5,5,5,5,5,5,4,4,5,4,4,5,5,5,5,4,5,5,1,1,2,2,5,5,5,5,5,5,5,5,4,4,4,5,3,3,4,5,5,4,4,5,5,5,5,5,3,3,5,5,5,3,3,4,4,1,1,4,1,1,5,5,2,2,5,5,1,1,5,5,5,5,5,5,5,5,4,5,5,2,2,5,5,5,5,5,5,5,4,4,4,4,3,3,3,5,5,5,3,3,3,3,5,5,1,1,1,1,5,5,5,5,4,4,2,2,1,1,5,4,4,5,5,5,1,1,5,4,5,5,3,3,5,4,4,5,5,5,5,5,5,5,4,4,5,5,4,5,5,5,5,5,4,5,5,5,5,5,1,1,5,2,5,5,5,5,5,5,5,5,5,5,5,5,4,4,5,5,5,1,1,5,5,5,3,3,5,4,4,5,5,5,5,5,5,3,3,5,2,2,5,4,5,5,1,1,5,5,3,3,5,1,1,4,5,4,3,3,3,4,4,4,5,5,3,3,1,1,5,5,4,4],\"sizemode\":\"area\",\"sizeref\":0.0125,\"symbol\":\"circle\"},\"mode\":\"markers\",\"name\":\"Positive\",\"orientation\":\"v\",\"showlegend\":true,\"type\":\"scatter\",\"x\":[0.195,0.8,0.39,0.3833333333333333,0.30000000000000004,0.12291666666666667,0.4116666666666667,0.39,0.39999999999999997,0.35,0.7,1.0,0.5,0.7666666666666666,0.19375,0.3,0.35625,1.0,0.39999999999999997,0.4,0.7,0.5733333333333334,0.8,0.012499999999999997,0.15625,0.8125,0.3333333333333333,0.01000000000000002,0.39999999999999997,0.39999999999999997,1.0,0.1,0.26666666666666666,0.25,0.31666666666666665,0.4291666666666667,0.5249999999999999,0.25,0.5,0.8,1.0,0.4083333333333334,0.25,0.2520833333333333,0.25,0.08418803418803421,0.33948717948717955,0.5375,0.87,0.5,0.35,0.2,0.356,0.78,0.64,1.0,0.3666666666666667,0.3666666666666667,0.2953125,0.5,0.525,1.0,0.8,0.3138888888888889,0.8,0.4708333333333333,0.43333333333333335,0.1875,0.7,0.30077922077922076,0.476,1.0,0.13125,0.09004329004329005,0.09004329004329005,0.12000000000000002,0.5,0.65,0.39999999999999997,0.5,0.35000000000000003,0.6,0.5,0.7,0.6,0.1830357142857143,0.4,0.3773809523809524,0.875,0.11249999999999999,0.275,0.625,0.275,0.26666666666666666,0.6541666666666667,1.0,0.8,0.7,0.6,0.65,0.6366666666666666,0.625,0.6,0.5,0.5,1.0,0.5,0.5,0.3333333333333333,0.41111111111111104,0.2333333333333333,0.7,0.23749999999999996,0.7,0.32,0.5,0.375,0.6,0.8,0.5633333333333334,0.7,0.23083333333333333,0.20694444444444446,0.3333333333333333,1.0,0.6000000000000001,0.15333333333333338,0.475,0.302,0.3,0.6,0.375,0.47727272727272724,0.9099999999999999,1.0,0.575,1.0,0.3833333333333333,1.0,1.0,1.0,0.85,0.5,0.225,0.33,0.5,0.5,0.3799242424242424,0.4,0.1,0.8,0.35833333333333334,0.55,0.7,0.6000000000000001,0.7500000000000001,0.27604166666666663,0.6,0.1574074074074074,1.0,0.7,0.20000000000000004,0.20000000000000004,0.40261904761904765,0.2571428571428572,0.375,0.4,0.7,0.14322916666666663,0.6000000000000001,0.2,0.6000000000000001,0.5,0.3,0.13636363636363635,0.8,0.5,0.21666666666666667,0.2571428571428571,0.8,1.0,0.36875,0.4875,0.65,0.39,0.19393939393939397,0.3,0.23619047619047615,0.06166666666666667,0.9099999999999999,0.6,1.0,0.625,0.25,1.0,0.2285714285714286,0.4375,0.0625,0.2,0.5,0.4125,0.325,0.240530303030303,0.625,0.34027777777777785,0.8,1.0,0.5,0.3057142857142857,0.01875,0.5,0.33142857142857146,0.9099999999999999,0.675,0.5833333333333334,0.7,0.2,0.6,0.35,0.25,0.8,0.21666666666666667,0.13333333333333336,1.0,1.0,0.7,0.3541666666666667,0.6000000000000001,0.6,0.284375,0.11666666666666668,0.6,0.5033333333333333,0.6000000000000001,0.4720000000000001,0.44,0.5,0.2333333333333333,0.625,0.625,1.0,0.30625,0.65,0.375,0.4625,0.7,0.19999999999999998,0.19999999999999998,1.0,0.78,0.5,0.15,0.15,0.19,0.5666666666666668,0.5666666666666668,0.7200000000000001,0.5,0.12380952380952381,0.12380952380952381,0.25,0.25,0.6000000000000001,0.6428571428571428,0.5,0.5,0.7,0.5,0.02777777777777779,0.02777777777777779,0.31666666666666665,0.6875,0.6875,0.7,0.10476190476190478,0.10476190476190478,0.75,0.2,0.5,0.565,0.32619047619047625,0.53125,0.53125,0.5875,0.5875,0.27777777777777773,0.27777777777777773,1.0,1.0,0.2,0.1,0.1,0.23703703703703705,1.0,0.2,0.6000000000000001,0.6000000000000001,0.8,0.22,0.22,0.43333333333333335,0.43333333333333335,0.5333333333333333,0.5333333333333333,0.05,0.05,0.284375,0.5499999999999999,0.5499999999999999,0.6000000000000001,0.26534090909090907,0.26534090909090907,0.3897435897435898,0.3897435897435898,0.8,0.8,0.8,0.8,0.31666666666666665,0.31666666666666665,0.55,0.4375,0.4375,0.39125,0.39125,0.3944444444444444,0.3944444444444444,0.39999999999999997,0.3591666666666667,0.3591666666666667,0.4611111111111111,0.66875,0.66875,0.2708333333333333,0.2708333333333333,0.7500000000000001,0.55,0.7,0.23274582560296844,0.23274582560296844,0.45555555555555555,0.45555555555555555,0.85,0.85,0.07427156177156177,0.07427156177156177,0.34875,0.34875,0.8,0.8,0.44166666666666665,0.44166666666666665,0.5,0.43333333333333335,1.0,0.8,0.8,0.375,0.375,0.4464285714285714,0.39444444444444443,0.39444444444444443,0.3444444444444444,0.3444444444444444,0.06666666666666667,0.06666666666666667,1.0,0.225,0.225,0.7,0.2,0.7,0.45,0.4375,0.4375,1.0,0.38,0.4000000000000001,0.4000000000000001,0.76,0.76,0.4340909090909091,0.4340909090909091,1.0,0.8,1.0,0.41666666666666663,0.41666666666666663,0.509090909090909,0.5,0.4,0.07988095238095239,0.07988095238095239,0.20085714285714285,0.5,0.8,0.6,0.39,0.4777777777777778,0.5,0.5,0.7,0.17222222222222222,0.17222222222222222,0.605,0.5,0.8,0.15000000000000002,0.15000000000000002,0.39,0.7,0.2,0.15000000000000002,0.15000000000000002,0.39999999999999997,0.3333333333333333,0.3333333333333333,0.25,0.625,0.1775,0.1775,0.25,0.25,0.4166666666666667,0.9099999999999999,0.9099999999999999,0.7083333333333334,0.7083333333333334,0.44000000000000006,0.4625,0.4625,0.16,1.0,0.39999999999999997,0.39999999999999997,0.6,0.6000000000000001,0.6000000000000001,0.09999999999999998,0.09999999999999998,0.29545454545454547,0.29545454545454547,0.32,0.41111111111111115,0.2833333333333334,0.45,0.35,0.35,0.3375,0.3375,0.37777777777777777,0.37777777777777777,0.5357142857142857,0.5357142857142857,0.4666666666666666,0.4666666666666666,0.5,0.5,0.5833333333333333,0.5833333333333333,0.4,0.4,1.0,0.8,1.0,0.43333333333333335,0.43333333333333335,0.7000000000000001,0.7000000000000001,0.5041666666666667,0.5041666666666667,0.2,1.0,0.4,0.05625,0.05625,0.4125,0.4125,0.4,0.37,0.37,0.4116666666666667,0.8,0.8,0.35,1.0,1.0,0.2,0.2,0.3,0.35,0.35,1.0,0.31666666666666665,0.31666666666666665,1.0,0.36,0.55,0.7166666666666667,0.7166666666666667,0.48277777777777775,0.325,0.325,0.05885714285714285,0.05885714285714285,0.54,0.54,0.40138888888888885,0.40138888888888885,0.5125,0.5125,0.8,0.8,0.19722222222222224,0.19722222222222224,0.3,0.075,0.075,0.2833333333333333,0.2833333333333333,0.39444444444444443,0.39444444444444443,0.4,0.4,0.625,0.625,0.4375,0.8,0.4666666666666667,0.5,0.5,0.09375,0.09375,0.4375,0.4375,0.3333333333333333,0.3333333333333333,1.0,0.5633333333333334,0.5633333333333334,0.44999999999999996,0.29375,0.29375,0.5,0.2125,0.2125,1.0,0.6,0.125,0.24999999999999997,0.8,0.5933333333333334,0.7,0.125,0.125,0.25,0.25,0.3642857142857143,0.3642857142857143,1.0,1.0,0.8,0.4666666666666667,0.15,1.0,0.335,0.335,0.6,0.5,0.1,0.1,0.05,0.4121212121212121,0.4121212121212121,0.31559343434343434,0.31559343434343434,0.39,0.4666666666666666,0.4666666666666666,0.5454545454545454,0.5454545454545454,0.25,0.25,0.275,0.24999999999999997,1.0,0.09999999999999999,0.09999999999999999,0.39999999999999997,0.39999999999999997,0.2,0.2,0.06818181818181818,0.8,0.8,0.7166666666666667,1.0,0.22592592592592592,0.22592592592592592,0.43333333333333335,0.43333333333333335,0.13571428571428573,0.13571428571428573,0.5,0.3375,0.3375,0.6166666666666667,0.6166666666666667,0.75,0.25,0.4,1.0,0.3666666666666667,0.3666666666666667,0.04999999999999999,0.04999999999999999,0.3111111111111111,0.3111111111111111,0.3,0.35,0.35,0.4066666666666666,0.4066666666666666,0.43047619047619046,0.43047619047619046,0.4,0.39999999999999997,0.3833333333333333,0.3833333333333333,0.5,0.2,0.6777777777777777,0.6777777777777777,0.35,0.35,0.10714285714285714,0.10714285714285714,0.8,0.8,0.6,0.6,0.17500000000000002,0.17500000000000002,0.5,1.0,0.3333333333333333,0.7625,0.13333333333333333,0.13333333333333333,0.3,0.3,0.17045454545454544,0.17045454545454544,1.0,0.23214285714285715,0.23214285714285715,0.5,1.0,1.0,0.17539682539682536,0.17539682539682536,0.5166666666666667,0.875,0.4083333333333333,0.4083333333333333,0.06613476485635576,0.06613476485635576,0.8,0.4375,0.4375,0.35,0.5833333333333334,0.7,0.175,0.175,0.465,0.465,0.14444444444444446,0.14444444444444446,0.25,0.25,0.39999999999999997,0.75,0.13999999999999999,0.13999999999999999,0.4,0.8,0.2,1.0,0.3,0.6,0.575,0.575,0.06818181818181818,0.06818181818181818,0.6194444444444445,0.08333333333333333,0.55,0.5,0.4202380952380952,0.4202380952380952,0.38333333333333336,0.38333333333333336,0.5666666666666667,0.5666666666666667,0.45499999999999996,0.45499999999999996,0.28583333333333333,0.28583333333333333,0.16904761904761909,0.16904761904761909,0.6000000000000001,0.6000000000000001,0.43333333333333335,0.02361111111111112,0.02361111111111112,0.75,0.75,0.2833333333333333,0.4,0.4,0.5633333333333334,0.17777777777777778,0.17777777777777778,0.6229166666666667,0.6229166666666667,0.75,0.32888888888888895,0.32888888888888895,0.2,0.2875,0.2875,1.0,0.3666666666666667,0.3666666666666667,0.8,0.6,0.22777777777777777,0.22777777777777777,0.12499999999999999,0.12499999999999999,0.6,0.5,0.9099999999999999,0.9099999999999999,0.5,0.26666666666666666,0.26666666666666666,0.13333333333333333,0.16,0.13333333333333333,0.08333333333333331,0.08333333333333331,0.21428571428571427,0.26875,0.3900432900432901,0.3900432900432901,0.35555555555555557,0.35555555555555557,0.6,0.6,0.0722222222222222,0.0722222222222222,0.2,0.2,0.0625,0.78],\"xaxis\":\"x\",\"y\":[0.5,0.75,0.0,0.75,0.725,0.6666666666666667,0.4166666666666667,0.0,0.5,0.45,0.6000000000000001,1.0,0.5,0.6666666666666666,0.36875,0.0,0.525,1.0,0.4000000000000001,0.375,0.6000000000000001,0.6608333333333334,0.75,0.3375,0.3125,0.8,0.47222222222222215,0.46416666666666667,0.43333333333333335,0.8,1.0,0.225,0.9166666666666667,0.15000000000000002,0.5666666666666667,0.5895833333333333,0.6333333333333333,0.3,0.6,0.75,1.0,0.6666666666666666,0.6458333333333333,0.5476190476190477,0.55,0.6017094017094017,0.566025641025641,0.4,0.7933333333333334,0.5,0.36250000000000004,0.2,0.48600000000000004,1.0,0.75,0.3,0.45,0.45,0.553125,0.5,0.5166666666666666,1.0,0.75,0.5555555555555556,0.75,0.525,0.5666666666666668,0.7,0.6000000000000001,0.5535064935064935,0.82,1.0,0.35,0.4518398268398268,0.4518398268398268,0.4,0.7380952380952381,1.0,0.8,0.6,0.65,0.55,0.6785714285714286,0.6000000000000001,1.0,0.4616071428571428,0.9,0.4825892857142857,0.6000000000000001,0.29375,0.5,0.6,0.65,0.5833333333333334,0.7166666666666668,1.0,0.75,0.6000000000000001,0.55,0.625,0.6266666666666667,0.6,0.6000000000000001,0.5,0.6,0.3,0.775,0.775,0.3,0.7111111111111111,0.3523809523809524,0.6000000000000001,0.725,0.6000000000000001,0.6000000000000001,0.4,0.35,1.0,0.75,1.0,0.6000000000000001,0.30833333333333335,0.6777777777777777,0.6666666666666666,1.0,0.9,0.645,0.4666666666666667,0.336,0.0,0.775,0.0,0.5609090909090909,0.7800000000000001,1.0,0.625,0.3,0.6,0.3,1.0,1.0,0.8,0.6,0.545,0.57,0.5,0.6,0.4428030303030303,0.9,1.0,0.75,0.45833333333333337,0.75,0.6000000000000001,0.9,0.9,0.6358333333333334,1.0,0.3314814814814815,0.3,0.6000000000000001,0.8000000000000002,0.8000000000000002,0.5428571428571428,0.5428571428571429,0.5,0.25,0.6000000000000001,0.5633928571428571,0.9,0.2,0.9,0.5,0.7333333333333334,0.5,0.75,0.6,0.6488095238095238,0.5029761904761906,0.75,0.3,0.7,0.8,0.675,0.0,0.5090909090909091,0.2,0.49428571428571433,0.33333333333333337,0.7800000000000001,0.5833333333333334,1.0,1.0,0.2833333333333333,1.0,0.5416666666666666,0.44999999999999996,0.4148809523809524,0.3,0.32857142857142857,0.35,0.4125,0.4202861952861953,0.6,0.5513888888888889,0.825,1.0,0.5,0.4742857142857143,0.35833333333333334,0.38125,0.5238095238095238,0.7800000000000001,0.53125,0.91,0.6000000000000001,0.2,1.0,0.65,0.5,0.75,0.55,0.6933333333333334,0.3,0.75,0.6000000000000001,0.44722222222222224,0.9,1.0,0.446875,0.5833333333333334,1.0,0.5766666666666668,0.9,0.312,0.55,0.5,0.5888888888888889,0.6,0.6,1.0,0.625,0.75,0.5785714285714286,0.5,0.6000000000000001,0.47500000000000003,0.47500000000000003,1.0,1.0,0.6,0.44000000000000006,0.44000000000000006,0.7,0.7666666666666666,0.7666666666666666,0.6133333333333333,0.54,0.5023809523809524,0.5023809523809524,0.7583333333333333,0.7583333333333333,0.9,0.7678571428571428,0.5549999999999999,0.5549999999999999,0.6000000000000001,0.6,0.3972222222222222,0.3972222222222222,0.5666666666666667,0.7,0.7,0.6000000000000001,0.5452380952380952,0.5452380952380952,0.6900000000000001,0.3,0.6,0.8333333333333333,0.45619047619047615,0.45,0.45,0.3666666666666667,0.3666666666666667,0.6444444444444445,0.6444444444444445,0.65,0.65,0.3,0.37857142857142856,0.37857142857142856,0.6518518518518519,0.3,0.2,0.9,0.9,0.75,0.37999999999999995,0.37999999999999995,0.8333333333333334,0.8333333333333334,0.6500000000000001,0.6500000000000001,0.1,0.1,0.6546428571428572,0.8333333333333334,0.8333333333333334,0.9,0.5198863636363636,0.5198863636363636,0.5492673992673992,0.5492673992673992,0.75,0.75,0.75,0.75,0.5666666666666667,0.5666666666666667,0.8,0.8,0.8,0.43125,0.43125,0.7444444444444445,0.7444444444444445,0.39999999999999997,0.5458333333333333,0.5458333333333333,0.5,0.5875,0.5875,0.5555555555555556,0.5555555555555556,0.9,0.8,0.6000000000000001,0.5394248608534323,0.5394248608534323,0.7555555555555555,0.7555555555555555,1.0,1.0,0.46075398960014347,0.46075398960014347,0.5349999999999999,0.5349999999999999,0.95,0.95,0.47500000000000003,0.47500000000000003,0.5,0.7857142857142857,0.3,0.75,0.75,0.5135416666666667,0.5135416666666667,0.5357142857142857,0.5722222222222223,0.5722222222222223,0.7301587301587302,0.7301587301587302,0.5,0.5,1.0,0.5416666666666666,0.5416666666666666,0.6000000000000001,0.2,0.6000000000000001,0.95,0.5642857142857143,0.5642857142857143,0.3,0.43,0.3,0.3,0.75,0.75,0.48863636363636365,0.48863636363636365,1.0,0.75,0.3,0.55,0.55,0.6386363636363637,0.5,0.55,0.5535714285714285,0.5535714285714285,0.19428571428571426,0.5,0.75,1.0,0.0,0.6111111111111112,0.6,0.6,0.6000000000000001,0.4444444444444444,0.4444444444444444,0.39000000000000007,0.6,0.75,0.875,0.875,0.0,0.6000000000000001,0.25,0.475,0.475,0.8,0.5,0.5,0.47857142857142854,0.6,0.5974999999999999,0.5974999999999999,0.44999999999999996,0.44999999999999996,0.5,0.7800000000000001,0.7800000000000001,0.7999999999999999,0.7999999999999999,0.5800000000000001,0.6972222222222222,0.6972222222222222,0.5399999999999999,0.3,0.5,0.5,1.0,0.9,0.9,0.5,0.5,0.4348484848484848,0.4348484848484848,0.15,0.5333333333333333,0.2833333333333333,0.525,0.35,0.35,0.35,0.35,0.6777777777777779,0.6777777777777779,0.40317460317460313,0.40317460317460313,0.39333333333333337,0.39333333333333337,0.6,0.6,0.7708333333333334,0.7708333333333334,0.375,0.375,0.3,0.75,0.3,0.7833333333333333,0.7833333333333333,0.825,0.825,0.4666666666666666,0.4666666666666666,0.2,0.3,0.625,0.48125,0.48125,0.4,0.4,0.6,0.45999999999999996,0.45999999999999996,0.4166666666666667,0.75,0.75,0.4,0.875,0.875,0.3,0.3,0.6785714285714286,0.62,0.62,0.6,0.5666666666666667,0.5666666666666667,0.3,0.55,0.95,0.9166666666666667,0.9166666666666667,0.4777777777777778,0.5583333333333333,0.5583333333333333,0.5482857142857143,0.5482857142857143,0.465,0.465,0.5555555555555557,0.5555555555555557,0.625,0.625,0.75,0.75,0.35833333333333334,0.35833333333333334,0.0,0.27499999999999997,0.27499999999999997,0.6416666666666667,0.6416666666666667,0.6388888888888888,0.6388888888888888,0.75,0.75,0.6,0.6,0.65,0.75,0.6666666666666667,0.8,0.8,0.45208333333333334,0.45208333333333334,0.3375,0.3375,0.4916666666666667,0.4916666666666667,1.0,0.5333333333333333,0.5333333333333333,0.6000000000000001,0.16875,0.16875,0.75,0.43749999999999994,0.43749999999999994,0.75,1.0,1.0,0.6000000000000001,0.75,0.6666666666666666,0.95,0.125,0.125,0.5625,0.5625,0.5867346938775511,0.5867346938775511,0.75,1.0,0.75,0.8333333333333333,0.5,1.0,0.525,0.525,1.0,0.4750000000000001,0.12,0.12,0.625,0.5515151515151515,0.5515151515151515,0.5247474747474747,0.5247474747474747,0.0,0.43333333333333335,0.43333333333333335,0.6515151515151515,0.6515151515151515,0.3,0.3,0.65,0.5,1.0,0.19999999999999998,0.19999999999999998,0.43333333333333335,0.43333333333333335,0.2,0.2,0.22727272727272727,0.75,0.75,0.5666666666666667,1.0,0.4824074074074074,0.4824074074074074,0.8333333333333334,0.8333333333333334,0.5523809523809524,0.5523809523809524,0.6,0.475,0.475,0.7916666666666667,0.7916666666666667,0.675,0.3,0.9,0.3,0.5972222222222222,0.5972222222222222,0.75,0.75,0.4511904761904762,0.4511904761904762,0.0,0.6,0.6,0.4533333333333333,0.4533333333333333,0.5285714285714286,0.5285714285714286,0.7,0.3666666666666667,0.7583333333333333,0.7583333333333333,0.5,0.2,0.7111111111111111,0.7111111111111111,0.7,0.7,0.32142857142857145,0.32142857142857145,0.75,0.75,1.0,1.0,0.5083333333333333,0.5083333333333333,0.5,1.0,0.6666666666666666,0.75,0.5333333333333333,0.5333333333333333,0.0,0.0,0.4431818181818182,0.4431818181818182,1.0,0.5464285714285715,0.5464285714285715,0.6,1.0,1.0,0.6587301587301587,0.6587301587301587,0.8666666666666667,0.975,0.775,0.775,0.46736029122392764,0.46736029122392764,0.75,0.47857142857142865,0.47857142857142865,0.65,0.7166666666666667,0.6000000000000001,0.44999999999999996,0.44999999999999996,0.5177777777777778,0.5177777777777778,0.4222222222222222,0.4222222222222222,0.3625,0.3625,0.8,0.4,0.5,0.5,0.9,0.75,0.3,0.3,0.0,1.0,0.78125,0.78125,0.22727272727272727,0.22727272727272727,0.7277777777777779,0.43333333333333335,0.65,0.5,0.5047619047619049,0.5047619047619049,0.8083333333333333,0.8083333333333333,0.5166666666666667,0.5166666666666667,0.39000000000000007,0.39000000000000007,0.4058333333333333,0.4058333333333333,0.5190476190476191,0.5190476190476191,0.75,0.75,0.8333333333333334,0.24285714285714288,0.24285714285714288,0.75,0.75,0.36282051282051286,0.425,0.425,1.0,0.9444444444444445,0.9444444444444445,0.7541666666666668,0.7541666666666668,0.8,0.5155555555555555,0.5155555555555555,0.3,0.4,0.4,0.75,0.5833333333333334,0.5833333333333334,0.75,1.0,0.36111111111111116,0.36111111111111116,0.22500000000000003,0.22500000000000003,1.0,0.6,0.7800000000000001,0.7800000000000001,0.775,0.3333333333333333,0.3333333333333333,0.7000000000000001,0.5399999999999999,0.7000000000000001,0.5166666666666666,0.5166666666666666,0.5714285714285714,0.5869791666666667,0.7996753246753247,0.7996753246753247,0.7234126984126985,0.7234126984126985,1.0,1.0,0.5618055555555554,0.5618055555555554,0.2,0.2,0.34375,1.0],\"yaxis\":\"y\"},{\"hovertemplate\":\"Analysis=Neutral<br>Polarity=%{x}<br>Subjectivity=%{y}<br>score=%{marker.size}<extra></extra>\",\"legendgroup\":\"Neutral\",\"marker\":{\"color\":\"#00CC96\",\"size\":[1,5,5,5,5,5,5,5,4,4,1,5,5,4,4,5,1,3,5,4,5,5,3,5,5,1,5,5,4,4,1,5,3,5,1,1,1,4,2,1,4,2,1,1,5,5,1,2,2,5,5,5,5,2,5,1,1,1,5,1,1,1,5,1,1,5,5,4,4,2,2,5,5,1,5,5,5,3,3,4,5,5,1,1,5,5,5,5,5,5,1,1,4,4,3,3,4,5,5,5,4,5,4,5,5,4,1,4,5,1,4,4,3,3,4,4,4,5,1,1,2,5,2,2,1,3,1],\"sizemode\":\"area\",\"sizeref\":0.0125,\"symbol\":\"circle\"},\"mode\":\"markers\",\"name\":\"Neutral\",\"orientation\":\"v\",\"showlegend\":true,\"type\":\"scatter\",\"x\":[0.0,0.0,0.0,0.0,0.0,0.0,0.0,0.0,0.0,0.0,0.0,0.0,0.0,0.0,0.0,0.0,0.0,0.0,0.0,0.0,0.0,0.0,0.0,0.0,0.0,0.0,0.0,0.0,0.0,0.0,0.0,0.0,0.0,0.0,0.0,0.0,0.0,0.0,0.0,0.0,0.0,0.0,0.0,0.0,0.0,0.0,0.0,0.0,0.0,0.0,0.0,0.0,0.0,0.0,0.0,0.0,0.0,0.0,0.0,0.0,0.0,0.0,0.0,0.0,0.0,0.0,0.0,0.0,0.0,0.0,0.0,0.0,0.0,0.0,0.0,0.0,0.0,0.0,0.0,0.0,0.0,0.0,0.0,0.0,0.0,0.0,0.0,0.0,0.0,0.0,0.0,0.0,0.0,0.0,0.0,0.0,0.0,0.0,0.0,0.0,0.0,0.0,0.0,0.0,0.0,0.0,0.0,0.0,0.0,0.0,0.0,0.0,0.0,0.0,0.0,0.0,0.0,0.0,0.0,0.0,0.0,0.0,0.0,0.0,0.0,0.0,0.0],\"xaxis\":\"x\",\"y\":[0.3333333333333333,0.0,0.0,0.3,0.0,0.0,0.0,0.0,0.0,0.0,0.0,0.0,0.0,0.0,0.0,0.0,0.0,0.3333333333333333,0.0,0.0,0.0,0.0,0.0,0.0,0.0,0.0,0.0,0.0,0.0,0.0,0.0,0.0,0.0,0.0,0.0,0.0,0.6666666666666666,0.35714285714285715,0.5,0.0,0.0,0.0,0.0,0.0,0.0,0.0,0.25,0.18333333333333335,0.18333333333333335,0.0,0.0,0.0,0.0,0.0,0.0,0.0,0.0,0.0,0.0,0.0,0.0,0.0,0.0,0.0,0.0,0.0,0.0,0.75,0.75,0.39999999999999997,0.39999999999999997,0.0,0.0,0.0,0.0,0.0,0.0,0.0,0.0,0.0,0.0,0.0,1.0,1.0,0.0,0.1,0.0,0.0,0.0,0.0,0.0,0.0,0.0,0.0,0.0,0.0,0.0,0.0,0.0,0.0,0.0,0.0,0.0,0.0,0.0,0.0,0.0,0.4,0.0,0.0,0.0,0.0,0.4,0.4,0.0,0.0,0.0,0.0,0.8,0.8,1.0,0.0,0.5,0.5,0.0,0.0,0.0],\"yaxis\":\"y\"},{\"hovertemplate\":\"Analysis=Negative<br>Polarity=%{x}<br>Subjectivity=%{y}<br>score=%{marker.size}<extra></extra>\",\"legendgroup\":\"Negative\",\"marker\":{\"color\":\"#EF553B\",\"size\":[1,1,5,1,5,1,2,2,1,1,1,5,1,1,1,1,1,1,1,1,1,1,5,3,1,1,4,2,5,1,1,1,1,2,3,2,1,1,4,4,5,5,4,4,3,3,2,2,1,1,1,1,3,3,3,3,2,2,5,5,4,4,1,1,5,5,2,2,3,4,1,1,2,2,1,1,5,5,1,3,3,2,2,4,4,1,1,1,1,2,2,3,3,1,1,1,1,1,1,1,4,4,5,5,3,3],\"sizemode\":\"area\",\"sizeref\":0.0125,\"symbol\":\"circle\"},\"mode\":\"markers\",\"name\":\"Negative\",\"orientation\":\"v\",\"showlegend\":true,\"type\":\"scatter\",\"x\":[-0.25555555555555554,-0.25,-0.029166666666666674,-0.005612244897959188,-0.45,-0.2,-0.17333333333333334,-0.18828125,-0.6999999999999998,-0.8,-0.6666666666666666,-0.75,-0.25,-0.020454545454545458,-0.05000000000000001,-0.625,-1.0,-1.0,-0.07857142857142857,-0.07857142857142857,-0.375,-1.0,-0.11833333333333335,-0.13111111111111112,-0.8,-0.25,-1.586032892321652e-17,-0.3249999999999999,-0.2,-0.06666666666666667,-0.8,-0.32666666666666666,-0.32666666666666666,-0.4166666666666667,-0.2,-0.5,-0.1,-0.1,-0.07142857142857142,-0.07142857142857142,-0.05892857142857143,-0.05892857142857143,-0.05750000000000001,-0.05750000000000001,-0.4,-0.4,-0.2,-0.2,-0.35625,-0.35625,-0.11333333333333336,-0.11333333333333336,-0.8,-0.8,-0.5,-0.5,-0.028571428571428574,-0.028571428571428574,-0.2499999999999999,-0.2499999999999999,-0.8,-0.8,-0.03333333333333333,-0.03333333333333333,-0.11000000000000001,-0.11000000000000001,-0.1,-0.1,-0.2,-0.06000000000000001,-0.9099999999999998,-0.43333333333333335,-0.0625,-0.0625,-0.5,-0.5,-0.0625,-0.0625,-0.1,-0.10714285714285714,-0.10714285714285714,-0.16111111111111112,-0.16111111111111112,-0.024285714285714275,-0.024285714285714275,-0.07500000000000001,-0.07500000000000001,-0.012500000000000011,-0.21666666666666667,-0.08958333333333333,-0.08958333333333333,-0.4,-0.4,-0.07091836734693877,-0.07091836734693877,-0.4,-0.2714285714285714,-0.5,-0.1392857142857143,-0.1392857142857143,-0.06666666666666667,-0.06666666666666667,-0.025,-0.025,-0.1,-0.1],\"xaxis\":\"x\",\"y\":[0.3722222222222223,0.3,0.2333333333333333,0.401530612244898,0.65,0.0,0.5,0.6,0.6666666666666666,0.9,0.6,0.9,0.1,0.508080808080808,0.42083333333333334,0.5,0.9,0.875,0.6339285714285714,0.6339285714285714,0.6,1.0,0.95,0.39777777777777773,0.9,0.3,0.6571428571428571,0.31666666666666665,0.4,0.03333333333333333,0.9,0.6533333333333333,0.6533333333333333,0.6666666666666666,0.25,0.5,0.22999999999999998,0.22999999999999998,0.5714285714285714,0.5714285714285714,0.4107142857142857,0.4107142857142857,0.40750000000000003,0.40750000000000003,0.45,0.45,0.5,0.5,0.575,0.575,0.4933333333333333,0.4933333333333333,0.9,0.9,0.45,0.45,0.3238095238095238,0.3238095238095238,0.43333333333333335,0.43333333333333335,0.9,0.9,0.26666666666666666,0.26666666666666666,0.47333333333333333,0.47333333333333333,0.4,0.4,0.4,0.42000000000000004,0.8666666666666667,0.3666666666666667,0.7083333333333334,0.7083333333333334,0.9,0.9,0.1875,0.1875,0.5875,0.4412698412698413,0.4412698412698413,0.6,0.6,0.3,0.3,0.6142857142857143,0.6142857142857143,0.55,0.8333333333333334,0.525,0.525,0.6285714285714286,0.6285714285714286,0.5407312925170068,0.5407312925170068,0.45,0.42142857142857143,0.5,0.48214285714285715,0.48214285714285715,0.03333333333333333,0.03333333333333333,0.2,0.2,0.5,0.5],\"yaxis\":\"y\"}],                        {\"annotations\":[{}],\"legend\":{\"itemsizing\":\"constant\",\"title\":{\"text\":\"Analysis\"},\"tracegroupgap\":0},\"shapes\":[{\"line\":{\"color\":\"black\",\"dash\":\"dash\",\"width\":1},\"type\":\"line\",\"x0\":0,\"x1\":0,\"xref\":\"x\",\"y0\":0,\"y1\":1,\"yref\":\"y domain\"}],\"template\":{\"data\":{\"bar\":[{\"error_x\":{\"color\":\"#2a3f5f\"},\"error_y\":{\"color\":\"#2a3f5f\"},\"marker\":{\"line\":{\"color\":\"#E5ECF6\",\"width\":0.5},\"pattern\":{\"fillmode\":\"overlay\",\"size\":10,\"solidity\":0.2}},\"type\":\"bar\"}],\"barpolar\":[{\"marker\":{\"line\":{\"color\":\"#E5ECF6\",\"width\":0.5},\"pattern\":{\"fillmode\":\"overlay\",\"size\":10,\"solidity\":0.2}},\"type\":\"barpolar\"}],\"carpet\":[{\"aaxis\":{\"endlinecolor\":\"#2a3f5f\",\"gridcolor\":\"white\",\"linecolor\":\"white\",\"minorgridcolor\":\"white\",\"startlinecolor\":\"#2a3f5f\"},\"baxis\":{\"endlinecolor\":\"#2a3f5f\",\"gridcolor\":\"white\",\"linecolor\":\"white\",\"minorgridcolor\":\"white\",\"startlinecolor\":\"#2a3f5f\"},\"type\":\"carpet\"}],\"choropleth\":[{\"colorbar\":{\"outlinewidth\":0,\"ticks\":\"\"},\"type\":\"choropleth\"}],\"contour\":[{\"colorbar\":{\"outlinewidth\":0,\"ticks\":\"\"},\"colorscale\":[[0.0,\"#0d0887\"],[0.1111111111111111,\"#46039f\"],[0.2222222222222222,\"#7201a8\"],[0.3333333333333333,\"#9c179e\"],[0.4444444444444444,\"#bd3786\"],[0.5555555555555556,\"#d8576b\"],[0.6666666666666666,\"#ed7953\"],[0.7777777777777778,\"#fb9f3a\"],[0.8888888888888888,\"#fdca26\"],[1.0,\"#f0f921\"]],\"type\":\"contour\"}],\"contourcarpet\":[{\"colorbar\":{\"outlinewidth\":0,\"ticks\":\"\"},\"type\":\"contourcarpet\"}],\"heatmap\":[{\"colorbar\":{\"outlinewidth\":0,\"ticks\":\"\"},\"colorscale\":[[0.0,\"#0d0887\"],[0.1111111111111111,\"#46039f\"],[0.2222222222222222,\"#7201a8\"],[0.3333333333333333,\"#9c179e\"],[0.4444444444444444,\"#bd3786\"],[0.5555555555555556,\"#d8576b\"],[0.6666666666666666,\"#ed7953\"],[0.7777777777777778,\"#fb9f3a\"],[0.8888888888888888,\"#fdca26\"],[1.0,\"#f0f921\"]],\"type\":\"heatmap\"}],\"heatmapgl\":[{\"colorbar\":{\"outlinewidth\":0,\"ticks\":\"\"},\"colorscale\":[[0.0,\"#0d0887\"],[0.1111111111111111,\"#46039f\"],[0.2222222222222222,\"#7201a8\"],[0.3333333333333333,\"#9c179e\"],[0.4444444444444444,\"#bd3786\"],[0.5555555555555556,\"#d8576b\"],[0.6666666666666666,\"#ed7953\"],[0.7777777777777778,\"#fb9f3a\"],[0.8888888888888888,\"#fdca26\"],[1.0,\"#f0f921\"]],\"type\":\"heatmapgl\"}],\"histogram\":[{\"marker\":{\"pattern\":{\"fillmode\":\"overlay\",\"size\":10,\"solidity\":0.2}},\"type\":\"histogram\"}],\"histogram2d\":[{\"colorbar\":{\"outlinewidth\":0,\"ticks\":\"\"},\"colorscale\":[[0.0,\"#0d0887\"],[0.1111111111111111,\"#46039f\"],[0.2222222222222222,\"#7201a8\"],[0.3333333333333333,\"#9c179e\"],[0.4444444444444444,\"#bd3786\"],[0.5555555555555556,\"#d8576b\"],[0.6666666666666666,\"#ed7953\"],[0.7777777777777778,\"#fb9f3a\"],[0.8888888888888888,\"#fdca26\"],[1.0,\"#f0f921\"]],\"type\":\"histogram2d\"}],\"histogram2dcontour\":[{\"colorbar\":{\"outlinewidth\":0,\"ticks\":\"\"},\"colorscale\":[[0.0,\"#0d0887\"],[0.1111111111111111,\"#46039f\"],[0.2222222222222222,\"#7201a8\"],[0.3333333333333333,\"#9c179e\"],[0.4444444444444444,\"#bd3786\"],[0.5555555555555556,\"#d8576b\"],[0.6666666666666666,\"#ed7953\"],[0.7777777777777778,\"#fb9f3a\"],[0.8888888888888888,\"#fdca26\"],[1.0,\"#f0f921\"]],\"type\":\"histogram2dcontour\"}],\"mesh3d\":[{\"colorbar\":{\"outlinewidth\":0,\"ticks\":\"\"},\"type\":\"mesh3d\"}],\"parcoords\":[{\"line\":{\"colorbar\":{\"outlinewidth\":0,\"ticks\":\"\"}},\"type\":\"parcoords\"}],\"pie\":[{\"automargin\":true,\"type\":\"pie\"}],\"scatter\":[{\"marker\":{\"colorbar\":{\"outlinewidth\":0,\"ticks\":\"\"}},\"type\":\"scatter\"}],\"scatter3d\":[{\"line\":{\"colorbar\":{\"outlinewidth\":0,\"ticks\":\"\"}},\"marker\":{\"colorbar\":{\"outlinewidth\":0,\"ticks\":\"\"}},\"type\":\"scatter3d\"}],\"scattercarpet\":[{\"marker\":{\"colorbar\":{\"outlinewidth\":0,\"ticks\":\"\"}},\"type\":\"scattercarpet\"}],\"scattergeo\":[{\"marker\":{\"colorbar\":{\"outlinewidth\":0,\"ticks\":\"\"}},\"type\":\"scattergeo\"}],\"scattergl\":[{\"marker\":{\"colorbar\":{\"outlinewidth\":0,\"ticks\":\"\"}},\"type\":\"scattergl\"}],\"scattermapbox\":[{\"marker\":{\"colorbar\":{\"outlinewidth\":0,\"ticks\":\"\"}},\"type\":\"scattermapbox\"}],\"scatterpolar\":[{\"marker\":{\"colorbar\":{\"outlinewidth\":0,\"ticks\":\"\"}},\"type\":\"scatterpolar\"}],\"scatterpolargl\":[{\"marker\":{\"colorbar\":{\"outlinewidth\":0,\"ticks\":\"\"}},\"type\":\"scatterpolargl\"}],\"scatterternary\":[{\"marker\":{\"colorbar\":{\"outlinewidth\":0,\"ticks\":\"\"}},\"type\":\"scatterternary\"}],\"surface\":[{\"colorbar\":{\"outlinewidth\":0,\"ticks\":\"\"},\"colorscale\":[[0.0,\"#0d0887\"],[0.1111111111111111,\"#46039f\"],[0.2222222222222222,\"#7201a8\"],[0.3333333333333333,\"#9c179e\"],[0.4444444444444444,\"#bd3786\"],[0.5555555555555556,\"#d8576b\"],[0.6666666666666666,\"#ed7953\"],[0.7777777777777778,\"#fb9f3a\"],[0.8888888888888888,\"#fdca26\"],[1.0,\"#f0f921\"]],\"type\":\"surface\"}],\"table\":[{\"cells\":{\"fill\":{\"color\":\"#EBF0F8\"},\"line\":{\"color\":\"white\"}},\"header\":{\"fill\":{\"color\":\"#C8D4E3\"},\"line\":{\"color\":\"white\"}},\"type\":\"table\"}]},\"layout\":{\"annotationdefaults\":{\"arrowcolor\":\"#2a3f5f\",\"arrowhead\":0,\"arrowwidth\":1},\"autotypenumbers\":\"strict\",\"coloraxis\":{\"colorbar\":{\"outlinewidth\":0,\"ticks\":\"\"}},\"colorscale\":{\"diverging\":[[0,\"#8e0152\"],[0.1,\"#c51b7d\"],[0.2,\"#de77ae\"],[0.3,\"#f1b6da\"],[0.4,\"#fde0ef\"],[0.5,\"#f7f7f7\"],[0.6,\"#e6f5d0\"],[0.7,\"#b8e186\"],[0.8,\"#7fbc41\"],[0.9,\"#4d9221\"],[1,\"#276419\"]],\"sequential\":[[0.0,\"#0d0887\"],[0.1111111111111111,\"#46039f\"],[0.2222222222222222,\"#7201a8\"],[0.3333333333333333,\"#9c179e\"],[0.4444444444444444,\"#bd3786\"],[0.5555555555555556,\"#d8576b\"],[0.6666666666666666,\"#ed7953\"],[0.7777777777777778,\"#fb9f3a\"],[0.8888888888888888,\"#fdca26\"],[1.0,\"#f0f921\"]],\"sequentialminus\":[[0.0,\"#0d0887\"],[0.1111111111111111,\"#46039f\"],[0.2222222222222222,\"#7201a8\"],[0.3333333333333333,\"#9c179e\"],[0.4444444444444444,\"#bd3786\"],[0.5555555555555556,\"#d8576b\"],[0.6666666666666666,\"#ed7953\"],[0.7777777777777778,\"#fb9f3a\"],[0.8888888888888888,\"#fdca26\"],[1.0,\"#f0f921\"]]},\"colorway\":[\"#636efa\",\"#EF553B\",\"#00cc96\",\"#ab63fa\",\"#FFA15A\",\"#19d3f3\",\"#FF6692\",\"#B6E880\",\"#FF97FF\",\"#FECB52\"],\"font\":{\"color\":\"#2a3f5f\"},\"geo\":{\"bgcolor\":\"white\",\"lakecolor\":\"white\",\"landcolor\":\"#E5ECF6\",\"showlakes\":true,\"showland\":true,\"subunitcolor\":\"white\"},\"hoverlabel\":{\"align\":\"left\"},\"hovermode\":\"closest\",\"mapbox\":{\"style\":\"light\"},\"paper_bgcolor\":\"white\",\"plot_bgcolor\":\"#E5ECF6\",\"polar\":{\"angularaxis\":{\"gridcolor\":\"white\",\"linecolor\":\"white\",\"ticks\":\"\"},\"bgcolor\":\"#E5ECF6\",\"radialaxis\":{\"gridcolor\":\"white\",\"linecolor\":\"white\",\"ticks\":\"\"}},\"scene\":{\"xaxis\":{\"backgroundcolor\":\"#E5ECF6\",\"gridcolor\":\"white\",\"gridwidth\":2,\"linecolor\":\"white\",\"showbackground\":true,\"ticks\":\"\",\"zerolinecolor\":\"white\"},\"yaxis\":{\"backgroundcolor\":\"#E5ECF6\",\"gridcolor\":\"white\",\"gridwidth\":2,\"linecolor\":\"white\",\"showbackground\":true,\"ticks\":\"\",\"zerolinecolor\":\"white\"},\"zaxis\":{\"backgroundcolor\":\"#E5ECF6\",\"gridcolor\":\"white\",\"gridwidth\":2,\"linecolor\":\"white\",\"showbackground\":true,\"ticks\":\"\",\"zerolinecolor\":\"white\"}},\"shapedefaults\":{\"line\":{\"color\":\"#2a3f5f\"}},\"ternary\":{\"aaxis\":{\"gridcolor\":\"white\",\"linecolor\":\"white\",\"ticks\":\"\"},\"baxis\":{\"gridcolor\":\"white\",\"linecolor\":\"white\",\"ticks\":\"\"},\"bgcolor\":\"#E5ECF6\",\"caxis\":{\"gridcolor\":\"white\",\"linecolor\":\"white\",\"ticks\":\"\"}},\"title\":{\"x\":0.05},\"xaxis\":{\"automargin\":true,\"gridcolor\":\"white\",\"linecolor\":\"white\",\"ticks\":\"\",\"title\":{\"standoff\":15},\"zerolinecolor\":\"white\",\"zerolinewidth\":2},\"yaxis\":{\"automargin\":true,\"gridcolor\":\"white\",\"linecolor\":\"white\",\"ticks\":\"\",\"title\":{\"standoff\":15},\"zerolinecolor\":\"white\",\"zerolinewidth\":2}}},\"title\":{\"text\":\"Total App Reviews Sentiment Analysis\"},\"xaxis\":{\"anchor\":\"y\",\"domain\":[0.0,1.0],\"title\":{\"text\":\"Polarity\"}},\"yaxis\":{\"anchor\":\"x\",\"domain\":[0.0,1.0],\"title\":{\"text\":\"Subjectivity\"}}},                        {\"responsive\": true}                    ).then(function(){\n",
       "                            \n",
       "var gd = document.getElementById('7c857998-f941-46a9-8fed-47de199247d5');\n",
       "var x = new MutationObserver(function (mutations, observer) {{\n",
       "        var display = window.getComputedStyle(gd).display;\n",
       "        if (!display || display === 'none') {{\n",
       "            console.log([gd, 'removed!']);\n",
       "            Plotly.purge(gd);\n",
       "            observer.disconnect();\n",
       "        }}\n",
       "}});\n",
       "\n",
       "// Listen for the removal of the full notebook cells\n",
       "var notebookContainer = gd.closest('#notebook-container');\n",
       "if (notebookContainer) {{\n",
       "    x.observe(notebookContainer, {childList: true});\n",
       "}}\n",
       "\n",
       "// Listen for the clearing of the current output cell\n",
       "var outputEl = gd.closest('.output');\n",
       "if (outputEl) {{\n",
       "    x.observe(outputEl, {childList: true});\n",
       "}}\n",
       "\n",
       "                        })                };                });            </script>        </div>"
      ]
     },
     "metadata": {},
     "output_type": "display_data"
    }
   ],
   "source": [
    "import plotly.express as px\n",
    "fig = px.scatter(data_frame=app_reviews, x='Polarity', y='Subjectivity', size='score',color='Analysis', \n",
    "                 title='Total App Reviews Sentiment Analysis', size_max=20,                 \n",
    "                 color_discrete_map={\n",
    "                \"Positive\": \"#636EFA\",\n",
    "                \"Neutral\": \"#00CC96\",\n",
    "                \"Negative\": \"#EF553B\"})\n",
    "fig.add_vline(x=0, line_width=1, line_dash=\"dash\", line_color=\"black\")\n",
    "fig.add_annotation()\n",
    "fig.show()"
   ]
  },
  {
   "cell_type": "code",
   "execution_count": 251,
   "id": "5700657b",
   "metadata": {},
   "outputs": [
    {
     "data": {
      "application/vnd.plotly.v1+json": {
       "config": {
        "plotlyServerURL": "https://plot.ly"
       },
       "data": [
        {
         "hovertemplate": "Analysis=Positive<br>Polarity=%{x}<br>Subjectivity=%{y}<br>score=%{marker.size}<extra></extra>",
         "legendgroup": "Positive",
         "marker": {
          "color": "#636EFA",
          "size": [
           5,
           5,
           5,
           4,
           3,
           5,
           3,
           4,
           5,
           5,
           5,
           4,
           4,
           5,
           5,
           5,
           4,
           5,
           5,
           5,
           5,
           5,
           5,
           5,
           5,
           4,
           5,
           5,
           4,
           5,
           5,
           5,
           5,
           5,
           2,
           5,
           4,
           4,
           5,
           4,
           5,
           5,
           4,
           5,
           5,
           5,
           5,
           4,
           5,
           4,
           5,
           5,
           5,
           5,
           2,
           5,
           5,
           4,
           5,
           5,
           4,
           5,
           3,
           3,
           5,
           5,
           5,
           5,
           5,
           5,
           5,
           5,
           5,
           2,
           2,
           5,
           5,
           5,
           5,
           5,
           5,
           5,
           5,
           5,
           5,
           5,
           5,
           5,
           5,
           1,
           1,
           5,
           5,
           5,
           5,
           3,
           5,
           5,
           5,
           4,
           5,
           1,
           5,
           5,
           5,
           5,
           5,
           5,
           5,
           5,
           5,
           4,
           4,
           5,
           5,
           5,
           5,
           5,
           5,
           5,
           5,
           4,
           5,
           2,
           2,
           5,
           4,
           4,
           4,
           2,
           2,
           4,
           3,
           3,
           3,
           3,
           1,
           1,
           2,
           5,
           4,
           4,
           4,
           4,
           4
          ],
          "sizemode": "area",
          "sizeref": 0.0125,
          "symbol": "circle"
         },
         "mode": "markers",
         "name": "Positive",
         "orientation": "v",
         "showlegend": true,
         "type": "scatter",
         "x": [
          0.8,
          0.39999999999999997,
          0.35,
          0.5,
          0.8,
          0.39999999999999997,
          0.1,
          0.4291666666666667,
          1,
          0.5,
          1,
          0.525,
          0.8,
          0.8,
          0.6,
          0.3773809523809524,
          0.275,
          0.625,
          0.26666666666666666,
          1,
          0.7,
          0.3333333333333333,
          0.2333333333333333,
          0.7,
          0.32,
          0.375,
          1,
          0.375,
          0.47727272727272724,
          0.9099999999999999,
          0.5,
          0.33,
          0.5,
          0.5,
          0.55,
          1,
          0.7,
          0.2,
          0.5,
          0.8,
          0.39,
          0.3,
          0.23619047619047615,
          1,
          0.4375,
          0.4125,
          1,
          0.33142857142857146,
          0.7,
          0.6,
          0.35,
          0.25,
          1,
          0.6000000000000001,
          0.11666666666666668,
          0.2333333333333333,
          0.30625,
          0.65,
          0.4625,
          0.78,
          0.5,
          0.19,
          0.5666666666666668,
          0.5666666666666668,
          0.7200000000000001,
          0.6000000000000001,
          0.7,
          0.5,
          0.75,
          0.565,
          0.2708333333333333,
          0.2708333333333333,
          0.7,
          0.85,
          0.85,
          1,
          0.4464285714285714,
          0.7,
          0.45,
          0.38,
          0.4000000000000001,
          0.4000000000000001,
          0.509090909090909,
          0.5,
          0.6,
          0.39,
          0.7,
          0.5,
          0.2,
          0.15000000000000002,
          0.15000000000000002,
          0.39999999999999997,
          0.25,
          0.1775,
          0.1775,
          0.4166666666666667,
          0.4625,
          0.4625,
          0.16,
          1,
          0.6,
          0.41111111111111115,
          0.2833333333333334,
          0.3375,
          0.3375,
          0.5357142857142857,
          0.5357142857142857,
          0.4666666666666666,
          0.4666666666666666,
          0.5,
          0.5,
          0.5833333333333333,
          0.5833333333333333,
          0.7000000000000001,
          0.7000000000000001,
          1,
          0.37,
          0.37,
          0.8,
          0.8,
          0.36,
          0.8,
          0.5933333333333334,
          0.25,
          0.25,
          1,
          0.6,
          0.39999999999999997,
          0.39999999999999997,
          0.22592592592592592,
          0.22592592592592592,
          0.4,
          0.3833333333333333,
          0.3833333333333333,
          0.35,
          0.35,
          0.17500000000000002,
          0.17500000000000002,
          0.08333333333333333,
          0.5,
          0.13333333333333333,
          0.13333333333333333,
          0.3900432900432901,
          0.3900432900432901,
          0.78
         ],
         "xaxis": "x",
         "y": [
          0.75,
          0.5,
          0.45,
          0.5,
          0.75,
          0.43333333333333335,
          0.225,
          0.5895833333333333,
          1,
          0.5,
          0.3,
          0.5166666666666666,
          0.75,
          0.75,
          1,
          0.4825892857142857,
          0.5,
          0.6,
          0.5833333333333334,
          1,
          0.6000000000000001,
          0.3,
          0.3523809523809524,
          0.6000000000000001,
          0.6000000000000001,
          0.35,
          1,
          0,
          0.5609090909090909,
          0.7800000000000001,
          0.6,
          0.57,
          0.5,
          0.6,
          0.75,
          0.3,
          0.6000000000000001,
          0.2,
          0.6,
          0.75,
          0,
          0.2,
          0.49428571428571433,
          1,
          0.44999999999999996,
          0.35,
          1,
          0.5238095238095238,
          0.6000000000000001,
          1,
          0.65,
          0.5,
          0.3,
          0.9,
          0.5833333333333334,
          0.5888888888888889,
          0.625,
          0.75,
          0.5,
          1,
          0.6,
          0.7,
          0.7666666666666666,
          0.7666666666666666,
          0.6133333333333333,
          0.9,
          0.6000000000000001,
          0.6,
          0.6900000000000001,
          0.8333333333333333,
          0.5555555555555556,
          0.5555555555555556,
          0.6000000000000001,
          1,
          1,
          0.3,
          0.5357142857142857,
          0.6000000000000001,
          0.95,
          0.43,
          0.3,
          0.3,
          0.6386363636363637,
          0.5,
          1,
          0,
          0.6000000000000001,
          0.6,
          0.25,
          0.475,
          0.475,
          0.8,
          0.47857142857142854,
          0.5974999999999999,
          0.5974999999999999,
          0.5,
          0.6972222222222222,
          0.6972222222222222,
          0.5399999999999999,
          0.3,
          1,
          0.5333333333333333,
          0.2833333333333333,
          0.35,
          0.35,
          0.40317460317460313,
          0.40317460317460313,
          0.39333333333333337,
          0.39333333333333337,
          0.6,
          0.6,
          0.7708333333333334,
          0.7708333333333334,
          0.825,
          0.825,
          0.3,
          0.45999999999999996,
          0.45999999999999996,
          0.75,
          0.75,
          0.55,
          0.75,
          0.6666666666666666,
          0.5625,
          0.5625,
          1,
          1,
          0.43333333333333335,
          0.43333333333333335,
          0.4824074074074074,
          0.4824074074074074,
          0.7,
          0.7583333333333333,
          0.7583333333333333,
          0.7,
          0.7,
          0.5083333333333333,
          0.5083333333333333,
          0.43333333333333335,
          0.775,
          0.7000000000000001,
          0.7000000000000001,
          0.7996753246753247,
          0.7996753246753247,
          1
         ],
         "yaxis": "y"
        },
        {
         "hovertemplate": "Analysis=Neutral<br>Polarity=%{x}<br>Subjectivity=%{y}<br>score=%{marker.size}<extra></extra>",
         "legendgroup": "Neutral",
         "marker": {
          "color": "#00CC96",
          "size": [
           5,
           5,
           4,
           5,
           5,
           5,
           5,
           4,
           3,
           1,
           4,
           5,
           1,
           1,
           5,
           5,
           5,
           5,
           5,
           1,
           1,
           5,
           5,
           5,
           5,
           4,
           3,
           3,
           4,
           4,
           3
          ],
          "sizemode": "area",
          "sizeref": 0.0125,
          "symbol": "circle"
         },
         "mode": "markers",
         "name": "Neutral",
         "orientation": "v",
         "showlegend": true,
         "type": "scatter",
         "x": [
          0,
          0,
          0,
          0,
          0,
          0,
          0,
          0,
          0,
          0,
          0,
          0,
          0,
          0,
          0,
          0,
          0,
          0,
          0,
          0,
          0,
          0,
          0,
          0,
          0,
          0,
          0,
          0,
          0,
          0,
          0
         ],
         "xaxis": "x",
         "y": [
          0.3,
          0,
          0,
          0,
          0,
          0,
          0,
          0,
          0,
          0,
          0,
          0,
          0,
          0,
          0,
          0,
          0,
          0,
          0,
          1,
          1,
          0.1,
          0,
          0,
          0,
          0,
          0.4,
          0.4,
          0,
          0,
          0
         ],
         "yaxis": "y"
        },
        {
         "hovertemplate": "Analysis=Negative<br>Polarity=%{x}<br>Subjectivity=%{y}<br>score=%{marker.size}<extra></extra>",
         "legendgroup": "Negative",
         "marker": {
          "color": "#EF553B",
          "size": [
           1,
           1,
           4,
           5,
           2,
           2,
           2,
           4,
           4,
           1
          ],
          "sizemode": "area",
          "sizeref": 0.0125,
          "symbol": "circle"
         },
         "mode": "markers",
         "name": "Negative",
         "orientation": "v",
         "showlegend": true,
         "type": "scatter",
         "x": [
          -0.25,
          -0.625,
          -1.586032892321652e-17,
          -0.2,
          -0.5,
          -0.028571428571428574,
          -0.028571428571428574,
          -0.8,
          -0.8,
          -0.2714285714285714
         ],
         "xaxis": "x",
         "y": [
          0.1,
          0.5,
          0.6571428571428571,
          0.4,
          0.5,
          0.3238095238095238,
          0.3238095238095238,
          0.9,
          0.9,
          0.42142857142857143
         ],
         "yaxis": "y"
        }
       ],
       "layout": {
        "annotations": [
         {}
        ],
        "legend": {
         "itemsizing": "constant",
         "title": {
          "text": "Analysis"
         },
         "tracegroupgap": 0
        },
        "shapes": [
         {
          "line": {
           "color": "black",
           "width": 1
          },
          "type": "line",
          "x0": 0,
          "x1": 0,
          "xref": "x",
          "y0": 0,
          "y1": 1,
          "yref": "y domain"
         }
        ],
        "template": {
         "data": {
          "bar": [
           {
            "error_x": {
             "color": "#2a3f5f"
            },
            "error_y": {
             "color": "#2a3f5f"
            },
            "marker": {
             "line": {
              "color": "#E5ECF6",
              "width": 0.5
             },
             "pattern": {
              "fillmode": "overlay",
              "size": 10,
              "solidity": 0.2
             }
            },
            "type": "bar"
           }
          ],
          "barpolar": [
           {
            "marker": {
             "line": {
              "color": "#E5ECF6",
              "width": 0.5
             },
             "pattern": {
              "fillmode": "overlay",
              "size": 10,
              "solidity": 0.2
             }
            },
            "type": "barpolar"
           }
          ],
          "carpet": [
           {
            "aaxis": {
             "endlinecolor": "#2a3f5f",
             "gridcolor": "white",
             "linecolor": "white",
             "minorgridcolor": "white",
             "startlinecolor": "#2a3f5f"
            },
            "baxis": {
             "endlinecolor": "#2a3f5f",
             "gridcolor": "white",
             "linecolor": "white",
             "minorgridcolor": "white",
             "startlinecolor": "#2a3f5f"
            },
            "type": "carpet"
           }
          ],
          "choropleth": [
           {
            "colorbar": {
             "outlinewidth": 0,
             "ticks": ""
            },
            "type": "choropleth"
           }
          ],
          "contour": [
           {
            "colorbar": {
             "outlinewidth": 0,
             "ticks": ""
            },
            "colorscale": [
             [
              0,
              "#0d0887"
             ],
             [
              0.1111111111111111,
              "#46039f"
             ],
             [
              0.2222222222222222,
              "#7201a8"
             ],
             [
              0.3333333333333333,
              "#9c179e"
             ],
             [
              0.4444444444444444,
              "#bd3786"
             ],
             [
              0.5555555555555556,
              "#d8576b"
             ],
             [
              0.6666666666666666,
              "#ed7953"
             ],
             [
              0.7777777777777778,
              "#fb9f3a"
             ],
             [
              0.8888888888888888,
              "#fdca26"
             ],
             [
              1,
              "#f0f921"
             ]
            ],
            "type": "contour"
           }
          ],
          "contourcarpet": [
           {
            "colorbar": {
             "outlinewidth": 0,
             "ticks": ""
            },
            "type": "contourcarpet"
           }
          ],
          "heatmap": [
           {
            "colorbar": {
             "outlinewidth": 0,
             "ticks": ""
            },
            "colorscale": [
             [
              0,
              "#0d0887"
             ],
             [
              0.1111111111111111,
              "#46039f"
             ],
             [
              0.2222222222222222,
              "#7201a8"
             ],
             [
              0.3333333333333333,
              "#9c179e"
             ],
             [
              0.4444444444444444,
              "#bd3786"
             ],
             [
              0.5555555555555556,
              "#d8576b"
             ],
             [
              0.6666666666666666,
              "#ed7953"
             ],
             [
              0.7777777777777778,
              "#fb9f3a"
             ],
             [
              0.8888888888888888,
              "#fdca26"
             ],
             [
              1,
              "#f0f921"
             ]
            ],
            "type": "heatmap"
           }
          ],
          "heatmapgl": [
           {
            "colorbar": {
             "outlinewidth": 0,
             "ticks": ""
            },
            "colorscale": [
             [
              0,
              "#0d0887"
             ],
             [
              0.1111111111111111,
              "#46039f"
             ],
             [
              0.2222222222222222,
              "#7201a8"
             ],
             [
              0.3333333333333333,
              "#9c179e"
             ],
             [
              0.4444444444444444,
              "#bd3786"
             ],
             [
              0.5555555555555556,
              "#d8576b"
             ],
             [
              0.6666666666666666,
              "#ed7953"
             ],
             [
              0.7777777777777778,
              "#fb9f3a"
             ],
             [
              0.8888888888888888,
              "#fdca26"
             ],
             [
              1,
              "#f0f921"
             ]
            ],
            "type": "heatmapgl"
           }
          ],
          "histogram": [
           {
            "marker": {
             "pattern": {
              "fillmode": "overlay",
              "size": 10,
              "solidity": 0.2
             }
            },
            "type": "histogram"
           }
          ],
          "histogram2d": [
           {
            "colorbar": {
             "outlinewidth": 0,
             "ticks": ""
            },
            "colorscale": [
             [
              0,
              "#0d0887"
             ],
             [
              0.1111111111111111,
              "#46039f"
             ],
             [
              0.2222222222222222,
              "#7201a8"
             ],
             [
              0.3333333333333333,
              "#9c179e"
             ],
             [
              0.4444444444444444,
              "#bd3786"
             ],
             [
              0.5555555555555556,
              "#d8576b"
             ],
             [
              0.6666666666666666,
              "#ed7953"
             ],
             [
              0.7777777777777778,
              "#fb9f3a"
             ],
             [
              0.8888888888888888,
              "#fdca26"
             ],
             [
              1,
              "#f0f921"
             ]
            ],
            "type": "histogram2d"
           }
          ],
          "histogram2dcontour": [
           {
            "colorbar": {
             "outlinewidth": 0,
             "ticks": ""
            },
            "colorscale": [
             [
              0,
              "#0d0887"
             ],
             [
              0.1111111111111111,
              "#46039f"
             ],
             [
              0.2222222222222222,
              "#7201a8"
             ],
             [
              0.3333333333333333,
              "#9c179e"
             ],
             [
              0.4444444444444444,
              "#bd3786"
             ],
             [
              0.5555555555555556,
              "#d8576b"
             ],
             [
              0.6666666666666666,
              "#ed7953"
             ],
             [
              0.7777777777777778,
              "#fb9f3a"
             ],
             [
              0.8888888888888888,
              "#fdca26"
             ],
             [
              1,
              "#f0f921"
             ]
            ],
            "type": "histogram2dcontour"
           }
          ],
          "mesh3d": [
           {
            "colorbar": {
             "outlinewidth": 0,
             "ticks": ""
            },
            "type": "mesh3d"
           }
          ],
          "parcoords": [
           {
            "line": {
             "colorbar": {
              "outlinewidth": 0,
              "ticks": ""
             }
            },
            "type": "parcoords"
           }
          ],
          "pie": [
           {
            "automargin": true,
            "type": "pie"
           }
          ],
          "scatter": [
           {
            "marker": {
             "colorbar": {
              "outlinewidth": 0,
              "ticks": ""
             }
            },
            "type": "scatter"
           }
          ],
          "scatter3d": [
           {
            "line": {
             "colorbar": {
              "outlinewidth": 0,
              "ticks": ""
             }
            },
            "marker": {
             "colorbar": {
              "outlinewidth": 0,
              "ticks": ""
             }
            },
            "type": "scatter3d"
           }
          ],
          "scattercarpet": [
           {
            "marker": {
             "colorbar": {
              "outlinewidth": 0,
              "ticks": ""
             }
            },
            "type": "scattercarpet"
           }
          ],
          "scattergeo": [
           {
            "marker": {
             "colorbar": {
              "outlinewidth": 0,
              "ticks": ""
             }
            },
            "type": "scattergeo"
           }
          ],
          "scattergl": [
           {
            "marker": {
             "colorbar": {
              "outlinewidth": 0,
              "ticks": ""
             }
            },
            "type": "scattergl"
           }
          ],
          "scattermapbox": [
           {
            "marker": {
             "colorbar": {
              "outlinewidth": 0,
              "ticks": ""
             }
            },
            "type": "scattermapbox"
           }
          ],
          "scatterpolar": [
           {
            "marker": {
             "colorbar": {
              "outlinewidth": 0,
              "ticks": ""
             }
            },
            "type": "scatterpolar"
           }
          ],
          "scatterpolargl": [
           {
            "marker": {
             "colorbar": {
              "outlinewidth": 0,
              "ticks": ""
             }
            },
            "type": "scatterpolargl"
           }
          ],
          "scatterternary": [
           {
            "marker": {
             "colorbar": {
              "outlinewidth": 0,
              "ticks": ""
             }
            },
            "type": "scatterternary"
           }
          ],
          "surface": [
           {
            "colorbar": {
             "outlinewidth": 0,
             "ticks": ""
            },
            "colorscale": [
             [
              0,
              "#0d0887"
             ],
             [
              0.1111111111111111,
              "#46039f"
             ],
             [
              0.2222222222222222,
              "#7201a8"
             ],
             [
              0.3333333333333333,
              "#9c179e"
             ],
             [
              0.4444444444444444,
              "#bd3786"
             ],
             [
              0.5555555555555556,
              "#d8576b"
             ],
             [
              0.6666666666666666,
              "#ed7953"
             ],
             [
              0.7777777777777778,
              "#fb9f3a"
             ],
             [
              0.8888888888888888,
              "#fdca26"
             ],
             [
              1,
              "#f0f921"
             ]
            ],
            "type": "surface"
           }
          ],
          "table": [
           {
            "cells": {
             "fill": {
              "color": "#EBF0F8"
             },
             "line": {
              "color": "white"
             }
            },
            "header": {
             "fill": {
              "color": "#C8D4E3"
             },
             "line": {
              "color": "white"
             }
            },
            "type": "table"
           }
          ]
         },
         "layout": {
          "annotationdefaults": {
           "arrowcolor": "#2a3f5f",
           "arrowhead": 0,
           "arrowwidth": 1
          },
          "autotypenumbers": "strict",
          "coloraxis": {
           "colorbar": {
            "outlinewidth": 0,
            "ticks": ""
           }
          },
          "colorscale": {
           "diverging": [
            [
             0,
             "#8e0152"
            ],
            [
             0.1,
             "#c51b7d"
            ],
            [
             0.2,
             "#de77ae"
            ],
            [
             0.3,
             "#f1b6da"
            ],
            [
             0.4,
             "#fde0ef"
            ],
            [
             0.5,
             "#f7f7f7"
            ],
            [
             0.6,
             "#e6f5d0"
            ],
            [
             0.7,
             "#b8e186"
            ],
            [
             0.8,
             "#7fbc41"
            ],
            [
             0.9,
             "#4d9221"
            ],
            [
             1,
             "#276419"
            ]
           ],
           "sequential": [
            [
             0,
             "#0d0887"
            ],
            [
             0.1111111111111111,
             "#46039f"
            ],
            [
             0.2222222222222222,
             "#7201a8"
            ],
            [
             0.3333333333333333,
             "#9c179e"
            ],
            [
             0.4444444444444444,
             "#bd3786"
            ],
            [
             0.5555555555555556,
             "#d8576b"
            ],
            [
             0.6666666666666666,
             "#ed7953"
            ],
            [
             0.7777777777777778,
             "#fb9f3a"
            ],
            [
             0.8888888888888888,
             "#fdca26"
            ],
            [
             1,
             "#f0f921"
            ]
           ],
           "sequentialminus": [
            [
             0,
             "#0d0887"
            ],
            [
             0.1111111111111111,
             "#46039f"
            ],
            [
             0.2222222222222222,
             "#7201a8"
            ],
            [
             0.3333333333333333,
             "#9c179e"
            ],
            [
             0.4444444444444444,
             "#bd3786"
            ],
            [
             0.5555555555555556,
             "#d8576b"
            ],
            [
             0.6666666666666666,
             "#ed7953"
            ],
            [
             0.7777777777777778,
             "#fb9f3a"
            ],
            [
             0.8888888888888888,
             "#fdca26"
            ],
            [
             1,
             "#f0f921"
            ]
           ]
          },
          "colorway": [
           "#636efa",
           "#EF553B",
           "#00cc96",
           "#ab63fa",
           "#FFA15A",
           "#19d3f3",
           "#FF6692",
           "#B6E880",
           "#FF97FF",
           "#FECB52"
          ],
          "font": {
           "color": "#2a3f5f"
          },
          "geo": {
           "bgcolor": "white",
           "lakecolor": "white",
           "landcolor": "#E5ECF6",
           "showlakes": true,
           "showland": true,
           "subunitcolor": "white"
          },
          "hoverlabel": {
           "align": "left"
          },
          "hovermode": "closest",
          "mapbox": {
           "style": "light"
          },
          "paper_bgcolor": "white",
          "plot_bgcolor": "#E5ECF6",
          "polar": {
           "angularaxis": {
            "gridcolor": "white",
            "linecolor": "white",
            "ticks": ""
           },
           "bgcolor": "#E5ECF6",
           "radialaxis": {
            "gridcolor": "white",
            "linecolor": "white",
            "ticks": ""
           }
          },
          "scene": {
           "xaxis": {
            "backgroundcolor": "#E5ECF6",
            "gridcolor": "white",
            "gridwidth": 2,
            "linecolor": "white",
            "showbackground": true,
            "ticks": "",
            "zerolinecolor": "white"
           },
           "yaxis": {
            "backgroundcolor": "#E5ECF6",
            "gridcolor": "white",
            "gridwidth": 2,
            "linecolor": "white",
            "showbackground": true,
            "ticks": "",
            "zerolinecolor": "white"
           },
           "zaxis": {
            "backgroundcolor": "#E5ECF6",
            "gridcolor": "white",
            "gridwidth": 2,
            "linecolor": "white",
            "showbackground": true,
            "ticks": "",
            "zerolinecolor": "white"
           }
          },
          "shapedefaults": {
           "line": {
            "color": "#2a3f5f"
           }
          },
          "ternary": {
           "aaxis": {
            "gridcolor": "white",
            "linecolor": "white",
            "ticks": ""
           },
           "baxis": {
            "gridcolor": "white",
            "linecolor": "white",
            "ticks": ""
           },
           "bgcolor": "#E5ECF6",
           "caxis": {
            "gridcolor": "white",
            "linecolor": "white",
            "ticks": ""
           }
          },
          "title": {
           "x": 0.05
          },
          "xaxis": {
           "automargin": true,
           "gridcolor": "white",
           "linecolor": "white",
           "ticks": "",
           "title": {
            "standoff": 15
           },
           "zerolinecolor": "white",
           "zerolinewidth": 2
          },
          "yaxis": {
           "automargin": true,
           "gridcolor": "white",
           "linecolor": "white",
           "ticks": "",
           "title": {
            "standoff": 15
           },
           "zerolinecolor": "white",
           "zerolinewidth": 2
          }
         }
        },
        "title": {
         "text": "Forest App Sentiment Analysis"
        },
        "xaxis": {
         "anchor": "y",
         "domain": [
          0,
          1
         ],
         "title": {
          "text": "Polarity"
         }
        },
        "yaxis": {
         "anchor": "x",
         "domain": [
          0,
          1
         ],
         "title": {
          "text": "Subjectivity"
         }
        }
       }
      },
      "text/html": [
       "<div>                            <div id=\"877aa516-145a-44fa-8b86-0b17c2565790\" class=\"plotly-graph-div\" style=\"height:525px; width:100%;\"></div>            <script type=\"text/javascript\">                require([\"plotly\"], function(Plotly) {                    window.PLOTLYENV=window.PLOTLYENV || {};                                    if (document.getElementById(\"877aa516-145a-44fa-8b86-0b17c2565790\")) {                    Plotly.newPlot(                        \"877aa516-145a-44fa-8b86-0b17c2565790\",                        [{\"hovertemplate\":\"Analysis=Positive<br>Polarity=%{x}<br>Subjectivity=%{y}<br>score=%{marker.size}<extra></extra>\",\"legendgroup\":\"Positive\",\"marker\":{\"color\":\"#636EFA\",\"size\":[5,5,5,4,3,5,3,4,5,5,5,4,4,5,5,5,4,5,5,5,5,5,5,5,5,4,5,5,4,5,5,5,5,5,2,5,4,4,5,4,5,5,4,5,5,5,5,4,5,4,5,5,5,5,2,5,5,4,5,5,4,5,3,3,5,5,5,5,5,5,5,5,5,2,2,5,5,5,5,5,5,5,5,5,5,5,5,5,5,1,1,5,5,5,5,3,5,5,5,4,5,1,5,5,5,5,5,5,5,5,5,4,4,5,5,5,5,5,5,5,5,4,5,2,2,5,4,4,4,2,2,4,3,3,3,3,1,1,2,5,4,4,4,4,4],\"sizemode\":\"area\",\"sizeref\":0.0125,\"symbol\":\"circle\"},\"mode\":\"markers\",\"name\":\"Positive\",\"orientation\":\"v\",\"showlegend\":true,\"type\":\"scatter\",\"x\":[0.8,0.39999999999999997,0.35,0.5,0.8,0.39999999999999997,0.1,0.4291666666666667,1.0,0.5,1.0,0.525,0.8,0.8,0.6,0.3773809523809524,0.275,0.625,0.26666666666666666,1.0,0.7,0.3333333333333333,0.2333333333333333,0.7,0.32,0.375,1.0,0.375,0.47727272727272724,0.9099999999999999,0.5,0.33,0.5,0.5,0.55,1.0,0.7,0.2,0.5,0.8,0.39,0.3,0.23619047619047615,1.0,0.4375,0.4125,1.0,0.33142857142857146,0.7,0.6,0.35,0.25,1.0,0.6000000000000001,0.11666666666666668,0.2333333333333333,0.30625,0.65,0.4625,0.78,0.5,0.19,0.5666666666666668,0.5666666666666668,0.7200000000000001,0.6000000000000001,0.7,0.5,0.75,0.565,0.2708333333333333,0.2708333333333333,0.7,0.85,0.85,1.0,0.4464285714285714,0.7,0.45,0.38,0.4000000000000001,0.4000000000000001,0.509090909090909,0.5,0.6,0.39,0.7,0.5,0.2,0.15000000000000002,0.15000000000000002,0.39999999999999997,0.25,0.1775,0.1775,0.4166666666666667,0.4625,0.4625,0.16,1.0,0.6,0.41111111111111115,0.2833333333333334,0.3375,0.3375,0.5357142857142857,0.5357142857142857,0.4666666666666666,0.4666666666666666,0.5,0.5,0.5833333333333333,0.5833333333333333,0.7000000000000001,0.7000000000000001,1.0,0.37,0.37,0.8,0.8,0.36,0.8,0.5933333333333334,0.25,0.25,1.0,0.6,0.39999999999999997,0.39999999999999997,0.22592592592592592,0.22592592592592592,0.4,0.3833333333333333,0.3833333333333333,0.35,0.35,0.17500000000000002,0.17500000000000002,0.08333333333333333,0.5,0.13333333333333333,0.13333333333333333,0.3900432900432901,0.3900432900432901,0.78],\"xaxis\":\"x\",\"y\":[0.75,0.5,0.45,0.5,0.75,0.43333333333333335,0.225,0.5895833333333333,1.0,0.5,0.3,0.5166666666666666,0.75,0.75,1.0,0.4825892857142857,0.5,0.6,0.5833333333333334,1.0,0.6000000000000001,0.3,0.3523809523809524,0.6000000000000001,0.6000000000000001,0.35,1.0,0.0,0.5609090909090909,0.7800000000000001,0.6,0.57,0.5,0.6,0.75,0.3,0.6000000000000001,0.2,0.6,0.75,0.0,0.2,0.49428571428571433,1.0,0.44999999999999996,0.35,1.0,0.5238095238095238,0.6000000000000001,1.0,0.65,0.5,0.3,0.9,0.5833333333333334,0.5888888888888889,0.625,0.75,0.5,1.0,0.6,0.7,0.7666666666666666,0.7666666666666666,0.6133333333333333,0.9,0.6000000000000001,0.6,0.6900000000000001,0.8333333333333333,0.5555555555555556,0.5555555555555556,0.6000000000000001,1.0,1.0,0.3,0.5357142857142857,0.6000000000000001,0.95,0.43,0.3,0.3,0.6386363636363637,0.5,1.0,0.0,0.6000000000000001,0.6,0.25,0.475,0.475,0.8,0.47857142857142854,0.5974999999999999,0.5974999999999999,0.5,0.6972222222222222,0.6972222222222222,0.5399999999999999,0.3,1.0,0.5333333333333333,0.2833333333333333,0.35,0.35,0.40317460317460313,0.40317460317460313,0.39333333333333337,0.39333333333333337,0.6,0.6,0.7708333333333334,0.7708333333333334,0.825,0.825,0.3,0.45999999999999996,0.45999999999999996,0.75,0.75,0.55,0.75,0.6666666666666666,0.5625,0.5625,1.0,1.0,0.43333333333333335,0.43333333333333335,0.4824074074074074,0.4824074074074074,0.7,0.7583333333333333,0.7583333333333333,0.7,0.7,0.5083333333333333,0.5083333333333333,0.43333333333333335,0.775,0.7000000000000001,0.7000000000000001,0.7996753246753247,0.7996753246753247,1.0],\"yaxis\":\"y\"},{\"hovertemplate\":\"Analysis=Neutral<br>Polarity=%{x}<br>Subjectivity=%{y}<br>score=%{marker.size}<extra></extra>\",\"legendgroup\":\"Neutral\",\"marker\":{\"color\":\"#00CC96\",\"size\":[5,5,4,5,5,5,5,4,3,1,4,5,1,1,5,5,5,5,5,1,1,5,5,5,5,4,3,3,4,4,3],\"sizemode\":\"area\",\"sizeref\":0.0125,\"symbol\":\"circle\"},\"mode\":\"markers\",\"name\":\"Neutral\",\"orientation\":\"v\",\"showlegend\":true,\"type\":\"scatter\",\"x\":[0.0,0.0,0.0,0.0,0.0,0.0,0.0,0.0,0.0,0.0,0.0,0.0,0.0,0.0,0.0,0.0,0.0,0.0,0.0,0.0,0.0,0.0,0.0,0.0,0.0,0.0,0.0,0.0,0.0,0.0,0.0],\"xaxis\":\"x\",\"y\":[0.3,0.0,0.0,0.0,0.0,0.0,0.0,0.0,0.0,0.0,0.0,0.0,0.0,0.0,0.0,0.0,0.0,0.0,0.0,1.0,1.0,0.1,0.0,0.0,0.0,0.0,0.4,0.4,0.0,0.0,0.0],\"yaxis\":\"y\"},{\"hovertemplate\":\"Analysis=Negative<br>Polarity=%{x}<br>Subjectivity=%{y}<br>score=%{marker.size}<extra></extra>\",\"legendgroup\":\"Negative\",\"marker\":{\"color\":\"#EF553B\",\"size\":[1,1,4,5,2,2,2,4,4,1],\"sizemode\":\"area\",\"sizeref\":0.0125,\"symbol\":\"circle\"},\"mode\":\"markers\",\"name\":\"Negative\",\"orientation\":\"v\",\"showlegend\":true,\"type\":\"scatter\",\"x\":[-0.25,-0.625,-1.586032892321652e-17,-0.2,-0.5,-0.028571428571428574,-0.028571428571428574,-0.8,-0.8,-0.2714285714285714],\"xaxis\":\"x\",\"y\":[0.1,0.5,0.6571428571428571,0.4,0.5,0.3238095238095238,0.3238095238095238,0.9,0.9,0.42142857142857143],\"yaxis\":\"y\"}],                        {\"annotations\":[{}],\"legend\":{\"itemsizing\":\"constant\",\"title\":{\"text\":\"Analysis\"},\"tracegroupgap\":0},\"shapes\":[{\"line\":{\"color\":\"black\",\"width\":1},\"type\":\"line\",\"x0\":0,\"x1\":0,\"xref\":\"x\",\"y0\":0,\"y1\":1,\"yref\":\"y domain\"}],\"template\":{\"data\":{\"bar\":[{\"error_x\":{\"color\":\"#2a3f5f\"},\"error_y\":{\"color\":\"#2a3f5f\"},\"marker\":{\"line\":{\"color\":\"#E5ECF6\",\"width\":0.5},\"pattern\":{\"fillmode\":\"overlay\",\"size\":10,\"solidity\":0.2}},\"type\":\"bar\"}],\"barpolar\":[{\"marker\":{\"line\":{\"color\":\"#E5ECF6\",\"width\":0.5},\"pattern\":{\"fillmode\":\"overlay\",\"size\":10,\"solidity\":0.2}},\"type\":\"barpolar\"}],\"carpet\":[{\"aaxis\":{\"endlinecolor\":\"#2a3f5f\",\"gridcolor\":\"white\",\"linecolor\":\"white\",\"minorgridcolor\":\"white\",\"startlinecolor\":\"#2a3f5f\"},\"baxis\":{\"endlinecolor\":\"#2a3f5f\",\"gridcolor\":\"white\",\"linecolor\":\"white\",\"minorgridcolor\":\"white\",\"startlinecolor\":\"#2a3f5f\"},\"type\":\"carpet\"}],\"choropleth\":[{\"colorbar\":{\"outlinewidth\":0,\"ticks\":\"\"},\"type\":\"choropleth\"}],\"contour\":[{\"colorbar\":{\"outlinewidth\":0,\"ticks\":\"\"},\"colorscale\":[[0.0,\"#0d0887\"],[0.1111111111111111,\"#46039f\"],[0.2222222222222222,\"#7201a8\"],[0.3333333333333333,\"#9c179e\"],[0.4444444444444444,\"#bd3786\"],[0.5555555555555556,\"#d8576b\"],[0.6666666666666666,\"#ed7953\"],[0.7777777777777778,\"#fb9f3a\"],[0.8888888888888888,\"#fdca26\"],[1.0,\"#f0f921\"]],\"type\":\"contour\"}],\"contourcarpet\":[{\"colorbar\":{\"outlinewidth\":0,\"ticks\":\"\"},\"type\":\"contourcarpet\"}],\"heatmap\":[{\"colorbar\":{\"outlinewidth\":0,\"ticks\":\"\"},\"colorscale\":[[0.0,\"#0d0887\"],[0.1111111111111111,\"#46039f\"],[0.2222222222222222,\"#7201a8\"],[0.3333333333333333,\"#9c179e\"],[0.4444444444444444,\"#bd3786\"],[0.5555555555555556,\"#d8576b\"],[0.6666666666666666,\"#ed7953\"],[0.7777777777777778,\"#fb9f3a\"],[0.8888888888888888,\"#fdca26\"],[1.0,\"#f0f921\"]],\"type\":\"heatmap\"}],\"heatmapgl\":[{\"colorbar\":{\"outlinewidth\":0,\"ticks\":\"\"},\"colorscale\":[[0.0,\"#0d0887\"],[0.1111111111111111,\"#46039f\"],[0.2222222222222222,\"#7201a8\"],[0.3333333333333333,\"#9c179e\"],[0.4444444444444444,\"#bd3786\"],[0.5555555555555556,\"#d8576b\"],[0.6666666666666666,\"#ed7953\"],[0.7777777777777778,\"#fb9f3a\"],[0.8888888888888888,\"#fdca26\"],[1.0,\"#f0f921\"]],\"type\":\"heatmapgl\"}],\"histogram\":[{\"marker\":{\"pattern\":{\"fillmode\":\"overlay\",\"size\":10,\"solidity\":0.2}},\"type\":\"histogram\"}],\"histogram2d\":[{\"colorbar\":{\"outlinewidth\":0,\"ticks\":\"\"},\"colorscale\":[[0.0,\"#0d0887\"],[0.1111111111111111,\"#46039f\"],[0.2222222222222222,\"#7201a8\"],[0.3333333333333333,\"#9c179e\"],[0.4444444444444444,\"#bd3786\"],[0.5555555555555556,\"#d8576b\"],[0.6666666666666666,\"#ed7953\"],[0.7777777777777778,\"#fb9f3a\"],[0.8888888888888888,\"#fdca26\"],[1.0,\"#f0f921\"]],\"type\":\"histogram2d\"}],\"histogram2dcontour\":[{\"colorbar\":{\"outlinewidth\":0,\"ticks\":\"\"},\"colorscale\":[[0.0,\"#0d0887\"],[0.1111111111111111,\"#46039f\"],[0.2222222222222222,\"#7201a8\"],[0.3333333333333333,\"#9c179e\"],[0.4444444444444444,\"#bd3786\"],[0.5555555555555556,\"#d8576b\"],[0.6666666666666666,\"#ed7953\"],[0.7777777777777778,\"#fb9f3a\"],[0.8888888888888888,\"#fdca26\"],[1.0,\"#f0f921\"]],\"type\":\"histogram2dcontour\"}],\"mesh3d\":[{\"colorbar\":{\"outlinewidth\":0,\"ticks\":\"\"},\"type\":\"mesh3d\"}],\"parcoords\":[{\"line\":{\"colorbar\":{\"outlinewidth\":0,\"ticks\":\"\"}},\"type\":\"parcoords\"}],\"pie\":[{\"automargin\":true,\"type\":\"pie\"}],\"scatter\":[{\"marker\":{\"colorbar\":{\"outlinewidth\":0,\"ticks\":\"\"}},\"type\":\"scatter\"}],\"scatter3d\":[{\"line\":{\"colorbar\":{\"outlinewidth\":0,\"ticks\":\"\"}},\"marker\":{\"colorbar\":{\"outlinewidth\":0,\"ticks\":\"\"}},\"type\":\"scatter3d\"}],\"scattercarpet\":[{\"marker\":{\"colorbar\":{\"outlinewidth\":0,\"ticks\":\"\"}},\"type\":\"scattercarpet\"}],\"scattergeo\":[{\"marker\":{\"colorbar\":{\"outlinewidth\":0,\"ticks\":\"\"}},\"type\":\"scattergeo\"}],\"scattergl\":[{\"marker\":{\"colorbar\":{\"outlinewidth\":0,\"ticks\":\"\"}},\"type\":\"scattergl\"}],\"scattermapbox\":[{\"marker\":{\"colorbar\":{\"outlinewidth\":0,\"ticks\":\"\"}},\"type\":\"scattermapbox\"}],\"scatterpolar\":[{\"marker\":{\"colorbar\":{\"outlinewidth\":0,\"ticks\":\"\"}},\"type\":\"scatterpolar\"}],\"scatterpolargl\":[{\"marker\":{\"colorbar\":{\"outlinewidth\":0,\"ticks\":\"\"}},\"type\":\"scatterpolargl\"}],\"scatterternary\":[{\"marker\":{\"colorbar\":{\"outlinewidth\":0,\"ticks\":\"\"}},\"type\":\"scatterternary\"}],\"surface\":[{\"colorbar\":{\"outlinewidth\":0,\"ticks\":\"\"},\"colorscale\":[[0.0,\"#0d0887\"],[0.1111111111111111,\"#46039f\"],[0.2222222222222222,\"#7201a8\"],[0.3333333333333333,\"#9c179e\"],[0.4444444444444444,\"#bd3786\"],[0.5555555555555556,\"#d8576b\"],[0.6666666666666666,\"#ed7953\"],[0.7777777777777778,\"#fb9f3a\"],[0.8888888888888888,\"#fdca26\"],[1.0,\"#f0f921\"]],\"type\":\"surface\"}],\"table\":[{\"cells\":{\"fill\":{\"color\":\"#EBF0F8\"},\"line\":{\"color\":\"white\"}},\"header\":{\"fill\":{\"color\":\"#C8D4E3\"},\"line\":{\"color\":\"white\"}},\"type\":\"table\"}]},\"layout\":{\"annotationdefaults\":{\"arrowcolor\":\"#2a3f5f\",\"arrowhead\":0,\"arrowwidth\":1},\"autotypenumbers\":\"strict\",\"coloraxis\":{\"colorbar\":{\"outlinewidth\":0,\"ticks\":\"\"}},\"colorscale\":{\"diverging\":[[0,\"#8e0152\"],[0.1,\"#c51b7d\"],[0.2,\"#de77ae\"],[0.3,\"#f1b6da\"],[0.4,\"#fde0ef\"],[0.5,\"#f7f7f7\"],[0.6,\"#e6f5d0\"],[0.7,\"#b8e186\"],[0.8,\"#7fbc41\"],[0.9,\"#4d9221\"],[1,\"#276419\"]],\"sequential\":[[0.0,\"#0d0887\"],[0.1111111111111111,\"#46039f\"],[0.2222222222222222,\"#7201a8\"],[0.3333333333333333,\"#9c179e\"],[0.4444444444444444,\"#bd3786\"],[0.5555555555555556,\"#d8576b\"],[0.6666666666666666,\"#ed7953\"],[0.7777777777777778,\"#fb9f3a\"],[0.8888888888888888,\"#fdca26\"],[1.0,\"#f0f921\"]],\"sequentialminus\":[[0.0,\"#0d0887\"],[0.1111111111111111,\"#46039f\"],[0.2222222222222222,\"#7201a8\"],[0.3333333333333333,\"#9c179e\"],[0.4444444444444444,\"#bd3786\"],[0.5555555555555556,\"#d8576b\"],[0.6666666666666666,\"#ed7953\"],[0.7777777777777778,\"#fb9f3a\"],[0.8888888888888888,\"#fdca26\"],[1.0,\"#f0f921\"]]},\"colorway\":[\"#636efa\",\"#EF553B\",\"#00cc96\",\"#ab63fa\",\"#FFA15A\",\"#19d3f3\",\"#FF6692\",\"#B6E880\",\"#FF97FF\",\"#FECB52\"],\"font\":{\"color\":\"#2a3f5f\"},\"geo\":{\"bgcolor\":\"white\",\"lakecolor\":\"white\",\"landcolor\":\"#E5ECF6\",\"showlakes\":true,\"showland\":true,\"subunitcolor\":\"white\"},\"hoverlabel\":{\"align\":\"left\"},\"hovermode\":\"closest\",\"mapbox\":{\"style\":\"light\"},\"paper_bgcolor\":\"white\",\"plot_bgcolor\":\"#E5ECF6\",\"polar\":{\"angularaxis\":{\"gridcolor\":\"white\",\"linecolor\":\"white\",\"ticks\":\"\"},\"bgcolor\":\"#E5ECF6\",\"radialaxis\":{\"gridcolor\":\"white\",\"linecolor\":\"white\",\"ticks\":\"\"}},\"scene\":{\"xaxis\":{\"backgroundcolor\":\"#E5ECF6\",\"gridcolor\":\"white\",\"gridwidth\":2,\"linecolor\":\"white\",\"showbackground\":true,\"ticks\":\"\",\"zerolinecolor\":\"white\"},\"yaxis\":{\"backgroundcolor\":\"#E5ECF6\",\"gridcolor\":\"white\",\"gridwidth\":2,\"linecolor\":\"white\",\"showbackground\":true,\"ticks\":\"\",\"zerolinecolor\":\"white\"},\"zaxis\":{\"backgroundcolor\":\"#E5ECF6\",\"gridcolor\":\"white\",\"gridwidth\":2,\"linecolor\":\"white\",\"showbackground\":true,\"ticks\":\"\",\"zerolinecolor\":\"white\"}},\"shapedefaults\":{\"line\":{\"color\":\"#2a3f5f\"}},\"ternary\":{\"aaxis\":{\"gridcolor\":\"white\",\"linecolor\":\"white\",\"ticks\":\"\"},\"baxis\":{\"gridcolor\":\"white\",\"linecolor\":\"white\",\"ticks\":\"\"},\"bgcolor\":\"#E5ECF6\",\"caxis\":{\"gridcolor\":\"white\",\"linecolor\":\"white\",\"ticks\":\"\"}},\"title\":{\"x\":0.05},\"xaxis\":{\"automargin\":true,\"gridcolor\":\"white\",\"linecolor\":\"white\",\"ticks\":\"\",\"title\":{\"standoff\":15},\"zerolinecolor\":\"white\",\"zerolinewidth\":2},\"yaxis\":{\"automargin\":true,\"gridcolor\":\"white\",\"linecolor\":\"white\",\"ticks\":\"\",\"title\":{\"standoff\":15},\"zerolinecolor\":\"white\",\"zerolinewidth\":2}}},\"title\":{\"text\":\"Forest App Sentiment Analysis\"},\"xaxis\":{\"anchor\":\"y\",\"domain\":[0.0,1.0],\"title\":{\"text\":\"Polarity\"}},\"yaxis\":{\"anchor\":\"x\",\"domain\":[0.0,1.0],\"title\":{\"text\":\"Subjectivity\"}}},                        {\"responsive\": true}                    ).then(function(){\n",
       "                            \n",
       "var gd = document.getElementById('877aa516-145a-44fa-8b86-0b17c2565790');\n",
       "var x = new MutationObserver(function (mutations, observer) {{\n",
       "        var display = window.getComputedStyle(gd).display;\n",
       "        if (!display || display === 'none') {{\n",
       "            console.log([gd, 'removed!']);\n",
       "            Plotly.purge(gd);\n",
       "            observer.disconnect();\n",
       "        }}\n",
       "}});\n",
       "\n",
       "// Listen for the removal of the full notebook cells\n",
       "var notebookContainer = gd.closest('#notebook-container');\n",
       "if (notebookContainer) {{\n",
       "    x.observe(notebookContainer, {childList: true});\n",
       "}}\n",
       "\n",
       "// Listen for the clearing of the current output cell\n",
       "var outputEl = gd.closest('.output');\n",
       "if (outputEl) {{\n",
       "    x.observe(outputEl, {childList: true});\n",
       "}}\n",
       "\n",
       "                        })                };                });            </script>        </div>"
      ]
     },
     "metadata": {},
     "output_type": "display_data"
    }
   ],
   "source": [
    "import plotly.express as px\n",
    "fig = px.scatter(data_frame=for_app, x='Polarity', y='Subjectivity', size='score',color='Analysis', \n",
    "                 title='Forest App Sentiment Analysis',                \n",
    "                 color_discrete_map={\n",
    "                \"Positive\": \"#636EFA\",\n",
    "                \"Neutral\": \"#00CC96\",\n",
    "                \"Negative\": \"#EF553B\"})\n",
    "fig.add_vline(x=0, line_width=1, line_color=\"black\", )\n",
    "fig.add_annotation()\n",
    "fig.show()"
   ]
  },
  {
   "cell_type": "markdown",
   "id": "dffedac0",
   "metadata": {},
   "source": [
    "Forest app has more positive feedback in recent reviews than negative"
   ]
  },
  {
   "cell_type": "code",
   "execution_count": 252,
   "id": "dcd8d5a6",
   "metadata": {},
   "outputs": [
    {
     "data": {
      "application/vnd.plotly.v1+json": {
       "config": {
        "plotlyServerURL": "https://plot.ly"
       },
       "data": [
        {
         "hovertemplate": "Analysis=Neutral<br>Polarity=%{x}<br>Subjectivity=%{y}<br>score=%{marker.size}<extra></extra>",
         "legendgroup": "Neutral",
         "marker": {
          "color": "#00CC96",
          "size": [
           5,
           5,
           3,
           3,
           5,
           5
          ],
          "sizemode": "area",
          "sizeref": 0.0125,
          "symbol": "circle"
         },
         "mode": "markers",
         "name": "Neutral",
         "orientation": "v",
         "showlegend": true,
         "type": "scatter",
         "x": [
          0,
          0,
          0,
          0,
          0,
          0
         ],
         "xaxis": "x",
         "y": [
          0,
          0,
          0,
          0,
          0,
          0
         ],
         "yaxis": "y"
        },
        {
         "hovertemplate": "Analysis=Positive<br>Polarity=%{x}<br>Subjectivity=%{y}<br>score=%{marker.size}<extra></extra>",
         "legendgroup": "Positive",
         "marker": {
          "color": "#636EFA",
          "size": [
           5,
           5,
           5,
           5,
           5,
           5,
           5,
           5,
           5,
           5,
           5,
           5,
           5,
           4,
           4,
           5,
           5,
           4,
           4,
           1,
           1,
           5,
           5,
           5,
           5,
           5,
           5,
           5,
           5,
           5,
           5,
           5,
           5,
           5,
           5,
           5,
           5,
           4,
           4,
           5,
           5,
           5,
           5,
           5,
           5,
           5,
           5,
           5,
           5,
           5
          ],
          "sizemode": "area",
          "sizeref": 0.0125,
          "symbol": "circle"
         },
         "mode": "markers",
         "name": "Positive",
         "orientation": "v",
         "showlegend": true,
         "type": "scatter",
         "x": [
          0.7,
          0.15625,
          0.4083333333333334,
          0.5,
          0.35000000000000003,
          0.6,
          0.3833333333333333,
          0.8,
          0.35833333333333334,
          0.2571428571428571,
          0.06166666666666667,
          0.0625,
          0.8,
          0.10476190476190478,
          0.10476190476190478,
          1,
          1,
          0.1,
          0.1,
          0.05,
          0.05,
          0.39999999999999997,
          0.45555555555555555,
          0.45555555555555555,
          0.34875,
          0.34875,
          0.4375,
          0.4375,
          0.39,
          1,
          0.15,
          0.4666666666666666,
          0.4666666666666666,
          0.3375,
          0.3375,
          0.3666666666666667,
          0.3666666666666667,
          0.43047619047619046,
          0.43047619047619046,
          0.175,
          0.175,
          0.75,
          0.4,
          0.6194444444444445,
          0.6000000000000001,
          0.6000000000000001,
          0.43333333333333335,
          0.75,
          0.35555555555555557,
          0.35555555555555557
         ],
         "xaxis": "x",
         "y": [
          0.6000000000000001,
          0.3125,
          0.6666666666666666,
          0.6,
          0.65,
          1,
          0.6,
          0.75,
          0.45833333333333337,
          0.5029761904761906,
          0.33333333333333337,
          0.4148809523809524,
          0.75,
          0.5452380952380952,
          0.5452380952380952,
          0.65,
          0.65,
          0.37857142857142856,
          0.37857142857142856,
          0.1,
          0.1,
          0.39999999999999997,
          0.7555555555555555,
          0.7555555555555555,
          0.5349999999999999,
          0.5349999999999999,
          0.5642857142857143,
          0.5642857142857143,
          0,
          0.3,
          0.5,
          0.43333333333333335,
          0.43333333333333335,
          0.475,
          0.475,
          0.5972222222222222,
          0.5972222222222222,
          0.5285714285714286,
          0.5285714285714286,
          0.44999999999999996,
          0.44999999999999996,
          0.4,
          0.9,
          0.7277777777777779,
          0.75,
          0.75,
          0.8333333333333334,
          0.8,
          0.7234126984126985,
          0.7234126984126985
         ],
         "yaxis": "y"
        },
        {
         "hovertemplate": "Analysis=Negative<br>Polarity=%{x}<br>Subjectivity=%{y}<br>score=%{marker.size}<extra></extra>",
         "legendgroup": "Negative",
         "marker": {
          "color": "#EF553B",
          "size": [
           5,
           1,
           1
          ],
          "sizemode": "area",
          "sizeref": 0.0125,
          "symbol": "circle"
         },
         "mode": "markers",
         "name": "Negative",
         "orientation": "v",
         "showlegend": true,
         "type": "scatter",
         "x": [
          -0.11833333333333335,
          -0.07500000000000001,
          -0.07500000000000001
         ],
         "xaxis": "x",
         "y": [
          0.95,
          0.6142857142857143,
          0.6142857142857143
         ],
         "yaxis": "y"
        }
       ],
       "layout": {
        "annotations": [
         {}
        ],
        "legend": {
         "itemsizing": "constant",
         "title": {
          "text": "Analysis"
         },
         "tracegroupgap": 0
        },
        "shapes": [
         {
          "line": {
           "color": "black",
           "width": 3
          },
          "type": "line",
          "x0": 0,
          "x1": 0,
          "xref": "x",
          "y0": 0,
          "y1": 1,
          "yref": "y domain"
         }
        ],
        "template": {
         "data": {
          "bar": [
           {
            "error_x": {
             "color": "#2a3f5f"
            },
            "error_y": {
             "color": "#2a3f5f"
            },
            "marker": {
             "line": {
              "color": "#E5ECF6",
              "width": 0.5
             },
             "pattern": {
              "fillmode": "overlay",
              "size": 10,
              "solidity": 0.2
             }
            },
            "type": "bar"
           }
          ],
          "barpolar": [
           {
            "marker": {
             "line": {
              "color": "#E5ECF6",
              "width": 0.5
             },
             "pattern": {
              "fillmode": "overlay",
              "size": 10,
              "solidity": 0.2
             }
            },
            "type": "barpolar"
           }
          ],
          "carpet": [
           {
            "aaxis": {
             "endlinecolor": "#2a3f5f",
             "gridcolor": "white",
             "linecolor": "white",
             "minorgridcolor": "white",
             "startlinecolor": "#2a3f5f"
            },
            "baxis": {
             "endlinecolor": "#2a3f5f",
             "gridcolor": "white",
             "linecolor": "white",
             "minorgridcolor": "white",
             "startlinecolor": "#2a3f5f"
            },
            "type": "carpet"
           }
          ],
          "choropleth": [
           {
            "colorbar": {
             "outlinewidth": 0,
             "ticks": ""
            },
            "type": "choropleth"
           }
          ],
          "contour": [
           {
            "colorbar": {
             "outlinewidth": 0,
             "ticks": ""
            },
            "colorscale": [
             [
              0,
              "#0d0887"
             ],
             [
              0.1111111111111111,
              "#46039f"
             ],
             [
              0.2222222222222222,
              "#7201a8"
             ],
             [
              0.3333333333333333,
              "#9c179e"
             ],
             [
              0.4444444444444444,
              "#bd3786"
             ],
             [
              0.5555555555555556,
              "#d8576b"
             ],
             [
              0.6666666666666666,
              "#ed7953"
             ],
             [
              0.7777777777777778,
              "#fb9f3a"
             ],
             [
              0.8888888888888888,
              "#fdca26"
             ],
             [
              1,
              "#f0f921"
             ]
            ],
            "type": "contour"
           }
          ],
          "contourcarpet": [
           {
            "colorbar": {
             "outlinewidth": 0,
             "ticks": ""
            },
            "type": "contourcarpet"
           }
          ],
          "heatmap": [
           {
            "colorbar": {
             "outlinewidth": 0,
             "ticks": ""
            },
            "colorscale": [
             [
              0,
              "#0d0887"
             ],
             [
              0.1111111111111111,
              "#46039f"
             ],
             [
              0.2222222222222222,
              "#7201a8"
             ],
             [
              0.3333333333333333,
              "#9c179e"
             ],
             [
              0.4444444444444444,
              "#bd3786"
             ],
             [
              0.5555555555555556,
              "#d8576b"
             ],
             [
              0.6666666666666666,
              "#ed7953"
             ],
             [
              0.7777777777777778,
              "#fb9f3a"
             ],
             [
              0.8888888888888888,
              "#fdca26"
             ],
             [
              1,
              "#f0f921"
             ]
            ],
            "type": "heatmap"
           }
          ],
          "heatmapgl": [
           {
            "colorbar": {
             "outlinewidth": 0,
             "ticks": ""
            },
            "colorscale": [
             [
              0,
              "#0d0887"
             ],
             [
              0.1111111111111111,
              "#46039f"
             ],
             [
              0.2222222222222222,
              "#7201a8"
             ],
             [
              0.3333333333333333,
              "#9c179e"
             ],
             [
              0.4444444444444444,
              "#bd3786"
             ],
             [
              0.5555555555555556,
              "#d8576b"
             ],
             [
              0.6666666666666666,
              "#ed7953"
             ],
             [
              0.7777777777777778,
              "#fb9f3a"
             ],
             [
              0.8888888888888888,
              "#fdca26"
             ],
             [
              1,
              "#f0f921"
             ]
            ],
            "type": "heatmapgl"
           }
          ],
          "histogram": [
           {
            "marker": {
             "pattern": {
              "fillmode": "overlay",
              "size": 10,
              "solidity": 0.2
             }
            },
            "type": "histogram"
           }
          ],
          "histogram2d": [
           {
            "colorbar": {
             "outlinewidth": 0,
             "ticks": ""
            },
            "colorscale": [
             [
              0,
              "#0d0887"
             ],
             [
              0.1111111111111111,
              "#46039f"
             ],
             [
              0.2222222222222222,
              "#7201a8"
             ],
             [
              0.3333333333333333,
              "#9c179e"
             ],
             [
              0.4444444444444444,
              "#bd3786"
             ],
             [
              0.5555555555555556,
              "#d8576b"
             ],
             [
              0.6666666666666666,
              "#ed7953"
             ],
             [
              0.7777777777777778,
              "#fb9f3a"
             ],
             [
              0.8888888888888888,
              "#fdca26"
             ],
             [
              1,
              "#f0f921"
             ]
            ],
            "type": "histogram2d"
           }
          ],
          "histogram2dcontour": [
           {
            "colorbar": {
             "outlinewidth": 0,
             "ticks": ""
            },
            "colorscale": [
             [
              0,
              "#0d0887"
             ],
             [
              0.1111111111111111,
              "#46039f"
             ],
             [
              0.2222222222222222,
              "#7201a8"
             ],
             [
              0.3333333333333333,
              "#9c179e"
             ],
             [
              0.4444444444444444,
              "#bd3786"
             ],
             [
              0.5555555555555556,
              "#d8576b"
             ],
             [
              0.6666666666666666,
              "#ed7953"
             ],
             [
              0.7777777777777778,
              "#fb9f3a"
             ],
             [
              0.8888888888888888,
              "#fdca26"
             ],
             [
              1,
              "#f0f921"
             ]
            ],
            "type": "histogram2dcontour"
           }
          ],
          "mesh3d": [
           {
            "colorbar": {
             "outlinewidth": 0,
             "ticks": ""
            },
            "type": "mesh3d"
           }
          ],
          "parcoords": [
           {
            "line": {
             "colorbar": {
              "outlinewidth": 0,
              "ticks": ""
             }
            },
            "type": "parcoords"
           }
          ],
          "pie": [
           {
            "automargin": true,
            "type": "pie"
           }
          ],
          "scatter": [
           {
            "marker": {
             "colorbar": {
              "outlinewidth": 0,
              "ticks": ""
             }
            },
            "type": "scatter"
           }
          ],
          "scatter3d": [
           {
            "line": {
             "colorbar": {
              "outlinewidth": 0,
              "ticks": ""
             }
            },
            "marker": {
             "colorbar": {
              "outlinewidth": 0,
              "ticks": ""
             }
            },
            "type": "scatter3d"
           }
          ],
          "scattercarpet": [
           {
            "marker": {
             "colorbar": {
              "outlinewidth": 0,
              "ticks": ""
             }
            },
            "type": "scattercarpet"
           }
          ],
          "scattergeo": [
           {
            "marker": {
             "colorbar": {
              "outlinewidth": 0,
              "ticks": ""
             }
            },
            "type": "scattergeo"
           }
          ],
          "scattergl": [
           {
            "marker": {
             "colorbar": {
              "outlinewidth": 0,
              "ticks": ""
             }
            },
            "type": "scattergl"
           }
          ],
          "scattermapbox": [
           {
            "marker": {
             "colorbar": {
              "outlinewidth": 0,
              "ticks": ""
             }
            },
            "type": "scattermapbox"
           }
          ],
          "scatterpolar": [
           {
            "marker": {
             "colorbar": {
              "outlinewidth": 0,
              "ticks": ""
             }
            },
            "type": "scatterpolar"
           }
          ],
          "scatterpolargl": [
           {
            "marker": {
             "colorbar": {
              "outlinewidth": 0,
              "ticks": ""
             }
            },
            "type": "scatterpolargl"
           }
          ],
          "scatterternary": [
           {
            "marker": {
             "colorbar": {
              "outlinewidth": 0,
              "ticks": ""
             }
            },
            "type": "scatterternary"
           }
          ],
          "surface": [
           {
            "colorbar": {
             "outlinewidth": 0,
             "ticks": ""
            },
            "colorscale": [
             [
              0,
              "#0d0887"
             ],
             [
              0.1111111111111111,
              "#46039f"
             ],
             [
              0.2222222222222222,
              "#7201a8"
             ],
             [
              0.3333333333333333,
              "#9c179e"
             ],
             [
              0.4444444444444444,
              "#bd3786"
             ],
             [
              0.5555555555555556,
              "#d8576b"
             ],
             [
              0.6666666666666666,
              "#ed7953"
             ],
             [
              0.7777777777777778,
              "#fb9f3a"
             ],
             [
              0.8888888888888888,
              "#fdca26"
             ],
             [
              1,
              "#f0f921"
             ]
            ],
            "type": "surface"
           }
          ],
          "table": [
           {
            "cells": {
             "fill": {
              "color": "#EBF0F8"
             },
             "line": {
              "color": "white"
             }
            },
            "header": {
             "fill": {
              "color": "#C8D4E3"
             },
             "line": {
              "color": "white"
             }
            },
            "type": "table"
           }
          ]
         },
         "layout": {
          "annotationdefaults": {
           "arrowcolor": "#2a3f5f",
           "arrowhead": 0,
           "arrowwidth": 1
          },
          "autotypenumbers": "strict",
          "coloraxis": {
           "colorbar": {
            "outlinewidth": 0,
            "ticks": ""
           }
          },
          "colorscale": {
           "diverging": [
            [
             0,
             "#8e0152"
            ],
            [
             0.1,
             "#c51b7d"
            ],
            [
             0.2,
             "#de77ae"
            ],
            [
             0.3,
             "#f1b6da"
            ],
            [
             0.4,
             "#fde0ef"
            ],
            [
             0.5,
             "#f7f7f7"
            ],
            [
             0.6,
             "#e6f5d0"
            ],
            [
             0.7,
             "#b8e186"
            ],
            [
             0.8,
             "#7fbc41"
            ],
            [
             0.9,
             "#4d9221"
            ],
            [
             1,
             "#276419"
            ]
           ],
           "sequential": [
            [
             0,
             "#0d0887"
            ],
            [
             0.1111111111111111,
             "#46039f"
            ],
            [
             0.2222222222222222,
             "#7201a8"
            ],
            [
             0.3333333333333333,
             "#9c179e"
            ],
            [
             0.4444444444444444,
             "#bd3786"
            ],
            [
             0.5555555555555556,
             "#d8576b"
            ],
            [
             0.6666666666666666,
             "#ed7953"
            ],
            [
             0.7777777777777778,
             "#fb9f3a"
            ],
            [
             0.8888888888888888,
             "#fdca26"
            ],
            [
             1,
             "#f0f921"
            ]
           ],
           "sequentialminus": [
            [
             0,
             "#0d0887"
            ],
            [
             0.1111111111111111,
             "#46039f"
            ],
            [
             0.2222222222222222,
             "#7201a8"
            ],
            [
             0.3333333333333333,
             "#9c179e"
            ],
            [
             0.4444444444444444,
             "#bd3786"
            ],
            [
             0.5555555555555556,
             "#d8576b"
            ],
            [
             0.6666666666666666,
             "#ed7953"
            ],
            [
             0.7777777777777778,
             "#fb9f3a"
            ],
            [
             0.8888888888888888,
             "#fdca26"
            ],
            [
             1,
             "#f0f921"
            ]
           ]
          },
          "colorway": [
           "#636efa",
           "#EF553B",
           "#00cc96",
           "#ab63fa",
           "#FFA15A",
           "#19d3f3",
           "#FF6692",
           "#B6E880",
           "#FF97FF",
           "#FECB52"
          ],
          "font": {
           "color": "#2a3f5f"
          },
          "geo": {
           "bgcolor": "white",
           "lakecolor": "white",
           "landcolor": "#E5ECF6",
           "showlakes": true,
           "showland": true,
           "subunitcolor": "white"
          },
          "hoverlabel": {
           "align": "left"
          },
          "hovermode": "closest",
          "mapbox": {
           "style": "light"
          },
          "paper_bgcolor": "white",
          "plot_bgcolor": "#E5ECF6",
          "polar": {
           "angularaxis": {
            "gridcolor": "white",
            "linecolor": "white",
            "ticks": ""
           },
           "bgcolor": "#E5ECF6",
           "radialaxis": {
            "gridcolor": "white",
            "linecolor": "white",
            "ticks": ""
           }
          },
          "scene": {
           "xaxis": {
            "backgroundcolor": "#E5ECF6",
            "gridcolor": "white",
            "gridwidth": 2,
            "linecolor": "white",
            "showbackground": true,
            "ticks": "",
            "zerolinecolor": "white"
           },
           "yaxis": {
            "backgroundcolor": "#E5ECF6",
            "gridcolor": "white",
            "gridwidth": 2,
            "linecolor": "white",
            "showbackground": true,
            "ticks": "",
            "zerolinecolor": "white"
           },
           "zaxis": {
            "backgroundcolor": "#E5ECF6",
            "gridcolor": "white",
            "gridwidth": 2,
            "linecolor": "white",
            "showbackground": true,
            "ticks": "",
            "zerolinecolor": "white"
           }
          },
          "shapedefaults": {
           "line": {
            "color": "#2a3f5f"
           }
          },
          "ternary": {
           "aaxis": {
            "gridcolor": "white",
            "linecolor": "white",
            "ticks": ""
           },
           "baxis": {
            "gridcolor": "white",
            "linecolor": "white",
            "ticks": ""
           },
           "bgcolor": "#E5ECF6",
           "caxis": {
            "gridcolor": "white",
            "linecolor": "white",
            "ticks": ""
           }
          },
          "title": {
           "x": 0.05
          },
          "xaxis": {
           "automargin": true,
           "gridcolor": "white",
           "linecolor": "white",
           "ticks": "",
           "title": {
            "standoff": 15
           },
           "zerolinecolor": "white",
           "zerolinewidth": 2
          },
          "yaxis": {
           "automargin": true,
           "gridcolor": "white",
           "linecolor": "white",
           "ticks": "",
           "title": {
            "standoff": 15
           },
           "zerolinecolor": "white",
           "zerolinewidth": 2
          }
         }
        },
        "title": {
         "text": "Android App Sentiment Analysis"
        },
        "xaxis": {
         "anchor": "y",
         "domain": [
          0,
          1
         ],
         "title": {
          "text": "Polarity"
         }
        },
        "yaxis": {
         "anchor": "x",
         "domain": [
          0,
          1
         ],
         "title": {
          "text": "Subjectivity"
         }
        }
       }
      },
      "text/html": [
       "<div>                            <div id=\"819378a5-5ea2-43bb-b716-34083225ad02\" class=\"plotly-graph-div\" style=\"height:525px; width:100%;\"></div>            <script type=\"text/javascript\">                require([\"plotly\"], function(Plotly) {                    window.PLOTLYENV=window.PLOTLYENV || {};                                    if (document.getElementById(\"819378a5-5ea2-43bb-b716-34083225ad02\")) {                    Plotly.newPlot(                        \"819378a5-5ea2-43bb-b716-34083225ad02\",                        [{\"hovertemplate\":\"Analysis=Neutral<br>Polarity=%{x}<br>Subjectivity=%{y}<br>score=%{marker.size}<extra></extra>\",\"legendgroup\":\"Neutral\",\"marker\":{\"color\":\"#00CC96\",\"size\":[5,5,3,3,5,5],\"sizemode\":\"area\",\"sizeref\":0.0125,\"symbol\":\"circle\"},\"mode\":\"markers\",\"name\":\"Neutral\",\"orientation\":\"v\",\"showlegend\":true,\"type\":\"scatter\",\"x\":[0.0,0.0,0.0,0.0,0.0,0.0],\"xaxis\":\"x\",\"y\":[0.0,0.0,0.0,0.0,0.0,0.0],\"yaxis\":\"y\"},{\"hovertemplate\":\"Analysis=Positive<br>Polarity=%{x}<br>Subjectivity=%{y}<br>score=%{marker.size}<extra></extra>\",\"legendgroup\":\"Positive\",\"marker\":{\"color\":\"#636EFA\",\"size\":[5,5,5,5,5,5,5,5,5,5,5,5,5,4,4,5,5,4,4,1,1,5,5,5,5,5,5,5,5,5,5,5,5,5,5,5,5,4,4,5,5,5,5,5,5,5,5,5,5,5],\"sizemode\":\"area\",\"sizeref\":0.0125,\"symbol\":\"circle\"},\"mode\":\"markers\",\"name\":\"Positive\",\"orientation\":\"v\",\"showlegend\":true,\"type\":\"scatter\",\"x\":[0.7,0.15625,0.4083333333333334,0.5,0.35000000000000003,0.6,0.3833333333333333,0.8,0.35833333333333334,0.2571428571428571,0.06166666666666667,0.0625,0.8,0.10476190476190478,0.10476190476190478,1.0,1.0,0.1,0.1,0.05,0.05,0.39999999999999997,0.45555555555555555,0.45555555555555555,0.34875,0.34875,0.4375,0.4375,0.39,1.0,0.15,0.4666666666666666,0.4666666666666666,0.3375,0.3375,0.3666666666666667,0.3666666666666667,0.43047619047619046,0.43047619047619046,0.175,0.175,0.75,0.4,0.6194444444444445,0.6000000000000001,0.6000000000000001,0.43333333333333335,0.75,0.35555555555555557,0.35555555555555557],\"xaxis\":\"x\",\"y\":[0.6000000000000001,0.3125,0.6666666666666666,0.6,0.65,1.0,0.6,0.75,0.45833333333333337,0.5029761904761906,0.33333333333333337,0.4148809523809524,0.75,0.5452380952380952,0.5452380952380952,0.65,0.65,0.37857142857142856,0.37857142857142856,0.1,0.1,0.39999999999999997,0.7555555555555555,0.7555555555555555,0.5349999999999999,0.5349999999999999,0.5642857142857143,0.5642857142857143,0.0,0.3,0.5,0.43333333333333335,0.43333333333333335,0.475,0.475,0.5972222222222222,0.5972222222222222,0.5285714285714286,0.5285714285714286,0.44999999999999996,0.44999999999999996,0.4,0.9,0.7277777777777779,0.75,0.75,0.8333333333333334,0.8,0.7234126984126985,0.7234126984126985],\"yaxis\":\"y\"},{\"hovertemplate\":\"Analysis=Negative<br>Polarity=%{x}<br>Subjectivity=%{y}<br>score=%{marker.size}<extra></extra>\",\"legendgroup\":\"Negative\",\"marker\":{\"color\":\"#EF553B\",\"size\":[5,1,1],\"sizemode\":\"area\",\"sizeref\":0.0125,\"symbol\":\"circle\"},\"mode\":\"markers\",\"name\":\"Negative\",\"orientation\":\"v\",\"showlegend\":true,\"type\":\"scatter\",\"x\":[-0.11833333333333335,-0.07500000000000001,-0.07500000000000001],\"xaxis\":\"x\",\"y\":[0.95,0.6142857142857143,0.6142857142857143],\"yaxis\":\"y\"}],                        {\"annotations\":[{}],\"legend\":{\"itemsizing\":\"constant\",\"title\":{\"text\":\"Analysis\"},\"tracegroupgap\":0},\"shapes\":[{\"line\":{\"color\":\"black\",\"width\":3},\"type\":\"line\",\"x0\":0,\"x1\":0,\"xref\":\"x\",\"y0\":0,\"y1\":1,\"yref\":\"y domain\"}],\"template\":{\"data\":{\"bar\":[{\"error_x\":{\"color\":\"#2a3f5f\"},\"error_y\":{\"color\":\"#2a3f5f\"},\"marker\":{\"line\":{\"color\":\"#E5ECF6\",\"width\":0.5},\"pattern\":{\"fillmode\":\"overlay\",\"size\":10,\"solidity\":0.2}},\"type\":\"bar\"}],\"barpolar\":[{\"marker\":{\"line\":{\"color\":\"#E5ECF6\",\"width\":0.5},\"pattern\":{\"fillmode\":\"overlay\",\"size\":10,\"solidity\":0.2}},\"type\":\"barpolar\"}],\"carpet\":[{\"aaxis\":{\"endlinecolor\":\"#2a3f5f\",\"gridcolor\":\"white\",\"linecolor\":\"white\",\"minorgridcolor\":\"white\",\"startlinecolor\":\"#2a3f5f\"},\"baxis\":{\"endlinecolor\":\"#2a3f5f\",\"gridcolor\":\"white\",\"linecolor\":\"white\",\"minorgridcolor\":\"white\",\"startlinecolor\":\"#2a3f5f\"},\"type\":\"carpet\"}],\"choropleth\":[{\"colorbar\":{\"outlinewidth\":0,\"ticks\":\"\"},\"type\":\"choropleth\"}],\"contour\":[{\"colorbar\":{\"outlinewidth\":0,\"ticks\":\"\"},\"colorscale\":[[0.0,\"#0d0887\"],[0.1111111111111111,\"#46039f\"],[0.2222222222222222,\"#7201a8\"],[0.3333333333333333,\"#9c179e\"],[0.4444444444444444,\"#bd3786\"],[0.5555555555555556,\"#d8576b\"],[0.6666666666666666,\"#ed7953\"],[0.7777777777777778,\"#fb9f3a\"],[0.8888888888888888,\"#fdca26\"],[1.0,\"#f0f921\"]],\"type\":\"contour\"}],\"contourcarpet\":[{\"colorbar\":{\"outlinewidth\":0,\"ticks\":\"\"},\"type\":\"contourcarpet\"}],\"heatmap\":[{\"colorbar\":{\"outlinewidth\":0,\"ticks\":\"\"},\"colorscale\":[[0.0,\"#0d0887\"],[0.1111111111111111,\"#46039f\"],[0.2222222222222222,\"#7201a8\"],[0.3333333333333333,\"#9c179e\"],[0.4444444444444444,\"#bd3786\"],[0.5555555555555556,\"#d8576b\"],[0.6666666666666666,\"#ed7953\"],[0.7777777777777778,\"#fb9f3a\"],[0.8888888888888888,\"#fdca26\"],[1.0,\"#f0f921\"]],\"type\":\"heatmap\"}],\"heatmapgl\":[{\"colorbar\":{\"outlinewidth\":0,\"ticks\":\"\"},\"colorscale\":[[0.0,\"#0d0887\"],[0.1111111111111111,\"#46039f\"],[0.2222222222222222,\"#7201a8\"],[0.3333333333333333,\"#9c179e\"],[0.4444444444444444,\"#bd3786\"],[0.5555555555555556,\"#d8576b\"],[0.6666666666666666,\"#ed7953\"],[0.7777777777777778,\"#fb9f3a\"],[0.8888888888888888,\"#fdca26\"],[1.0,\"#f0f921\"]],\"type\":\"heatmapgl\"}],\"histogram\":[{\"marker\":{\"pattern\":{\"fillmode\":\"overlay\",\"size\":10,\"solidity\":0.2}},\"type\":\"histogram\"}],\"histogram2d\":[{\"colorbar\":{\"outlinewidth\":0,\"ticks\":\"\"},\"colorscale\":[[0.0,\"#0d0887\"],[0.1111111111111111,\"#46039f\"],[0.2222222222222222,\"#7201a8\"],[0.3333333333333333,\"#9c179e\"],[0.4444444444444444,\"#bd3786\"],[0.5555555555555556,\"#d8576b\"],[0.6666666666666666,\"#ed7953\"],[0.7777777777777778,\"#fb9f3a\"],[0.8888888888888888,\"#fdca26\"],[1.0,\"#f0f921\"]],\"type\":\"histogram2d\"}],\"histogram2dcontour\":[{\"colorbar\":{\"outlinewidth\":0,\"ticks\":\"\"},\"colorscale\":[[0.0,\"#0d0887\"],[0.1111111111111111,\"#46039f\"],[0.2222222222222222,\"#7201a8\"],[0.3333333333333333,\"#9c179e\"],[0.4444444444444444,\"#bd3786\"],[0.5555555555555556,\"#d8576b\"],[0.6666666666666666,\"#ed7953\"],[0.7777777777777778,\"#fb9f3a\"],[0.8888888888888888,\"#fdca26\"],[1.0,\"#f0f921\"]],\"type\":\"histogram2dcontour\"}],\"mesh3d\":[{\"colorbar\":{\"outlinewidth\":0,\"ticks\":\"\"},\"type\":\"mesh3d\"}],\"parcoords\":[{\"line\":{\"colorbar\":{\"outlinewidth\":0,\"ticks\":\"\"}},\"type\":\"parcoords\"}],\"pie\":[{\"automargin\":true,\"type\":\"pie\"}],\"scatter\":[{\"marker\":{\"colorbar\":{\"outlinewidth\":0,\"ticks\":\"\"}},\"type\":\"scatter\"}],\"scatter3d\":[{\"line\":{\"colorbar\":{\"outlinewidth\":0,\"ticks\":\"\"}},\"marker\":{\"colorbar\":{\"outlinewidth\":0,\"ticks\":\"\"}},\"type\":\"scatter3d\"}],\"scattercarpet\":[{\"marker\":{\"colorbar\":{\"outlinewidth\":0,\"ticks\":\"\"}},\"type\":\"scattercarpet\"}],\"scattergeo\":[{\"marker\":{\"colorbar\":{\"outlinewidth\":0,\"ticks\":\"\"}},\"type\":\"scattergeo\"}],\"scattergl\":[{\"marker\":{\"colorbar\":{\"outlinewidth\":0,\"ticks\":\"\"}},\"type\":\"scattergl\"}],\"scattermapbox\":[{\"marker\":{\"colorbar\":{\"outlinewidth\":0,\"ticks\":\"\"}},\"type\":\"scattermapbox\"}],\"scatterpolar\":[{\"marker\":{\"colorbar\":{\"outlinewidth\":0,\"ticks\":\"\"}},\"type\":\"scatterpolar\"}],\"scatterpolargl\":[{\"marker\":{\"colorbar\":{\"outlinewidth\":0,\"ticks\":\"\"}},\"type\":\"scatterpolargl\"}],\"scatterternary\":[{\"marker\":{\"colorbar\":{\"outlinewidth\":0,\"ticks\":\"\"}},\"type\":\"scatterternary\"}],\"surface\":[{\"colorbar\":{\"outlinewidth\":0,\"ticks\":\"\"},\"colorscale\":[[0.0,\"#0d0887\"],[0.1111111111111111,\"#46039f\"],[0.2222222222222222,\"#7201a8\"],[0.3333333333333333,\"#9c179e\"],[0.4444444444444444,\"#bd3786\"],[0.5555555555555556,\"#d8576b\"],[0.6666666666666666,\"#ed7953\"],[0.7777777777777778,\"#fb9f3a\"],[0.8888888888888888,\"#fdca26\"],[1.0,\"#f0f921\"]],\"type\":\"surface\"}],\"table\":[{\"cells\":{\"fill\":{\"color\":\"#EBF0F8\"},\"line\":{\"color\":\"white\"}},\"header\":{\"fill\":{\"color\":\"#C8D4E3\"},\"line\":{\"color\":\"white\"}},\"type\":\"table\"}]},\"layout\":{\"annotationdefaults\":{\"arrowcolor\":\"#2a3f5f\",\"arrowhead\":0,\"arrowwidth\":1},\"autotypenumbers\":\"strict\",\"coloraxis\":{\"colorbar\":{\"outlinewidth\":0,\"ticks\":\"\"}},\"colorscale\":{\"diverging\":[[0,\"#8e0152\"],[0.1,\"#c51b7d\"],[0.2,\"#de77ae\"],[0.3,\"#f1b6da\"],[0.4,\"#fde0ef\"],[0.5,\"#f7f7f7\"],[0.6,\"#e6f5d0\"],[0.7,\"#b8e186\"],[0.8,\"#7fbc41\"],[0.9,\"#4d9221\"],[1,\"#276419\"]],\"sequential\":[[0.0,\"#0d0887\"],[0.1111111111111111,\"#46039f\"],[0.2222222222222222,\"#7201a8\"],[0.3333333333333333,\"#9c179e\"],[0.4444444444444444,\"#bd3786\"],[0.5555555555555556,\"#d8576b\"],[0.6666666666666666,\"#ed7953\"],[0.7777777777777778,\"#fb9f3a\"],[0.8888888888888888,\"#fdca26\"],[1.0,\"#f0f921\"]],\"sequentialminus\":[[0.0,\"#0d0887\"],[0.1111111111111111,\"#46039f\"],[0.2222222222222222,\"#7201a8\"],[0.3333333333333333,\"#9c179e\"],[0.4444444444444444,\"#bd3786\"],[0.5555555555555556,\"#d8576b\"],[0.6666666666666666,\"#ed7953\"],[0.7777777777777778,\"#fb9f3a\"],[0.8888888888888888,\"#fdca26\"],[1.0,\"#f0f921\"]]},\"colorway\":[\"#636efa\",\"#EF553B\",\"#00cc96\",\"#ab63fa\",\"#FFA15A\",\"#19d3f3\",\"#FF6692\",\"#B6E880\",\"#FF97FF\",\"#FECB52\"],\"font\":{\"color\":\"#2a3f5f\"},\"geo\":{\"bgcolor\":\"white\",\"lakecolor\":\"white\",\"landcolor\":\"#E5ECF6\",\"showlakes\":true,\"showland\":true,\"subunitcolor\":\"white\"},\"hoverlabel\":{\"align\":\"left\"},\"hovermode\":\"closest\",\"mapbox\":{\"style\":\"light\"},\"paper_bgcolor\":\"white\",\"plot_bgcolor\":\"#E5ECF6\",\"polar\":{\"angularaxis\":{\"gridcolor\":\"white\",\"linecolor\":\"white\",\"ticks\":\"\"},\"bgcolor\":\"#E5ECF6\",\"radialaxis\":{\"gridcolor\":\"white\",\"linecolor\":\"white\",\"ticks\":\"\"}},\"scene\":{\"xaxis\":{\"backgroundcolor\":\"#E5ECF6\",\"gridcolor\":\"white\",\"gridwidth\":2,\"linecolor\":\"white\",\"showbackground\":true,\"ticks\":\"\",\"zerolinecolor\":\"white\"},\"yaxis\":{\"backgroundcolor\":\"#E5ECF6\",\"gridcolor\":\"white\",\"gridwidth\":2,\"linecolor\":\"white\",\"showbackground\":true,\"ticks\":\"\",\"zerolinecolor\":\"white\"},\"zaxis\":{\"backgroundcolor\":\"#E5ECF6\",\"gridcolor\":\"white\",\"gridwidth\":2,\"linecolor\":\"white\",\"showbackground\":true,\"ticks\":\"\",\"zerolinecolor\":\"white\"}},\"shapedefaults\":{\"line\":{\"color\":\"#2a3f5f\"}},\"ternary\":{\"aaxis\":{\"gridcolor\":\"white\",\"linecolor\":\"white\",\"ticks\":\"\"},\"baxis\":{\"gridcolor\":\"white\",\"linecolor\":\"white\",\"ticks\":\"\"},\"bgcolor\":\"#E5ECF6\",\"caxis\":{\"gridcolor\":\"white\",\"linecolor\":\"white\",\"ticks\":\"\"}},\"title\":{\"x\":0.05},\"xaxis\":{\"automargin\":true,\"gridcolor\":\"white\",\"linecolor\":\"white\",\"ticks\":\"\",\"title\":{\"standoff\":15},\"zerolinecolor\":\"white\",\"zerolinewidth\":2},\"yaxis\":{\"automargin\":true,\"gridcolor\":\"white\",\"linecolor\":\"white\",\"ticks\":\"\",\"title\":{\"standoff\":15},\"zerolinecolor\":\"white\",\"zerolinewidth\":2}}},\"title\":{\"text\":\"Android App Sentiment Analysis\"},\"xaxis\":{\"anchor\":\"y\",\"domain\":[0.0,1.0],\"title\":{\"text\":\"Polarity\"}},\"yaxis\":{\"anchor\":\"x\",\"domain\":[0.0,1.0],\"title\":{\"text\":\"Subjectivity\"}}},                        {\"responsive\": true}                    ).then(function(){\n",
       "                            \n",
       "var gd = document.getElementById('819378a5-5ea2-43bb-b716-34083225ad02');\n",
       "var x = new MutationObserver(function (mutations, observer) {{\n",
       "        var display = window.getComputedStyle(gd).display;\n",
       "        if (!display || display === 'none') {{\n",
       "            console.log([gd, 'removed!']);\n",
       "            Plotly.purge(gd);\n",
       "            observer.disconnect();\n",
       "        }}\n",
       "}});\n",
       "\n",
       "// Listen for the removal of the full notebook cells\n",
       "var notebookContainer = gd.closest('#notebook-container');\n",
       "if (notebookContainer) {{\n",
       "    x.observe(notebookContainer, {childList: true});\n",
       "}}\n",
       "\n",
       "// Listen for the clearing of the current output cell\n",
       "var outputEl = gd.closest('.output');\n",
       "if (outputEl) {{\n",
       "    x.observe(outputEl, {childList: true});\n",
       "}}\n",
       "\n",
       "                        })                };                });            </script>        </div>"
      ]
     },
     "metadata": {},
     "output_type": "display_data"
    }
   ],
   "source": [
    "import plotly.express as px\n",
    "fig = px.scatter(data_frame=Android, x='Polarity', y='Subjectivity', size='score',color='Analysis', \n",
    "                 title='Android App Sentiment Analysis',\n",
    "                color_discrete_map={\n",
    "                \"Positive\": \"#636EFA\",\n",
    "                \"Neutral\": \"#00CC96\",\n",
    "                \"Negative\": \"#EF553B\"})\n",
    "fig.add_vline(x=0, line_width=3, line_color=\"black\")\n",
    "fig.add_annotation()\n",
    "fig.show()"
   ]
  },
  {
   "cell_type": "markdown",
   "id": "801ccbc1",
   "metadata": {},
   "source": [
    "Android app has the least amount of negative reviews in recent times in the given visualizations!"
   ]
  },
  {
   "cell_type": "code",
   "execution_count": 253,
   "id": "7797b962",
   "metadata": {},
   "outputs": [
    {
     "data": {
      "application/vnd.plotly.v1+json": {
       "config": {
        "plotlyServerURL": "https://plot.ly"
       },
       "data": [
        {
         "hovertemplate": "Analysis=Positive<br>Polarity=%{x}<br>Subjectivity=%{y}<br>score=%{marker.size}<extra></extra>",
         "legendgroup": "Positive",
         "marker": {
          "color": "#636EFA",
          "size": [
           4,
           5,
           5,
           5,
           5,
           3,
           5,
           5,
           4,
           5,
           5,
           3,
           5,
           5,
           2,
           5,
           4,
           5,
           1,
           5,
           1,
           5,
           4,
           2,
           4,
           4,
           5,
           5,
           5,
           5,
           5,
           4,
           2,
           5,
           4,
           5,
           5,
           5,
           5,
           1,
           5,
           4,
           5,
           5,
           3,
           4,
           5,
           5,
           3,
           5,
           5,
           5,
           3,
           3,
           5,
           3,
           3,
           5,
           2,
           2,
           4,
           5,
           5,
           5,
           5,
           5,
           4,
           5,
           5,
           5,
           5,
           5,
           5,
           5,
           5,
           1,
           1,
           4,
           4,
           1,
           1,
           5,
           5,
           5,
           5,
           4,
           1,
           1,
           5,
           5,
           5,
           5,
           3,
           3,
           5,
           5,
           3,
           3,
           1,
           1,
           5,
           5,
           5,
           5,
           5,
           5,
           5,
           5,
           5,
           3,
           3,
           5,
           5,
           5,
           5,
           5,
           5,
           5,
           5,
           5,
           5,
           5,
           5,
           5,
           3,
           3,
           4,
           5,
           5,
           3,
           3,
           4,
           1,
           1,
           5,
           5,
           5,
           5,
           5,
           2,
           2,
           5,
           5,
           5,
           5,
           5,
           4,
           3,
           5,
           5,
           1,
           1,
           5,
           4,
           3,
           3,
           5,
           4,
           5,
           1,
           1,
           5,
           5,
           1,
           1,
           5,
           4,
           4,
           5,
           2,
           2,
           1,
           1,
           3,
           3,
           3,
           3,
           3,
           4,
           3,
           3,
           1,
           1,
           4
          ],
          "sizemode": "area",
          "sizeref": 0.0125,
          "symbol": "circle"
         },
         "mode": "markers",
         "name": "Positive",
         "orientation": "v",
         "showlegend": true,
         "type": "scatter",
         "x": [
          0.195,
          0.39,
          0.12291666666666667,
          0.4116666666666667,
          0.39,
          1,
          0.7666666666666666,
          0.8125,
          0.26666666666666666,
          0.25,
          0.31666666666666665,
          0.5249999999999999,
          0.2520833333333333,
          0.87,
          0.35,
          1,
          0.4708333333333333,
          0.1875,
          0.7,
          1,
          0.12000000000000002,
          0.6,
          0.5,
          0.7,
          0.11249999999999999,
          0.6,
          0.23749999999999996,
          0.8,
          0.5633333333333334,
          0.23083333333333333,
          0.3333333333333333,
          0.15333333333333338,
          0.302,
          0.3,
          0.6,
          1,
          1,
          0.1,
          0.1574074074074074,
          0.7,
          0.6000000000000001,
          0.5,
          0.21666666666666667,
          1,
          0.6,
          0.2285714285714286,
          0.5,
          0.325,
          0.01875,
          0.6,
          0.6000000000000001,
          0.44,
          0.625,
          0.625,
          1,
          0.19999999999999998,
          0.19999999999999998,
          1,
          0.12380952380952381,
          0.12380952380952381,
          0.31666666666666665,
          0.2,
          0.32619047619047625,
          0.2,
          0.23703703703703705,
          0.2,
          0.8,
          0.284375,
          0.6000000000000001,
          0.3897435897435898,
          0.3897435897435898,
          0.31666666666666665,
          0.31666666666666665,
          0.4611111111111111,
          0.55,
          0.07427156177156177,
          0.07427156177156177,
          0.8,
          0.8,
          0.06666666666666667,
          0.06666666666666667,
          0.225,
          0.225,
          0.41666666666666663,
          0.41666666666666663,
          0.5,
          0.07988095238095239,
          0.07988095238095239,
          0.20085714285714285,
          0.8,
          0.4777777777777778,
          0.605,
          0.15000000000000002,
          0.15000000000000002,
          0.9099999999999999,
          0.44000000000000006,
          0.09999999999999998,
          0.09999999999999998,
          0.29545454545454547,
          0.29545454545454547,
          0.45,
          0.8,
          0.4116666666666667,
          0.35,
          0.35,
          0.35,
          0.31666666666666665,
          0.31666666666666665,
          1,
          0.8,
          0.8,
          0.3,
          0.8,
          0.4666666666666667,
          0.3333333333333333,
          0.3333333333333333,
          1,
          1,
          0.6,
          0.24999999999999997,
          0.7,
          0.8,
          1,
          0.5,
          0.1,
          0.1,
          0.05,
          0.39,
          0.24999999999999997,
          0.09999999999999999,
          0.09999999999999999,
          0.06818181818181818,
          0.8,
          0.8,
          0.7166666666666667,
          0.5,
          0.75,
          0.25,
          0.4,
          0.04999999999999999,
          0.04999999999999999,
          0.3111111111111111,
          0.3111111111111111,
          0.3,
          0.35,
          0.35,
          0.39999999999999997,
          0.5,
          0.2,
          1,
          0.17045454545454544,
          0.17045454545454544,
          0.5166666666666667,
          0.875,
          0.06613476485635576,
          0.06613476485635576,
          0.7,
          0.2,
          1,
          0.06818181818181818,
          0.06818181818181818,
          0.28583333333333333,
          0.28583333333333333,
          0.02361111111111112,
          0.02361111111111112,
          0.2833333333333333,
          0.17777777777777778,
          0.17777777777777778,
          1,
          0.3666666666666667,
          0.3666666666666667,
          0.12499999999999999,
          0.12499999999999999,
          0.9099999999999999,
          0.9099999999999999,
          0.08333333333333331,
          0.08333333333333331,
          0.21428571428571427,
          0.26875,
          0.6,
          0.6,
          0.0722222222222222,
          0.0722222222222222,
          0.0625
         ],
         "xaxis": "x",
         "y": [
          0.5,
          0,
          0.6666666666666667,
          0.4166666666666667,
          0,
          1,
          0.6666666666666666,
          0.8,
          0.9166666666666667,
          0.15000000000000002,
          0.5666666666666667,
          0.6333333333333333,
          0.5476190476190477,
          0.7933333333333334,
          0.36250000000000004,
          1,
          0.525,
          0.7,
          0.6000000000000001,
          1,
          0.4,
          0.55,
          0.6785714285714286,
          0.6000000000000001,
          0.29375,
          0.55,
          0.725,
          0.75,
          1,
          0.30833333333333335,
          0.6666666666666666,
          0.645,
          0.336,
          0,
          0.775,
          0.3,
          1,
          1,
          0.3314814814814815,
          0.6000000000000001,
          0.9,
          0.5,
          0.6488095238095238,
          0.3,
          0.5833333333333334,
          0.5416666666666666,
          0.32857142857142857,
          0.4125,
          0.35833333333333334,
          1,
          0.9,
          0.55,
          0.6,
          0.6,
          1,
          0.47500000000000003,
          0.47500000000000003,
          1,
          0.5023809523809524,
          0.5023809523809524,
          0.5666666666666667,
          0.3,
          0.45619047619047615,
          0.3,
          0.6518518518518519,
          0.2,
          0.75,
          0.6546428571428572,
          0.9,
          0.5492673992673992,
          0.5492673992673992,
          0.5666666666666667,
          0.5666666666666667,
          0.5,
          0.8,
          0.46075398960014347,
          0.46075398960014347,
          0.95,
          0.95,
          0.5,
          0.5,
          0.5416666666666666,
          0.5416666666666666,
          0.55,
          0.55,
          0.5,
          0.5535714285714285,
          0.5535714285714285,
          0.19428571428571426,
          0.75,
          0.6111111111111112,
          0.39000000000000007,
          0.875,
          0.875,
          0.7800000000000001,
          0.5800000000000001,
          0.5,
          0.5,
          0.4348484848484848,
          0.4348484848484848,
          0.525,
          0.75,
          0.4166666666666667,
          0.4,
          0.62,
          0.62,
          0.5666666666666667,
          0.5666666666666667,
          0.3,
          0.75,
          0.75,
          0,
          0.75,
          0.6666666666666667,
          0.4916666666666667,
          0.4916666666666667,
          1,
          0.75,
          1,
          0.6000000000000001,
          0.95,
          0.75,
          1,
          0.4750000000000001,
          0.12,
          0.12,
          0.625,
          0,
          0.5,
          0.19999999999999998,
          0.19999999999999998,
          0.22727272727272727,
          0.75,
          0.75,
          0.5666666666666667,
          0.6,
          0.675,
          0.3,
          0.9,
          0.75,
          0.75,
          0.4511904761904762,
          0.4511904761904762,
          0,
          0.6,
          0.6,
          0.3666666666666667,
          0.5,
          0.2,
          1,
          0.4431818181818182,
          0.4431818181818182,
          0.8666666666666667,
          0.975,
          0.46736029122392764,
          0.46736029122392764,
          0.6000000000000001,
          0.3,
          0.3,
          0.22727272727272727,
          0.22727272727272727,
          0.4058333333333333,
          0.4058333333333333,
          0.24285714285714288,
          0.24285714285714288,
          0.36282051282051286,
          0.9444444444444445,
          0.9444444444444445,
          0.75,
          0.5833333333333334,
          0.5833333333333334,
          0.22500000000000003,
          0.22500000000000003,
          0.7800000000000001,
          0.7800000000000001,
          0.5166666666666666,
          0.5166666666666666,
          0.5714285714285714,
          0.5869791666666667,
          1,
          1,
          0.5618055555555554,
          0.5618055555555554,
          0.34375
         ],
         "yaxis": "y"
        },
        {
         "hovertemplate": "Analysis=Neutral<br>Polarity=%{x}<br>Subjectivity=%{y}<br>score=%{marker.size}<extra></extra>",
         "legendgroup": "Neutral",
         "marker": {
          "color": "#00CC96",
          "size": [
           1,
           5,
           4,
           5,
           4,
           1,
           3,
           4,
           5,
           5,
           1,
           1,
           2,
           1,
           1,
           1,
           5,
           1,
           2,
           2,
           2,
           5,
           1,
           1,
           1,
           5,
           1,
           4,
           5,
           1,
           1,
           4,
           5,
           4,
           5,
           1,
           4,
           5,
           1,
           1
          ],
          "sizemode": "area",
          "sizeref": 0.0125,
          "symbol": "circle"
         },
         "mode": "markers",
         "name": "Neutral",
         "orientation": "v",
         "showlegend": true,
         "type": "scatter",
         "x": [
          0,
          0,
          0,
          0,
          0,
          0,
          0,
          0,
          0,
          0,
          0,
          0,
          0,
          0,
          0,
          0,
          0,
          0,
          0,
          0,
          0,
          0,
          0,
          0,
          0,
          0,
          0,
          0,
          0,
          0,
          0,
          0,
          0,
          0,
          0,
          0,
          0,
          0,
          0,
          0
         ],
         "xaxis": "x",
         "y": [
          0.3333333333333333,
          0,
          0,
          0,
          0,
          0,
          0.3333333333333333,
          0,
          0,
          0,
          0,
          0.6666666666666666,
          0.5,
          0,
          0,
          0,
          0,
          0.25,
          0.18333333333333335,
          0.18333333333333335,
          0,
          0,
          0,
          0,
          0,
          0,
          0,
          0,
          0,
          0,
          0,
          0,
          0,
          0,
          0,
          0,
          0,
          0,
          0,
          0
         ],
         "yaxis": "y"
        },
        {
         "hovertemplate": "Analysis=Negative<br>Polarity=%{x}<br>Subjectivity=%{y}<br>score=%{marker.size}<extra></extra>",
         "legendgroup": "Negative",
         "marker": {
          "color": "#EF553B",
          "size": [
           1,
           1,
           2,
           1,
           1,
           1,
           1,
           1,
           1,
           1,
           1,
           1,
           3,
           1,
           1,
           2,
           1,
           1,
           1,
           1,
           1,
           1,
           3,
           3,
           2,
           2,
           1,
           1,
           1,
           1,
           3,
           3,
           3,
           3,
           1,
           1,
           2,
           2,
           3,
           4,
           1,
           5,
           5,
           2,
           2,
           4,
           4,
           1,
           1,
           3,
           3,
           1,
           1,
           1,
           1,
           4,
           4
          ],
          "sizemode": "area",
          "sizeref": 0.0125,
          "symbol": "circle"
         },
         "mode": "markers",
         "name": "Negative",
         "orientation": "v",
         "showlegend": true,
         "type": "scatter",
         "x": [
          -0.25,
          -0.005612244897959188,
          -0.17333333333333334,
          -0.6999999999999998,
          -0.8,
          -0.6666666666666666,
          -0.020454545454545458,
          -0.05000000000000001,
          -1,
          -1,
          -0.375,
          -1,
          -0.13111111111111112,
          -0.8,
          -0.25,
          -0.3249999999999999,
          -0.06666666666666667,
          -0.8,
          -0.32666666666666666,
          -0.32666666666666666,
          -0.1,
          -0.1,
          -0.4,
          -0.4,
          -0.2,
          -0.2,
          -0.35625,
          -0.35625,
          -0.11333333333333336,
          -0.11333333333333336,
          -0.8,
          -0.8,
          -0.5,
          -0.5,
          -0.03333333333333333,
          -0.03333333333333333,
          -0.1,
          -0.1,
          -0.2,
          -0.06000000000000001,
          -0.43333333333333335,
          -0.0625,
          -0.0625,
          -0.16111111111111112,
          -0.16111111111111112,
          -0.024285714285714275,
          -0.024285714285714275,
          -0.012500000000000011,
          -0.21666666666666667,
          -0.4,
          -0.4,
          -0.07091836734693877,
          -0.07091836734693877,
          -0.4,
          -0.5,
          -0.06666666666666667,
          -0.06666666666666667
         ],
         "xaxis": "x",
         "y": [
          0.3,
          0.401530612244898,
          0.5,
          0.6666666666666666,
          0.9,
          0.6,
          0.508080808080808,
          0.42083333333333334,
          0.9,
          0.875,
          0.6,
          1,
          0.39777777777777773,
          0.9,
          0.3,
          0.31666666666666665,
          0.03333333333333333,
          0.9,
          0.6533333333333333,
          0.6533333333333333,
          0.22999999999999998,
          0.22999999999999998,
          0.45,
          0.45,
          0.5,
          0.5,
          0.575,
          0.575,
          0.4933333333333333,
          0.4933333333333333,
          0.9,
          0.9,
          0.45,
          0.45,
          0.26666666666666666,
          0.26666666666666666,
          0.4,
          0.4,
          0.4,
          0.42000000000000004,
          0.3666666666666667,
          0.1875,
          0.1875,
          0.6,
          0.6,
          0.3,
          0.3,
          0.55,
          0.8333333333333334,
          0.6285714285714286,
          0.6285714285714286,
          0.5407312925170068,
          0.5407312925170068,
          0.45,
          0.5,
          0.03333333333333333,
          0.03333333333333333
         ],
         "yaxis": "y"
        }
       ],
       "layout": {
        "annotations": [
         {}
        ],
        "legend": {
         "itemsizing": "constant",
         "title": {
          "text": "Analysis"
         },
         "tracegroupgap": 0
        },
        "shapes": [
         {
          "line": {
           "color": "black",
           "dash": "dash",
           "width": 3
          },
          "type": "line",
          "x0": 0,
          "x1": 0,
          "xref": "x",
          "y0": 0,
          "y1": 1,
          "yref": "y domain"
         }
        ],
        "template": {
         "data": {
          "bar": [
           {
            "error_x": {
             "color": "#2a3f5f"
            },
            "error_y": {
             "color": "#2a3f5f"
            },
            "marker": {
             "line": {
              "color": "#E5ECF6",
              "width": 0.5
             },
             "pattern": {
              "fillmode": "overlay",
              "size": 10,
              "solidity": 0.2
             }
            },
            "type": "bar"
           }
          ],
          "barpolar": [
           {
            "marker": {
             "line": {
              "color": "#E5ECF6",
              "width": 0.5
             },
             "pattern": {
              "fillmode": "overlay",
              "size": 10,
              "solidity": 0.2
             }
            },
            "type": "barpolar"
           }
          ],
          "carpet": [
           {
            "aaxis": {
             "endlinecolor": "#2a3f5f",
             "gridcolor": "white",
             "linecolor": "white",
             "minorgridcolor": "white",
             "startlinecolor": "#2a3f5f"
            },
            "baxis": {
             "endlinecolor": "#2a3f5f",
             "gridcolor": "white",
             "linecolor": "white",
             "minorgridcolor": "white",
             "startlinecolor": "#2a3f5f"
            },
            "type": "carpet"
           }
          ],
          "choropleth": [
           {
            "colorbar": {
             "outlinewidth": 0,
             "ticks": ""
            },
            "type": "choropleth"
           }
          ],
          "contour": [
           {
            "colorbar": {
             "outlinewidth": 0,
             "ticks": ""
            },
            "colorscale": [
             [
              0,
              "#0d0887"
             ],
             [
              0.1111111111111111,
              "#46039f"
             ],
             [
              0.2222222222222222,
              "#7201a8"
             ],
             [
              0.3333333333333333,
              "#9c179e"
             ],
             [
              0.4444444444444444,
              "#bd3786"
             ],
             [
              0.5555555555555556,
              "#d8576b"
             ],
             [
              0.6666666666666666,
              "#ed7953"
             ],
             [
              0.7777777777777778,
              "#fb9f3a"
             ],
             [
              0.8888888888888888,
              "#fdca26"
             ],
             [
              1,
              "#f0f921"
             ]
            ],
            "type": "contour"
           }
          ],
          "contourcarpet": [
           {
            "colorbar": {
             "outlinewidth": 0,
             "ticks": ""
            },
            "type": "contourcarpet"
           }
          ],
          "heatmap": [
           {
            "colorbar": {
             "outlinewidth": 0,
             "ticks": ""
            },
            "colorscale": [
             [
              0,
              "#0d0887"
             ],
             [
              0.1111111111111111,
              "#46039f"
             ],
             [
              0.2222222222222222,
              "#7201a8"
             ],
             [
              0.3333333333333333,
              "#9c179e"
             ],
             [
              0.4444444444444444,
              "#bd3786"
             ],
             [
              0.5555555555555556,
              "#d8576b"
             ],
             [
              0.6666666666666666,
              "#ed7953"
             ],
             [
              0.7777777777777778,
              "#fb9f3a"
             ],
             [
              0.8888888888888888,
              "#fdca26"
             ],
             [
              1,
              "#f0f921"
             ]
            ],
            "type": "heatmap"
           }
          ],
          "heatmapgl": [
           {
            "colorbar": {
             "outlinewidth": 0,
             "ticks": ""
            },
            "colorscale": [
             [
              0,
              "#0d0887"
             ],
             [
              0.1111111111111111,
              "#46039f"
             ],
             [
              0.2222222222222222,
              "#7201a8"
             ],
             [
              0.3333333333333333,
              "#9c179e"
             ],
             [
              0.4444444444444444,
              "#bd3786"
             ],
             [
              0.5555555555555556,
              "#d8576b"
             ],
             [
              0.6666666666666666,
              "#ed7953"
             ],
             [
              0.7777777777777778,
              "#fb9f3a"
             ],
             [
              0.8888888888888888,
              "#fdca26"
             ],
             [
              1,
              "#f0f921"
             ]
            ],
            "type": "heatmapgl"
           }
          ],
          "histogram": [
           {
            "marker": {
             "pattern": {
              "fillmode": "overlay",
              "size": 10,
              "solidity": 0.2
             }
            },
            "type": "histogram"
           }
          ],
          "histogram2d": [
           {
            "colorbar": {
             "outlinewidth": 0,
             "ticks": ""
            },
            "colorscale": [
             [
              0,
              "#0d0887"
             ],
             [
              0.1111111111111111,
              "#46039f"
             ],
             [
              0.2222222222222222,
              "#7201a8"
             ],
             [
              0.3333333333333333,
              "#9c179e"
             ],
             [
              0.4444444444444444,
              "#bd3786"
             ],
             [
              0.5555555555555556,
              "#d8576b"
             ],
             [
              0.6666666666666666,
              "#ed7953"
             ],
             [
              0.7777777777777778,
              "#fb9f3a"
             ],
             [
              0.8888888888888888,
              "#fdca26"
             ],
             [
              1,
              "#f0f921"
             ]
            ],
            "type": "histogram2d"
           }
          ],
          "histogram2dcontour": [
           {
            "colorbar": {
             "outlinewidth": 0,
             "ticks": ""
            },
            "colorscale": [
             [
              0,
              "#0d0887"
             ],
             [
              0.1111111111111111,
              "#46039f"
             ],
             [
              0.2222222222222222,
              "#7201a8"
             ],
             [
              0.3333333333333333,
              "#9c179e"
             ],
             [
              0.4444444444444444,
              "#bd3786"
             ],
             [
              0.5555555555555556,
              "#d8576b"
             ],
             [
              0.6666666666666666,
              "#ed7953"
             ],
             [
              0.7777777777777778,
              "#fb9f3a"
             ],
             [
              0.8888888888888888,
              "#fdca26"
             ],
             [
              1,
              "#f0f921"
             ]
            ],
            "type": "histogram2dcontour"
           }
          ],
          "mesh3d": [
           {
            "colorbar": {
             "outlinewidth": 0,
             "ticks": ""
            },
            "type": "mesh3d"
           }
          ],
          "parcoords": [
           {
            "line": {
             "colorbar": {
              "outlinewidth": 0,
              "ticks": ""
             }
            },
            "type": "parcoords"
           }
          ],
          "pie": [
           {
            "automargin": true,
            "type": "pie"
           }
          ],
          "scatter": [
           {
            "marker": {
             "colorbar": {
              "outlinewidth": 0,
              "ticks": ""
             }
            },
            "type": "scatter"
           }
          ],
          "scatter3d": [
           {
            "line": {
             "colorbar": {
              "outlinewidth": 0,
              "ticks": ""
             }
            },
            "marker": {
             "colorbar": {
              "outlinewidth": 0,
              "ticks": ""
             }
            },
            "type": "scatter3d"
           }
          ],
          "scattercarpet": [
           {
            "marker": {
             "colorbar": {
              "outlinewidth": 0,
              "ticks": ""
             }
            },
            "type": "scattercarpet"
           }
          ],
          "scattergeo": [
           {
            "marker": {
             "colorbar": {
              "outlinewidth": 0,
              "ticks": ""
             }
            },
            "type": "scattergeo"
           }
          ],
          "scattergl": [
           {
            "marker": {
             "colorbar": {
              "outlinewidth": 0,
              "ticks": ""
             }
            },
            "type": "scattergl"
           }
          ],
          "scattermapbox": [
           {
            "marker": {
             "colorbar": {
              "outlinewidth": 0,
              "ticks": ""
             }
            },
            "type": "scattermapbox"
           }
          ],
          "scatterpolar": [
           {
            "marker": {
             "colorbar": {
              "outlinewidth": 0,
              "ticks": ""
             }
            },
            "type": "scatterpolar"
           }
          ],
          "scatterpolargl": [
           {
            "marker": {
             "colorbar": {
              "outlinewidth": 0,
              "ticks": ""
             }
            },
            "type": "scatterpolargl"
           }
          ],
          "scatterternary": [
           {
            "marker": {
             "colorbar": {
              "outlinewidth": 0,
              "ticks": ""
             }
            },
            "type": "scatterternary"
           }
          ],
          "surface": [
           {
            "colorbar": {
             "outlinewidth": 0,
             "ticks": ""
            },
            "colorscale": [
             [
              0,
              "#0d0887"
             ],
             [
              0.1111111111111111,
              "#46039f"
             ],
             [
              0.2222222222222222,
              "#7201a8"
             ],
             [
              0.3333333333333333,
              "#9c179e"
             ],
             [
              0.4444444444444444,
              "#bd3786"
             ],
             [
              0.5555555555555556,
              "#d8576b"
             ],
             [
              0.6666666666666666,
              "#ed7953"
             ],
             [
              0.7777777777777778,
              "#fb9f3a"
             ],
             [
              0.8888888888888888,
              "#fdca26"
             ],
             [
              1,
              "#f0f921"
             ]
            ],
            "type": "surface"
           }
          ],
          "table": [
           {
            "cells": {
             "fill": {
              "color": "#EBF0F8"
             },
             "line": {
              "color": "white"
             }
            },
            "header": {
             "fill": {
              "color": "#C8D4E3"
             },
             "line": {
              "color": "white"
             }
            },
            "type": "table"
           }
          ]
         },
         "layout": {
          "annotationdefaults": {
           "arrowcolor": "#2a3f5f",
           "arrowhead": 0,
           "arrowwidth": 1
          },
          "autotypenumbers": "strict",
          "coloraxis": {
           "colorbar": {
            "outlinewidth": 0,
            "ticks": ""
           }
          },
          "colorscale": {
           "diverging": [
            [
             0,
             "#8e0152"
            ],
            [
             0.1,
             "#c51b7d"
            ],
            [
             0.2,
             "#de77ae"
            ],
            [
             0.3,
             "#f1b6da"
            ],
            [
             0.4,
             "#fde0ef"
            ],
            [
             0.5,
             "#f7f7f7"
            ],
            [
             0.6,
             "#e6f5d0"
            ],
            [
             0.7,
             "#b8e186"
            ],
            [
             0.8,
             "#7fbc41"
            ],
            [
             0.9,
             "#4d9221"
            ],
            [
             1,
             "#276419"
            ]
           ],
           "sequential": [
            [
             0,
             "#0d0887"
            ],
            [
             0.1111111111111111,
             "#46039f"
            ],
            [
             0.2222222222222222,
             "#7201a8"
            ],
            [
             0.3333333333333333,
             "#9c179e"
            ],
            [
             0.4444444444444444,
             "#bd3786"
            ],
            [
             0.5555555555555556,
             "#d8576b"
            ],
            [
             0.6666666666666666,
             "#ed7953"
            ],
            [
             0.7777777777777778,
             "#fb9f3a"
            ],
            [
             0.8888888888888888,
             "#fdca26"
            ],
            [
             1,
             "#f0f921"
            ]
           ],
           "sequentialminus": [
            [
             0,
             "#0d0887"
            ],
            [
             0.1111111111111111,
             "#46039f"
            ],
            [
             0.2222222222222222,
             "#7201a8"
            ],
            [
             0.3333333333333333,
             "#9c179e"
            ],
            [
             0.4444444444444444,
             "#bd3786"
            ],
            [
             0.5555555555555556,
             "#d8576b"
            ],
            [
             0.6666666666666666,
             "#ed7953"
            ],
            [
             0.7777777777777778,
             "#fb9f3a"
            ],
            [
             0.8888888888888888,
             "#fdca26"
            ],
            [
             1,
             "#f0f921"
            ]
           ]
          },
          "colorway": [
           "#636efa",
           "#EF553B",
           "#00cc96",
           "#ab63fa",
           "#FFA15A",
           "#19d3f3",
           "#FF6692",
           "#B6E880",
           "#FF97FF",
           "#FECB52"
          ],
          "font": {
           "color": "#2a3f5f"
          },
          "geo": {
           "bgcolor": "white",
           "lakecolor": "white",
           "landcolor": "#E5ECF6",
           "showlakes": true,
           "showland": true,
           "subunitcolor": "white"
          },
          "hoverlabel": {
           "align": "left"
          },
          "hovermode": "closest",
          "mapbox": {
           "style": "light"
          },
          "paper_bgcolor": "white",
          "plot_bgcolor": "#E5ECF6",
          "polar": {
           "angularaxis": {
            "gridcolor": "white",
            "linecolor": "white",
            "ticks": ""
           },
           "bgcolor": "#E5ECF6",
           "radialaxis": {
            "gridcolor": "white",
            "linecolor": "white",
            "ticks": ""
           }
          },
          "scene": {
           "xaxis": {
            "backgroundcolor": "#E5ECF6",
            "gridcolor": "white",
            "gridwidth": 2,
            "linecolor": "white",
            "showbackground": true,
            "ticks": "",
            "zerolinecolor": "white"
           },
           "yaxis": {
            "backgroundcolor": "#E5ECF6",
            "gridcolor": "white",
            "gridwidth": 2,
            "linecolor": "white",
            "showbackground": true,
            "ticks": "",
            "zerolinecolor": "white"
           },
           "zaxis": {
            "backgroundcolor": "#E5ECF6",
            "gridcolor": "white",
            "gridwidth": 2,
            "linecolor": "white",
            "showbackground": true,
            "ticks": "",
            "zerolinecolor": "white"
           }
          },
          "shapedefaults": {
           "line": {
            "color": "#2a3f5f"
           }
          },
          "ternary": {
           "aaxis": {
            "gridcolor": "white",
            "linecolor": "white",
            "ticks": ""
           },
           "baxis": {
            "gridcolor": "white",
            "linecolor": "white",
            "ticks": ""
           },
           "bgcolor": "#E5ECF6",
           "caxis": {
            "gridcolor": "white",
            "linecolor": "white",
            "ticks": ""
           }
          },
          "title": {
           "x": 0.05
          },
          "xaxis": {
           "automargin": true,
           "gridcolor": "white",
           "linecolor": "white",
           "ticks": "",
           "title": {
            "standoff": 15
           },
           "zerolinecolor": "white",
           "zerolinewidth": 2
          },
          "yaxis": {
           "automargin": true,
           "gridcolor": "white",
           "linecolor": "white",
           "ticks": "",
           "title": {
            "standoff": 15
           },
           "zerolinecolor": "white",
           "zerolinewidth": 2
          }
         }
        },
        "title": {
         "text": "Microsoft To Do App Sentiment Analysis"
        },
        "xaxis": {
         "anchor": "y",
         "domain": [
          0,
          1
         ],
         "title": {
          "text": "Polarity"
         }
        },
        "yaxis": {
         "anchor": "x",
         "domain": [
          0,
          1
         ],
         "title": {
          "text": "Subjectivity"
         }
        }
       }
      },
      "text/html": [
       "<div>                            <div id=\"6d5e8b25-14c5-4161-bc54-3be4d091e24e\" class=\"plotly-graph-div\" style=\"height:525px; width:100%;\"></div>            <script type=\"text/javascript\">                require([\"plotly\"], function(Plotly) {                    window.PLOTLYENV=window.PLOTLYENV || {};                                    if (document.getElementById(\"6d5e8b25-14c5-4161-bc54-3be4d091e24e\")) {                    Plotly.newPlot(                        \"6d5e8b25-14c5-4161-bc54-3be4d091e24e\",                        [{\"hovertemplate\":\"Analysis=Positive<br>Polarity=%{x}<br>Subjectivity=%{y}<br>score=%{marker.size}<extra></extra>\",\"legendgroup\":\"Positive\",\"marker\":{\"color\":\"#636EFA\",\"size\":[4,5,5,5,5,3,5,5,4,5,5,3,5,5,2,5,4,5,1,5,1,5,4,2,4,4,5,5,5,5,5,4,2,5,4,5,5,5,5,1,5,4,5,5,3,4,5,5,3,5,5,5,3,3,5,3,3,5,2,2,4,5,5,5,5,5,4,5,5,5,5,5,5,5,5,1,1,4,4,1,1,5,5,5,5,4,1,1,5,5,5,5,3,3,5,5,3,3,1,1,5,5,5,5,5,5,5,5,5,3,3,5,5,5,5,5,5,5,5,5,5,5,5,5,3,3,4,5,5,3,3,4,1,1,5,5,5,5,5,2,2,5,5,5,5,5,4,3,5,5,1,1,5,4,3,3,5,4,5,1,1,5,5,1,1,5,4,4,5,2,2,1,1,3,3,3,3,3,4,3,3,1,1,4],\"sizemode\":\"area\",\"sizeref\":0.0125,\"symbol\":\"circle\"},\"mode\":\"markers\",\"name\":\"Positive\",\"orientation\":\"v\",\"showlegend\":true,\"type\":\"scatter\",\"x\":[0.195,0.39,0.12291666666666667,0.4116666666666667,0.39,1.0,0.7666666666666666,0.8125,0.26666666666666666,0.25,0.31666666666666665,0.5249999999999999,0.2520833333333333,0.87,0.35,1.0,0.4708333333333333,0.1875,0.7,1.0,0.12000000000000002,0.6,0.5,0.7,0.11249999999999999,0.6,0.23749999999999996,0.8,0.5633333333333334,0.23083333333333333,0.3333333333333333,0.15333333333333338,0.302,0.3,0.6,1.0,1.0,0.1,0.1574074074074074,0.7,0.6000000000000001,0.5,0.21666666666666667,1.0,0.6,0.2285714285714286,0.5,0.325,0.01875,0.6,0.6000000000000001,0.44,0.625,0.625,1.0,0.19999999999999998,0.19999999999999998,1.0,0.12380952380952381,0.12380952380952381,0.31666666666666665,0.2,0.32619047619047625,0.2,0.23703703703703705,0.2,0.8,0.284375,0.6000000000000001,0.3897435897435898,0.3897435897435898,0.31666666666666665,0.31666666666666665,0.4611111111111111,0.55,0.07427156177156177,0.07427156177156177,0.8,0.8,0.06666666666666667,0.06666666666666667,0.225,0.225,0.41666666666666663,0.41666666666666663,0.5,0.07988095238095239,0.07988095238095239,0.20085714285714285,0.8,0.4777777777777778,0.605,0.15000000000000002,0.15000000000000002,0.9099999999999999,0.44000000000000006,0.09999999999999998,0.09999999999999998,0.29545454545454547,0.29545454545454547,0.45,0.8,0.4116666666666667,0.35,0.35,0.35,0.31666666666666665,0.31666666666666665,1.0,0.8,0.8,0.3,0.8,0.4666666666666667,0.3333333333333333,0.3333333333333333,1.0,1.0,0.6,0.24999999999999997,0.7,0.8,1.0,0.5,0.1,0.1,0.05,0.39,0.24999999999999997,0.09999999999999999,0.09999999999999999,0.06818181818181818,0.8,0.8,0.7166666666666667,0.5,0.75,0.25,0.4,0.04999999999999999,0.04999999999999999,0.3111111111111111,0.3111111111111111,0.3,0.35,0.35,0.39999999999999997,0.5,0.2,1.0,0.17045454545454544,0.17045454545454544,0.5166666666666667,0.875,0.06613476485635576,0.06613476485635576,0.7,0.2,1.0,0.06818181818181818,0.06818181818181818,0.28583333333333333,0.28583333333333333,0.02361111111111112,0.02361111111111112,0.2833333333333333,0.17777777777777778,0.17777777777777778,1.0,0.3666666666666667,0.3666666666666667,0.12499999999999999,0.12499999999999999,0.9099999999999999,0.9099999999999999,0.08333333333333331,0.08333333333333331,0.21428571428571427,0.26875,0.6,0.6,0.0722222222222222,0.0722222222222222,0.0625],\"xaxis\":\"x\",\"y\":[0.5,0.0,0.6666666666666667,0.4166666666666667,0.0,1.0,0.6666666666666666,0.8,0.9166666666666667,0.15000000000000002,0.5666666666666667,0.6333333333333333,0.5476190476190477,0.7933333333333334,0.36250000000000004,1.0,0.525,0.7,0.6000000000000001,1.0,0.4,0.55,0.6785714285714286,0.6000000000000001,0.29375,0.55,0.725,0.75,1.0,0.30833333333333335,0.6666666666666666,0.645,0.336,0.0,0.775,0.3,1.0,1.0,0.3314814814814815,0.6000000000000001,0.9,0.5,0.6488095238095238,0.3,0.5833333333333334,0.5416666666666666,0.32857142857142857,0.4125,0.35833333333333334,1.0,0.9,0.55,0.6,0.6,1.0,0.47500000000000003,0.47500000000000003,1.0,0.5023809523809524,0.5023809523809524,0.5666666666666667,0.3,0.45619047619047615,0.3,0.6518518518518519,0.2,0.75,0.6546428571428572,0.9,0.5492673992673992,0.5492673992673992,0.5666666666666667,0.5666666666666667,0.5,0.8,0.46075398960014347,0.46075398960014347,0.95,0.95,0.5,0.5,0.5416666666666666,0.5416666666666666,0.55,0.55,0.5,0.5535714285714285,0.5535714285714285,0.19428571428571426,0.75,0.6111111111111112,0.39000000000000007,0.875,0.875,0.7800000000000001,0.5800000000000001,0.5,0.5,0.4348484848484848,0.4348484848484848,0.525,0.75,0.4166666666666667,0.4,0.62,0.62,0.5666666666666667,0.5666666666666667,0.3,0.75,0.75,0.0,0.75,0.6666666666666667,0.4916666666666667,0.4916666666666667,1.0,0.75,1.0,0.6000000000000001,0.95,0.75,1.0,0.4750000000000001,0.12,0.12,0.625,0.0,0.5,0.19999999999999998,0.19999999999999998,0.22727272727272727,0.75,0.75,0.5666666666666667,0.6,0.675,0.3,0.9,0.75,0.75,0.4511904761904762,0.4511904761904762,0.0,0.6,0.6,0.3666666666666667,0.5,0.2,1.0,0.4431818181818182,0.4431818181818182,0.8666666666666667,0.975,0.46736029122392764,0.46736029122392764,0.6000000000000001,0.3,0.3,0.22727272727272727,0.22727272727272727,0.4058333333333333,0.4058333333333333,0.24285714285714288,0.24285714285714288,0.36282051282051286,0.9444444444444445,0.9444444444444445,0.75,0.5833333333333334,0.5833333333333334,0.22500000000000003,0.22500000000000003,0.7800000000000001,0.7800000000000001,0.5166666666666666,0.5166666666666666,0.5714285714285714,0.5869791666666667,1.0,1.0,0.5618055555555554,0.5618055555555554,0.34375],\"yaxis\":\"y\"},{\"hovertemplate\":\"Analysis=Neutral<br>Polarity=%{x}<br>Subjectivity=%{y}<br>score=%{marker.size}<extra></extra>\",\"legendgroup\":\"Neutral\",\"marker\":{\"color\":\"#00CC96\",\"size\":[1,5,4,5,4,1,3,4,5,5,1,1,2,1,1,1,5,1,2,2,2,5,1,1,1,5,1,4,5,1,1,4,5,4,5,1,4,5,1,1],\"sizemode\":\"area\",\"sizeref\":0.0125,\"symbol\":\"circle\"},\"mode\":\"markers\",\"name\":\"Neutral\",\"orientation\":\"v\",\"showlegend\":true,\"type\":\"scatter\",\"x\":[0.0,0.0,0.0,0.0,0.0,0.0,0.0,0.0,0.0,0.0,0.0,0.0,0.0,0.0,0.0,0.0,0.0,0.0,0.0,0.0,0.0,0.0,0.0,0.0,0.0,0.0,0.0,0.0,0.0,0.0,0.0,0.0,0.0,0.0,0.0,0.0,0.0,0.0,0.0,0.0],\"xaxis\":\"x\",\"y\":[0.3333333333333333,0.0,0.0,0.0,0.0,0.0,0.3333333333333333,0.0,0.0,0.0,0.0,0.6666666666666666,0.5,0.0,0.0,0.0,0.0,0.25,0.18333333333333335,0.18333333333333335,0.0,0.0,0.0,0.0,0.0,0.0,0.0,0.0,0.0,0.0,0.0,0.0,0.0,0.0,0.0,0.0,0.0,0.0,0.0,0.0],\"yaxis\":\"y\"},{\"hovertemplate\":\"Analysis=Negative<br>Polarity=%{x}<br>Subjectivity=%{y}<br>score=%{marker.size}<extra></extra>\",\"legendgroup\":\"Negative\",\"marker\":{\"color\":\"#EF553B\",\"size\":[1,1,2,1,1,1,1,1,1,1,1,1,3,1,1,2,1,1,1,1,1,1,3,3,2,2,1,1,1,1,3,3,3,3,1,1,2,2,3,4,1,5,5,2,2,4,4,1,1,3,3,1,1,1,1,4,4],\"sizemode\":\"area\",\"sizeref\":0.0125,\"symbol\":\"circle\"},\"mode\":\"markers\",\"name\":\"Negative\",\"orientation\":\"v\",\"showlegend\":true,\"type\":\"scatter\",\"x\":[-0.25,-0.005612244897959188,-0.17333333333333334,-0.6999999999999998,-0.8,-0.6666666666666666,-0.020454545454545458,-0.05000000000000001,-1.0,-1.0,-0.375,-1.0,-0.13111111111111112,-0.8,-0.25,-0.3249999999999999,-0.06666666666666667,-0.8,-0.32666666666666666,-0.32666666666666666,-0.1,-0.1,-0.4,-0.4,-0.2,-0.2,-0.35625,-0.35625,-0.11333333333333336,-0.11333333333333336,-0.8,-0.8,-0.5,-0.5,-0.03333333333333333,-0.03333333333333333,-0.1,-0.1,-0.2,-0.06000000000000001,-0.43333333333333335,-0.0625,-0.0625,-0.16111111111111112,-0.16111111111111112,-0.024285714285714275,-0.024285714285714275,-0.012500000000000011,-0.21666666666666667,-0.4,-0.4,-0.07091836734693877,-0.07091836734693877,-0.4,-0.5,-0.06666666666666667,-0.06666666666666667],\"xaxis\":\"x\",\"y\":[0.3,0.401530612244898,0.5,0.6666666666666666,0.9,0.6,0.508080808080808,0.42083333333333334,0.9,0.875,0.6,1.0,0.39777777777777773,0.9,0.3,0.31666666666666665,0.03333333333333333,0.9,0.6533333333333333,0.6533333333333333,0.22999999999999998,0.22999999999999998,0.45,0.45,0.5,0.5,0.575,0.575,0.4933333333333333,0.4933333333333333,0.9,0.9,0.45,0.45,0.26666666666666666,0.26666666666666666,0.4,0.4,0.4,0.42000000000000004,0.3666666666666667,0.1875,0.1875,0.6,0.6,0.3,0.3,0.55,0.8333333333333334,0.6285714285714286,0.6285714285714286,0.5407312925170068,0.5407312925170068,0.45,0.5,0.03333333333333333,0.03333333333333333],\"yaxis\":\"y\"}],                        {\"annotations\":[{}],\"legend\":{\"itemsizing\":\"constant\",\"title\":{\"text\":\"Analysis\"},\"tracegroupgap\":0},\"shapes\":[{\"line\":{\"color\":\"black\",\"dash\":\"dash\",\"width\":3},\"type\":\"line\",\"x0\":0,\"x1\":0,\"xref\":\"x\",\"y0\":0,\"y1\":1,\"yref\":\"y domain\"}],\"template\":{\"data\":{\"bar\":[{\"error_x\":{\"color\":\"#2a3f5f\"},\"error_y\":{\"color\":\"#2a3f5f\"},\"marker\":{\"line\":{\"color\":\"#E5ECF6\",\"width\":0.5},\"pattern\":{\"fillmode\":\"overlay\",\"size\":10,\"solidity\":0.2}},\"type\":\"bar\"}],\"barpolar\":[{\"marker\":{\"line\":{\"color\":\"#E5ECF6\",\"width\":0.5},\"pattern\":{\"fillmode\":\"overlay\",\"size\":10,\"solidity\":0.2}},\"type\":\"barpolar\"}],\"carpet\":[{\"aaxis\":{\"endlinecolor\":\"#2a3f5f\",\"gridcolor\":\"white\",\"linecolor\":\"white\",\"minorgridcolor\":\"white\",\"startlinecolor\":\"#2a3f5f\"},\"baxis\":{\"endlinecolor\":\"#2a3f5f\",\"gridcolor\":\"white\",\"linecolor\":\"white\",\"minorgridcolor\":\"white\",\"startlinecolor\":\"#2a3f5f\"},\"type\":\"carpet\"}],\"choropleth\":[{\"colorbar\":{\"outlinewidth\":0,\"ticks\":\"\"},\"type\":\"choropleth\"}],\"contour\":[{\"colorbar\":{\"outlinewidth\":0,\"ticks\":\"\"},\"colorscale\":[[0.0,\"#0d0887\"],[0.1111111111111111,\"#46039f\"],[0.2222222222222222,\"#7201a8\"],[0.3333333333333333,\"#9c179e\"],[0.4444444444444444,\"#bd3786\"],[0.5555555555555556,\"#d8576b\"],[0.6666666666666666,\"#ed7953\"],[0.7777777777777778,\"#fb9f3a\"],[0.8888888888888888,\"#fdca26\"],[1.0,\"#f0f921\"]],\"type\":\"contour\"}],\"contourcarpet\":[{\"colorbar\":{\"outlinewidth\":0,\"ticks\":\"\"},\"type\":\"contourcarpet\"}],\"heatmap\":[{\"colorbar\":{\"outlinewidth\":0,\"ticks\":\"\"},\"colorscale\":[[0.0,\"#0d0887\"],[0.1111111111111111,\"#46039f\"],[0.2222222222222222,\"#7201a8\"],[0.3333333333333333,\"#9c179e\"],[0.4444444444444444,\"#bd3786\"],[0.5555555555555556,\"#d8576b\"],[0.6666666666666666,\"#ed7953\"],[0.7777777777777778,\"#fb9f3a\"],[0.8888888888888888,\"#fdca26\"],[1.0,\"#f0f921\"]],\"type\":\"heatmap\"}],\"heatmapgl\":[{\"colorbar\":{\"outlinewidth\":0,\"ticks\":\"\"},\"colorscale\":[[0.0,\"#0d0887\"],[0.1111111111111111,\"#46039f\"],[0.2222222222222222,\"#7201a8\"],[0.3333333333333333,\"#9c179e\"],[0.4444444444444444,\"#bd3786\"],[0.5555555555555556,\"#d8576b\"],[0.6666666666666666,\"#ed7953\"],[0.7777777777777778,\"#fb9f3a\"],[0.8888888888888888,\"#fdca26\"],[1.0,\"#f0f921\"]],\"type\":\"heatmapgl\"}],\"histogram\":[{\"marker\":{\"pattern\":{\"fillmode\":\"overlay\",\"size\":10,\"solidity\":0.2}},\"type\":\"histogram\"}],\"histogram2d\":[{\"colorbar\":{\"outlinewidth\":0,\"ticks\":\"\"},\"colorscale\":[[0.0,\"#0d0887\"],[0.1111111111111111,\"#46039f\"],[0.2222222222222222,\"#7201a8\"],[0.3333333333333333,\"#9c179e\"],[0.4444444444444444,\"#bd3786\"],[0.5555555555555556,\"#d8576b\"],[0.6666666666666666,\"#ed7953\"],[0.7777777777777778,\"#fb9f3a\"],[0.8888888888888888,\"#fdca26\"],[1.0,\"#f0f921\"]],\"type\":\"histogram2d\"}],\"histogram2dcontour\":[{\"colorbar\":{\"outlinewidth\":0,\"ticks\":\"\"},\"colorscale\":[[0.0,\"#0d0887\"],[0.1111111111111111,\"#46039f\"],[0.2222222222222222,\"#7201a8\"],[0.3333333333333333,\"#9c179e\"],[0.4444444444444444,\"#bd3786\"],[0.5555555555555556,\"#d8576b\"],[0.6666666666666666,\"#ed7953\"],[0.7777777777777778,\"#fb9f3a\"],[0.8888888888888888,\"#fdca26\"],[1.0,\"#f0f921\"]],\"type\":\"histogram2dcontour\"}],\"mesh3d\":[{\"colorbar\":{\"outlinewidth\":0,\"ticks\":\"\"},\"type\":\"mesh3d\"}],\"parcoords\":[{\"line\":{\"colorbar\":{\"outlinewidth\":0,\"ticks\":\"\"}},\"type\":\"parcoords\"}],\"pie\":[{\"automargin\":true,\"type\":\"pie\"}],\"scatter\":[{\"marker\":{\"colorbar\":{\"outlinewidth\":0,\"ticks\":\"\"}},\"type\":\"scatter\"}],\"scatter3d\":[{\"line\":{\"colorbar\":{\"outlinewidth\":0,\"ticks\":\"\"}},\"marker\":{\"colorbar\":{\"outlinewidth\":0,\"ticks\":\"\"}},\"type\":\"scatter3d\"}],\"scattercarpet\":[{\"marker\":{\"colorbar\":{\"outlinewidth\":0,\"ticks\":\"\"}},\"type\":\"scattercarpet\"}],\"scattergeo\":[{\"marker\":{\"colorbar\":{\"outlinewidth\":0,\"ticks\":\"\"}},\"type\":\"scattergeo\"}],\"scattergl\":[{\"marker\":{\"colorbar\":{\"outlinewidth\":0,\"ticks\":\"\"}},\"type\":\"scattergl\"}],\"scattermapbox\":[{\"marker\":{\"colorbar\":{\"outlinewidth\":0,\"ticks\":\"\"}},\"type\":\"scattermapbox\"}],\"scatterpolar\":[{\"marker\":{\"colorbar\":{\"outlinewidth\":0,\"ticks\":\"\"}},\"type\":\"scatterpolar\"}],\"scatterpolargl\":[{\"marker\":{\"colorbar\":{\"outlinewidth\":0,\"ticks\":\"\"}},\"type\":\"scatterpolargl\"}],\"scatterternary\":[{\"marker\":{\"colorbar\":{\"outlinewidth\":0,\"ticks\":\"\"}},\"type\":\"scatterternary\"}],\"surface\":[{\"colorbar\":{\"outlinewidth\":0,\"ticks\":\"\"},\"colorscale\":[[0.0,\"#0d0887\"],[0.1111111111111111,\"#46039f\"],[0.2222222222222222,\"#7201a8\"],[0.3333333333333333,\"#9c179e\"],[0.4444444444444444,\"#bd3786\"],[0.5555555555555556,\"#d8576b\"],[0.6666666666666666,\"#ed7953\"],[0.7777777777777778,\"#fb9f3a\"],[0.8888888888888888,\"#fdca26\"],[1.0,\"#f0f921\"]],\"type\":\"surface\"}],\"table\":[{\"cells\":{\"fill\":{\"color\":\"#EBF0F8\"},\"line\":{\"color\":\"white\"}},\"header\":{\"fill\":{\"color\":\"#C8D4E3\"},\"line\":{\"color\":\"white\"}},\"type\":\"table\"}]},\"layout\":{\"annotationdefaults\":{\"arrowcolor\":\"#2a3f5f\",\"arrowhead\":0,\"arrowwidth\":1},\"autotypenumbers\":\"strict\",\"coloraxis\":{\"colorbar\":{\"outlinewidth\":0,\"ticks\":\"\"}},\"colorscale\":{\"diverging\":[[0,\"#8e0152\"],[0.1,\"#c51b7d\"],[0.2,\"#de77ae\"],[0.3,\"#f1b6da\"],[0.4,\"#fde0ef\"],[0.5,\"#f7f7f7\"],[0.6,\"#e6f5d0\"],[0.7,\"#b8e186\"],[0.8,\"#7fbc41\"],[0.9,\"#4d9221\"],[1,\"#276419\"]],\"sequential\":[[0.0,\"#0d0887\"],[0.1111111111111111,\"#46039f\"],[0.2222222222222222,\"#7201a8\"],[0.3333333333333333,\"#9c179e\"],[0.4444444444444444,\"#bd3786\"],[0.5555555555555556,\"#d8576b\"],[0.6666666666666666,\"#ed7953\"],[0.7777777777777778,\"#fb9f3a\"],[0.8888888888888888,\"#fdca26\"],[1.0,\"#f0f921\"]],\"sequentialminus\":[[0.0,\"#0d0887\"],[0.1111111111111111,\"#46039f\"],[0.2222222222222222,\"#7201a8\"],[0.3333333333333333,\"#9c179e\"],[0.4444444444444444,\"#bd3786\"],[0.5555555555555556,\"#d8576b\"],[0.6666666666666666,\"#ed7953\"],[0.7777777777777778,\"#fb9f3a\"],[0.8888888888888888,\"#fdca26\"],[1.0,\"#f0f921\"]]},\"colorway\":[\"#636efa\",\"#EF553B\",\"#00cc96\",\"#ab63fa\",\"#FFA15A\",\"#19d3f3\",\"#FF6692\",\"#B6E880\",\"#FF97FF\",\"#FECB52\"],\"font\":{\"color\":\"#2a3f5f\"},\"geo\":{\"bgcolor\":\"white\",\"lakecolor\":\"white\",\"landcolor\":\"#E5ECF6\",\"showlakes\":true,\"showland\":true,\"subunitcolor\":\"white\"},\"hoverlabel\":{\"align\":\"left\"},\"hovermode\":\"closest\",\"mapbox\":{\"style\":\"light\"},\"paper_bgcolor\":\"white\",\"plot_bgcolor\":\"#E5ECF6\",\"polar\":{\"angularaxis\":{\"gridcolor\":\"white\",\"linecolor\":\"white\",\"ticks\":\"\"},\"bgcolor\":\"#E5ECF6\",\"radialaxis\":{\"gridcolor\":\"white\",\"linecolor\":\"white\",\"ticks\":\"\"}},\"scene\":{\"xaxis\":{\"backgroundcolor\":\"#E5ECF6\",\"gridcolor\":\"white\",\"gridwidth\":2,\"linecolor\":\"white\",\"showbackground\":true,\"ticks\":\"\",\"zerolinecolor\":\"white\"},\"yaxis\":{\"backgroundcolor\":\"#E5ECF6\",\"gridcolor\":\"white\",\"gridwidth\":2,\"linecolor\":\"white\",\"showbackground\":true,\"ticks\":\"\",\"zerolinecolor\":\"white\"},\"zaxis\":{\"backgroundcolor\":\"#E5ECF6\",\"gridcolor\":\"white\",\"gridwidth\":2,\"linecolor\":\"white\",\"showbackground\":true,\"ticks\":\"\",\"zerolinecolor\":\"white\"}},\"shapedefaults\":{\"line\":{\"color\":\"#2a3f5f\"}},\"ternary\":{\"aaxis\":{\"gridcolor\":\"white\",\"linecolor\":\"white\",\"ticks\":\"\"},\"baxis\":{\"gridcolor\":\"white\",\"linecolor\":\"white\",\"ticks\":\"\"},\"bgcolor\":\"#E5ECF6\",\"caxis\":{\"gridcolor\":\"white\",\"linecolor\":\"white\",\"ticks\":\"\"}},\"title\":{\"x\":0.05},\"xaxis\":{\"automargin\":true,\"gridcolor\":\"white\",\"linecolor\":\"white\",\"ticks\":\"\",\"title\":{\"standoff\":15},\"zerolinecolor\":\"white\",\"zerolinewidth\":2},\"yaxis\":{\"automargin\":true,\"gridcolor\":\"white\",\"linecolor\":\"white\",\"ticks\":\"\",\"title\":{\"standoff\":15},\"zerolinecolor\":\"white\",\"zerolinewidth\":2}}},\"title\":{\"text\":\"Microsoft To Do App Sentiment Analysis\"},\"xaxis\":{\"anchor\":\"y\",\"domain\":[0.0,1.0],\"title\":{\"text\":\"Polarity\"}},\"yaxis\":{\"anchor\":\"x\",\"domain\":[0.0,1.0],\"title\":{\"text\":\"Subjectivity\"}}},                        {\"responsive\": true}                    ).then(function(){\n",
       "                            \n",
       "var gd = document.getElementById('6d5e8b25-14c5-4161-bc54-3be4d091e24e');\n",
       "var x = new MutationObserver(function (mutations, observer) {{\n",
       "        var display = window.getComputedStyle(gd).display;\n",
       "        if (!display || display === 'none') {{\n",
       "            console.log([gd, 'removed!']);\n",
       "            Plotly.purge(gd);\n",
       "            observer.disconnect();\n",
       "        }}\n",
       "}});\n",
       "\n",
       "// Listen for the removal of the full notebook cells\n",
       "var notebookContainer = gd.closest('#notebook-container');\n",
       "if (notebookContainer) {{\n",
       "    x.observe(notebookContainer, {childList: true});\n",
       "}}\n",
       "\n",
       "// Listen for the clearing of the current output cell\n",
       "var outputEl = gd.closest('.output');\n",
       "if (outputEl) {{\n",
       "    x.observe(outputEl, {childList: true});\n",
       "}}\n",
       "\n",
       "                        })                };                });            </script>        </div>"
      ]
     },
     "metadata": {},
     "output_type": "display_data"
    }
   ],
   "source": [
    "import plotly.express as px\n",
    "fig = px.scatter(data_frame=microsoft, x='Polarity', y='Subjectivity', size='score',color='Analysis', \n",
    "                 title='Microsoft To Do App Sentiment Analysis',\n",
    "                                 color_discrete_map={\n",
    "                \"Positive\": \"#636EFA\",\n",
    "                \"Neutral\": \"#00CC96\",\n",
    "                \"Negative\": \"#EF553B\"})\n",
    "fig.add_vline(x=0, line_width=3, line_dash=\"dash\", line_color=\"black\")\n",
    "fig.add_annotation()\n",
    "fig.show()"
   ]
  },
  {
   "cell_type": "code",
   "execution_count": 254,
   "id": "7fa43a40",
   "metadata": {},
   "outputs": [
    {
     "data": {
      "application/vnd.plotly.v1+json": {
       "config": {
        "plotlyServerURL": "https://plot.ly"
       },
       "data": [
        {
         "hovertemplate": "Analysis=Positive<br>Polarity=%{x}<br>Subjectivity=%{y}<br>score=%{marker.size}<extra></extra>",
         "legendgroup": "Positive",
         "marker": {
          "color": "#636EFA",
          "size": [
           5,
           1,
           5,
           5,
           2,
           5,
           5,
           5,
           5,
           5,
           4,
           5,
           1,
           5,
           5,
           5,
           5,
           4,
           1,
           1,
           5,
           5,
           5,
           5,
           5,
           4,
           4,
           4,
           4,
           1,
           1,
           5,
           5,
           4,
           4,
           5,
           5,
           5,
           5,
           5,
           5,
           3,
           3,
           5,
           5,
           5,
           4,
           4,
           5,
           5,
           1,
           1
          ],
          "sizemode": "area",
          "sizeref": 0.0125,
          "symbol": "circle"
         },
         "mode": "markers",
         "name": "Positive",
         "orientation": "v",
         "showlegend": true,
         "type": "scatter",
         "x": [
          0.3833333333333333,
          0.25,
          0.64,
          0.5,
          0.30077922077922076,
          0.6366666666666666,
          0.7,
          0.6000000000000001,
          0.475,
          0.4,
          0.375,
          0.6000000000000001,
          0.5,
          0.2,
          0.7,
          0.284375,
          0.5033333333333333,
          0.7,
          0.15,
          0.15,
          0.7,
          0.5,
          0.53125,
          0.53125,
          1,
          0.26534090909090907,
          0.26534090909090907,
          0.3944444444444444,
          0.3944444444444444,
          0.23274582560296844,
          0.23274582560296844,
          0.3444444444444444,
          0.3444444444444444,
          0.76,
          0.76,
          1,
          0.7,
          0.37777777777777777,
          0.37777777777777777,
          1,
          0.4,
          0.075,
          0.075,
          0.7625,
          1,
          1,
          0.4375,
          0.4375,
          0.3,
          0.2,
          0.26666666666666666,
          0.26666666666666666
         ],
         "xaxis": "x",
         "y": [
          0.75,
          0.6458333333333333,
          0.75,
          0.5,
          0.5535064935064935,
          0.6266666666666667,
          0.6000000000000001,
          0.9,
          0.4666666666666667,
          0.9,
          0.5,
          0.9,
          0.5,
          0.2,
          0.6000000000000001,
          0.446875,
          0.5766666666666668,
          0.6000000000000001,
          0.44000000000000006,
          0.44000000000000006,
          0.6000000000000001,
          0.6,
          0.45,
          0.45,
          0.3,
          0.5198863636363636,
          0.5198863636363636,
          0.7444444444444445,
          0.7444444444444445,
          0.5394248608534323,
          0.5394248608534323,
          0.7301587301587302,
          0.7301587301587302,
          0.75,
          0.75,
          0.3,
          0.6000000000000001,
          0.6777777777777779,
          0.6777777777777779,
          0.3,
          0.6,
          0.27499999999999997,
          0.27499999999999997,
          0.75,
          1,
          1,
          0.47857142857142865,
          0.47857142857142865,
          0,
          0.3,
          0.3333333333333333,
          0.3333333333333333
         ],
         "yaxis": "y"
        },
        {
         "hovertemplate": "Analysis=Negative<br>Polarity=%{x}<br>Subjectivity=%{y}<br>score=%{marker.size}<extra></extra>",
         "legendgroup": "Negative",
         "marker": {
          "color": "#EF553B",
          "size": [
           1,
           1,
           2,
           5,
           5,
           1,
           1,
           3,
           3,
           1,
           1
          ],
          "sizemode": "area",
          "sizeref": 0.0125,
          "symbol": "circle"
         },
         "mode": "markers",
         "name": "Negative",
         "orientation": "v",
         "showlegend": true,
         "type": "scatter",
         "x": [
          -0.25555555555555554,
          -0.2,
          -0.18828125,
          -0.11000000000000001,
          -0.11000000000000001,
          -0.5,
          -0.5,
          -0.10714285714285714,
          -0.10714285714285714,
          -0.1392857142857143,
          -0.1392857142857143
         ],
         "xaxis": "x",
         "y": [
          0.3722222222222223,
          0,
          0.6,
          0.47333333333333333,
          0.47333333333333333,
          0.9,
          0.9,
          0.4412698412698413,
          0.4412698412698413,
          0.48214285714285715,
          0.48214285714285715
         ],
         "yaxis": "y"
        },
        {
         "hovertemplate": "Analysis=Neutral<br>Polarity=%{x}<br>Subjectivity=%{y}<br>score=%{marker.size}<extra></extra>",
         "legendgroup": "Neutral",
         "marker": {
          "color": "#00CC96",
          "size": [
           5,
           5,
           1,
           3,
           1,
           2,
           1,
           1,
           5,
           5
          ],
          "sizemode": "area",
          "sizeref": 0.0125,
          "symbol": "circle"
         },
         "mode": "markers",
         "name": "Neutral",
         "orientation": "v",
         "showlegend": true,
         "type": "scatter",
         "x": [
          0,
          0,
          0,
          0,
          0,
          0,
          0,
          0,
          0,
          0
         ],
         "xaxis": "x",
         "y": [
          0,
          0,
          0,
          0,
          0,
          0,
          0,
          0,
          0,
          0
         ],
         "yaxis": "y"
        }
       ],
       "layout": {
        "annotations": [
         {}
        ],
        "legend": {
         "itemsizing": "constant",
         "title": {
          "text": "Analysis"
         },
         "tracegroupgap": 0
        },
        "shapes": [
         {
          "line": {
           "color": "black",
           "dash": "dash",
           "width": 2
          },
          "type": "line",
          "x0": 0,
          "x1": 0,
          "xref": "x",
          "y0": 0,
          "y1": 1,
          "yref": "y domain"
         }
        ],
        "template": {
         "data": {
          "bar": [
           {
            "error_x": {
             "color": "#2a3f5f"
            },
            "error_y": {
             "color": "#2a3f5f"
            },
            "marker": {
             "line": {
              "color": "#E5ECF6",
              "width": 0.5
             },
             "pattern": {
              "fillmode": "overlay",
              "size": 10,
              "solidity": 0.2
             }
            },
            "type": "bar"
           }
          ],
          "barpolar": [
           {
            "marker": {
             "line": {
              "color": "#E5ECF6",
              "width": 0.5
             },
             "pattern": {
              "fillmode": "overlay",
              "size": 10,
              "solidity": 0.2
             }
            },
            "type": "barpolar"
           }
          ],
          "carpet": [
           {
            "aaxis": {
             "endlinecolor": "#2a3f5f",
             "gridcolor": "white",
             "linecolor": "white",
             "minorgridcolor": "white",
             "startlinecolor": "#2a3f5f"
            },
            "baxis": {
             "endlinecolor": "#2a3f5f",
             "gridcolor": "white",
             "linecolor": "white",
             "minorgridcolor": "white",
             "startlinecolor": "#2a3f5f"
            },
            "type": "carpet"
           }
          ],
          "choropleth": [
           {
            "colorbar": {
             "outlinewidth": 0,
             "ticks": ""
            },
            "type": "choropleth"
           }
          ],
          "contour": [
           {
            "colorbar": {
             "outlinewidth": 0,
             "ticks": ""
            },
            "colorscale": [
             [
              0,
              "#0d0887"
             ],
             [
              0.1111111111111111,
              "#46039f"
             ],
             [
              0.2222222222222222,
              "#7201a8"
             ],
             [
              0.3333333333333333,
              "#9c179e"
             ],
             [
              0.4444444444444444,
              "#bd3786"
             ],
             [
              0.5555555555555556,
              "#d8576b"
             ],
             [
              0.6666666666666666,
              "#ed7953"
             ],
             [
              0.7777777777777778,
              "#fb9f3a"
             ],
             [
              0.8888888888888888,
              "#fdca26"
             ],
             [
              1,
              "#f0f921"
             ]
            ],
            "type": "contour"
           }
          ],
          "contourcarpet": [
           {
            "colorbar": {
             "outlinewidth": 0,
             "ticks": ""
            },
            "type": "contourcarpet"
           }
          ],
          "heatmap": [
           {
            "colorbar": {
             "outlinewidth": 0,
             "ticks": ""
            },
            "colorscale": [
             [
              0,
              "#0d0887"
             ],
             [
              0.1111111111111111,
              "#46039f"
             ],
             [
              0.2222222222222222,
              "#7201a8"
             ],
             [
              0.3333333333333333,
              "#9c179e"
             ],
             [
              0.4444444444444444,
              "#bd3786"
             ],
             [
              0.5555555555555556,
              "#d8576b"
             ],
             [
              0.6666666666666666,
              "#ed7953"
             ],
             [
              0.7777777777777778,
              "#fb9f3a"
             ],
             [
              0.8888888888888888,
              "#fdca26"
             ],
             [
              1,
              "#f0f921"
             ]
            ],
            "type": "heatmap"
           }
          ],
          "heatmapgl": [
           {
            "colorbar": {
             "outlinewidth": 0,
             "ticks": ""
            },
            "colorscale": [
             [
              0,
              "#0d0887"
             ],
             [
              0.1111111111111111,
              "#46039f"
             ],
             [
              0.2222222222222222,
              "#7201a8"
             ],
             [
              0.3333333333333333,
              "#9c179e"
             ],
             [
              0.4444444444444444,
              "#bd3786"
             ],
             [
              0.5555555555555556,
              "#d8576b"
             ],
             [
              0.6666666666666666,
              "#ed7953"
             ],
             [
              0.7777777777777778,
              "#fb9f3a"
             ],
             [
              0.8888888888888888,
              "#fdca26"
             ],
             [
              1,
              "#f0f921"
             ]
            ],
            "type": "heatmapgl"
           }
          ],
          "histogram": [
           {
            "marker": {
             "pattern": {
              "fillmode": "overlay",
              "size": 10,
              "solidity": 0.2
             }
            },
            "type": "histogram"
           }
          ],
          "histogram2d": [
           {
            "colorbar": {
             "outlinewidth": 0,
             "ticks": ""
            },
            "colorscale": [
             [
              0,
              "#0d0887"
             ],
             [
              0.1111111111111111,
              "#46039f"
             ],
             [
              0.2222222222222222,
              "#7201a8"
             ],
             [
              0.3333333333333333,
              "#9c179e"
             ],
             [
              0.4444444444444444,
              "#bd3786"
             ],
             [
              0.5555555555555556,
              "#d8576b"
             ],
             [
              0.6666666666666666,
              "#ed7953"
             ],
             [
              0.7777777777777778,
              "#fb9f3a"
             ],
             [
              0.8888888888888888,
              "#fdca26"
             ],
             [
              1,
              "#f0f921"
             ]
            ],
            "type": "histogram2d"
           }
          ],
          "histogram2dcontour": [
           {
            "colorbar": {
             "outlinewidth": 0,
             "ticks": ""
            },
            "colorscale": [
             [
              0,
              "#0d0887"
             ],
             [
              0.1111111111111111,
              "#46039f"
             ],
             [
              0.2222222222222222,
              "#7201a8"
             ],
             [
              0.3333333333333333,
              "#9c179e"
             ],
             [
              0.4444444444444444,
              "#bd3786"
             ],
             [
              0.5555555555555556,
              "#d8576b"
             ],
             [
              0.6666666666666666,
              "#ed7953"
             ],
             [
              0.7777777777777778,
              "#fb9f3a"
             ],
             [
              0.8888888888888888,
              "#fdca26"
             ],
             [
              1,
              "#f0f921"
             ]
            ],
            "type": "histogram2dcontour"
           }
          ],
          "mesh3d": [
           {
            "colorbar": {
             "outlinewidth": 0,
             "ticks": ""
            },
            "type": "mesh3d"
           }
          ],
          "parcoords": [
           {
            "line": {
             "colorbar": {
              "outlinewidth": 0,
              "ticks": ""
             }
            },
            "type": "parcoords"
           }
          ],
          "pie": [
           {
            "automargin": true,
            "type": "pie"
           }
          ],
          "scatter": [
           {
            "marker": {
             "colorbar": {
              "outlinewidth": 0,
              "ticks": ""
             }
            },
            "type": "scatter"
           }
          ],
          "scatter3d": [
           {
            "line": {
             "colorbar": {
              "outlinewidth": 0,
              "ticks": ""
             }
            },
            "marker": {
             "colorbar": {
              "outlinewidth": 0,
              "ticks": ""
             }
            },
            "type": "scatter3d"
           }
          ],
          "scattercarpet": [
           {
            "marker": {
             "colorbar": {
              "outlinewidth": 0,
              "ticks": ""
             }
            },
            "type": "scattercarpet"
           }
          ],
          "scattergeo": [
           {
            "marker": {
             "colorbar": {
              "outlinewidth": 0,
              "ticks": ""
             }
            },
            "type": "scattergeo"
           }
          ],
          "scattergl": [
           {
            "marker": {
             "colorbar": {
              "outlinewidth": 0,
              "ticks": ""
             }
            },
            "type": "scattergl"
           }
          ],
          "scattermapbox": [
           {
            "marker": {
             "colorbar": {
              "outlinewidth": 0,
              "ticks": ""
             }
            },
            "type": "scattermapbox"
           }
          ],
          "scatterpolar": [
           {
            "marker": {
             "colorbar": {
              "outlinewidth": 0,
              "ticks": ""
             }
            },
            "type": "scatterpolar"
           }
          ],
          "scatterpolargl": [
           {
            "marker": {
             "colorbar": {
              "outlinewidth": 0,
              "ticks": ""
             }
            },
            "type": "scatterpolargl"
           }
          ],
          "scatterternary": [
           {
            "marker": {
             "colorbar": {
              "outlinewidth": 0,
              "ticks": ""
             }
            },
            "type": "scatterternary"
           }
          ],
          "surface": [
           {
            "colorbar": {
             "outlinewidth": 0,
             "ticks": ""
            },
            "colorscale": [
             [
              0,
              "#0d0887"
             ],
             [
              0.1111111111111111,
              "#46039f"
             ],
             [
              0.2222222222222222,
              "#7201a8"
             ],
             [
              0.3333333333333333,
              "#9c179e"
             ],
             [
              0.4444444444444444,
              "#bd3786"
             ],
             [
              0.5555555555555556,
              "#d8576b"
             ],
             [
              0.6666666666666666,
              "#ed7953"
             ],
             [
              0.7777777777777778,
              "#fb9f3a"
             ],
             [
              0.8888888888888888,
              "#fdca26"
             ],
             [
              1,
              "#f0f921"
             ]
            ],
            "type": "surface"
           }
          ],
          "table": [
           {
            "cells": {
             "fill": {
              "color": "#EBF0F8"
             },
             "line": {
              "color": "white"
             }
            },
            "header": {
             "fill": {
              "color": "#C8D4E3"
             },
             "line": {
              "color": "white"
             }
            },
            "type": "table"
           }
          ]
         },
         "layout": {
          "annotationdefaults": {
           "arrowcolor": "#2a3f5f",
           "arrowhead": 0,
           "arrowwidth": 1
          },
          "autotypenumbers": "strict",
          "coloraxis": {
           "colorbar": {
            "outlinewidth": 0,
            "ticks": ""
           }
          },
          "colorscale": {
           "diverging": [
            [
             0,
             "#8e0152"
            ],
            [
             0.1,
             "#c51b7d"
            ],
            [
             0.2,
             "#de77ae"
            ],
            [
             0.3,
             "#f1b6da"
            ],
            [
             0.4,
             "#fde0ef"
            ],
            [
             0.5,
             "#f7f7f7"
            ],
            [
             0.6,
             "#e6f5d0"
            ],
            [
             0.7,
             "#b8e186"
            ],
            [
             0.8,
             "#7fbc41"
            ],
            [
             0.9,
             "#4d9221"
            ],
            [
             1,
             "#276419"
            ]
           ],
           "sequential": [
            [
             0,
             "#0d0887"
            ],
            [
             0.1111111111111111,
             "#46039f"
            ],
            [
             0.2222222222222222,
             "#7201a8"
            ],
            [
             0.3333333333333333,
             "#9c179e"
            ],
            [
             0.4444444444444444,
             "#bd3786"
            ],
            [
             0.5555555555555556,
             "#d8576b"
            ],
            [
             0.6666666666666666,
             "#ed7953"
            ],
            [
             0.7777777777777778,
             "#fb9f3a"
            ],
            [
             0.8888888888888888,
             "#fdca26"
            ],
            [
             1,
             "#f0f921"
            ]
           ],
           "sequentialminus": [
            [
             0,
             "#0d0887"
            ],
            [
             0.1111111111111111,
             "#46039f"
            ],
            [
             0.2222222222222222,
             "#7201a8"
            ],
            [
             0.3333333333333333,
             "#9c179e"
            ],
            [
             0.4444444444444444,
             "#bd3786"
            ],
            [
             0.5555555555555556,
             "#d8576b"
            ],
            [
             0.6666666666666666,
             "#ed7953"
            ],
            [
             0.7777777777777778,
             "#fb9f3a"
            ],
            [
             0.8888888888888888,
             "#fdca26"
            ],
            [
             1,
             "#f0f921"
            ]
           ]
          },
          "colorway": [
           "#636efa",
           "#EF553B",
           "#00cc96",
           "#ab63fa",
           "#FFA15A",
           "#19d3f3",
           "#FF6692",
           "#B6E880",
           "#FF97FF",
           "#FECB52"
          ],
          "font": {
           "color": "#2a3f5f"
          },
          "geo": {
           "bgcolor": "white",
           "lakecolor": "white",
           "landcolor": "#E5ECF6",
           "showlakes": true,
           "showland": true,
           "subunitcolor": "white"
          },
          "hoverlabel": {
           "align": "left"
          },
          "hovermode": "closest",
          "mapbox": {
           "style": "light"
          },
          "paper_bgcolor": "white",
          "plot_bgcolor": "#E5ECF6",
          "polar": {
           "angularaxis": {
            "gridcolor": "white",
            "linecolor": "white",
            "ticks": ""
           },
           "bgcolor": "#E5ECF6",
           "radialaxis": {
            "gridcolor": "white",
            "linecolor": "white",
            "ticks": ""
           }
          },
          "scene": {
           "xaxis": {
            "backgroundcolor": "#E5ECF6",
            "gridcolor": "white",
            "gridwidth": 2,
            "linecolor": "white",
            "showbackground": true,
            "ticks": "",
            "zerolinecolor": "white"
           },
           "yaxis": {
            "backgroundcolor": "#E5ECF6",
            "gridcolor": "white",
            "gridwidth": 2,
            "linecolor": "white",
            "showbackground": true,
            "ticks": "",
            "zerolinecolor": "white"
           },
           "zaxis": {
            "backgroundcolor": "#E5ECF6",
            "gridcolor": "white",
            "gridwidth": 2,
            "linecolor": "white",
            "showbackground": true,
            "ticks": "",
            "zerolinecolor": "white"
           }
          },
          "shapedefaults": {
           "line": {
            "color": "#2a3f5f"
           }
          },
          "ternary": {
           "aaxis": {
            "gridcolor": "white",
            "linecolor": "white",
            "ticks": ""
           },
           "baxis": {
            "gridcolor": "white",
            "linecolor": "white",
            "ticks": ""
           },
           "bgcolor": "#E5ECF6",
           "caxis": {
            "gridcolor": "white",
            "linecolor": "white",
            "ticks": ""
           }
          },
          "title": {
           "x": 0.05
          },
          "xaxis": {
           "automargin": true,
           "gridcolor": "white",
           "linecolor": "white",
           "ticks": "",
           "title": {
            "standoff": 15
           },
           "zerolinecolor": "white",
           "zerolinewidth": 2
          },
          "yaxis": {
           "automargin": true,
           "gridcolor": "white",
           "linecolor": "white",
           "ticks": "",
           "title": {
            "standoff": 15
           },
           "zerolinecolor": "white",
           "zerolinewidth": 2
          }
         }
        },
        "title": {
         "text": "Any Do App Sentiment Analysis"
        },
        "xaxis": {
         "anchor": "y",
         "domain": [
          0,
          1
         ],
         "title": {
          "text": "Polarity"
         }
        },
        "yaxis": {
         "anchor": "x",
         "domain": [
          0,
          1
         ],
         "title": {
          "text": "Subjectivity"
         }
        }
       }
      },
      "text/html": [
       "<div>                            <div id=\"ef58eb80-aec8-48c1-b958-9bfc5957eeec\" class=\"plotly-graph-div\" style=\"height:525px; width:100%;\"></div>            <script type=\"text/javascript\">                require([\"plotly\"], function(Plotly) {                    window.PLOTLYENV=window.PLOTLYENV || {};                                    if (document.getElementById(\"ef58eb80-aec8-48c1-b958-9bfc5957eeec\")) {                    Plotly.newPlot(                        \"ef58eb80-aec8-48c1-b958-9bfc5957eeec\",                        [{\"hovertemplate\":\"Analysis=Positive<br>Polarity=%{x}<br>Subjectivity=%{y}<br>score=%{marker.size}<extra></extra>\",\"legendgroup\":\"Positive\",\"marker\":{\"color\":\"#636EFA\",\"size\":[5,1,5,5,2,5,5,5,5,5,4,5,1,5,5,5,5,4,1,1,5,5,5,5,5,4,4,4,4,1,1,5,5,4,4,5,5,5,5,5,5,3,3,5,5,5,4,4,5,5,1,1],\"sizemode\":\"area\",\"sizeref\":0.0125,\"symbol\":\"circle\"},\"mode\":\"markers\",\"name\":\"Positive\",\"orientation\":\"v\",\"showlegend\":true,\"type\":\"scatter\",\"x\":[0.3833333333333333,0.25,0.64,0.5,0.30077922077922076,0.6366666666666666,0.7,0.6000000000000001,0.475,0.4,0.375,0.6000000000000001,0.5,0.2,0.7,0.284375,0.5033333333333333,0.7,0.15,0.15,0.7,0.5,0.53125,0.53125,1.0,0.26534090909090907,0.26534090909090907,0.3944444444444444,0.3944444444444444,0.23274582560296844,0.23274582560296844,0.3444444444444444,0.3444444444444444,0.76,0.76,1.0,0.7,0.37777777777777777,0.37777777777777777,1.0,0.4,0.075,0.075,0.7625,1.0,1.0,0.4375,0.4375,0.3,0.2,0.26666666666666666,0.26666666666666666],\"xaxis\":\"x\",\"y\":[0.75,0.6458333333333333,0.75,0.5,0.5535064935064935,0.6266666666666667,0.6000000000000001,0.9,0.4666666666666667,0.9,0.5,0.9,0.5,0.2,0.6000000000000001,0.446875,0.5766666666666668,0.6000000000000001,0.44000000000000006,0.44000000000000006,0.6000000000000001,0.6,0.45,0.45,0.3,0.5198863636363636,0.5198863636363636,0.7444444444444445,0.7444444444444445,0.5394248608534323,0.5394248608534323,0.7301587301587302,0.7301587301587302,0.75,0.75,0.3,0.6000000000000001,0.6777777777777779,0.6777777777777779,0.3,0.6,0.27499999999999997,0.27499999999999997,0.75,1.0,1.0,0.47857142857142865,0.47857142857142865,0.0,0.3,0.3333333333333333,0.3333333333333333],\"yaxis\":\"y\"},{\"hovertemplate\":\"Analysis=Negative<br>Polarity=%{x}<br>Subjectivity=%{y}<br>score=%{marker.size}<extra></extra>\",\"legendgroup\":\"Negative\",\"marker\":{\"color\":\"#EF553B\",\"size\":[1,1,2,5,5,1,1,3,3,1,1],\"sizemode\":\"area\",\"sizeref\":0.0125,\"symbol\":\"circle\"},\"mode\":\"markers\",\"name\":\"Negative\",\"orientation\":\"v\",\"showlegend\":true,\"type\":\"scatter\",\"x\":[-0.25555555555555554,-0.2,-0.18828125,-0.11000000000000001,-0.11000000000000001,-0.5,-0.5,-0.10714285714285714,-0.10714285714285714,-0.1392857142857143,-0.1392857142857143],\"xaxis\":\"x\",\"y\":[0.3722222222222223,0.0,0.6,0.47333333333333333,0.47333333333333333,0.9,0.9,0.4412698412698413,0.4412698412698413,0.48214285714285715,0.48214285714285715],\"yaxis\":\"y\"},{\"hovertemplate\":\"Analysis=Neutral<br>Polarity=%{x}<br>Subjectivity=%{y}<br>score=%{marker.size}<extra></extra>\",\"legendgroup\":\"Neutral\",\"marker\":{\"color\":\"#00CC96\",\"size\":[5,5,1,3,1,2,1,1,5,5],\"sizemode\":\"area\",\"sizeref\":0.0125,\"symbol\":\"circle\"},\"mode\":\"markers\",\"name\":\"Neutral\",\"orientation\":\"v\",\"showlegend\":true,\"type\":\"scatter\",\"x\":[0.0,0.0,0.0,0.0,0.0,0.0,0.0,0.0,0.0,0.0],\"xaxis\":\"x\",\"y\":[0.0,0.0,0.0,0.0,0.0,0.0,0.0,0.0,0.0,0.0],\"yaxis\":\"y\"}],                        {\"annotations\":[{}],\"legend\":{\"itemsizing\":\"constant\",\"title\":{\"text\":\"Analysis\"},\"tracegroupgap\":0},\"shapes\":[{\"line\":{\"color\":\"black\",\"dash\":\"dash\",\"width\":2},\"type\":\"line\",\"x0\":0,\"x1\":0,\"xref\":\"x\",\"y0\":0,\"y1\":1,\"yref\":\"y domain\"}],\"template\":{\"data\":{\"bar\":[{\"error_x\":{\"color\":\"#2a3f5f\"},\"error_y\":{\"color\":\"#2a3f5f\"},\"marker\":{\"line\":{\"color\":\"#E5ECF6\",\"width\":0.5},\"pattern\":{\"fillmode\":\"overlay\",\"size\":10,\"solidity\":0.2}},\"type\":\"bar\"}],\"barpolar\":[{\"marker\":{\"line\":{\"color\":\"#E5ECF6\",\"width\":0.5},\"pattern\":{\"fillmode\":\"overlay\",\"size\":10,\"solidity\":0.2}},\"type\":\"barpolar\"}],\"carpet\":[{\"aaxis\":{\"endlinecolor\":\"#2a3f5f\",\"gridcolor\":\"white\",\"linecolor\":\"white\",\"minorgridcolor\":\"white\",\"startlinecolor\":\"#2a3f5f\"},\"baxis\":{\"endlinecolor\":\"#2a3f5f\",\"gridcolor\":\"white\",\"linecolor\":\"white\",\"minorgridcolor\":\"white\",\"startlinecolor\":\"#2a3f5f\"},\"type\":\"carpet\"}],\"choropleth\":[{\"colorbar\":{\"outlinewidth\":0,\"ticks\":\"\"},\"type\":\"choropleth\"}],\"contour\":[{\"colorbar\":{\"outlinewidth\":0,\"ticks\":\"\"},\"colorscale\":[[0.0,\"#0d0887\"],[0.1111111111111111,\"#46039f\"],[0.2222222222222222,\"#7201a8\"],[0.3333333333333333,\"#9c179e\"],[0.4444444444444444,\"#bd3786\"],[0.5555555555555556,\"#d8576b\"],[0.6666666666666666,\"#ed7953\"],[0.7777777777777778,\"#fb9f3a\"],[0.8888888888888888,\"#fdca26\"],[1.0,\"#f0f921\"]],\"type\":\"contour\"}],\"contourcarpet\":[{\"colorbar\":{\"outlinewidth\":0,\"ticks\":\"\"},\"type\":\"contourcarpet\"}],\"heatmap\":[{\"colorbar\":{\"outlinewidth\":0,\"ticks\":\"\"},\"colorscale\":[[0.0,\"#0d0887\"],[0.1111111111111111,\"#46039f\"],[0.2222222222222222,\"#7201a8\"],[0.3333333333333333,\"#9c179e\"],[0.4444444444444444,\"#bd3786\"],[0.5555555555555556,\"#d8576b\"],[0.6666666666666666,\"#ed7953\"],[0.7777777777777778,\"#fb9f3a\"],[0.8888888888888888,\"#fdca26\"],[1.0,\"#f0f921\"]],\"type\":\"heatmap\"}],\"heatmapgl\":[{\"colorbar\":{\"outlinewidth\":0,\"ticks\":\"\"},\"colorscale\":[[0.0,\"#0d0887\"],[0.1111111111111111,\"#46039f\"],[0.2222222222222222,\"#7201a8\"],[0.3333333333333333,\"#9c179e\"],[0.4444444444444444,\"#bd3786\"],[0.5555555555555556,\"#d8576b\"],[0.6666666666666666,\"#ed7953\"],[0.7777777777777778,\"#fb9f3a\"],[0.8888888888888888,\"#fdca26\"],[1.0,\"#f0f921\"]],\"type\":\"heatmapgl\"}],\"histogram\":[{\"marker\":{\"pattern\":{\"fillmode\":\"overlay\",\"size\":10,\"solidity\":0.2}},\"type\":\"histogram\"}],\"histogram2d\":[{\"colorbar\":{\"outlinewidth\":0,\"ticks\":\"\"},\"colorscale\":[[0.0,\"#0d0887\"],[0.1111111111111111,\"#46039f\"],[0.2222222222222222,\"#7201a8\"],[0.3333333333333333,\"#9c179e\"],[0.4444444444444444,\"#bd3786\"],[0.5555555555555556,\"#d8576b\"],[0.6666666666666666,\"#ed7953\"],[0.7777777777777778,\"#fb9f3a\"],[0.8888888888888888,\"#fdca26\"],[1.0,\"#f0f921\"]],\"type\":\"histogram2d\"}],\"histogram2dcontour\":[{\"colorbar\":{\"outlinewidth\":0,\"ticks\":\"\"},\"colorscale\":[[0.0,\"#0d0887\"],[0.1111111111111111,\"#46039f\"],[0.2222222222222222,\"#7201a8\"],[0.3333333333333333,\"#9c179e\"],[0.4444444444444444,\"#bd3786\"],[0.5555555555555556,\"#d8576b\"],[0.6666666666666666,\"#ed7953\"],[0.7777777777777778,\"#fb9f3a\"],[0.8888888888888888,\"#fdca26\"],[1.0,\"#f0f921\"]],\"type\":\"histogram2dcontour\"}],\"mesh3d\":[{\"colorbar\":{\"outlinewidth\":0,\"ticks\":\"\"},\"type\":\"mesh3d\"}],\"parcoords\":[{\"line\":{\"colorbar\":{\"outlinewidth\":0,\"ticks\":\"\"}},\"type\":\"parcoords\"}],\"pie\":[{\"automargin\":true,\"type\":\"pie\"}],\"scatter\":[{\"marker\":{\"colorbar\":{\"outlinewidth\":0,\"ticks\":\"\"}},\"type\":\"scatter\"}],\"scatter3d\":[{\"line\":{\"colorbar\":{\"outlinewidth\":0,\"ticks\":\"\"}},\"marker\":{\"colorbar\":{\"outlinewidth\":0,\"ticks\":\"\"}},\"type\":\"scatter3d\"}],\"scattercarpet\":[{\"marker\":{\"colorbar\":{\"outlinewidth\":0,\"ticks\":\"\"}},\"type\":\"scattercarpet\"}],\"scattergeo\":[{\"marker\":{\"colorbar\":{\"outlinewidth\":0,\"ticks\":\"\"}},\"type\":\"scattergeo\"}],\"scattergl\":[{\"marker\":{\"colorbar\":{\"outlinewidth\":0,\"ticks\":\"\"}},\"type\":\"scattergl\"}],\"scattermapbox\":[{\"marker\":{\"colorbar\":{\"outlinewidth\":0,\"ticks\":\"\"}},\"type\":\"scattermapbox\"}],\"scatterpolar\":[{\"marker\":{\"colorbar\":{\"outlinewidth\":0,\"ticks\":\"\"}},\"type\":\"scatterpolar\"}],\"scatterpolargl\":[{\"marker\":{\"colorbar\":{\"outlinewidth\":0,\"ticks\":\"\"}},\"type\":\"scatterpolargl\"}],\"scatterternary\":[{\"marker\":{\"colorbar\":{\"outlinewidth\":0,\"ticks\":\"\"}},\"type\":\"scatterternary\"}],\"surface\":[{\"colorbar\":{\"outlinewidth\":0,\"ticks\":\"\"},\"colorscale\":[[0.0,\"#0d0887\"],[0.1111111111111111,\"#46039f\"],[0.2222222222222222,\"#7201a8\"],[0.3333333333333333,\"#9c179e\"],[0.4444444444444444,\"#bd3786\"],[0.5555555555555556,\"#d8576b\"],[0.6666666666666666,\"#ed7953\"],[0.7777777777777778,\"#fb9f3a\"],[0.8888888888888888,\"#fdca26\"],[1.0,\"#f0f921\"]],\"type\":\"surface\"}],\"table\":[{\"cells\":{\"fill\":{\"color\":\"#EBF0F8\"},\"line\":{\"color\":\"white\"}},\"header\":{\"fill\":{\"color\":\"#C8D4E3\"},\"line\":{\"color\":\"white\"}},\"type\":\"table\"}]},\"layout\":{\"annotationdefaults\":{\"arrowcolor\":\"#2a3f5f\",\"arrowhead\":0,\"arrowwidth\":1},\"autotypenumbers\":\"strict\",\"coloraxis\":{\"colorbar\":{\"outlinewidth\":0,\"ticks\":\"\"}},\"colorscale\":{\"diverging\":[[0,\"#8e0152\"],[0.1,\"#c51b7d\"],[0.2,\"#de77ae\"],[0.3,\"#f1b6da\"],[0.4,\"#fde0ef\"],[0.5,\"#f7f7f7\"],[0.6,\"#e6f5d0\"],[0.7,\"#b8e186\"],[0.8,\"#7fbc41\"],[0.9,\"#4d9221\"],[1,\"#276419\"]],\"sequential\":[[0.0,\"#0d0887\"],[0.1111111111111111,\"#46039f\"],[0.2222222222222222,\"#7201a8\"],[0.3333333333333333,\"#9c179e\"],[0.4444444444444444,\"#bd3786\"],[0.5555555555555556,\"#d8576b\"],[0.6666666666666666,\"#ed7953\"],[0.7777777777777778,\"#fb9f3a\"],[0.8888888888888888,\"#fdca26\"],[1.0,\"#f0f921\"]],\"sequentialminus\":[[0.0,\"#0d0887\"],[0.1111111111111111,\"#46039f\"],[0.2222222222222222,\"#7201a8\"],[0.3333333333333333,\"#9c179e\"],[0.4444444444444444,\"#bd3786\"],[0.5555555555555556,\"#d8576b\"],[0.6666666666666666,\"#ed7953\"],[0.7777777777777778,\"#fb9f3a\"],[0.8888888888888888,\"#fdca26\"],[1.0,\"#f0f921\"]]},\"colorway\":[\"#636efa\",\"#EF553B\",\"#00cc96\",\"#ab63fa\",\"#FFA15A\",\"#19d3f3\",\"#FF6692\",\"#B6E880\",\"#FF97FF\",\"#FECB52\"],\"font\":{\"color\":\"#2a3f5f\"},\"geo\":{\"bgcolor\":\"white\",\"lakecolor\":\"white\",\"landcolor\":\"#E5ECF6\",\"showlakes\":true,\"showland\":true,\"subunitcolor\":\"white\"},\"hoverlabel\":{\"align\":\"left\"},\"hovermode\":\"closest\",\"mapbox\":{\"style\":\"light\"},\"paper_bgcolor\":\"white\",\"plot_bgcolor\":\"#E5ECF6\",\"polar\":{\"angularaxis\":{\"gridcolor\":\"white\",\"linecolor\":\"white\",\"ticks\":\"\"},\"bgcolor\":\"#E5ECF6\",\"radialaxis\":{\"gridcolor\":\"white\",\"linecolor\":\"white\",\"ticks\":\"\"}},\"scene\":{\"xaxis\":{\"backgroundcolor\":\"#E5ECF6\",\"gridcolor\":\"white\",\"gridwidth\":2,\"linecolor\":\"white\",\"showbackground\":true,\"ticks\":\"\",\"zerolinecolor\":\"white\"},\"yaxis\":{\"backgroundcolor\":\"#E5ECF6\",\"gridcolor\":\"white\",\"gridwidth\":2,\"linecolor\":\"white\",\"showbackground\":true,\"ticks\":\"\",\"zerolinecolor\":\"white\"},\"zaxis\":{\"backgroundcolor\":\"#E5ECF6\",\"gridcolor\":\"white\",\"gridwidth\":2,\"linecolor\":\"white\",\"showbackground\":true,\"ticks\":\"\",\"zerolinecolor\":\"white\"}},\"shapedefaults\":{\"line\":{\"color\":\"#2a3f5f\"}},\"ternary\":{\"aaxis\":{\"gridcolor\":\"white\",\"linecolor\":\"white\",\"ticks\":\"\"},\"baxis\":{\"gridcolor\":\"white\",\"linecolor\":\"white\",\"ticks\":\"\"},\"bgcolor\":\"#E5ECF6\",\"caxis\":{\"gridcolor\":\"white\",\"linecolor\":\"white\",\"ticks\":\"\"}},\"title\":{\"x\":0.05},\"xaxis\":{\"automargin\":true,\"gridcolor\":\"white\",\"linecolor\":\"white\",\"ticks\":\"\",\"title\":{\"standoff\":15},\"zerolinecolor\":\"white\",\"zerolinewidth\":2},\"yaxis\":{\"automargin\":true,\"gridcolor\":\"white\",\"linecolor\":\"white\",\"ticks\":\"\",\"title\":{\"standoff\":15},\"zerolinecolor\":\"white\",\"zerolinewidth\":2}}},\"title\":{\"text\":\"Any Do App Sentiment Analysis\"},\"xaxis\":{\"anchor\":\"y\",\"domain\":[0.0,1.0],\"title\":{\"text\":\"Polarity\"}},\"yaxis\":{\"anchor\":\"x\",\"domain\":[0.0,1.0],\"title\":{\"text\":\"Subjectivity\"}}},                        {\"responsive\": true}                    ).then(function(){\n",
       "                            \n",
       "var gd = document.getElementById('ef58eb80-aec8-48c1-b958-9bfc5957eeec');\n",
       "var x = new MutationObserver(function (mutations, observer) {{\n",
       "        var display = window.getComputedStyle(gd).display;\n",
       "        if (!display || display === 'none') {{\n",
       "            console.log([gd, 'removed!']);\n",
       "            Plotly.purge(gd);\n",
       "            observer.disconnect();\n",
       "        }}\n",
       "}});\n",
       "\n",
       "// Listen for the removal of the full notebook cells\n",
       "var notebookContainer = gd.closest('#notebook-container');\n",
       "if (notebookContainer) {{\n",
       "    x.observe(notebookContainer, {childList: true});\n",
       "}}\n",
       "\n",
       "// Listen for the clearing of the current output cell\n",
       "var outputEl = gd.closest('.output');\n",
       "if (outputEl) {{\n",
       "    x.observe(outputEl, {childList: true});\n",
       "}}\n",
       "\n",
       "                        })                };                });            </script>        </div>"
      ]
     },
     "metadata": {},
     "output_type": "display_data"
    }
   ],
   "source": [
    "import plotly.express as px\n",
    "fig = px.scatter(data_frame=anydo, x='Polarity', y='Subjectivity', size='score',color='Analysis', \n",
    "                 title='Any Do App Sentiment Analysis',\n",
    "                                 color_discrete_map={\n",
    "                \"Positive\": \"#636EFA\",\n",
    "                \"Neutral\": \"#00CC96\",\n",
    "                \"Negative\": \"#EF553B\"})\n",
    "fig.add_vline(x=0, line_width=2, line_dash=\"dash\", line_color=\"black\")\n",
    "fig.add_annotation()\n",
    "fig.show()"
   ]
  },
  {
   "cell_type": "markdown",
   "id": "989dc425",
   "metadata": {},
   "source": [
    "Any Do has more positive reviews in recent times"
   ]
  },
  {
   "cell_type": "code",
   "execution_count": null,
   "id": "f2fa5fb2",
   "metadata": {},
   "outputs": [],
   "source": []
  }
 ],
 "metadata": {
  "kernelspec": {
   "display_name": "Python 3 (ipykernel)",
   "language": "python",
   "name": "python3"
  },
  "language_info": {
   "codemirror_mode": {
    "name": "ipython",
    "version": 3
   },
   "file_extension": ".py",
   "mimetype": "text/x-python",
   "name": "python",
   "nbconvert_exporter": "python",
   "pygments_lexer": "ipython3",
   "version": "3.8.12"
  }
 },
 "nbformat": 4,
 "nbformat_minor": 5
}
